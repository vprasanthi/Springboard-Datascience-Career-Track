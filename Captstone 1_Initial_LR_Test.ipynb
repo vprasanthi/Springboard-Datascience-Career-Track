{
 "cells": [
  {
   "cell_type": "code",
   "execution_count": 252,
   "metadata": {
    "collapsed": true
   },
   "outputs": [],
   "source": [
    "import pandas as pd\n",
    "import numpy as np\n",
    "%matplotlib inline\n",
    "import statsmodels.api as sm"
   ]
  },
  {
   "cell_type": "code",
   "execution_count": 217,
   "metadata": {
    "collapsed": true
   },
   "outputs": [],
   "source": [
    "bank = pd.read_csv('/Users/Bunny/Documents/Prasanthi/Springboard/Projects/Capstone 1 /Bank Marketing dataset/bank-additional/bank-additional-full.csv', delimiter = ';')"
   ]
  },
  {
   "cell_type": "code",
   "execution_count": 218,
   "metadata": {
    "collapsed": false
   },
   "outputs": [
    {
     "data": {
      "text/html": [
       "<div>\n",
       "<table border=\"1\" class=\"dataframe\">\n",
       "  <thead>\n",
       "    <tr style=\"text-align: right;\">\n",
       "      <th></th>\n",
       "      <th>age</th>\n",
       "      <th>job</th>\n",
       "      <th>marital</th>\n",
       "      <th>education</th>\n",
       "      <th>default</th>\n",
       "      <th>housing</th>\n",
       "      <th>loan</th>\n",
       "      <th>contact</th>\n",
       "      <th>month</th>\n",
       "      <th>day_of_week</th>\n",
       "      <th>...</th>\n",
       "      <th>campaign</th>\n",
       "      <th>pdays</th>\n",
       "      <th>previous</th>\n",
       "      <th>poutcome</th>\n",
       "      <th>emp.var.rate</th>\n",
       "      <th>cons.price.idx</th>\n",
       "      <th>cons.conf.idx</th>\n",
       "      <th>euribor3m</th>\n",
       "      <th>nr.employed</th>\n",
       "      <th>y</th>\n",
       "    </tr>\n",
       "  </thead>\n",
       "  <tbody>\n",
       "    <tr>\n",
       "      <th>0</th>\n",
       "      <td>56</td>\n",
       "      <td>housemaid</td>\n",
       "      <td>married</td>\n",
       "      <td>basic.4y</td>\n",
       "      <td>no</td>\n",
       "      <td>no</td>\n",
       "      <td>no</td>\n",
       "      <td>telephone</td>\n",
       "      <td>may</td>\n",
       "      <td>mon</td>\n",
       "      <td>...</td>\n",
       "      <td>1</td>\n",
       "      <td>999</td>\n",
       "      <td>0</td>\n",
       "      <td>nonexistent</td>\n",
       "      <td>1.1</td>\n",
       "      <td>93.994</td>\n",
       "      <td>-36.4</td>\n",
       "      <td>4.857</td>\n",
       "      <td>5191.0</td>\n",
       "      <td>no</td>\n",
       "    </tr>\n",
       "    <tr>\n",
       "      <th>1</th>\n",
       "      <td>57</td>\n",
       "      <td>services</td>\n",
       "      <td>married</td>\n",
       "      <td>high.school</td>\n",
       "      <td>unknown</td>\n",
       "      <td>no</td>\n",
       "      <td>no</td>\n",
       "      <td>telephone</td>\n",
       "      <td>may</td>\n",
       "      <td>mon</td>\n",
       "      <td>...</td>\n",
       "      <td>1</td>\n",
       "      <td>999</td>\n",
       "      <td>0</td>\n",
       "      <td>nonexistent</td>\n",
       "      <td>1.1</td>\n",
       "      <td>93.994</td>\n",
       "      <td>-36.4</td>\n",
       "      <td>4.857</td>\n",
       "      <td>5191.0</td>\n",
       "      <td>no</td>\n",
       "    </tr>\n",
       "    <tr>\n",
       "      <th>2</th>\n",
       "      <td>37</td>\n",
       "      <td>services</td>\n",
       "      <td>married</td>\n",
       "      <td>high.school</td>\n",
       "      <td>no</td>\n",
       "      <td>yes</td>\n",
       "      <td>no</td>\n",
       "      <td>telephone</td>\n",
       "      <td>may</td>\n",
       "      <td>mon</td>\n",
       "      <td>...</td>\n",
       "      <td>1</td>\n",
       "      <td>999</td>\n",
       "      <td>0</td>\n",
       "      <td>nonexistent</td>\n",
       "      <td>1.1</td>\n",
       "      <td>93.994</td>\n",
       "      <td>-36.4</td>\n",
       "      <td>4.857</td>\n",
       "      <td>5191.0</td>\n",
       "      <td>no</td>\n",
       "    </tr>\n",
       "    <tr>\n",
       "      <th>3</th>\n",
       "      <td>40</td>\n",
       "      <td>admin.</td>\n",
       "      <td>married</td>\n",
       "      <td>basic.6y</td>\n",
       "      <td>no</td>\n",
       "      <td>no</td>\n",
       "      <td>no</td>\n",
       "      <td>telephone</td>\n",
       "      <td>may</td>\n",
       "      <td>mon</td>\n",
       "      <td>...</td>\n",
       "      <td>1</td>\n",
       "      <td>999</td>\n",
       "      <td>0</td>\n",
       "      <td>nonexistent</td>\n",
       "      <td>1.1</td>\n",
       "      <td>93.994</td>\n",
       "      <td>-36.4</td>\n",
       "      <td>4.857</td>\n",
       "      <td>5191.0</td>\n",
       "      <td>no</td>\n",
       "    </tr>\n",
       "    <tr>\n",
       "      <th>4</th>\n",
       "      <td>56</td>\n",
       "      <td>services</td>\n",
       "      <td>married</td>\n",
       "      <td>high.school</td>\n",
       "      <td>no</td>\n",
       "      <td>no</td>\n",
       "      <td>yes</td>\n",
       "      <td>telephone</td>\n",
       "      <td>may</td>\n",
       "      <td>mon</td>\n",
       "      <td>...</td>\n",
       "      <td>1</td>\n",
       "      <td>999</td>\n",
       "      <td>0</td>\n",
       "      <td>nonexistent</td>\n",
       "      <td>1.1</td>\n",
       "      <td>93.994</td>\n",
       "      <td>-36.4</td>\n",
       "      <td>4.857</td>\n",
       "      <td>5191.0</td>\n",
       "      <td>no</td>\n",
       "    </tr>\n",
       "  </tbody>\n",
       "</table>\n",
       "<p>5 rows × 21 columns</p>\n",
       "</div>"
      ],
      "text/plain": [
       "   age        job  marital    education  default housing loan    contact  \\\n",
       "0   56  housemaid  married     basic.4y       no      no   no  telephone   \n",
       "1   57   services  married  high.school  unknown      no   no  telephone   \n",
       "2   37   services  married  high.school       no     yes   no  telephone   \n",
       "3   40     admin.  married     basic.6y       no      no   no  telephone   \n",
       "4   56   services  married  high.school       no      no  yes  telephone   \n",
       "\n",
       "  month day_of_week ...  campaign  pdays  previous     poutcome emp.var.rate  \\\n",
       "0   may         mon ...         1    999         0  nonexistent          1.1   \n",
       "1   may         mon ...         1    999         0  nonexistent          1.1   \n",
       "2   may         mon ...         1    999         0  nonexistent          1.1   \n",
       "3   may         mon ...         1    999         0  nonexistent          1.1   \n",
       "4   may         mon ...         1    999         0  nonexistent          1.1   \n",
       "\n",
       "   cons.price.idx  cons.conf.idx  euribor3m  nr.employed   y  \n",
       "0          93.994          -36.4      4.857       5191.0  no  \n",
       "1          93.994          -36.4      4.857       5191.0  no  \n",
       "2          93.994          -36.4      4.857       5191.0  no  \n",
       "3          93.994          -36.4      4.857       5191.0  no  \n",
       "4          93.994          -36.4      4.857       5191.0  no  \n",
       "\n",
       "[5 rows x 21 columns]"
      ]
     },
     "execution_count": 218,
     "metadata": {},
     "output_type": "execute_result"
    }
   ],
   "source": [
    "bank.head(5)"
   ]
  },
  {
   "cell_type": "code",
   "execution_count": 219,
   "metadata": {
    "collapsed": false
   },
   "outputs": [
    {
     "data": {
      "text/plain": [
       "Index(['age', 'job', 'marital', 'education', 'default', 'housing', 'loan',\n",
       "       'contact', 'month', 'day_of_week', 'duration', 'campaign', 'pdays',\n",
       "       'previous', 'poutcome', 'emp.var.rate', 'cons.price.idx',\n",
       "       'cons.conf.idx', 'euribor3m', 'nr.employed', 'y'],\n",
       "      dtype='object')"
      ]
     },
     "execution_count": 219,
     "metadata": {},
     "output_type": "execute_result"
    }
   ],
   "source": [
    "bank.columns"
   ]
  },
  {
   "cell_type": "code",
   "execution_count": 220,
   "metadata": {
    "collapsed": false
   },
   "outputs": [
    {
     "data": {
      "text/plain": [
       "age                 int64\n",
       "job                object\n",
       "marital            object\n",
       "education          object\n",
       "default            object\n",
       "housing            object\n",
       "loan               object\n",
       "contact            object\n",
       "month              object\n",
       "day_of_week        object\n",
       "duration            int64\n",
       "campaign            int64\n",
       "pdays               int64\n",
       "previous            int64\n",
       "poutcome           object\n",
       "emp.var.rate      float64\n",
       "cons.price.idx    float64\n",
       "cons.conf.idx     float64\n",
       "euribor3m         float64\n",
       "nr.employed       float64\n",
       "y                  object\n",
       "dtype: object"
      ]
     },
     "execution_count": 220,
     "metadata": {},
     "output_type": "execute_result"
    }
   ],
   "source": [
    "bank.dtypes"
   ]
  },
  {
   "cell_type": "code",
   "execution_count": 221,
   "metadata": {
    "collapsed": false
   },
   "outputs": [],
   "source": [
    "bank['y'] = (bank['y']=='yes').astype(int)"
   ]
  },
  {
   "cell_type": "code",
   "execution_count": 222,
   "metadata": {
    "collapsed": false
   },
   "outputs": [
    {
     "data": {
      "text/plain": [
       "dtype('int64')"
      ]
     },
     "execution_count": 222,
     "metadata": {},
     "output_type": "execute_result"
    }
   ],
   "source": [
    "bank['y'].dtype"
   ]
  },
  {
   "cell_type": "code",
   "execution_count": 223,
   "metadata": {
    "collapsed": false
   },
   "outputs": [
    {
     "data": {
      "text/plain": [
       "array(['basic.4y', 'high.school', 'basic.6y', 'basic.9y',\n",
       "       'professional.course', 'unknown', 'university.degree', 'illiterate'], dtype=object)"
      ]
     },
     "execution_count": 223,
     "metadata": {},
     "output_type": "execute_result"
    }
   ],
   "source": [
    "bank['education'].unique()"
   ]
  },
  {
   "cell_type": "code",
   "execution_count": 224,
   "metadata": {
    "collapsed": false
   },
   "outputs": [],
   "source": [
    "bank['education']=np.where(bank['education']=='basic.4y','Basic',bank['education'])\n",
    "bank['education']=np.where(bank['education']=='basic.6y','Basic',bank['education'])\n",
    "bank['education']=np.where(bank['education']=='basic.9y','Basic',bank['education'])\n",
    "bank['education']=np.where(bank['education']=='professional.course','Professional Course',bank['education'])\n",
    "bank['education']=np.where(bank['education']=='university.degree','University Degree',bank['education'])\n",
    "bank['education']=np.where(bank['education']=='unknown','Unknown',bank['education'])\n",
    "bank['education']=np.where(bank['education']=='illiterate','No education',bank['education'])\n",
    "bank['education']=np.where(bank['education']=='high.school','High School',bank['education'])"
   ]
  },
  {
   "cell_type": "code",
   "execution_count": 225,
   "metadata": {
    "collapsed": false
   },
   "outputs": [
    {
     "data": {
      "text/plain": [
       "array(['Basic', 'High School', 'Professional Course', 'Unknown',\n",
       "       'University Degree', 'No education'], dtype=object)"
      ]
     },
     "execution_count": 225,
     "metadata": {},
     "output_type": "execute_result"
    }
   ],
   "source": [
    "bank.education.unique()"
   ]
  },
  {
   "cell_type": "code",
   "execution_count": 226,
   "metadata": {
    "collapsed": true
   },
   "outputs": [],
   "source": [
    "bank.rename(columns ={'cons.conf.idx':'consumer_conf_idx','cons.price.idx':'consumer_price_idx','previous':'previous_calls','loan':'personal_loan','housing':'housing_loan','duration':'call_duration','default':'loan_default','campaign':'campaign_calls','contact':'contact_type'},inplace = True)"
   ]
  },
  {
   "cell_type": "code",
   "execution_count": 227,
   "metadata": {
    "collapsed": false
   },
   "outputs": [
    {
     "data": {
      "text/plain": [
       "Index(['age', 'job', 'marital', 'education', 'loan_default', 'housing_loan',\n",
       "       'personal_loan', 'contact_type', 'month', 'day_of_week',\n",
       "       'call_duration', 'campaign_calls', 'pdays', 'previous_calls',\n",
       "       'poutcome', 'emp.var.rate', 'consumer_price_idx', 'consumer_conf_idx',\n",
       "       'euribor3m', 'nr.employed', 'y'],\n",
       "      dtype='object')"
      ]
     },
     "execution_count": 227,
     "metadata": {},
     "output_type": "execute_result"
    }
   ],
   "source": [
    "bank.columns"
   ]
  },
  {
   "cell_type": "code",
   "execution_count": 228,
   "metadata": {
    "collapsed": false
   },
   "outputs": [
    {
     "data": {
      "text/plain": [
       "y\n",
       "0    88.734583\n",
       "1    11.265417\n",
       "dtype: float64"
      ]
     },
     "execution_count": 228,
     "metadata": {},
     "output_type": "execute_result"
    }
   ],
   "source": [
    "y_dist = bank.groupby('y').size()/41188*100\n",
    "y_dist"
   ]
  },
  {
   "cell_type": "code",
   "execution_count": 229,
   "metadata": {
    "collapsed": false
   },
   "outputs": [
    {
     "data": {
      "text/plain": [
       "<matplotlib.axes._subplots.AxesSubplot at 0x1130ae710>"
      ]
     },
     "execution_count": 229,
     "metadata": {},
     "output_type": "execute_result"
    },
    {
     "data": {
      "image/png": "[encoded data removed]",
      "text/plain": [
       "<matplotlib.figure.Figure at 0x115e43dd8>"
      ]
     },
     "metadata": {},
     "output_type": "display_data"
    }
   ],
   "source": [
    "y_dist.plot(kind='bar')"
   ]
  },
  {
   "cell_type": "code",
   "execution_count": 230,
   "metadata": {
    "collapsed": false
   },
   "outputs": [
    {
     "data": {
      "text/html": [
       "<div>\n",
       "<table border=\"1\" class=\"dataframe\">\n",
       "  <thead>\n",
       "    <tr style=\"text-align: right;\">\n",
       "      <th></th>\n",
       "      <th>age</th>\n",
       "      <th>call_duration</th>\n",
       "      <th>campaign_calls</th>\n",
       "      <th>pdays</th>\n",
       "      <th>previous_calls</th>\n",
       "      <th>emp.var.rate</th>\n",
       "      <th>consumer_price_idx</th>\n",
       "      <th>consumer_conf_idx</th>\n",
       "      <th>euribor3m</th>\n",
       "      <th>nr.employed</th>\n",
       "    </tr>\n",
       "    <tr>\n",
       "      <th>y</th>\n",
       "      <th></th>\n",
       "      <th></th>\n",
       "      <th></th>\n",
       "      <th></th>\n",
       "      <th></th>\n",
       "      <th></th>\n",
       "      <th></th>\n",
       "      <th></th>\n",
       "      <th></th>\n",
       "      <th></th>\n",
       "    </tr>\n",
       "  </thead>\n",
       "  <tbody>\n",
       "    <tr>\n",
       "      <th>0</th>\n",
       "      <td>39.911185</td>\n",
       "      <td>220.844807</td>\n",
       "      <td>2.633085</td>\n",
       "      <td>984.113878</td>\n",
       "      <td>0.132374</td>\n",
       "      <td>0.248875</td>\n",
       "      <td>93.603757</td>\n",
       "      <td>-40.593097</td>\n",
       "      <td>3.811491</td>\n",
       "      <td>5176.166600</td>\n",
       "    </tr>\n",
       "    <tr>\n",
       "      <th>1</th>\n",
       "      <td>40.913147</td>\n",
       "      <td>553.191164</td>\n",
       "      <td>2.051724</td>\n",
       "      <td>792.035560</td>\n",
       "      <td>0.492672</td>\n",
       "      <td>-1.233448</td>\n",
       "      <td>93.354386</td>\n",
       "      <td>-39.789784</td>\n",
       "      <td>2.123135</td>\n",
       "      <td>5095.115991</td>\n",
       "    </tr>\n",
       "  </tbody>\n",
       "</table>\n",
       "</div>"
      ],
      "text/plain": [
       "         age  call_duration  campaign_calls       pdays  previous_calls  \\\n",
       "y                                                                         \n",
       "0  39.911185     220.844807        2.633085  984.113878        0.132374   \n",
       "1  40.913147     553.191164        2.051724  792.035560        0.492672   \n",
       "\n",
       "   emp.var.rate  consumer_price_idx  consumer_conf_idx  euribor3m  nr.employed  \n",
       "y                                                                               \n",
       "0      0.248875           93.603757         -40.593097   3.811491  5176.166600  \n",
       "1     -1.233448           93.354386         -39.789784   2.123135  5095.115991  "
      ]
     },
     "execution_count": 230,
     "metadata": {},
     "output_type": "execute_result"
    }
   ],
   "source": [
    "bank.groupby(['y']).mean()"
   ]
  },
  {
   "cell_type": "code",
   "execution_count": 231,
   "metadata": {
    "collapsed": false
   },
   "outputs": [
    {
     "data": {
      "text/plain": [
       "<matplotlib.axes._subplots.AxesSubplot at 0x116000390>"
      ]
     },
     "execution_count": 231,
     "metadata": {},
     "output_type": "execute_result"
    },
    {
     "data": {
      "image/png": "[encoded data removed]",
      "text/plain": [
       "<matplotlib.figure.Figure at 0x115d48ef0>"
      ]
     },
     "metadata": {},
     "output_type": "display_data"
    }
   ],
   "source": [
    "bank.groupby('y').education.value_counts().unstack('education').plot(kind='bar')"
   ]
  },
  {
   "cell_type": "code",
   "execution_count": 232,
   "metadata": {
    "collapsed": false
   },
   "outputs": [
    {
     "data": {
      "text/html": [
       "<div>\n",
       "<table border=\"1\" class=\"dataframe\">\n",
       "  <thead>\n",
       "    <tr style=\"text-align: right;\">\n",
       "      <th>month</th>\n",
       "      <th>apr</th>\n",
       "      <th>aug</th>\n",
       "      <th>dec</th>\n",
       "      <th>jul</th>\n",
       "      <th>jun</th>\n",
       "      <th>mar</th>\n",
       "      <th>may</th>\n",
       "      <th>nov</th>\n",
       "      <th>oct</th>\n",
       "      <th>sep</th>\n",
       "    </tr>\n",
       "    <tr>\n",
       "      <th>y</th>\n",
       "      <th></th>\n",
       "      <th></th>\n",
       "      <th></th>\n",
       "      <th></th>\n",
       "      <th></th>\n",
       "      <th></th>\n",
       "      <th></th>\n",
       "      <th></th>\n",
       "      <th></th>\n",
       "      <th></th>\n",
       "    </tr>\n",
       "  </thead>\n",
       "  <tbody>\n",
       "    <tr>\n",
       "      <th>0</th>\n",
       "      <td>0.795213</td>\n",
       "      <td>0.893979</td>\n",
       "      <td>0.510989</td>\n",
       "      <td>0.909534</td>\n",
       "      <td>0.894885</td>\n",
       "      <td>0.494505</td>\n",
       "      <td>0.935653</td>\n",
       "      <td>0.898561</td>\n",
       "      <td>0.561281</td>\n",
       "      <td>0.550877</td>\n",
       "    </tr>\n",
       "    <tr>\n",
       "      <th>1</th>\n",
       "      <td>0.204787</td>\n",
       "      <td>0.106021</td>\n",
       "      <td>0.489011</td>\n",
       "      <td>0.090466</td>\n",
       "      <td>0.105115</td>\n",
       "      <td>0.505495</td>\n",
       "      <td>0.064347</td>\n",
       "      <td>0.101439</td>\n",
       "      <td>0.438719</td>\n",
       "      <td>0.449123</td>\n",
       "    </tr>\n",
       "  </tbody>\n",
       "</table>\n",
       "</div>"
      ],
      "text/plain": [
       "month       apr       aug       dec       jul       jun       mar       may  \\\n",
       "y                                                                             \n",
       "0      0.795213  0.893979  0.510989  0.909534  0.894885  0.494505  0.935653   \n",
       "1      0.204787  0.106021  0.489011  0.090466  0.105115  0.505495  0.064347   \n",
       "\n",
       "month       nov       oct       sep  \n",
       "y                                    \n",
       "0      0.898561  0.561281  0.550877  \n",
       "1      0.101439  0.438719  0.449123  "
      ]
     },
     "execution_count": 232,
     "metadata": {},
     "output_type": "execute_result"
    }
   ],
   "source": [
    "# % campaign conversions month wise\n",
    "pd.crosstab(bank.y, bank.month, normalize='columns')#.plot(kind='bar')"
   ]
  },
  {
   "cell_type": "code",
   "execution_count": 233,
   "metadata": {
    "collapsed": false
   },
   "outputs": [
    {
     "data": {
      "text/html": [
       "<div>\n",
       "<table border=\"1\" class=\"dataframe\">\n",
       "  <thead>\n",
       "    <tr style=\"text-align: right;\">\n",
       "      <th>day_of_week</th>\n",
       "      <th>fri</th>\n",
       "      <th>mon</th>\n",
       "      <th>thu</th>\n",
       "      <th>tue</th>\n",
       "      <th>wed</th>\n",
       "    </tr>\n",
       "    <tr>\n",
       "      <th>y</th>\n",
       "      <th></th>\n",
       "      <th></th>\n",
       "      <th></th>\n",
       "      <th></th>\n",
       "      <th></th>\n",
       "    </tr>\n",
       "  </thead>\n",
       "  <tbody>\n",
       "    <tr>\n",
       "      <th>0</th>\n",
       "      <td>0.891913</td>\n",
       "      <td>0.900517</td>\n",
       "      <td>0.878812</td>\n",
       "      <td>0.8822</td>\n",
       "      <td>0.883329</td>\n",
       "    </tr>\n",
       "    <tr>\n",
       "      <th>1</th>\n",
       "      <td>0.108087</td>\n",
       "      <td>0.099483</td>\n",
       "      <td>0.121188</td>\n",
       "      <td>0.1178</td>\n",
       "      <td>0.116671</td>\n",
       "    </tr>\n",
       "  </tbody>\n",
       "</table>\n",
       "</div>"
      ],
      "text/plain": [
       "day_of_week       fri       mon       thu     tue       wed\n",
       "y                                                          \n",
       "0            0.891913  0.900517  0.878812  0.8822  0.883329\n",
       "1            0.108087  0.099483  0.121188  0.1178  0.116671"
      ]
     },
     "execution_count": 233,
     "metadata": {},
     "output_type": "execute_result"
    }
   ],
   "source": [
    "pd.crosstab(bank.y, bank.day_of_week, normalize='columns')"
   ]
  },
  {
   "cell_type": "markdown",
   "metadata": {},
   "source": [
    "## Creating dummy variables"
   ]
  },
  {
   "cell_type": "code",
   "execution_count": 234,
   "metadata": {
    "collapsed": false
   },
   "outputs": [
    {
     "data": {
      "text/plain": [
       "Index(['age', 'job', 'marital', 'education', 'loan_default', 'housing_loan',\n",
       "       'personal_loan', 'contact_type', 'month', 'day_of_week',\n",
       "       'call_duration', 'campaign_calls', 'pdays', 'previous_calls',\n",
       "       'poutcome', 'emp.var.rate', 'consumer_price_idx', 'consumer_conf_idx',\n",
       "       'euribor3m', 'nr.employed', 'y'],\n",
       "      dtype='object')"
      ]
     },
     "execution_count": 234,
     "metadata": {},
     "output_type": "execute_result"
    }
   ],
   "source": [
    "bank.columns"
   ]
  },
  {
   "cell_type": "code",
   "execution_count": 276,
   "metadata": {
    "collapsed": false
   },
   "outputs": [
    {
     "data": {
      "text/html": [
       "<div>\n",
       "<table border=\"1\" class=\"dataframe\">\n",
       "  <thead>\n",
       "    <tr style=\"text-align: right;\">\n",
       "      <th></th>\n",
       "      <th>age</th>\n",
       "      <th>call_duration</th>\n",
       "      <th>campaign_calls</th>\n",
       "      <th>pdays</th>\n",
       "      <th>previous_calls</th>\n",
       "      <th>emp.var.rate</th>\n",
       "      <th>consumer_price_idx</th>\n",
       "      <th>consumer_conf_idx</th>\n",
       "      <th>euribor3m</th>\n",
       "      <th>nr.employed</th>\n",
       "      <th>...</th>\n",
       "      <th>month_may</th>\n",
       "      <th>month_nov</th>\n",
       "      <th>month_oct</th>\n",
       "      <th>month_sep</th>\n",
       "      <th>day_of_week_mon</th>\n",
       "      <th>day_of_week_thu</th>\n",
       "      <th>day_of_week_tue</th>\n",
       "      <th>day_of_week_wed</th>\n",
       "      <th>poutcome_nonexistent</th>\n",
       "      <th>poutcome_success</th>\n",
       "    </tr>\n",
       "  </thead>\n",
       "  <tbody>\n",
       "    <tr>\n",
       "      <th>0</th>\n",
       "      <td>56</td>\n",
       "      <td>261</td>\n",
       "      <td>1</td>\n",
       "      <td>999</td>\n",
       "      <td>0</td>\n",
       "      <td>1.1</td>\n",
       "      <td>93.994</td>\n",
       "      <td>-36.4</td>\n",
       "      <td>4.857</td>\n",
       "      <td>5191.0</td>\n",
       "      <td>...</td>\n",
       "      <td>1</td>\n",
       "      <td>0</td>\n",
       "      <td>0</td>\n",
       "      <td>0</td>\n",
       "      <td>1</td>\n",
       "      <td>0</td>\n",
       "      <td>0</td>\n",
       "      <td>0</td>\n",
       "      <td>1</td>\n",
       "      <td>0</td>\n",
       "    </tr>\n",
       "    <tr>\n",
       "      <th>1</th>\n",
       "      <td>57</td>\n",
       "      <td>149</td>\n",
       "      <td>1</td>\n",
       "      <td>999</td>\n",
       "      <td>0</td>\n",
       "      <td>1.1</td>\n",
       "      <td>93.994</td>\n",
       "      <td>-36.4</td>\n",
       "      <td>4.857</td>\n",
       "      <td>5191.0</td>\n",
       "      <td>...</td>\n",
       "      <td>1</td>\n",
       "      <td>0</td>\n",
       "      <td>0</td>\n",
       "      <td>0</td>\n",
       "      <td>1</td>\n",
       "      <td>0</td>\n",
       "      <td>0</td>\n",
       "      <td>0</td>\n",
       "      <td>1</td>\n",
       "      <td>0</td>\n",
       "    </tr>\n",
       "    <tr>\n",
       "      <th>2</th>\n",
       "      <td>37</td>\n",
       "      <td>226</td>\n",
       "      <td>1</td>\n",
       "      <td>999</td>\n",
       "      <td>0</td>\n",
       "      <td>1.1</td>\n",
       "      <td>93.994</td>\n",
       "      <td>-36.4</td>\n",
       "      <td>4.857</td>\n",
       "      <td>5191.0</td>\n",
       "      <td>...</td>\n",
       "      <td>1</td>\n",
       "      <td>0</td>\n",
       "      <td>0</td>\n",
       "      <td>0</td>\n",
       "      <td>1</td>\n",
       "      <td>0</td>\n",
       "      <td>0</td>\n",
       "      <td>0</td>\n",
       "      <td>1</td>\n",
       "      <td>0</td>\n",
       "    </tr>\n",
       "    <tr>\n",
       "      <th>3</th>\n",
       "      <td>40</td>\n",
       "      <td>151</td>\n",
       "      <td>1</td>\n",
       "      <td>999</td>\n",
       "      <td>0</td>\n",
       "      <td>1.1</td>\n",
       "      <td>93.994</td>\n",
       "      <td>-36.4</td>\n",
       "      <td>4.857</td>\n",
       "      <td>5191.0</td>\n",
       "      <td>...</td>\n",
       "      <td>1</td>\n",
       "      <td>0</td>\n",
       "      <td>0</td>\n",
       "      <td>0</td>\n",
       "      <td>1</td>\n",
       "      <td>0</td>\n",
       "      <td>0</td>\n",
       "      <td>0</td>\n",
       "      <td>1</td>\n",
       "      <td>0</td>\n",
       "    </tr>\n",
       "    <tr>\n",
       "      <th>4</th>\n",
       "      <td>56</td>\n",
       "      <td>307</td>\n",
       "      <td>1</td>\n",
       "      <td>999</td>\n",
       "      <td>0</td>\n",
       "      <td>1.1</td>\n",
       "      <td>93.994</td>\n",
       "      <td>-36.4</td>\n",
       "      <td>4.857</td>\n",
       "      <td>5191.0</td>\n",
       "      <td>...</td>\n",
       "      <td>1</td>\n",
       "      <td>0</td>\n",
       "      <td>0</td>\n",
       "      <td>0</td>\n",
       "      <td>1</td>\n",
       "      <td>0</td>\n",
       "      <td>0</td>\n",
       "      <td>0</td>\n",
       "      <td>1</td>\n",
       "      <td>0</td>\n",
       "    </tr>\n",
       "  </tbody>\n",
       "</table>\n",
       "<p>5 rows × 52 columns</p>\n",
       "</div>"
      ],
      "text/plain": [
       "   age  call_duration  campaign_calls  pdays  previous_calls  emp.var.rate  \\\n",
       "0   56            261               1    999               0           1.1   \n",
       "1   57            149               1    999               0           1.1   \n",
       "2   37            226               1    999               0           1.1   \n",
       "3   40            151               1    999               0           1.1   \n",
       "4   56            307               1    999               0           1.1   \n",
       "\n",
       "   consumer_price_idx  consumer_conf_idx  euribor3m  nr.employed  \\\n",
       "0              93.994              -36.4      4.857       5191.0   \n",
       "1              93.994              -36.4      4.857       5191.0   \n",
       "2              93.994              -36.4      4.857       5191.0   \n",
       "3              93.994              -36.4      4.857       5191.0   \n",
       "4              93.994              -36.4      4.857       5191.0   \n",
       "\n",
       "         ...         month_may  month_nov  month_oct  month_sep  \\\n",
       "0        ...                 1          0          0          0   \n",
       "1        ...                 1          0          0          0   \n",
       "2        ...                 1          0          0          0   \n",
       "3        ...                 1          0          0          0   \n",
       "4        ...                 1          0          0          0   \n",
       "\n",
       "   day_of_week_mon  day_of_week_thu  day_of_week_tue  day_of_week_wed  \\\n",
       "0                1                0                0                0   \n",
       "1                1                0                0                0   \n",
       "2                1                0                0                0   \n",
       "3                1                0                0                0   \n",
       "4                1                0                0                0   \n",
       "\n",
       "   poutcome_nonexistent  poutcome_success  \n",
       "0                     1                 0  \n",
       "1                     1                 0  \n",
       "2                     1                 0  \n",
       "3                     1                 0  \n",
       "4                     1                 0  \n",
       "\n",
       "[5 rows x 52 columns]"
      ]
     },
     "execution_count": 276,
     "metadata": {},
     "output_type": "execute_result"
    }
   ],
   "source": [
    "#Assigning dummy variables to categorical data with (k-1) dummies\n",
    "bank_final = pd.get_dummies(bank,drop_first= True)\n",
    "bank_final.head()"
   ]
  },
  {
   "cell_type": "code",
   "execution_count": 277,
   "metadata": {
    "collapsed": false
   },
   "outputs": [
    {
     "data": {
      "text/plain": [
       "Index(['age', 'call_duration', 'campaign_calls', 'pdays', 'previous_calls',\n",
       "       'emp.var.rate', 'consumer_price_idx', 'consumer_conf_idx', 'euribor3m',\n",
       "       'nr.employed', 'y', 'job_blue-collar', 'job_entrepreneur',\n",
       "       'job_housemaid', 'job_management', 'job_retired', 'job_self-employed',\n",
       "       'job_services', 'job_student', 'job_technician', 'job_unemployed',\n",
       "       'job_unknown', 'marital_married', 'marital_single', 'marital_unknown',\n",
       "       'education_High School', 'education_No education',\n",
       "       'education_Professional Course', 'education_University Degree',\n",
       "       'education_Unknown', 'loan_default_unknown', 'loan_default_yes',\n",
       "       'housing_loan_unknown', 'housing_loan_yes', 'personal_loan_unknown',\n",
       "       'personal_loan_yes', 'contact_type_telephone', 'month_aug', 'month_dec',\n",
       "       'month_jul', 'month_jun', 'month_mar', 'month_may', 'month_nov',\n",
       "       'month_oct', 'month_sep', 'day_of_week_mon', 'day_of_week_thu',\n",
       "       'day_of_week_tue', 'day_of_week_wed', 'poutcome_nonexistent',\n",
       "       'poutcome_success'],\n",
       "      dtype='object')"
      ]
     },
     "execution_count": 277,
     "metadata": {},
     "output_type": "execute_result"
    }
   ],
   "source": [
    "bank_final.columns"
   ]
  },
  {
   "cell_type": "code",
   "execution_count": 280,
   "metadata": {
    "collapsed": false
   },
   "outputs": [],
   "source": [
    "bank_final_vars=bank_final.columns.values.tolist()\n",
    "Y=['y']\n",
    "X=[i for i in bank_final_vars if i not in Y ]\n",
    "X1=bank_final[X]\n",
    "Y1=bank_final[Y]"
   ]
  },
  {
   "cell_type": "code",
   "execution_count": 281,
   "metadata": {
    "collapsed": false
   },
   "outputs": [
    {
     "name": "stdout",
     "output_type": "stream",
     "text": [
      "Warning: Maximum number of iterations has been exceeded.\n",
      "         Current function value: 0.207792\n",
      "         Iterations: 35\n"
     ]
    },
    {
     "name": "stderr",
     "output_type": "stream",
     "text": [
      "/Users/Bunny/anaconda3/lib/python3.6/site-packages/statsmodels/base/model.py:466: ConvergenceWarning: Maximum Likelihood optimization failed to converge. Check mle_retvals\n",
      "  \"Check mle_retvals\", ConvergenceWarning)\n"
     ]
    },
    {
     "data": {
      "text/html": [
       "<table class=\"simpletable\">\n",
       "<caption>Logit Regression Results</caption>\n",
       "<tr>\n",
       "  <th>Dep. Variable:</th>         <td>y</td>        <th>  No. Observations:  </th>  <td> 41188</td> \n",
       "</tr>\n",
       "<tr>\n",
       "  <th>Model:</th>               <td>Logit</td>      <th>  Df Residuals:      </th>  <td> 41138</td> \n",
       "</tr>\n",
       "<tr>\n",
       "  <th>Method:</th>               <td>MLE</td>       <th>  Df Model:          </th>  <td>    49</td> \n",
       "</tr>\n",
       "<tr>\n",
       "  <th>Date:</th>          <td>Sun, 21 May 2017</td> <th>  Pseudo R-squ.:     </th>  <td>0.4097</td> \n",
       "</tr>\n",
       "<tr>\n",
       "  <th>Time:</th>              <td>00:46:54</td>     <th>  Log-Likelihood:    </th> <td> -8558.5</td>\n",
       "</tr>\n",
       "<tr>\n",
       "  <th>converged:</th>           <td>False</td>      <th>  LL-Null:           </th> <td> -14499.</td>\n",
       "</tr>\n",
       "<tr>\n",
       "  <th> </th>                      <td> </td>        <th>  LLR p-value:       </th>  <td> 0.000</td> \n",
       "</tr>\n",
       "</table>\n",
       "<table class=\"simpletable\">\n",
       "<tr>\n",
       "                <td></td>                   <th>coef</th>     <th>std err</th>      <th>z</th>      <th>P>|z|</th> <th>[95.0% Conf. Int.]</th> \n",
       "</tr>\n",
       "<tr>\n",
       "  <th>age</th>                           <td>    0.0006</td> <td>    0.002</td> <td>    0.247</td> <td> 0.805</td> <td>   -0.004     0.005</td>\n",
       "</tr>\n",
       "<tr>\n",
       "  <th>call_duration</th>                 <td>    0.0047</td> <td> 7.46e-05</td> <td>   63.140</td> <td> 0.000</td> <td>    0.005     0.005</td>\n",
       "</tr>\n",
       "<tr>\n",
       "  <th>campaign_calls</th>                <td>   -0.0404</td> <td>    0.012</td> <td>   -3.491</td> <td> 0.000</td> <td>   -0.063    -0.018</td>\n",
       "</tr>\n",
       "<tr>\n",
       "  <th>pdays</th>                         <td>   -0.0010</td> <td>    0.000</td> <td>   -4.423</td> <td> 0.000</td> <td>   -0.001    -0.001</td>\n",
       "</tr>\n",
       "<tr>\n",
       "  <th>previous_calls</th>                <td>   -0.0554</td> <td>    0.059</td> <td>   -0.939</td> <td> 0.348</td> <td>   -0.171     0.060</td>\n",
       "</tr>\n",
       "<tr>\n",
       "  <th>emp.var.rate</th>                  <td>   -1.0822</td> <td>    0.090</td> <td>  -12.003</td> <td> 0.000</td> <td>   -1.259    -0.905</td>\n",
       "</tr>\n",
       "<tr>\n",
       "  <th>consumer_price_idx</th>            <td>    0.6560</td> <td>    0.042</td> <td>   15.489</td> <td> 0.000</td> <td>    0.573     0.739</td>\n",
       "</tr>\n",
       "<tr>\n",
       "  <th>consumer_conf_idx</th>             <td>   -0.0099</td> <td>    0.006</td> <td>   -1.649</td> <td> 0.099</td> <td>   -0.022     0.002</td>\n",
       "</tr>\n",
       "<tr>\n",
       "  <th>euribor3m</th>                     <td>    0.7948</td> <td>    0.107</td> <td>    7.411</td> <td> 0.000</td> <td>    0.585     1.005</td>\n",
       "</tr>\n",
       "<tr>\n",
       "  <th>nr.employed</th>                   <td>   -0.0131</td> <td>    0.001</td> <td>  -15.514</td> <td> 0.000</td> <td>   -0.015    -0.011</td>\n",
       "</tr>\n",
       "<tr>\n",
       "  <th>job_blue-collar</th>               <td>   -0.2326</td> <td>    0.080</td> <td>   -2.911</td> <td> 0.004</td> <td>   -0.389    -0.076</td>\n",
       "</tr>\n",
       "<tr>\n",
       "  <th>job_entrepreneur</th>              <td>   -0.1663</td> <td>    0.126</td> <td>   -1.323</td> <td> 0.186</td> <td>   -0.413     0.080</td>\n",
       "</tr>\n",
       "<tr>\n",
       "  <th>job_housemaid</th>                 <td>   -0.0384</td> <td>    0.146</td> <td>   -0.263</td> <td> 0.792</td> <td>   -0.324     0.248</td>\n",
       "</tr>\n",
       "<tr>\n",
       "  <th>job_management</th>                <td>   -0.0572</td> <td>    0.085</td> <td>   -0.671</td> <td> 0.502</td> <td>   -0.224     0.110</td>\n",
       "</tr>\n",
       "<tr>\n",
       "  <th>job_retired</th>                   <td>    0.2815</td> <td>    0.106</td> <td>    2.654</td> <td> 0.008</td> <td>    0.074     0.489</td>\n",
       "</tr>\n",
       "<tr>\n",
       "  <th>job_self-employed</th>             <td>   -0.1651</td> <td>    0.118</td> <td>   -1.403</td> <td> 0.161</td> <td>   -0.396     0.066</td>\n",
       "</tr>\n",
       "<tr>\n",
       "  <th>job_services</th>                  <td>   -0.1419</td> <td>    0.086</td> <td>   -1.650</td> <td> 0.099</td> <td>   -0.310     0.027</td>\n",
       "</tr>\n",
       "<tr>\n",
       "  <th>job_student</th>                   <td>    0.2100</td> <td>    0.111</td> <td>    1.888</td> <td> 0.059</td> <td>   -0.008     0.428</td>\n",
       "</tr>\n",
       "<tr>\n",
       "  <th>job_technician</th>                <td>   -0.0279</td> <td>    0.071</td> <td>   -0.393</td> <td> 0.694</td> <td>   -0.167     0.111</td>\n",
       "</tr>\n",
       "<tr>\n",
       "  <th>job_unemployed</th>                <td>    0.0077</td> <td>    0.128</td> <td>    0.061</td> <td> 0.952</td> <td>   -0.243     0.258</td>\n",
       "</tr>\n",
       "<tr>\n",
       "  <th>job_unknown</th>                   <td>   -0.0741</td> <td>    0.239</td> <td>   -0.310</td> <td> 0.757</td> <td>   -0.542     0.394</td>\n",
       "</tr>\n",
       "<tr>\n",
       "  <th>marital_married</th>               <td>   -0.0026</td> <td>    0.068</td> <td>   -0.037</td> <td> 0.970</td> <td>   -0.137     0.132</td>\n",
       "</tr>\n",
       "<tr>\n",
       "  <th>marital_single</th>                <td>    0.0571</td> <td>    0.078</td> <td>    0.731</td> <td> 0.465</td> <td>   -0.096     0.210</td>\n",
       "</tr>\n",
       "<tr>\n",
       "  <th>marital_unknown</th>               <td>    0.0324</td> <td>    0.416</td> <td>    0.078</td> <td> 0.938</td> <td>   -0.783     0.848</td>\n",
       "</tr>\n",
       "<tr>\n",
       "  <th>education_High School</th>         <td>    0.0258</td> <td>    0.069</td> <td>    0.373</td> <td> 0.709</td> <td>   -0.110     0.162</td>\n",
       "</tr>\n",
       "<tr>\n",
       "  <th>education_No education</th>        <td>    1.0395</td> <td>    0.750</td> <td>    1.386</td> <td> 0.166</td> <td>   -0.431     2.510</td>\n",
       "</tr>\n",
       "<tr>\n",
       "  <th>education_Professional Course</th> <td>    0.0867</td> <td>    0.082</td> <td>    1.053</td> <td> 0.292</td> <td>   -0.075     0.248</td>\n",
       "</tr>\n",
       "<tr>\n",
       "  <th>education_University Degree</th>   <td>    0.1646</td> <td>    0.070</td> <td>    2.358</td> <td> 0.018</td> <td>    0.028     0.301</td>\n",
       "</tr>\n",
       "<tr>\n",
       "  <th>education_Unknown</th>             <td>    0.1388</td> <td>    0.104</td> <td>    1.329</td> <td> 0.184</td> <td>   -0.066     0.344</td>\n",
       "</tr>\n",
       "<tr>\n",
       "  <th>loan_default_unknown</th>          <td>   -0.2984</td> <td>    0.067</td> <td>   -4.436</td> <td> 0.000</td> <td>   -0.430    -0.167</td>\n",
       "</tr>\n",
       "<tr>\n",
       "  <th>loan_default_yes</th>              <td>   -0.1813</td> <td>    5.208</td> <td>   -0.035</td> <td> 0.972</td> <td>  -10.390    10.027</td>\n",
       "</tr>\n",
       "<tr>\n",
       "  <th>housing_loan_unknown</th>          <td>   -0.0451</td> <td> 1.06e+07</td> <td>-4.26e-09</td> <td> 1.000</td> <td>-2.07e+07  2.07e+07</td>\n",
       "</tr>\n",
       "<tr>\n",
       "  <th>housing_loan_yes</th>              <td>   -0.0118</td> <td>    0.041</td> <td>   -0.286</td> <td> 0.775</td> <td>   -0.093     0.069</td>\n",
       "</tr>\n",
       "<tr>\n",
       "  <th>personal_loan_unknown</th>         <td>   -0.0451</td> <td> 1.06e+07</td> <td>-4.26e-09</td> <td> 1.000</td> <td>-2.07e+07  2.07e+07</td>\n",
       "</tr>\n",
       "<tr>\n",
       "  <th>personal_loan_yes</th>             <td>   -0.0557</td> <td>    0.057</td> <td>   -0.971</td> <td> 0.332</td> <td>   -0.168     0.057</td>\n",
       "</tr>\n",
       "<tr>\n",
       "  <th>contact_type_telephone</th>        <td>   -0.4860</td> <td>    0.071</td> <td>   -6.888</td> <td> 0.000</td> <td>   -0.624    -0.348</td>\n",
       "</tr>\n",
       "<tr>\n",
       "  <th>month_aug</th>                     <td>    0.4851</td> <td>    0.104</td> <td>    4.676</td> <td> 0.000</td> <td>    0.282     0.688</td>\n",
       "</tr>\n",
       "<tr>\n",
       "  <th>month_dec</th>                     <td>   -0.1034</td> <td>    0.198</td> <td>   -0.523</td> <td> 0.601</td> <td>   -0.491     0.284</td>\n",
       "</tr>\n",
       "<tr>\n",
       "  <th>month_jul</th>                     <td>    0.1570</td> <td>    0.095</td> <td>    1.646</td> <td> 0.100</td> <td>   -0.030     0.344</td>\n",
       "</tr>\n",
       "<tr>\n",
       "  <th>month_jun</th>                     <td>   -0.0343</td> <td>    0.098</td> <td>   -0.351</td> <td> 0.726</td> <td>   -0.226     0.158</td>\n",
       "</tr>\n",
       "<tr>\n",
       "  <th>month_mar</th>                     <td>    1.4735</td> <td>    0.115</td> <td>   12.865</td> <td> 0.000</td> <td>    1.249     1.698</td>\n",
       "</tr>\n",
       "<tr>\n",
       "  <th>month_may</th>                     <td>   -0.6493</td> <td>    0.075</td> <td>   -8.608</td> <td> 0.000</td> <td>   -0.797    -0.501</td>\n",
       "</tr>\n",
       "<tr>\n",
       "  <th>month_nov</th>                     <td>   -0.6900</td> <td>    0.113</td> <td>   -6.120</td> <td> 0.000</td> <td>   -0.911    -0.469</td>\n",
       "</tr>\n",
       "<tr>\n",
       "  <th>month_oct</th>                     <td>   -0.3012</td> <td>    0.132</td> <td>   -2.278</td> <td> 0.023</td> <td>   -0.560    -0.042</td>\n",
       "</tr>\n",
       "<tr>\n",
       "  <th>month_sep</th>                     <td>   -0.3494</td> <td>    0.136</td> <td>   -2.565</td> <td> 0.010</td> <td>   -0.616    -0.082</td>\n",
       "</tr>\n",
       "<tr>\n",
       "  <th>day_of_week_mon</th>               <td>   -0.1302</td> <td>    0.066</td> <td>   -1.972</td> <td> 0.049</td> <td>   -0.260    -0.001</td>\n",
       "</tr>\n",
       "<tr>\n",
       "  <th>day_of_week_thu</th>               <td>    0.0560</td> <td>    0.064</td> <td>    0.875</td> <td> 0.381</td> <td>   -0.069     0.181</td>\n",
       "</tr>\n",
       "<tr>\n",
       "  <th>day_of_week_tue</th>               <td>    0.0745</td> <td>    0.066</td> <td>    1.135</td> <td> 0.256</td> <td>   -0.054     0.203</td>\n",
       "</tr>\n",
       "<tr>\n",
       "  <th>day_of_week_wed</th>               <td>    0.1576</td> <td>    0.066</td> <td>    2.405</td> <td> 0.016</td> <td>    0.029     0.286</td>\n",
       "</tr>\n",
       "<tr>\n",
       "  <th>poutcome_nonexistent</th>          <td>    0.4172</td> <td>    0.094</td> <td>    4.436</td> <td> 0.000</td> <td>    0.233     0.601</td>\n",
       "</tr>\n",
       "<tr>\n",
       "  <th>poutcome_success</th>              <td>    0.9383</td> <td>    0.211</td> <td>    4.451</td> <td> 0.000</td> <td>    0.525     1.351</td>\n",
       "</tr>\n",
       "</table>"
      ],
      "text/plain": [
       "<class 'statsmodels.iolib.summary.Summary'>\n",
       "\"\"\"\n",
       "                           Logit Regression Results                           \n",
       "==============================================================================\n",
       "Dep. Variable:                      y   No. Observations:                41188\n",
       "Model:                          Logit   Df Residuals:                    41138\n",
       "Method:                           MLE   Df Model:                           49\n",
       "Date:                Sun, 21 May 2017   Pseudo R-squ.:                  0.4097\n",
       "Time:                        00:46:54   Log-Likelihood:                -8558.5\n",
       "converged:                      False   LL-Null:                       -14499.\n",
       "                                        LLR p-value:                     0.000\n",
       "=================================================================================================\n",
       "                                    coef    std err          z      P>|z|      [95.0% Conf. Int.]\n",
       "-------------------------------------------------------------------------------------------------\n",
       "age                               0.0006      0.002      0.247      0.805        -0.004     0.005\n",
       "call_duration                     0.0047   7.46e-05     63.140      0.000         0.005     0.005\n",
       "campaign_calls                   -0.0404      0.012     -3.491      0.000        -0.063    -0.018\n",
       "pdays                            -0.0010      0.000     -4.423      0.000        -0.001    -0.001\n",
       "previous_calls                   -0.0554      0.059     -0.939      0.348        -0.171     0.060\n",
       "emp.var.rate                     -1.0822      0.090    -12.003      0.000        -1.259    -0.905\n",
       "consumer_price_idx                0.6560      0.042     15.489      0.000         0.573     0.739\n",
       "consumer_conf_idx                -0.0099      0.006     -1.649      0.099        -0.022     0.002\n",
       "euribor3m                         0.7948      0.107      7.411      0.000         0.585     1.005\n",
       "nr.employed                      -0.0131      0.001    -15.514      0.000        -0.015    -0.011\n",
       "job_blue-collar                  -0.2326      0.080     -2.911      0.004        -0.389    -0.076\n",
       "job_entrepreneur                 -0.1663      0.126     -1.323      0.186        -0.413     0.080\n",
       "job_housemaid                    -0.0384      0.146     -0.263      0.792        -0.324     0.248\n",
       "job_management                   -0.0572      0.085     -0.671      0.502        -0.224     0.110\n",
       "job_retired                       0.2815      0.106      2.654      0.008         0.074     0.489\n",
       "job_self-employed                -0.1651      0.118     -1.403      0.161        -0.396     0.066\n",
       "job_services                     -0.1419      0.086     -1.650      0.099        -0.310     0.027\n",
       "job_student                       0.2100      0.111      1.888      0.059        -0.008     0.428\n",
       "job_technician                   -0.0279      0.071     -0.393      0.694        -0.167     0.111\n",
       "job_unemployed                    0.0077      0.128      0.061      0.952        -0.243     0.258\n",
       "job_unknown                      -0.0741      0.239     -0.310      0.757        -0.542     0.394\n",
       "marital_married                  -0.0026      0.068     -0.037      0.970        -0.137     0.132\n",
       "marital_single                    0.0571      0.078      0.731      0.465        -0.096     0.210\n",
       "marital_unknown                   0.0324      0.416      0.078      0.938        -0.783     0.848\n",
       "education_High School             0.0258      0.069      0.373      0.709        -0.110     0.162\n",
       "education_No education            1.0395      0.750      1.386      0.166        -0.431     2.510\n",
       "education_Professional Course     0.0867      0.082      1.053      0.292        -0.075     0.248\n",
       "education_University Degree       0.1646      0.070      2.358      0.018         0.028     0.301\n",
       "education_Unknown                 0.1388      0.104      1.329      0.184        -0.066     0.344\n",
       "loan_default_unknown             -0.2984      0.067     -4.436      0.000        -0.430    -0.167\n",
       "loan_default_yes                 -0.1813      5.208     -0.035      0.972       -10.390    10.027\n",
       "housing_loan_unknown             -0.0451   1.06e+07  -4.26e-09      1.000     -2.07e+07  2.07e+07\n",
       "housing_loan_yes                 -0.0118      0.041     -0.286      0.775        -0.093     0.069\n",
       "personal_loan_unknown            -0.0451   1.06e+07  -4.26e-09      1.000     -2.07e+07  2.07e+07\n",
       "personal_loan_yes                -0.0557      0.057     -0.971      0.332        -0.168     0.057\n",
       "contact_type_telephone           -0.4860      0.071     -6.888      0.000        -0.624    -0.348\n",
       "month_aug                         0.4851      0.104      4.676      0.000         0.282     0.688\n",
       "month_dec                        -0.1034      0.198     -0.523      0.601        -0.491     0.284\n",
       "month_jul                         0.1570      0.095      1.646      0.100        -0.030     0.344\n",
       "month_jun                        -0.0343      0.098     -0.351      0.726        -0.226     0.158\n",
       "month_mar                         1.4735      0.115     12.865      0.000         1.249     1.698\n",
       "month_may                        -0.6493      0.075     -8.608      0.000        -0.797    -0.501\n",
       "month_nov                        -0.6900      0.113     -6.120      0.000        -0.911    -0.469\n",
       "month_oct                        -0.3012      0.132     -2.278      0.023        -0.560    -0.042\n",
       "month_sep                        -0.3494      0.136     -2.565      0.010        -0.616    -0.082\n",
       "day_of_week_mon                  -0.1302      0.066     -1.972      0.049        -0.260    -0.001\n",
       "day_of_week_thu                   0.0560      0.064      0.875      0.381        -0.069     0.181\n",
       "day_of_week_tue                   0.0745      0.066      1.135      0.256        -0.054     0.203\n",
       "day_of_week_wed                   0.1576      0.066      2.405      0.016         0.029     0.286\n",
       "poutcome_nonexistent              0.4172      0.094      4.436      0.000         0.233     0.601\n",
       "poutcome_success                  0.9383      0.211      4.451      0.000         0.525     1.351\n",
       "=================================================================================================\n",
       "\"\"\""
      ]
     },
     "execution_count": 281,
     "metadata": {},
     "output_type": "execute_result"
    }
   ],
   "source": [
    "logit_model=sm.Logit(Y1,X1)\n",
    "result=logit_model.fit()\n",
    "result.summary()"
   ]
  },
  {
   "cell_type": "code",
   "execution_count": null,
   "metadata": {
    "collapsed": true
   },
   "outputs": [],
   "source": []
  }
 ],
 "metadata": {
  "kernelspec": {
   "display_name": "Python 3",
   "language": "python",
   "name": "python3"
  },
  "language_info": {
   "codemirror_mode": {
    "name": "ipython",
    "version": 3
   },
   "file_extension": ".py",
   "mimetype": "text/x-python",
   "name": "python",
   "nbconvert_exporter": "python",
   "pygments_lexer": "ipython3",
   "version": "3.6.0"
  }
 },
 "nbformat": 4,
 "nbformat_minor": 2
}
