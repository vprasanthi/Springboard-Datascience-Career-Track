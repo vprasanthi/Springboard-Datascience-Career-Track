{
 "cells": [
  {
   "cell_type": "code",
   "execution_count": 1,
   "metadata": {
    "collapsed": true
   },
   "outputs": [],
   "source": [
    "import pandas as pd\n",
    "import numpy as np\n",
    "%matplotlib inline\n",
    "import matplotlib.pyplot as plt\n",
    "import statsmodels.api as sm\n",
    "from sklearn.ensemble import RandomForestClassifier\n",
    "from sklearn import linear_model"
   ]
  },
  {
   "cell_type": "code",
   "execution_count": 2,
   "metadata": {
    "collapsed": true
   },
   "outputs": [],
   "source": [
    "bank = pd.read_csv('/Users/Bunny/Documents/Prasanthi/Springboard/Projects/Capstone 1 /Bank Marketing dataset/bank-additional/bank-additional-full.csv', delimiter = ';')"
   ]
  },
  {
   "cell_type": "code",
   "execution_count": 3,
   "metadata": {
    "collapsed": false
   },
   "outputs": [
    {
     "data": {
      "text/html": [
       "<div>\n",
       "<table border=\"1\" class=\"dataframe\">\n",
       "  <thead>\n",
       "    <tr style=\"text-align: right;\">\n",
       "      <th></th>\n",
       "      <th>age</th>\n",
       "      <th>job</th>\n",
       "      <th>marital</th>\n",
       "      <th>education</th>\n",
       "      <th>default</th>\n",
       "      <th>housing</th>\n",
       "      <th>loan</th>\n",
       "      <th>contact</th>\n",
       "      <th>month</th>\n",
       "      <th>day_of_week</th>\n",
       "      <th>...</th>\n",
       "      <th>campaign</th>\n",
       "      <th>pdays</th>\n",
       "      <th>previous</th>\n",
       "      <th>poutcome</th>\n",
       "      <th>emp.var.rate</th>\n",
       "      <th>cons.price.idx</th>\n",
       "      <th>cons.conf.idx</th>\n",
       "      <th>euribor3m</th>\n",
       "      <th>nr.employed</th>\n",
       "      <th>y</th>\n",
       "    </tr>\n",
       "  </thead>\n",
       "  <tbody>\n",
       "    <tr>\n",
       "      <th>0</th>\n",
       "      <td>56</td>\n",
       "      <td>housemaid</td>\n",
       "      <td>married</td>\n",
       "      <td>basic.4y</td>\n",
       "      <td>no</td>\n",
       "      <td>no</td>\n",
       "      <td>no</td>\n",
       "      <td>telephone</td>\n",
       "      <td>may</td>\n",
       "      <td>mon</td>\n",
       "      <td>...</td>\n",
       "      <td>1</td>\n",
       "      <td>999</td>\n",
       "      <td>0</td>\n",
       "      <td>nonexistent</td>\n",
       "      <td>1.1</td>\n",
       "      <td>93.994</td>\n",
       "      <td>-36.4</td>\n",
       "      <td>4.857</td>\n",
       "      <td>5191.0</td>\n",
       "      <td>no</td>\n",
       "    </tr>\n",
       "    <tr>\n",
       "      <th>1</th>\n",
       "      <td>57</td>\n",
       "      <td>services</td>\n",
       "      <td>married</td>\n",
       "      <td>high.school</td>\n",
       "      <td>unknown</td>\n",
       "      <td>no</td>\n",
       "      <td>no</td>\n",
       "      <td>telephone</td>\n",
       "      <td>may</td>\n",
       "      <td>mon</td>\n",
       "      <td>...</td>\n",
       "      <td>1</td>\n",
       "      <td>999</td>\n",
       "      <td>0</td>\n",
       "      <td>nonexistent</td>\n",
       "      <td>1.1</td>\n",
       "      <td>93.994</td>\n",
       "      <td>-36.4</td>\n",
       "      <td>4.857</td>\n",
       "      <td>5191.0</td>\n",
       "      <td>no</td>\n",
       "    </tr>\n",
       "    <tr>\n",
       "      <th>2</th>\n",
       "      <td>37</td>\n",
       "      <td>services</td>\n",
       "      <td>married</td>\n",
       "      <td>high.school</td>\n",
       "      <td>no</td>\n",
       "      <td>yes</td>\n",
       "      <td>no</td>\n",
       "      <td>telephone</td>\n",
       "      <td>may</td>\n",
       "      <td>mon</td>\n",
       "      <td>...</td>\n",
       "      <td>1</td>\n",
       "      <td>999</td>\n",
       "      <td>0</td>\n",
       "      <td>nonexistent</td>\n",
       "      <td>1.1</td>\n",
       "      <td>93.994</td>\n",
       "      <td>-36.4</td>\n",
       "      <td>4.857</td>\n",
       "      <td>5191.0</td>\n",
       "      <td>no</td>\n",
       "    </tr>\n",
       "    <tr>\n",
       "      <th>3</th>\n",
       "      <td>40</td>\n",
       "      <td>admin.</td>\n",
       "      <td>married</td>\n",
       "      <td>basic.6y</td>\n",
       "      <td>no</td>\n",
       "      <td>no</td>\n",
       "      <td>no</td>\n",
       "      <td>telephone</td>\n",
       "      <td>may</td>\n",
       "      <td>mon</td>\n",
       "      <td>...</td>\n",
       "      <td>1</td>\n",
       "      <td>999</td>\n",
       "      <td>0</td>\n",
       "      <td>nonexistent</td>\n",
       "      <td>1.1</td>\n",
       "      <td>93.994</td>\n",
       "      <td>-36.4</td>\n",
       "      <td>4.857</td>\n",
       "      <td>5191.0</td>\n",
       "      <td>no</td>\n",
       "    </tr>\n",
       "    <tr>\n",
       "      <th>4</th>\n",
       "      <td>56</td>\n",
       "      <td>services</td>\n",
       "      <td>married</td>\n",
       "      <td>high.school</td>\n",
       "      <td>no</td>\n",
       "      <td>no</td>\n",
       "      <td>yes</td>\n",
       "      <td>telephone</td>\n",
       "      <td>may</td>\n",
       "      <td>mon</td>\n",
       "      <td>...</td>\n",
       "      <td>1</td>\n",
       "      <td>999</td>\n",
       "      <td>0</td>\n",
       "      <td>nonexistent</td>\n",
       "      <td>1.1</td>\n",
       "      <td>93.994</td>\n",
       "      <td>-36.4</td>\n",
       "      <td>4.857</td>\n",
       "      <td>5191.0</td>\n",
       "      <td>no</td>\n",
       "    </tr>\n",
       "  </tbody>\n",
       "</table>\n",
       "<p>5 rows × 21 columns</p>\n",
       "</div>"
      ],
      "text/plain": [
       "   age        job  marital    education  default housing loan    contact  \\\n",
       "0   56  housemaid  married     basic.4y       no      no   no  telephone   \n",
       "1   57   services  married  high.school  unknown      no   no  telephone   \n",
       "2   37   services  married  high.school       no     yes   no  telephone   \n",
       "3   40     admin.  married     basic.6y       no      no   no  telephone   \n",
       "4   56   services  married  high.school       no      no  yes  telephone   \n",
       "\n",
       "  month day_of_week ...  campaign  pdays  previous     poutcome emp.var.rate  \\\n",
       "0   may         mon ...         1    999         0  nonexistent          1.1   \n",
       "1   may         mon ...         1    999         0  nonexistent          1.1   \n",
       "2   may         mon ...         1    999         0  nonexistent          1.1   \n",
       "3   may         mon ...         1    999         0  nonexistent          1.1   \n",
       "4   may         mon ...         1    999         0  nonexistent          1.1   \n",
       "\n",
       "   cons.price.idx  cons.conf.idx  euribor3m  nr.employed   y  \n",
       "0          93.994          -36.4      4.857       5191.0  no  \n",
       "1          93.994          -36.4      4.857       5191.0  no  \n",
       "2          93.994          -36.4      4.857       5191.0  no  \n",
       "3          93.994          -36.4      4.857       5191.0  no  \n",
       "4          93.994          -36.4      4.857       5191.0  no  \n",
       "\n",
       "[5 rows x 21 columns]"
      ]
     },
     "execution_count": 3,
     "metadata": {},
     "output_type": "execute_result"
    }
   ],
   "source": [
    "bank.head(5)"
   ]
  },
  {
   "cell_type": "code",
   "execution_count": 50,
   "metadata": {
    "collapsed": false
   },
   "outputs": [
    {
     "data": {
      "text/html": [
       "<div>\n",
       "<table border=\"1\" class=\"dataframe\">\n",
       "  <thead>\n",
       "    <tr style=\"text-align: right;\">\n",
       "      <th></th>\n",
       "      <th>age</th>\n",
       "      <th>call_duration</th>\n",
       "      <th>campaign_calls</th>\n",
       "      <th>pdays</th>\n",
       "      <th>previous_calls</th>\n",
       "      <th>emp.var.rate</th>\n",
       "      <th>consumer_price_idx</th>\n",
       "      <th>consumer_conf_idx</th>\n",
       "      <th>euribor3m</th>\n",
       "      <th>nr.employed</th>\n",
       "      <th>y</th>\n",
       "    </tr>\n",
       "  </thead>\n",
       "  <tbody>\n",
       "    <tr>\n",
       "      <th>count</th>\n",
       "      <td>41188.00000</td>\n",
       "      <td>41188.000000</td>\n",
       "      <td>41188.000000</td>\n",
       "      <td>41188.000000</td>\n",
       "      <td>41188.000000</td>\n",
       "      <td>41188.000000</td>\n",
       "      <td>41188.000000</td>\n",
       "      <td>41188.000000</td>\n",
       "      <td>41188.000000</td>\n",
       "      <td>41188.000000</td>\n",
       "      <td>41188.000000</td>\n",
       "    </tr>\n",
       "    <tr>\n",
       "      <th>mean</th>\n",
       "      <td>40.02406</td>\n",
       "      <td>258.285010</td>\n",
       "      <td>2.567593</td>\n",
       "      <td>962.475454</td>\n",
       "      <td>0.172963</td>\n",
       "      <td>0.081886</td>\n",
       "      <td>93.575664</td>\n",
       "      <td>-40.502600</td>\n",
       "      <td>3.621291</td>\n",
       "      <td>5167.035911</td>\n",
       "      <td>0.112654</td>\n",
       "    </tr>\n",
       "    <tr>\n",
       "      <th>std</th>\n",
       "      <td>10.42125</td>\n",
       "      <td>259.279249</td>\n",
       "      <td>2.770014</td>\n",
       "      <td>186.910907</td>\n",
       "      <td>0.494901</td>\n",
       "      <td>1.570960</td>\n",
       "      <td>0.578840</td>\n",
       "      <td>4.628198</td>\n",
       "      <td>1.734447</td>\n",
       "      <td>72.251528</td>\n",
       "      <td>0.316173</td>\n",
       "    </tr>\n",
       "    <tr>\n",
       "      <th>min</th>\n",
       "      <td>17.00000</td>\n",
       "      <td>0.000000</td>\n",
       "      <td>1.000000</td>\n",
       "      <td>0.000000</td>\n",
       "      <td>0.000000</td>\n",
       "      <td>-3.400000</td>\n",
       "      <td>92.201000</td>\n",
       "      <td>-50.800000</td>\n",
       "      <td>0.634000</td>\n",
       "      <td>4963.600000</td>\n",
       "      <td>0.000000</td>\n",
       "    </tr>\n",
       "    <tr>\n",
       "      <th>25%</th>\n",
       "      <td>32.00000</td>\n",
       "      <td>102.000000</td>\n",
       "      <td>1.000000</td>\n",
       "      <td>999.000000</td>\n",
       "      <td>0.000000</td>\n",
       "      <td>-1.800000</td>\n",
       "      <td>93.075000</td>\n",
       "      <td>-42.700000</td>\n",
       "      <td>1.344000</td>\n",
       "      <td>5099.100000</td>\n",
       "      <td>0.000000</td>\n",
       "    </tr>\n",
       "    <tr>\n",
       "      <th>50%</th>\n",
       "      <td>38.00000</td>\n",
       "      <td>180.000000</td>\n",
       "      <td>2.000000</td>\n",
       "      <td>999.000000</td>\n",
       "      <td>0.000000</td>\n",
       "      <td>1.100000</td>\n",
       "      <td>93.749000</td>\n",
       "      <td>-41.800000</td>\n",
       "      <td>4.857000</td>\n",
       "      <td>5191.000000</td>\n",
       "      <td>0.000000</td>\n",
       "    </tr>\n",
       "    <tr>\n",
       "      <th>75%</th>\n",
       "      <td>47.00000</td>\n",
       "      <td>319.000000</td>\n",
       "      <td>3.000000</td>\n",
       "      <td>999.000000</td>\n",
       "      <td>0.000000</td>\n",
       "      <td>1.400000</td>\n",
       "      <td>93.994000</td>\n",
       "      <td>-36.400000</td>\n",
       "      <td>4.961000</td>\n",
       "      <td>5228.100000</td>\n",
       "      <td>0.000000</td>\n",
       "    </tr>\n",
       "    <tr>\n",
       "      <th>max</th>\n",
       "      <td>98.00000</td>\n",
       "      <td>4918.000000</td>\n",
       "      <td>56.000000</td>\n",
       "      <td>999.000000</td>\n",
       "      <td>7.000000</td>\n",
       "      <td>1.400000</td>\n",
       "      <td>94.767000</td>\n",
       "      <td>-26.900000</td>\n",
       "      <td>5.045000</td>\n",
       "      <td>5228.100000</td>\n",
       "      <td>1.000000</td>\n",
       "    </tr>\n",
       "  </tbody>\n",
       "</table>\n",
       "</div>"
      ],
      "text/plain": [
       "               age  call_duration  campaign_calls         pdays  \\\n",
       "count  41188.00000   41188.000000    41188.000000  41188.000000   \n",
       "mean      40.02406     258.285010        2.567593    962.475454   \n",
       "std       10.42125     259.279249        2.770014    186.910907   \n",
       "min       17.00000       0.000000        1.000000      0.000000   \n",
       "25%       32.00000     102.000000        1.000000    999.000000   \n",
       "50%       38.00000     180.000000        2.000000    999.000000   \n",
       "75%       47.00000     319.000000        3.000000    999.000000   \n",
       "max       98.00000    4918.000000       56.000000    999.000000   \n",
       "\n",
       "       previous_calls  emp.var.rate  consumer_price_idx  consumer_conf_idx  \\\n",
       "count    41188.000000  41188.000000        41188.000000       41188.000000   \n",
       "mean         0.172963      0.081886           93.575664         -40.502600   \n",
       "std          0.494901      1.570960            0.578840           4.628198   \n",
       "min          0.000000     -3.400000           92.201000         -50.800000   \n",
       "25%          0.000000     -1.800000           93.075000         -42.700000   \n",
       "50%          0.000000      1.100000           93.749000         -41.800000   \n",
       "75%          0.000000      1.400000           93.994000         -36.400000   \n",
       "max          7.000000      1.400000           94.767000         -26.900000   \n",
       "\n",
       "          euribor3m   nr.employed             y  \n",
       "count  41188.000000  41188.000000  41188.000000  \n",
       "mean       3.621291   5167.035911      0.112654  \n",
       "std        1.734447     72.251528      0.316173  \n",
       "min        0.634000   4963.600000      0.000000  \n",
       "25%        1.344000   5099.100000      0.000000  \n",
       "50%        4.857000   5191.000000      0.000000  \n",
       "75%        4.961000   5228.100000      0.000000  \n",
       "max        5.045000   5228.100000      1.000000  "
      ]
     },
     "execution_count": 50,
     "metadata": {},
     "output_type": "execute_result"
    }
   ],
   "source": [
    "bank.describe()"
   ]
  },
  {
   "cell_type": "code",
   "execution_count": 5,
   "metadata": {
    "collapsed": false
   },
   "outputs": [
    {
     "data": {
      "text/plain": [
       "age                 int64\n",
       "job                object\n",
       "marital            object\n",
       "education          object\n",
       "default            object\n",
       "housing            object\n",
       "loan               object\n",
       "contact            object\n",
       "month              object\n",
       "day_of_week        object\n",
       "duration            int64\n",
       "campaign            int64\n",
       "pdays               int64\n",
       "previous            int64\n",
       "poutcome           object\n",
       "emp.var.rate      float64\n",
       "cons.price.idx    float64\n",
       "cons.conf.idx     float64\n",
       "euribor3m         float64\n",
       "nr.employed       float64\n",
       "y                  object\n",
       "dtype: object"
      ]
     },
     "execution_count": 5,
     "metadata": {},
     "output_type": "execute_result"
    }
   ],
   "source": [
    "bank.dtypes"
   ]
  },
  {
   "cell_type": "code",
   "execution_count": 6,
   "metadata": {
    "collapsed": false
   },
   "outputs": [],
   "source": [
    "bank['y'] = (bank['y']=='yes').astype(int)"
   ]
  },
  {
   "cell_type": "code",
   "execution_count": 7,
   "metadata": {
    "collapsed": false
   },
   "outputs": [
    {
     "data": {
      "text/plain": [
       "dtype('int64')"
      ]
     },
     "execution_count": 7,
     "metadata": {},
     "output_type": "execute_result"
    }
   ],
   "source": [
    "bank['y'].dtype"
   ]
  },
  {
   "cell_type": "code",
   "execution_count": 8,
   "metadata": {
    "collapsed": false
   },
   "outputs": [
    {
     "data": {
      "text/plain": [
       "array(['basic.4y', 'high.school', 'basic.6y', 'basic.9y',\n",
       "       'professional.course', 'unknown', 'university.degree', 'illiterate'], dtype=object)"
      ]
     },
     "execution_count": 8,
     "metadata": {},
     "output_type": "execute_result"
    }
   ],
   "source": [
    "bank['education'].unique()"
   ]
  },
  {
   "cell_type": "code",
   "execution_count": 9,
   "metadata": {
    "collapsed": false
   },
   "outputs": [],
   "source": [
    "bank['education']=np.where(bank['education']=='basic.4y','Basic',bank['education'])\n",
    "bank['education']=np.where(bank['education']=='basic.6y','Basic',bank['education'])\n",
    "bank['education']=np.where(bank['education']=='basic.9y','Basic',bank['education'])\n",
    "bank['education']=np.where(bank['education']=='professional.course','Professional Course',bank['education'])\n",
    "bank['education']=np.where(bank['education']=='university.degree','University Degree',bank['education'])\n",
    "bank['education']=np.where(bank['education']=='unknown','Unknown',bank['education'])\n",
    "bank['education']=np.where(bank['education']=='illiterate','No education',bank['education'])\n",
    "bank['education']=np.where(bank['education']=='high.school','High School',bank['education'])"
   ]
  },
  {
   "cell_type": "code",
   "execution_count": 10,
   "metadata": {
    "collapsed": false
   },
   "outputs": [
    {
     "data": {
      "text/plain": [
       "array(['Basic', 'High School', 'Professional Course', 'Unknown',\n",
       "       'University Degree', 'No education'], dtype=object)"
      ]
     },
     "execution_count": 10,
     "metadata": {},
     "output_type": "execute_result"
    }
   ],
   "source": [
    "bank.education.unique()"
   ]
  },
  {
   "cell_type": "code",
   "execution_count": 11,
   "metadata": {
    "collapsed": true
   },
   "outputs": [],
   "source": [
    "bank.rename(columns ={'cons.conf.idx':'consumer_conf_idx','cons.price.idx':'consumer_price_idx','previous':'previous_calls','loan':'personal_loan','housing':'housing_loan','duration':'call_duration','default':'loan_default','campaign':'campaign_calls','contact':'contact_type'},inplace = True)"
   ]
  },
  {
   "cell_type": "code",
   "execution_count": 12,
   "metadata": {
    "collapsed": false
   },
   "outputs": [
    {
     "data": {
      "text/plain": [
       "Index(['age', 'job', 'marital', 'education', 'loan_default', 'housing_loan',\n",
       "       'personal_loan', 'contact_type', 'month', 'day_of_week',\n",
       "       'call_duration', 'campaign_calls', 'pdays', 'previous_calls',\n",
       "       'poutcome', 'emp.var.rate', 'consumer_price_idx', 'consumer_conf_idx',\n",
       "       'euribor3m', 'nr.employed', 'y'],\n",
       "      dtype='object')"
      ]
     },
     "execution_count": 12,
     "metadata": {},
     "output_type": "execute_result"
    }
   ],
   "source": [
    "bank.columns"
   ]
  },
  {
   "cell_type": "code",
   "execution_count": 13,
   "metadata": {
    "collapsed": false
   },
   "outputs": [
    {
     "data": {
      "text/plain": [
       "y\n",
       "0    88.734583\n",
       "1    11.265417\n",
       "dtype: float64"
      ]
     },
     "execution_count": 13,
     "metadata": {},
     "output_type": "execute_result"
    }
   ],
   "source": [
    "y_dist = bank.groupby('y').size()/41188*100\n",
    "y_dist"
   ]
  },
  {
   "cell_type": "code",
   "execution_count": 14,
   "metadata": {
    "collapsed": false
   },
   "outputs": [
    {
     "data": {
      "text/plain": [
       "<matplotlib.axes._subplots.AxesSubplot at 0x10ed2e1d0>"
      ]
     },
     "execution_count": 14,
     "metadata": {},
     "output_type": "execute_result"
    },
    {
     "data": {
      "image/png": "[encoded data removed]",
      "text/plain": [
       "<matplotlib.figure.Figure at 0x10ed05cf8>"
      ]
     },
     "metadata": {},
     "output_type": "display_data"
    }
   ],
   "source": [
    "y_dist.plot(kind='bar')"
   ]
  },
  {
   "cell_type": "code",
   "execution_count": 15,
   "metadata": {
    "collapsed": false
   },
   "outputs": [
    {
     "data": {
      "text/html": [
       "<div>\n",
       "<table border=\"1\" class=\"dataframe\">\n",
       "  <thead>\n",
       "    <tr style=\"text-align: right;\">\n",
       "      <th></th>\n",
       "      <th>age</th>\n",
       "      <th>call_duration</th>\n",
       "      <th>campaign_calls</th>\n",
       "      <th>pdays</th>\n",
       "      <th>previous_calls</th>\n",
       "      <th>emp.var.rate</th>\n",
       "      <th>consumer_price_idx</th>\n",
       "      <th>consumer_conf_idx</th>\n",
       "      <th>euribor3m</th>\n",
       "      <th>nr.employed</th>\n",
       "    </tr>\n",
       "    <tr>\n",
       "      <th>y</th>\n",
       "      <th></th>\n",
       "      <th></th>\n",
       "      <th></th>\n",
       "      <th></th>\n",
       "      <th></th>\n",
       "      <th></th>\n",
       "      <th></th>\n",
       "      <th></th>\n",
       "      <th></th>\n",
       "      <th></th>\n",
       "    </tr>\n",
       "  </thead>\n",
       "  <tbody>\n",
       "    <tr>\n",
       "      <th>0</th>\n",
       "      <td>39.911185</td>\n",
       "      <td>220.844807</td>\n",
       "      <td>2.633085</td>\n",
       "      <td>984.113878</td>\n",
       "      <td>0.132374</td>\n",
       "      <td>0.248875</td>\n",
       "      <td>93.603757</td>\n",
       "      <td>-40.593097</td>\n",
       "      <td>3.811491</td>\n",
       "      <td>5176.166600</td>\n",
       "    </tr>\n",
       "    <tr>\n",
       "      <th>1</th>\n",
       "      <td>40.913147</td>\n",
       "      <td>553.191164</td>\n",
       "      <td>2.051724</td>\n",
       "      <td>792.035560</td>\n",
       "      <td>0.492672</td>\n",
       "      <td>-1.233448</td>\n",
       "      <td>93.354386</td>\n",
       "      <td>-39.789784</td>\n",
       "      <td>2.123135</td>\n",
       "      <td>5095.115991</td>\n",
       "    </tr>\n",
       "  </tbody>\n",
       "</table>\n",
       "</div>"
      ],
      "text/plain": [
       "         age  call_duration  campaign_calls       pdays  previous_calls  \\\n",
       "y                                                                         \n",
       "0  39.911185     220.844807        2.633085  984.113878        0.132374   \n",
       "1  40.913147     553.191164        2.051724  792.035560        0.492672   \n",
       "\n",
       "   emp.var.rate  consumer_price_idx  consumer_conf_idx  euribor3m  nr.employed  \n",
       "y                                                                               \n",
       "0      0.248875           93.603757         -40.593097   3.811491  5176.166600  \n",
       "1     -1.233448           93.354386         -39.789784   2.123135  5095.115991  "
      ]
     },
     "execution_count": 15,
     "metadata": {},
     "output_type": "execute_result"
    }
   ],
   "source": [
    "bank.groupby(['y']).mean()"
   ]
  },
  {
   "cell_type": "code",
   "execution_count": 16,
   "metadata": {
    "collapsed": false
   },
   "outputs": [
    {
     "data": {
      "text/plain": [
       "<matplotlib.axes._subplots.AxesSubplot at 0x10ef26860>"
      ]
     },
     "execution_count": 16,
     "metadata": {},
     "output_type": "execute_result"
    },
    {
     "data": {
      "image/png": "[encoded data removed]",
      "text/plain": [
       "<matplotlib.figure.Figure at 0x10ef02e80>"
      ]
     },
     "metadata": {},
     "output_type": "display_data"
    }
   ],
   "source": [
    "bank.groupby('y').education.value_counts().unstack('education').plot(kind='bar')"
   ]
  },
  {
   "cell_type": "code",
   "execution_count": 30,
   "metadata": {
    "collapsed": false
   },
   "outputs": [
    {
     "data": {
      "text/html": [
       "<div>\n",
       "<table border=\"1\" class=\"dataframe\">\n",
       "  <thead>\n",
       "    <tr style=\"text-align: right;\">\n",
       "      <th>month</th>\n",
       "      <th>apr</th>\n",
       "      <th>aug</th>\n",
       "      <th>dec</th>\n",
       "      <th>jul</th>\n",
       "      <th>jun</th>\n",
       "      <th>mar</th>\n",
       "      <th>may</th>\n",
       "      <th>nov</th>\n",
       "      <th>oct</th>\n",
       "      <th>sep</th>\n",
       "    </tr>\n",
       "    <tr>\n",
       "      <th>y</th>\n",
       "      <th></th>\n",
       "      <th></th>\n",
       "      <th></th>\n",
       "      <th></th>\n",
       "      <th></th>\n",
       "      <th></th>\n",
       "      <th></th>\n",
       "      <th></th>\n",
       "      <th></th>\n",
       "      <th></th>\n",
       "    </tr>\n",
       "  </thead>\n",
       "  <tbody>\n",
       "    <tr>\n",
       "      <th>0</th>\n",
       "      <td>0.795213</td>\n",
       "      <td>0.893979</td>\n",
       "      <td>0.510989</td>\n",
       "      <td>0.909534</td>\n",
       "      <td>0.894885</td>\n",
       "      <td>0.494505</td>\n",
       "      <td>0.935653</td>\n",
       "      <td>0.898561</td>\n",
       "      <td>0.561281</td>\n",
       "      <td>0.550877</td>\n",
       "    </tr>\n",
       "    <tr>\n",
       "      <th>1</th>\n",
       "      <td>0.204787</td>\n",
       "      <td>0.106021</td>\n",
       "      <td>0.489011</td>\n",
       "      <td>0.090466</td>\n",
       "      <td>0.105115</td>\n",
       "      <td>0.505495</td>\n",
       "      <td>0.064347</td>\n",
       "      <td>0.101439</td>\n",
       "      <td>0.438719</td>\n",
       "      <td>0.449123</td>\n",
       "    </tr>\n",
       "  </tbody>\n",
       "</table>\n",
       "</div>"
      ],
      "text/plain": [
       "month       apr       aug       dec       jul       jun       mar       may  \\\n",
       "y                                                                             \n",
       "0      0.795213  0.893979  0.510989  0.909534  0.894885  0.494505  0.935653   \n",
       "1      0.204787  0.106021  0.489011  0.090466  0.105115  0.505495  0.064347   \n",
       "\n",
       "month       nov       oct       sep  \n",
       "y                                    \n",
       "0      0.898561  0.561281  0.550877  \n",
       "1      0.101439  0.438719  0.449123  "
      ]
     },
     "execution_count": 30,
     "metadata": {},
     "output_type": "execute_result"
    }
   ],
   "source": [
    "# % campaign conversions month wise\n",
    "pd.crosstab(bank.y, bank.month, normalize='columns')#.plot(kind='bar')"
   ]
  },
  {
   "cell_type": "code",
   "execution_count": 18,
   "metadata": {
    "collapsed": false
   },
   "outputs": [
    {
     "data": {
      "text/html": [
       "<div>\n",
       "<table border=\"1\" class=\"dataframe\">\n",
       "  <thead>\n",
       "    <tr style=\"text-align: right;\">\n",
       "      <th>day_of_week</th>\n",
       "      <th>fri</th>\n",
       "      <th>mon</th>\n",
       "      <th>thu</th>\n",
       "      <th>tue</th>\n",
       "      <th>wed</th>\n",
       "    </tr>\n",
       "    <tr>\n",
       "      <th>y</th>\n",
       "      <th></th>\n",
       "      <th></th>\n",
       "      <th></th>\n",
       "      <th></th>\n",
       "      <th></th>\n",
       "    </tr>\n",
       "  </thead>\n",
       "  <tbody>\n",
       "    <tr>\n",
       "      <th>0</th>\n",
       "      <td>0.891913</td>\n",
       "      <td>0.900517</td>\n",
       "      <td>0.878812</td>\n",
       "      <td>0.8822</td>\n",
       "      <td>0.883329</td>\n",
       "    </tr>\n",
       "    <tr>\n",
       "      <th>1</th>\n",
       "      <td>0.108087</td>\n",
       "      <td>0.099483</td>\n",
       "      <td>0.121188</td>\n",
       "      <td>0.1178</td>\n",
       "      <td>0.116671</td>\n",
       "    </tr>\n",
       "  </tbody>\n",
       "</table>\n",
       "</div>"
      ],
      "text/plain": [
       "day_of_week       fri       mon       thu     tue       wed\n",
       "y                                                          \n",
       "0            0.891913  0.900517  0.878812  0.8822  0.883329\n",
       "1            0.108087  0.099483  0.121188  0.1178  0.116671"
      ]
     },
     "execution_count": 18,
     "metadata": {},
     "output_type": "execute_result"
    }
   ],
   "source": [
    "pd.crosstab(bank.y, bank.day_of_week, normalize='columns')"
   ]
  },
  {
   "cell_type": "markdown",
   "metadata": {},
   "source": [
    "## Creating dummy variables"
   ]
  },
  {
   "cell_type": "code",
   "execution_count": 19,
   "metadata": {
    "collapsed": false
   },
   "outputs": [
    {
     "data": {
      "text/plain": [
       "Index(['age', 'job', 'marital', 'education', 'loan_default', 'housing_loan',\n",
       "       'personal_loan', 'contact_type', 'month', 'day_of_week',\n",
       "       'call_duration', 'campaign_calls', 'pdays', 'previous_calls',\n",
       "       'poutcome', 'emp.var.rate', 'consumer_price_idx', 'consumer_conf_idx',\n",
       "       'euribor3m', 'nr.employed', 'y'],\n",
       "      dtype='object')"
      ]
     },
     "execution_count": 19,
     "metadata": {},
     "output_type": "execute_result"
    }
   ],
   "source": [
    "bank.columns"
   ]
  },
  {
   "cell_type": "code",
   "execution_count": 20,
   "metadata": {
    "collapsed": false
   },
   "outputs": [
    {
     "data": {
      "text/html": [
       "<div>\n",
       "<table border=\"1\" class=\"dataframe\">\n",
       "  <thead>\n",
       "    <tr style=\"text-align: right;\">\n",
       "      <th></th>\n",
       "      <th>age</th>\n",
       "      <th>call_duration</th>\n",
       "      <th>campaign_calls</th>\n",
       "      <th>pdays</th>\n",
       "      <th>previous_calls</th>\n",
       "      <th>emp.var.rate</th>\n",
       "      <th>consumer_price_idx</th>\n",
       "      <th>consumer_conf_idx</th>\n",
       "      <th>euribor3m</th>\n",
       "      <th>nr.employed</th>\n",
       "      <th>...</th>\n",
       "      <th>month_may</th>\n",
       "      <th>month_nov</th>\n",
       "      <th>month_oct</th>\n",
       "      <th>month_sep</th>\n",
       "      <th>day_of_week_mon</th>\n",
       "      <th>day_of_week_thu</th>\n",
       "      <th>day_of_week_tue</th>\n",
       "      <th>day_of_week_wed</th>\n",
       "      <th>poutcome_nonexistent</th>\n",
       "      <th>poutcome_success</th>\n",
       "    </tr>\n",
       "  </thead>\n",
       "  <tbody>\n",
       "    <tr>\n",
       "      <th>0</th>\n",
       "      <td>56</td>\n",
       "      <td>261</td>\n",
       "      <td>1</td>\n",
       "      <td>999</td>\n",
       "      <td>0</td>\n",
       "      <td>1.1</td>\n",
       "      <td>93.994</td>\n",
       "      <td>-36.4</td>\n",
       "      <td>4.857</td>\n",
       "      <td>5191.0</td>\n",
       "      <td>...</td>\n",
       "      <td>1</td>\n",
       "      <td>0</td>\n",
       "      <td>0</td>\n",
       "      <td>0</td>\n",
       "      <td>1</td>\n",
       "      <td>0</td>\n",
       "      <td>0</td>\n",
       "      <td>0</td>\n",
       "      <td>1</td>\n",
       "      <td>0</td>\n",
       "    </tr>\n",
       "    <tr>\n",
       "      <th>1</th>\n",
       "      <td>57</td>\n",
       "      <td>149</td>\n",
       "      <td>1</td>\n",
       "      <td>999</td>\n",
       "      <td>0</td>\n",
       "      <td>1.1</td>\n",
       "      <td>93.994</td>\n",
       "      <td>-36.4</td>\n",
       "      <td>4.857</td>\n",
       "      <td>5191.0</td>\n",
       "      <td>...</td>\n",
       "      <td>1</td>\n",
       "      <td>0</td>\n",
       "      <td>0</td>\n",
       "      <td>0</td>\n",
       "      <td>1</td>\n",
       "      <td>0</td>\n",
       "      <td>0</td>\n",
       "      <td>0</td>\n",
       "      <td>1</td>\n",
       "      <td>0</td>\n",
       "    </tr>\n",
       "    <tr>\n",
       "      <th>2</th>\n",
       "      <td>37</td>\n",
       "      <td>226</td>\n",
       "      <td>1</td>\n",
       "      <td>999</td>\n",
       "      <td>0</td>\n",
       "      <td>1.1</td>\n",
       "      <td>93.994</td>\n",
       "      <td>-36.4</td>\n",
       "      <td>4.857</td>\n",
       "      <td>5191.0</td>\n",
       "      <td>...</td>\n",
       "      <td>1</td>\n",
       "      <td>0</td>\n",
       "      <td>0</td>\n",
       "      <td>0</td>\n",
       "      <td>1</td>\n",
       "      <td>0</td>\n",
       "      <td>0</td>\n",
       "      <td>0</td>\n",
       "      <td>1</td>\n",
       "      <td>0</td>\n",
       "    </tr>\n",
       "    <tr>\n",
       "      <th>3</th>\n",
       "      <td>40</td>\n",
       "      <td>151</td>\n",
       "      <td>1</td>\n",
       "      <td>999</td>\n",
       "      <td>0</td>\n",
       "      <td>1.1</td>\n",
       "      <td>93.994</td>\n",
       "      <td>-36.4</td>\n",
       "      <td>4.857</td>\n",
       "      <td>5191.0</td>\n",
       "      <td>...</td>\n",
       "      <td>1</td>\n",
       "      <td>0</td>\n",
       "      <td>0</td>\n",
       "      <td>0</td>\n",
       "      <td>1</td>\n",
       "      <td>0</td>\n",
       "      <td>0</td>\n",
       "      <td>0</td>\n",
       "      <td>1</td>\n",
       "      <td>0</td>\n",
       "    </tr>\n",
       "    <tr>\n",
       "      <th>4</th>\n",
       "      <td>56</td>\n",
       "      <td>307</td>\n",
       "      <td>1</td>\n",
       "      <td>999</td>\n",
       "      <td>0</td>\n",
       "      <td>1.1</td>\n",
       "      <td>93.994</td>\n",
       "      <td>-36.4</td>\n",
       "      <td>4.857</td>\n",
       "      <td>5191.0</td>\n",
       "      <td>...</td>\n",
       "      <td>1</td>\n",
       "      <td>0</td>\n",
       "      <td>0</td>\n",
       "      <td>0</td>\n",
       "      <td>1</td>\n",
       "      <td>0</td>\n",
       "      <td>0</td>\n",
       "      <td>0</td>\n",
       "      <td>1</td>\n",
       "      <td>0</td>\n",
       "    </tr>\n",
       "  </tbody>\n",
       "</table>\n",
       "<p>5 rows × 52 columns</p>\n",
       "</div>"
      ],
      "text/plain": [
       "   age  call_duration  campaign_calls  pdays  previous_calls  emp.var.rate  \\\n",
       "0   56            261               1    999               0           1.1   \n",
       "1   57            149               1    999               0           1.1   \n",
       "2   37            226               1    999               0           1.1   \n",
       "3   40            151               1    999               0           1.1   \n",
       "4   56            307               1    999               0           1.1   \n",
       "\n",
       "   consumer_price_idx  consumer_conf_idx  euribor3m  nr.employed  \\\n",
       "0              93.994              -36.4      4.857       5191.0   \n",
       "1              93.994              -36.4      4.857       5191.0   \n",
       "2              93.994              -36.4      4.857       5191.0   \n",
       "3              93.994              -36.4      4.857       5191.0   \n",
       "4              93.994              -36.4      4.857       5191.0   \n",
       "\n",
       "         ...         month_may  month_nov  month_oct  month_sep  \\\n",
       "0        ...                 1          0          0          0   \n",
       "1        ...                 1          0          0          0   \n",
       "2        ...                 1          0          0          0   \n",
       "3        ...                 1          0          0          0   \n",
       "4        ...                 1          0          0          0   \n",
       "\n",
       "   day_of_week_mon  day_of_week_thu  day_of_week_tue  day_of_week_wed  \\\n",
       "0                1                0                0                0   \n",
       "1                1                0                0                0   \n",
       "2                1                0                0                0   \n",
       "3                1                0                0                0   \n",
       "4                1                0                0                0   \n",
       "\n",
       "   poutcome_nonexistent  poutcome_success  \n",
       "0                     1                 0  \n",
       "1                     1                 0  \n",
       "2                     1                 0  \n",
       "3                     1                 0  \n",
       "4                     1                 0  \n",
       "\n",
       "[5 rows x 52 columns]"
      ]
     },
     "execution_count": 20,
     "metadata": {},
     "output_type": "execute_result"
    }
   ],
   "source": [
    "#Assigning dummy variables to categorical data with (k-1) dummies\n",
    "bank_final = pd.get_dummies(bank,drop_first= True)\n",
    "bank_final.head()"
   ]
  },
  {
   "cell_type": "code",
   "execution_count": 21,
   "metadata": {
    "collapsed": false,
    "scrolled": true
   },
   "outputs": [
    {
     "data": {
      "text/plain": [
       "Index(['age', 'call_duration', 'campaign_calls', 'pdays', 'previous_calls',\n",
       "       'emp.var.rate', 'consumer_price_idx', 'consumer_conf_idx', 'euribor3m',\n",
       "       'nr.employed', 'y', 'job_blue-collar', 'job_entrepreneur',\n",
       "       'job_housemaid', 'job_management', 'job_retired', 'job_self-employed',\n",
       "       'job_services', 'job_student', 'job_technician', 'job_unemployed',\n",
       "       'job_unknown', 'marital_married', 'marital_single', 'marital_unknown',\n",
       "       'education_High School', 'education_No education',\n",
       "       'education_Professional Course', 'education_University Degree',\n",
       "       'education_Unknown', 'loan_default_unknown', 'loan_default_yes',\n",
       "       'housing_loan_unknown', 'housing_loan_yes', 'personal_loan_unknown',\n",
       "       'personal_loan_yes', 'contact_type_telephone', 'month_aug', 'month_dec',\n",
       "       'month_jul', 'month_jun', 'month_mar', 'month_may', 'month_nov',\n",
       "       'month_oct', 'month_sep', 'day_of_week_mon', 'day_of_week_thu',\n",
       "       'day_of_week_tue', 'day_of_week_wed', 'poutcome_nonexistent',\n",
       "       'poutcome_success'],\n",
       "      dtype='object')"
      ]
     },
     "execution_count": 21,
     "metadata": {},
     "output_type": "execute_result"
    }
   ],
   "source": [
    "bank_final.columns"
   ]
  },
  {
   "cell_type": "code",
   "execution_count": 22,
   "metadata": {
    "collapsed": true
   },
   "outputs": [],
   "source": [
    "bank_final['intercept'] = 1"
   ]
  },
  {
   "cell_type": "code",
   "execution_count": 23,
   "metadata": {
    "collapsed": false
   },
   "outputs": [
    {
     "data": {
      "text/plain": [
       "array([0, 0, 0, ..., 0, 1, 0])"
      ]
     },
     "execution_count": 23,
     "metadata": {},
     "output_type": "execute_result"
    }
   ],
   "source": [
    "bank_final_vars=bank_final.columns.values.tolist()\n",
    "Y=['y']\n",
    "X=[i for i in bank_final_vars if i not in Y ]\n",
    "X1=bank_final[X]\n",
    "Y1=bank_final[Y]\n",
    "a = np.ravel(Y1)\n",
    "a\n"
   ]
  },
  {
   "cell_type": "code",
   "execution_count": 24,
   "metadata": {
    "collapsed": false
   },
   "outputs": [
    {
     "name": "stdout",
     "output_type": "stream",
     "text": [
      "Warning: Maximum number of iterations has been exceeded.\n",
      "         Current function value: 0.207332\n",
      "         Iterations: 35\n"
     ]
    },
    {
     "name": "stderr",
     "output_type": "stream",
     "text": [
      "/Users/Bunny/anaconda3/lib/python3.6/site-packages/statsmodels/base/model.py:466: ConvergenceWarning: Maximum Likelihood optimization failed to converge. Check mle_retvals\n",
      "  \"Check mle_retvals\", ConvergenceWarning)\n",
      "/Users/Bunny/anaconda3/lib/python3.6/site-packages/statsmodels/base/model.py:971: RuntimeWarning: invalid value encountered in sqrt\n",
      "  return np.sqrt(np.diag(self.cov_params()))\n",
      "/Users/Bunny/anaconda3/lib/python3.6/site-packages/scipy/stats/_distn_infrastructure.py:875: RuntimeWarning: invalid value encountered in greater\n",
      "  return (self.a < x) & (x < self.b)\n",
      "/Users/Bunny/anaconda3/lib/python3.6/site-packages/scipy/stats/_distn_infrastructure.py:875: RuntimeWarning: invalid value encountered in less\n",
      "  return (self.a < x) & (x < self.b)\n",
      "/Users/Bunny/anaconda3/lib/python3.6/site-packages/scipy/stats/_distn_infrastructure.py:1814: RuntimeWarning: invalid value encountered in less_equal\n",
      "  cond2 = cond0 & (x <= self.a)\n"
     ]
    },
    {
     "data": {
      "text/html": [
       "<table class=\"simpletable\">\n",
       "<caption>Logit Regression Results</caption>\n",
       "<tr>\n",
       "  <th>Dep. Variable:</th>         <td>y</td>        <th>  No. Observations:  </th>  <td> 41188</td> \n",
       "</tr>\n",
       "<tr>\n",
       "  <th>Model:</th>               <td>Logit</td>      <th>  Df Residuals:      </th>  <td> 41137</td> \n",
       "</tr>\n",
       "<tr>\n",
       "  <th>Method:</th>               <td>MLE</td>       <th>  Df Model:          </th>  <td>    50</td> \n",
       "</tr>\n",
       "<tr>\n",
       "  <th>Date:</th>          <td>Sat, 27 May 2017</td> <th>  Pseudo R-squ.:     </th>  <td>0.4110</td> \n",
       "</tr>\n",
       "<tr>\n",
       "  <th>Time:</th>              <td>22:34:31</td>     <th>  Log-Likelihood:    </th> <td> -8539.6</td>\n",
       "</tr>\n",
       "<tr>\n",
       "  <th>converged:</th>           <td>False</td>      <th>  LL-Null:           </th> <td> -14499.</td>\n",
       "</tr>\n",
       "<tr>\n",
       "  <th> </th>                      <td> </td>        <th>  LLR p-value:       </th>  <td> 0.000</td> \n",
       "</tr>\n",
       "</table>\n",
       "<table class=\"simpletable\">\n",
       "<tr>\n",
       "                <td></td>                   <th>coef</th>     <th>std err</th>      <th>z</th>      <th>P>|z|</th> <th>[95.0% Conf. Int.]</th> \n",
       "</tr>\n",
       "<tr>\n",
       "  <th>age</th>                           <td> 9.896e-05</td> <td>    0.002</td> <td>    0.047</td> <td> 0.963</td> <td>   -0.004     0.004</td>\n",
       "</tr>\n",
       "<tr>\n",
       "  <th>call_duration</th>                 <td>    0.0047</td> <td> 7.37e-05</td> <td>   63.897</td> <td> 0.000</td> <td>    0.005     0.005</td>\n",
       "</tr>\n",
       "<tr>\n",
       "  <th>campaign_calls</th>                <td>   -0.0402</td> <td>    0.012</td> <td>   -3.324</td> <td> 0.001</td> <td>   -0.064    -0.016</td>\n",
       "</tr>\n",
       "<tr>\n",
       "  <th>pdays</th>                         <td>   -0.0009</td> <td>    0.000</td> <td>   -4.863</td> <td> 0.000</td> <td>   -0.001    -0.001</td>\n",
       "</tr>\n",
       "<tr>\n",
       "  <th>previous_calls</th>                <td>   -0.0624</td> <td>    0.058</td> <td>   -1.070</td> <td> 0.285</td> <td>   -0.177     0.052</td>\n",
       "</tr>\n",
       "<tr>\n",
       "  <th>emp.var.rate</th>                  <td>   -1.7570</td> <td>    0.125</td> <td>  -14.042</td> <td> 0.000</td> <td>   -2.002    -1.512</td>\n",
       "</tr>\n",
       "<tr>\n",
       "  <th>consumer_price_idx</th>            <td>    2.1881</td> <td>    0.249</td> <td>    8.790</td> <td> 0.000</td> <td>    1.700     2.676</td>\n",
       "</tr>\n",
       "<tr>\n",
       "  <th>consumer_conf_idx</th>             <td>    0.0206</td> <td>    0.006</td> <td>    3.285</td> <td> 0.001</td> <td>    0.008     0.033</td>\n",
       "</tr>\n",
       "<tr>\n",
       "  <th>euribor3m</th>                     <td>    0.3318</td> <td>    0.136</td> <td>    2.431</td> <td> 0.015</td> <td>    0.064     0.599</td>\n",
       "</tr>\n",
       "<tr>\n",
       "  <th>nr.employed</th>                   <td>    0.0054</td> <td>    0.003</td> <td>    1.641</td> <td> 0.101</td> <td>   -0.001     0.012</td>\n",
       "</tr>\n",
       "<tr>\n",
       "  <th>job_blue-collar</th>               <td>   -0.2331</td> <td>    0.080</td> <td>   -2.919</td> <td> 0.004</td> <td>   -0.390    -0.077</td>\n",
       "</tr>\n",
       "<tr>\n",
       "  <th>job_entrepreneur</th>              <td>   -0.1782</td> <td>    0.126</td> <td>   -1.415</td> <td> 0.157</td> <td>   -0.425     0.069</td>\n",
       "</tr>\n",
       "<tr>\n",
       "  <th>job_housemaid</th>                 <td>   -0.0287</td> <td>    0.146</td> <td>   -0.197</td> <td> 0.844</td> <td>   -0.314     0.257</td>\n",
       "</tr>\n",
       "<tr>\n",
       "  <th>job_management</th>                <td>   -0.0557</td> <td>    0.085</td> <td>   -0.652</td> <td> 0.515</td> <td>   -0.223     0.112</td>\n",
       "</tr>\n",
       "<tr>\n",
       "  <th>job_retired</th>                   <td>    0.2827</td> <td>    0.105</td> <td>    2.693</td> <td> 0.007</td> <td>    0.077     0.488</td>\n",
       "</tr>\n",
       "<tr>\n",
       "  <th>job_self-employed</th>             <td>   -0.1606</td> <td>    0.118</td> <td>   -1.365</td> <td> 0.172</td> <td>   -0.391     0.070</td>\n",
       "</tr>\n",
       "<tr>\n",
       "  <th>job_services</th>                  <td>   -0.1361</td> <td>    0.086</td> <td>   -1.576</td> <td> 0.115</td> <td>   -0.305     0.033</td>\n",
       "</tr>\n",
       "<tr>\n",
       "  <th>job_student</th>                   <td>    0.2018</td> <td>    0.111</td> <td>    1.811</td> <td> 0.070</td> <td>   -0.017     0.420</td>\n",
       "</tr>\n",
       "<tr>\n",
       "  <th>job_technician</th>                <td>   -0.0148</td> <td>    0.071</td> <td>   -0.207</td> <td> 0.836</td> <td>   -0.154     0.125</td>\n",
       "</tr>\n",
       "<tr>\n",
       "  <th>job_unemployed</th>                <td>    0.0170</td> <td>    0.127</td> <td>    0.133</td> <td> 0.894</td> <td>   -0.233     0.267</td>\n",
       "</tr>\n",
       "<tr>\n",
       "  <th>job_unknown</th>                   <td>   -0.0680</td> <td>    0.246</td> <td>   -0.277</td> <td> 0.782</td> <td>   -0.550     0.414</td>\n",
       "</tr>\n",
       "<tr>\n",
       "  <th>marital_married</th>               <td>   -0.0017</td> <td>    0.069</td> <td>   -0.024</td> <td> 0.981</td> <td>   -0.136     0.133</td>\n",
       "</tr>\n",
       "<tr>\n",
       "  <th>marital_single</th>                <td>    0.0550</td> <td>    0.078</td> <td>    0.703</td> <td> 0.482</td> <td>   -0.098     0.208</td>\n",
       "</tr>\n",
       "<tr>\n",
       "  <th>marital_unknown</th>               <td>    0.0325</td> <td>    0.417</td> <td>    0.078</td> <td> 0.938</td> <td>   -0.784     0.849</td>\n",
       "</tr>\n",
       "<tr>\n",
       "  <th>education_High School</th>         <td>    0.0274</td> <td>    0.069</td> <td>    0.396</td> <td> 0.692</td> <td>   -0.108     0.163</td>\n",
       "</tr>\n",
       "<tr>\n",
       "  <th>education_No education</th>        <td>    1.0467</td> <td>    0.753</td> <td>    1.390</td> <td> 0.165</td> <td>   -0.429     2.523</td>\n",
       "</tr>\n",
       "<tr>\n",
       "  <th>education_Professional Course</th> <td>    0.0951</td> <td>    0.083</td> <td>    1.149</td> <td> 0.251</td> <td>   -0.067     0.257</td>\n",
       "</tr>\n",
       "<tr>\n",
       "  <th>education_University Degree</th>   <td>    0.1758</td> <td>    0.070</td> <td>    2.525</td> <td> 0.012</td> <td>    0.039     0.312</td>\n",
       "</tr>\n",
       "<tr>\n",
       "  <th>education_Unknown</th>             <td>    0.1295</td> <td>    0.105</td> <td>    1.238</td> <td> 0.216</td> <td>   -0.076     0.335</td>\n",
       "</tr>\n",
       "<tr>\n",
       "  <th>loan_default_unknown</th>          <td>   -0.2979</td> <td>    0.068</td> <td>   -4.393</td> <td> 0.000</td> <td>   -0.431    -0.165</td>\n",
       "</tr>\n",
       "<tr>\n",
       "  <th>loan_default_yes</th>              <td>  -19.6642</td> <td> 9.07e+04</td> <td>   -0.000</td> <td> 1.000</td> <td>-1.78e+05  1.78e+05</td>\n",
       "</tr>\n",
       "<tr>\n",
       "  <th>housing_loan_unknown</th>          <td>   -0.0468</td> <td>      nan</td> <td>      nan</td> <td>   nan</td> <td>      nan       nan</td>\n",
       "</tr>\n",
       "<tr>\n",
       "  <th>housing_loan_yes</th>              <td>   -0.0049</td> <td>    0.041</td> <td>   -0.118</td> <td> 0.906</td> <td>   -0.086     0.076</td>\n",
       "</tr>\n",
       "<tr>\n",
       "  <th>personal_loan_unknown</th>         <td>   -0.0468</td> <td>      nan</td> <td>      nan</td> <td>   nan</td> <td>      nan       nan</td>\n",
       "</tr>\n",
       "<tr>\n",
       "  <th>personal_loan_yes</th>             <td>   -0.0521</td> <td>      nan</td> <td>      nan</td> <td>   nan</td> <td>      nan       nan</td>\n",
       "</tr>\n",
       "<tr>\n",
       "  <th>contact_type_telephone</th>        <td>   -0.6450</td> <td>    0.083</td> <td>   -7.782</td> <td> 0.000</td> <td>   -0.807    -0.483</td>\n",
       "</tr>\n",
       "<tr>\n",
       "  <th>month_aug</th>                     <td>    0.8646</td> <td>    0.135</td> <td>    6.398</td> <td> 0.000</td> <td>    0.600     1.129</td>\n",
       "</tr>\n",
       "<tr>\n",
       "  <th>month_dec</th>                     <td>    0.3165</td> <td>    0.239</td> <td>    1.324</td> <td> 0.185</td> <td>   -0.152     0.785</td>\n",
       "</tr>\n",
       "<tr>\n",
       "  <th>month_jul</th>                     <td>    0.1351</td> <td>    0.095</td> <td>    1.415</td> <td> 0.157</td> <td>   -0.052     0.322</td>\n",
       "</tr>\n",
       "<tr>\n",
       "  <th>month_jun</th>                     <td>   -0.5233</td> <td>    0.085</td> <td>   -6.133</td> <td> 0.000</td> <td>   -0.690    -0.356</td>\n",
       "</tr>\n",
       "<tr>\n",
       "  <th>month_mar</th>                     <td>    2.0131</td> <td>    0.162</td> <td>   12.405</td> <td> 0.000</td> <td>    1.695     2.331</td>\n",
       "</tr>\n",
       "<tr>\n",
       "  <th>month_may</th>                     <td>   -0.4437</td> <td>    0.092</td> <td>   -4.816</td> <td> 0.000</td> <td>   -0.624    -0.263</td>\n",
       "</tr>\n",
       "<tr>\n",
       "  <th>month_nov</th>                     <td>   -0.4178</td> <td>    0.142</td> <td>   -2.933</td> <td> 0.003</td> <td>   -0.697    -0.139</td>\n",
       "</tr>\n",
       "<tr>\n",
       "  <th>month_oct</th>                     <td>    0.1946</td> <td>    0.175</td> <td>    1.109</td> <td> 0.267</td> <td>   -0.149     0.538</td>\n",
       "</tr>\n",
       "<tr>\n",
       "  <th>month_sep</th>                     <td>    0.3753</td> <td>    0.202</td> <td>    1.858</td> <td> 0.063</td> <td>   -0.021     0.771</td>\n",
       "</tr>\n",
       "<tr>\n",
       "  <th>day_of_week_mon</th>               <td>   -0.1176</td> <td>    0.066</td> <td>   -1.779</td> <td> 0.075</td> <td>   -0.247     0.012</td>\n",
       "</tr>\n",
       "<tr>\n",
       "  <th>day_of_week_thu</th>               <td>    0.0563</td> <td>    0.063</td> <td>    0.888</td> <td> 0.375</td> <td>   -0.068     0.180</td>\n",
       "</tr>\n",
       "<tr>\n",
       "  <th>day_of_week_tue</th>               <td>    0.0971</td> <td>    0.066</td> <td>    1.475</td> <td> 0.140</td> <td>   -0.032     0.226</td>\n",
       "</tr>\n",
       "<tr>\n",
       "  <th>day_of_week_wed</th>               <td>    0.1753</td> <td>    0.066</td> <td>    2.670</td> <td> 0.008</td> <td>    0.047     0.304</td>\n",
       "</tr>\n",
       "<tr>\n",
       "  <th>poutcome_nonexistent</th>          <td>    0.4263</td> <td>    0.094</td> <td>    4.516</td> <td> 0.000</td> <td>    0.241     0.611</td>\n",
       "</tr>\n",
       "<tr>\n",
       "  <th>poutcome_success</th>              <td>    0.9603</td> <td>    0.205</td> <td>    4.686</td> <td> 0.000</td> <td>    0.559     1.362</td>\n",
       "</tr>\n",
       "<tr>\n",
       "  <th>intercept</th>                     <td> -236.3040</td> <td>   38.731</td> <td>   -6.101</td> <td> 0.000</td> <td> -312.215  -160.393</td>\n",
       "</tr>\n",
       "</table>"
      ],
      "text/plain": [
       "<class 'statsmodels.iolib.summary.Summary'>\n",
       "\"\"\"\n",
       "                           Logit Regression Results                           \n",
       "==============================================================================\n",
       "Dep. Variable:                      y   No. Observations:                41188\n",
       "Model:                          Logit   Df Residuals:                    41137\n",
       "Method:                           MLE   Df Model:                           50\n",
       "Date:                Sat, 27 May 2017   Pseudo R-squ.:                  0.4110\n",
       "Time:                        22:34:31   Log-Likelihood:                -8539.6\n",
       "converged:                      False   LL-Null:                       -14499.\n",
       "                                        LLR p-value:                     0.000\n",
       "=================================================================================================\n",
       "                                    coef    std err          z      P>|z|      [95.0% Conf. Int.]\n",
       "-------------------------------------------------------------------------------------------------\n",
       "age                            9.896e-05      0.002      0.047      0.963        -0.004     0.004\n",
       "call_duration                     0.0047   7.37e-05     63.897      0.000         0.005     0.005\n",
       "campaign_calls                   -0.0402      0.012     -3.324      0.001        -0.064    -0.016\n",
       "pdays                            -0.0009      0.000     -4.863      0.000        -0.001    -0.001\n",
       "previous_calls                   -0.0624      0.058     -1.070      0.285        -0.177     0.052\n",
       "emp.var.rate                     -1.7570      0.125    -14.042      0.000        -2.002    -1.512\n",
       "consumer_price_idx                2.1881      0.249      8.790      0.000         1.700     2.676\n",
       "consumer_conf_idx                 0.0206      0.006      3.285      0.001         0.008     0.033\n",
       "euribor3m                         0.3318      0.136      2.431      0.015         0.064     0.599\n",
       "nr.employed                       0.0054      0.003      1.641      0.101        -0.001     0.012\n",
       "job_blue-collar                  -0.2331      0.080     -2.919      0.004        -0.390    -0.077\n",
       "job_entrepreneur                 -0.1782      0.126     -1.415      0.157        -0.425     0.069\n",
       "job_housemaid                    -0.0287      0.146     -0.197      0.844        -0.314     0.257\n",
       "job_management                   -0.0557      0.085     -0.652      0.515        -0.223     0.112\n",
       "job_retired                       0.2827      0.105      2.693      0.007         0.077     0.488\n",
       "job_self-employed                -0.1606      0.118     -1.365      0.172        -0.391     0.070\n",
       "job_services                     -0.1361      0.086     -1.576      0.115        -0.305     0.033\n",
       "job_student                       0.2018      0.111      1.811      0.070        -0.017     0.420\n",
       "job_technician                   -0.0148      0.071     -0.207      0.836        -0.154     0.125\n",
       "job_unemployed                    0.0170      0.127      0.133      0.894        -0.233     0.267\n",
       "job_unknown                      -0.0680      0.246     -0.277      0.782        -0.550     0.414\n",
       "marital_married                  -0.0017      0.069     -0.024      0.981        -0.136     0.133\n",
       "marital_single                    0.0550      0.078      0.703      0.482        -0.098     0.208\n",
       "marital_unknown                   0.0325      0.417      0.078      0.938        -0.784     0.849\n",
       "education_High School             0.0274      0.069      0.396      0.692        -0.108     0.163\n",
       "education_No education            1.0467      0.753      1.390      0.165        -0.429     2.523\n",
       "education_Professional Course     0.0951      0.083      1.149      0.251        -0.067     0.257\n",
       "education_University Degree       0.1758      0.070      2.525      0.012         0.039     0.312\n",
       "education_Unknown                 0.1295      0.105      1.238      0.216        -0.076     0.335\n",
       "loan_default_unknown             -0.2979      0.068     -4.393      0.000        -0.431    -0.165\n",
       "loan_default_yes                -19.6642   9.07e+04     -0.000      1.000     -1.78e+05  1.78e+05\n",
       "housing_loan_unknown             -0.0468        nan        nan        nan           nan       nan\n",
       "housing_loan_yes                 -0.0049      0.041     -0.118      0.906        -0.086     0.076\n",
       "personal_loan_unknown            -0.0468        nan        nan        nan           nan       nan\n",
       "personal_loan_yes                -0.0521        nan        nan        nan           nan       nan\n",
       "contact_type_telephone           -0.6450      0.083     -7.782      0.000        -0.807    -0.483\n",
       "month_aug                         0.8646      0.135      6.398      0.000         0.600     1.129\n",
       "month_dec                         0.3165      0.239      1.324      0.185        -0.152     0.785\n",
       "month_jul                         0.1351      0.095      1.415      0.157        -0.052     0.322\n",
       "month_jun                        -0.5233      0.085     -6.133      0.000        -0.690    -0.356\n",
       "month_mar                         2.0131      0.162     12.405      0.000         1.695     2.331\n",
       "month_may                        -0.4437      0.092     -4.816      0.000        -0.624    -0.263\n",
       "month_nov                        -0.4178      0.142     -2.933      0.003        -0.697    -0.139\n",
       "month_oct                         0.1946      0.175      1.109      0.267        -0.149     0.538\n",
       "month_sep                         0.3753      0.202      1.858      0.063        -0.021     0.771\n",
       "day_of_week_mon                  -0.1176      0.066     -1.779      0.075        -0.247     0.012\n",
       "day_of_week_thu                   0.0563      0.063      0.888      0.375        -0.068     0.180\n",
       "day_of_week_tue                   0.0971      0.066      1.475      0.140        -0.032     0.226\n",
       "day_of_week_wed                   0.1753      0.066      2.670      0.008         0.047     0.304\n",
       "poutcome_nonexistent              0.4263      0.094      4.516      0.000         0.241     0.611\n",
       "poutcome_success                  0.9603      0.205      4.686      0.000         0.559     1.362\n",
       "intercept                      -236.3040     38.731     -6.101      0.000      -312.215  -160.393\n",
       "=================================================================================================\n",
       "\"\"\""
      ]
     },
     "execution_count": 24,
     "metadata": {},
     "output_type": "execute_result"
    }
   ],
   "source": [
    "logit_model=sm.Logit(Y1,X1)\n",
    "result=logit_model.fit()\n",
    "result.summary()"
   ]
  },
  {
   "cell_type": "code",
   "execution_count": 31,
   "metadata": {
    "collapsed": false
   },
   "outputs": [],
   "source": [
    "# Feature Selection using Random Forest\n",
    "clf = RandomForestClassifier(n_estimators=10)\n",
    "clf = clf.fit(X1, a)"
   ]
  },
  {
   "cell_type": "code",
   "execution_count": 32,
   "metadata": {
    "collapsed": false
   },
   "outputs": [
    {
     "data": {
      "text/plain": [
       "array([  9.00832711e-02,   3.01288779e-01,   4.23912853e-02,\n",
       "         2.11820483e-02,   2.22544390e-02,   1.98453835e-02,\n",
       "         3.13590254e-02,   2.15394359e-02,   1.19071085e-01,\n",
       "         2.38596324e-02,   9.93566577e-03,   4.39808424e-03,\n",
       "         3.49918768e-03,   7.16620916e-03,   5.85825729e-03,\n",
       "         4.62219030e-03,   7.35577002e-03,   5.07374354e-03,\n",
       "         1.17997200e-02,   4.08362296e-03,   1.77701963e-03,\n",
       "         1.33428780e-02,   1.12702697e-02,   6.65149860e-04,\n",
       "         1.29984775e-02,   2.23209296e-04,   9.28580724e-03,\n",
       "         1.38525263e-02,   5.70794828e-03,   8.29609628e-03,\n",
       "         0.00000000e+00,   2.62893489e-03,   1.91132090e-02,\n",
       "         2.35634493e-03,   1.28450090e-02,   1.16817524e-02,\n",
       "         2.30623070e-03,   4.70687864e-04,   2.30976910e-03,\n",
       "         2.10102086e-03,   6.40303295e-03,   6.19615266e-03,\n",
       "         2.02514690e-03,   5.88182129e-03,   1.77908639e-03,\n",
       "         1.15199722e-02,   1.14926153e-02,   1.18367781e-02,\n",
       "         1.14516652e-02,   1.29418211e-02,   2.85727313e-02,\n",
       "         0.00000000e+00])"
      ]
     },
     "execution_count": 32,
     "metadata": {},
     "output_type": "execute_result"
    }
   ],
   "source": [
    "feature_imp = clf.feature_importances_\n",
    "feature_imp"
   ]
  },
  {
   "cell_type": "code",
   "execution_count": 36,
   "metadata": {
    "collapsed": false
   },
   "outputs": [
    {
     "data": {
      "text/plain": [
       "[('age', 0.090083271054776135),\n",
       " ('call_duration', 0.30128877864827047),\n",
       " ('campaign_calls', 0.042391285345015642),\n",
       " ('pdays', 0.021182048281530287),\n",
       " ('previous_calls', 0.02225443903401373),\n",
       " ('emp.var.rate', 0.019845383527815882),\n",
       " ('consumer_price_idx', 0.031359025427970075),\n",
       " ('consumer_conf_idx', 0.021539435880771056),\n",
       " ('euribor3m', 0.1190710851401869),\n",
       " ('nr.employed', 0.023859632389114295),\n",
       " ('job_blue-collar', 0.0099356657669421224),\n",
       " ('job_entrepreneur', 0.0043980842434950158),\n",
       " ('job_housemaid', 0.0034991876825529724),\n",
       " ('job_management', 0.0071662091610817033),\n",
       " ('job_retired', 0.0058582572864822081),\n",
       " ('job_self-employed', 0.0046221902964337864),\n",
       " ('job_services', 0.0073557700176625843),\n",
       " ('job_student', 0.005073743544166333),\n",
       " ('job_technician', 0.011799719965300385),\n",
       " ('job_unemployed', 0.0040836229608875825),\n",
       " ('job_unknown', 0.0017770196257239693),\n",
       " ('marital_married', 0.013342877994425392),\n",
       " ('marital_single', 0.011270269651059534),\n",
       " ('marital_unknown', 0.000665149860094354),\n",
       " ('education_High School', 0.012998477512421586),\n",
       " ('education_No education', 0.00022320929626379701),\n",
       " ('education_Professional Course', 0.0092858072379730736),\n",
       " ('education_University Degree', 0.01385252633594479),\n",
       " ('education_Unknown', 0.0057079482786196985),\n",
       " ('loan_default_unknown', 0.0082960962799017435),\n",
       " ('loan_default_yes', 0.0),\n",
       " ('housing_loan_unknown', 0.0026289348887454274),\n",
       " ('housing_loan_yes', 0.019113209038800573),\n",
       " ('personal_loan_unknown', 0.0023563449331117049),\n",
       " ('personal_loan_yes', 0.012845009007153099),\n",
       " ('contact_type_telephone', 0.011681752426075269),\n",
       " ('month_aug', 0.0023062307029804384),\n",
       " ('month_dec', 0.00047068786361547949),\n",
       " ('month_jul', 0.0023097691032959002),\n",
       " ('month_jun', 0.0021010208613480323),\n",
       " ('month_mar', 0.0064030329465833719),\n",
       " ('month_may', 0.0061961526619963968),\n",
       " ('month_nov', 0.0020251468987216351),\n",
       " ('month_oct', 0.0058818212932142322),\n",
       " ('month_sep', 0.0017790863916579147),\n",
       " ('day_of_week_mon', 0.01151997224141578),\n",
       " ('day_of_week_thu', 0.011492615340780669),\n",
       " ('day_of_week_tue', 0.011836778068287427),\n",
       " ('day_of_week_wed', 0.011451665199736987),\n",
       " ('poutcome_nonexistent', 0.01294182106318632),\n",
       " ('poutcome_success', 0.028572731342396174),\n",
       " ('intercept', 0.0)]"
      ]
     },
     "execution_count": 36,
     "metadata": {},
     "output_type": "execute_result"
    }
   ],
   "source": [
    "list_feature_imp = list(zip(X,feature_imp))\n",
    "list_feature_imp"
   ]
  },
  {
   "cell_type": "code",
   "execution_count": 34,
   "metadata": {
    "collapsed": false
   },
   "outputs": [
    {
     "data": {
      "text/plain": [
       "[('call_duration', 0.30128877864827047),\n",
       " ('euribor3m', 0.1190710851401869),\n",
       " ('age', 0.090083271054776135),\n",
       " ('campaign_calls', 0.042391285345015642),\n",
       " ('consumer_price_idx', 0.031359025427970075),\n",
       " ('poutcome_success', 0.028572731342396174),\n",
       " ('nr.employed', 0.023859632389114295),\n",
       " ('previous_calls', 0.02225443903401373),\n",
       " ('consumer_conf_idx', 0.021539435880771056),\n",
       " ('pdays', 0.021182048281530287),\n",
       " ('emp.var.rate', 0.019845383527815882),\n",
       " ('housing_loan_yes', 0.019113209038800573),\n",
       " ('education_University Degree', 0.01385252633594479),\n",
       " ('marital_married', 0.013342877994425392),\n",
       " ('education_High School', 0.012998477512421586),\n",
       " ('poutcome_nonexistent', 0.01294182106318632),\n",
       " ('personal_loan_yes', 0.012845009007153099),\n",
       " ('day_of_week_tue', 0.011836778068287427),\n",
       " ('job_technician', 0.011799719965300385),\n",
       " ('contact_type_telephone', 0.011681752426075269),\n",
       " ('day_of_week_mon', 0.01151997224141578),\n",
       " ('day_of_week_thu', 0.011492615340780669),\n",
       " ('day_of_week_wed', 0.011451665199736987),\n",
       " ('marital_single', 0.011270269651059534),\n",
       " ('job_blue-collar', 0.0099356657669421224),\n",
       " ('education_Professional Course', 0.0092858072379730736),\n",
       " ('loan_default_unknown', 0.0082960962799017435),\n",
       " ('job_services', 0.0073557700176625843),\n",
       " ('job_management', 0.0071662091610817033),\n",
       " ('month_mar', 0.0064030329465833719),\n",
       " ('month_may', 0.0061961526619963968),\n",
       " ('month_oct', 0.0058818212932142322),\n",
       " ('job_retired', 0.0058582572864822081),\n",
       " ('education_Unknown', 0.0057079482786196985),\n",
       " ('job_student', 0.005073743544166333),\n",
       " ('job_self-employed', 0.0046221902964337864),\n",
       " ('job_entrepreneur', 0.0043980842434950158),\n",
       " ('job_unemployed', 0.0040836229608875825),\n",
       " ('job_housemaid', 0.0034991876825529724),\n",
       " ('housing_loan_unknown', 0.0026289348887454274),\n",
       " ('personal_loan_unknown', 0.0023563449331117049),\n",
       " ('month_jul', 0.0023097691032959002),\n",
       " ('month_aug', 0.0023062307029804384),\n",
       " ('month_jun', 0.0021010208613480323),\n",
       " ('month_nov', 0.0020251468987216351),\n",
       " ('month_sep', 0.0017790863916579147),\n",
       " ('job_unknown', 0.0017770196257239693),\n",
       " ('marital_unknown', 0.000665149860094354),\n",
       " ('month_dec', 0.00047068786361547949),\n",
       " ('education_No education', 0.00022320929626379701),\n",
       " ('loan_default_yes', 0.0),\n",
       " ('intercept', 0.0)]"
      ]
     },
     "execution_count": 34,
     "metadata": {},
     "output_type": "execute_result"
    }
   ],
   "source": [
    "# Sorted List\n",
    "sorted(list_feature_imp,key = lambda x:x[1],reverse= True)"
   ]
  },
  {
   "cell_type": "code",
   "execution_count": 35,
   "metadata": {
    "collapsed": false
   },
   "outputs": [
    {
     "data": {
      "text/plain": [
       "(0, 2000)"
      ]
     },
     "execution_count": 35,
     "metadata": {},
     "output_type": "execute_result"
    },
    {
     "data": {
      "image/png": "[encoded data removed]",
      "text/plain": [
       "<matplotlib.figure.Figure at 0x1185ff358>"
      ]
     },
     "metadata": {},
     "output_type": "display_data"
    }
   ],
   "source": [
    "plt.hist(bank.call_duration,50)\n",
    "plt.xlim(0,2000)"
   ]
  },
  {
   "cell_type": "code",
   "execution_count": 48,
   "metadata": {
    "collapsed": false
   },
   "outputs": [
    {
     "data": {
      "text/plain": [
       "array([0, 0, 0, ..., 0, 1, 0])"
      ]
     },
     "execution_count": 48,
     "metadata": {},
     "output_type": "execute_result"
    }
   ],
   "source": [
    "bank_final_vars=bank_final.columns.values.tolist()\n",
    "Y=['y']\n",
    "X=['intercept','call_duration',\n",
    " 'euribor3m',\n",
    " 'age',\n",
    " 'campaign_calls',\n",
    " 'consumer_price_idx',\n",
    " 'poutcome_success',\n",
    " 'nr.employed',\n",
    " 'previous_calls',\n",
    " 'consumer_conf_idx',\n",
    " 'pdays',\n",
    " 'emp.var.rate',\n",
    " 'housing_loan_yes',\n",
    " 'education_University Degree',\n",
    " 'marital_married',\n",
    " 'education_High School',\n",
    " 'poutcome_nonexistent',\n",
    " 'personal_loan_yes',\n",
    " 'day_of_week_tue',\n",
    " 'job_technician',\n",
    "'contact_type_telephone',\n",
    " 'day_of_week_mon',\n",
    " 'day_of_week_thu',\n",
    " 'day_of_week_wed',\n",
    " 'marital_single',\n",
    "   \n",
    "   'job_blue-collar',\n",
    " 'education_Professional Course',\n",
    " 'loan_default_unknown', \n",
    " 'job_services', \n",
    " 'job_management', \n",
    " 'month_mar', \n",
    " 'month_may', \n",
    " 'month_oct', \n",
    " 'job_retired',\n",
    " 'education_Unknown', \n",
    " 'job_student', \n",
    "]\n",
    "X1=bank_final[X]\n",
    "Y1=bank_final[Y]\n",
    "a = np.ravel(Y1)\n",
    "a\n"
   ]
  },
  {
   "cell_type": "code",
   "execution_count": 49,
   "metadata": {
    "collapsed": false
   },
   "outputs": [
    {
     "name": "stdout",
     "output_type": "stream",
     "text": [
      "Optimization terminated successfully.\n",
      "         Current function value: 0.208952\n",
      "         Iterations 9\n"
     ]
    },
    {
     "data": {
      "text/html": [
       "<table class=\"simpletable\">\n",
       "<caption>Logit Regression Results</caption>\n",
       "<tr>\n",
       "  <th>Dep. Variable:</th>         <td>y</td>        <th>  No. Observations:  </th>  <td> 41188</td> \n",
       "</tr>\n",
       "<tr>\n",
       "  <th>Model:</th>               <td>Logit</td>      <th>  Df Residuals:      </th>  <td> 41152</td> \n",
       "</tr>\n",
       "<tr>\n",
       "  <th>Method:</th>               <td>MLE</td>       <th>  Df Model:          </th>  <td>    35</td> \n",
       "</tr>\n",
       "<tr>\n",
       "  <th>Date:</th>          <td>Sun, 28 May 2017</td> <th>  Pseudo R-squ.:     </th>  <td>0.4064</td> \n",
       "</tr>\n",
       "<tr>\n",
       "  <th>Time:</th>              <td>10:16:34</td>     <th>  Log-Likelihood:    </th> <td> -8606.3</td>\n",
       "</tr>\n",
       "<tr>\n",
       "  <th>converged:</th>           <td>True</td>       <th>  LL-Null:           </th> <td> -14499.</td>\n",
       "</tr>\n",
       "<tr>\n",
       "  <th> </th>                      <td> </td>        <th>  LLR p-value:       </th>  <td> 0.000</td> \n",
       "</tr>\n",
       "</table>\n",
       "<table class=\"simpletable\">\n",
       "<tr>\n",
       "                <td></td>                   <th>coef</th>     <th>std err</th>      <th>z</th>      <th>P>|z|</th> <th>[95.0% Conf. Int.]</th> \n",
       "</tr>\n",
       "<tr>\n",
       "  <th>intercept</th>                     <td> -107.3871</td> <td>   17.876</td> <td>   -6.007</td> <td> 0.000</td> <td> -142.423   -72.351</td>\n",
       "</tr>\n",
       "<tr>\n",
       "  <th>call_duration</th>                 <td>    0.0047</td> <td>  7.4e-05</td> <td>   63.087</td> <td> 0.000</td> <td>    0.005     0.005</td>\n",
       "</tr>\n",
       "<tr>\n",
       "  <th>euribor3m</th>                     <td>   -0.1355</td> <td>    0.089</td> <td>   -1.523</td> <td> 0.128</td> <td>   -0.310     0.039</td>\n",
       "</tr>\n",
       "<tr>\n",
       "  <th>age</th>                           <td>    0.0004</td> <td>    0.002</td> <td>    0.167</td> <td> 0.867</td> <td>   -0.004     0.005</td>\n",
       "</tr>\n",
       "<tr>\n",
       "  <th>campaign_calls</th>                <td>   -0.0384</td> <td>    0.011</td> <td>   -3.343</td> <td> 0.001</td> <td>   -0.061    -0.016</td>\n",
       "</tr>\n",
       "<tr>\n",
       "  <th>consumer_price_idx</th>            <td>    1.1076</td> <td>    0.118</td> <td>    9.351</td> <td> 0.000</td> <td>    0.875     1.340</td>\n",
       "</tr>\n",
       "<tr>\n",
       "  <th>poutcome_success</th>              <td>    0.9324</td> <td>    0.210</td> <td>    4.436</td> <td> 0.000</td> <td>    0.520     1.344</td>\n",
       "</tr>\n",
       "<tr>\n",
       "  <th>nr.employed</th>                   <td>    0.0005</td> <td>    0.002</td> <td>    0.322</td> <td> 0.748</td> <td>   -0.003     0.004</td>\n",
       "</tr>\n",
       "<tr>\n",
       "  <th>previous_calls</th>                <td>   -0.0403</td> <td>    0.059</td> <td>   -0.687</td> <td> 0.492</td> <td>   -0.155     0.075</td>\n",
       "</tr>\n",
       "<tr>\n",
       "  <th>consumer_conf_idx</th>             <td>    0.0419</td> <td>    0.006</td> <td>    6.822</td> <td> 0.000</td> <td>    0.030     0.054</td>\n",
       "</tr>\n",
       "<tr>\n",
       "  <th>pdays</th>                         <td>   -0.0010</td> <td>    0.000</td> <td>   -4.547</td> <td> 0.000</td> <td>   -0.001    -0.001</td>\n",
       "</tr>\n",
       "<tr>\n",
       "  <th>emp.var.rate</th>                  <td>   -0.7592</td> <td>    0.076</td> <td>   -9.980</td> <td> 0.000</td> <td>   -0.908    -0.610</td>\n",
       "</tr>\n",
       "<tr>\n",
       "  <th>housing_loan_yes</th>              <td>   -0.0042</td> <td>    0.041</td> <td>   -0.103</td> <td> 0.918</td> <td>   -0.084     0.075</td>\n",
       "</tr>\n",
       "<tr>\n",
       "  <th>education_University Degree</th>   <td>    0.1925</td> <td>    0.067</td> <td>    2.869</td> <td> 0.004</td> <td>    0.061     0.324</td>\n",
       "</tr>\n",
       "<tr>\n",
       "  <th>marital_married</th>               <td>    0.0097</td> <td>    0.068</td> <td>    0.143</td> <td> 0.886</td> <td>   -0.123     0.142</td>\n",
       "</tr>\n",
       "<tr>\n",
       "  <th>education_High School</th>         <td>    0.0362</td> <td>    0.067</td> <td>    0.537</td> <td> 0.591</td> <td>   -0.096     0.168</td>\n",
       "</tr>\n",
       "<tr>\n",
       "  <th>poutcome_nonexistent</th>          <td>    0.4812</td> <td>    0.093</td> <td>    5.149</td> <td> 0.000</td> <td>    0.298     0.664</td>\n",
       "</tr>\n",
       "<tr>\n",
       "  <th>personal_loan_yes</th>             <td>   -0.0525</td> <td>    0.057</td> <td>   -0.920</td> <td> 0.358</td> <td>   -0.164     0.059</td>\n",
       "</tr>\n",
       "<tr>\n",
       "  <th>day_of_week_tue</th>               <td>    0.1008</td> <td>    0.065</td> <td>    1.544</td> <td> 0.123</td> <td>   -0.027     0.229</td>\n",
       "</tr>\n",
       "<tr>\n",
       "  <th>job_technician</th>                <td>    0.0264</td> <td>    0.067</td> <td>    0.397</td> <td> 0.691</td> <td>   -0.104     0.157</td>\n",
       "</tr>\n",
       "<tr>\n",
       "  <th>contact_type_telephone</th>        <td>   -0.5970</td> <td>    0.071</td> <td>   -8.457</td> <td> 0.000</td> <td>   -0.735    -0.459</td>\n",
       "</tr>\n",
       "<tr>\n",
       "  <th>day_of_week_mon</th>               <td>   -0.1255</td> <td>    0.066</td> <td>   -1.908</td> <td> 0.056</td> <td>   -0.254     0.003</td>\n",
       "</tr>\n",
       "<tr>\n",
       "  <th>day_of_week_thu</th>               <td>    0.0400</td> <td>    0.064</td> <td>    0.627</td> <td> 0.530</td> <td>   -0.085     0.165</td>\n",
       "</tr>\n",
       "<tr>\n",
       "  <th>day_of_week_wed</th>               <td>    0.1606</td> <td>    0.065</td> <td>    2.462</td> <td> 0.014</td> <td>    0.033     0.289</td>\n",
       "</tr>\n",
       "<tr>\n",
       "  <th>marital_single</th>                <td>    0.0751</td> <td>    0.077</td> <td>    0.974</td> <td> 0.330</td> <td>   -0.076     0.226</td>\n",
       "</tr>\n",
       "<tr>\n",
       "  <th>job_blue-collar</th>               <td>   -0.2131</td> <td>    0.073</td> <td>   -2.920</td> <td> 0.003</td> <td>   -0.356    -0.070</td>\n",
       "</tr>\n",
       "<tr>\n",
       "  <th>education_Professional Course</th> <td>    0.0897</td> <td>    0.082</td> <td>    1.099</td> <td> 0.272</td> <td>   -0.070     0.250</td>\n",
       "</tr>\n",
       "<tr>\n",
       "  <th>loan_default_unknown</th>          <td>   -0.2980</td> <td>    0.067</td> <td>   -4.448</td> <td> 0.000</td> <td>   -0.429    -0.167</td>\n",
       "</tr>\n",
       "<tr>\n",
       "  <th>job_services</th>                  <td>   -0.1155</td> <td>    0.083</td> <td>   -1.398</td> <td> 0.162</td> <td>   -0.277     0.046</td>\n",
       "</tr>\n",
       "<tr>\n",
       "  <th>job_management</th>                <td>   -0.0620</td> <td>    0.082</td> <td>   -0.756</td> <td> 0.450</td> <td>   -0.223     0.099</td>\n",
       "</tr>\n",
       "<tr>\n",
       "  <th>month_mar</th>                     <td>    1.6081</td> <td>    0.114</td> <td>   14.124</td> <td> 0.000</td> <td>    1.385     1.831</td>\n",
       "</tr>\n",
       "<tr>\n",
       "  <th>month_may</th>                     <td>   -0.6515</td> <td>    0.059</td> <td>  -11.132</td> <td> 0.000</td> <td>   -0.766    -0.537</td>\n",
       "</tr>\n",
       "<tr>\n",
       "  <th>month_oct</th>                     <td>    0.0845</td> <td>    0.105</td> <td>    0.808</td> <td> 0.419</td> <td>   -0.120     0.289</td>\n",
       "</tr>\n",
       "<tr>\n",
       "  <th>job_retired</th>                   <td>    0.3545</td> <td>    0.100</td> <td>    3.534</td> <td> 0.000</td> <td>    0.158     0.551</td>\n",
       "</tr>\n",
       "<tr>\n",
       "  <th>education_Unknown</th>             <td>    0.1371</td> <td>    0.104</td> <td>    1.321</td> <td> 0.186</td> <td>   -0.066     0.340</td>\n",
       "</tr>\n",
       "<tr>\n",
       "  <th>job_student</th>                   <td>    0.2781</td> <td>    0.109</td> <td>    2.553</td> <td> 0.011</td> <td>    0.065     0.492</td>\n",
       "</tr>\n",
       "</table>"
      ],
      "text/plain": [
       "<class 'statsmodels.iolib.summary.Summary'>\n",
       "\"\"\"\n",
       "                           Logit Regression Results                           \n",
       "==============================================================================\n",
       "Dep. Variable:                      y   No. Observations:                41188\n",
       "Model:                          Logit   Df Residuals:                    41152\n",
       "Method:                           MLE   Df Model:                           35\n",
       "Date:                Sun, 28 May 2017   Pseudo R-squ.:                  0.4064\n",
       "Time:                        10:16:34   Log-Likelihood:                -8606.3\n",
       "converged:                       True   LL-Null:                       -14499.\n",
       "                                        LLR p-value:                     0.000\n",
       "=================================================================================================\n",
       "                                    coef    std err          z      P>|z|      [95.0% Conf. Int.]\n",
       "-------------------------------------------------------------------------------------------------\n",
       "intercept                      -107.3871     17.876     -6.007      0.000      -142.423   -72.351\n",
       "call_duration                     0.0047    7.4e-05     63.087      0.000         0.005     0.005\n",
       "euribor3m                        -0.1355      0.089     -1.523      0.128        -0.310     0.039\n",
       "age                               0.0004      0.002      0.167      0.867        -0.004     0.005\n",
       "campaign_calls                   -0.0384      0.011     -3.343      0.001        -0.061    -0.016\n",
       "consumer_price_idx                1.1076      0.118      9.351      0.000         0.875     1.340\n",
       "poutcome_success                  0.9324      0.210      4.436      0.000         0.520     1.344\n",
       "nr.employed                       0.0005      0.002      0.322      0.748        -0.003     0.004\n",
       "previous_calls                   -0.0403      0.059     -0.687      0.492        -0.155     0.075\n",
       "consumer_conf_idx                 0.0419      0.006      6.822      0.000         0.030     0.054\n",
       "pdays                            -0.0010      0.000     -4.547      0.000        -0.001    -0.001\n",
       "emp.var.rate                     -0.7592      0.076     -9.980      0.000        -0.908    -0.610\n",
       "housing_loan_yes                 -0.0042      0.041     -0.103      0.918        -0.084     0.075\n",
       "education_University Degree       0.1925      0.067      2.869      0.004         0.061     0.324\n",
       "marital_married                   0.0097      0.068      0.143      0.886        -0.123     0.142\n",
       "education_High School             0.0362      0.067      0.537      0.591        -0.096     0.168\n",
       "poutcome_nonexistent              0.4812      0.093      5.149      0.000         0.298     0.664\n",
       "personal_loan_yes                -0.0525      0.057     -0.920      0.358        -0.164     0.059\n",
       "day_of_week_tue                   0.1008      0.065      1.544      0.123        -0.027     0.229\n",
       "job_technician                    0.0264      0.067      0.397      0.691        -0.104     0.157\n",
       "contact_type_telephone           -0.5970      0.071     -8.457      0.000        -0.735    -0.459\n",
       "day_of_week_mon                  -0.1255      0.066     -1.908      0.056        -0.254     0.003\n",
       "day_of_week_thu                   0.0400      0.064      0.627      0.530        -0.085     0.165\n",
       "day_of_week_wed                   0.1606      0.065      2.462      0.014         0.033     0.289\n",
       "marital_single                    0.0751      0.077      0.974      0.330        -0.076     0.226\n",
       "job_blue-collar                  -0.2131      0.073     -2.920      0.003        -0.356    -0.070\n",
       "education_Professional Course     0.0897      0.082      1.099      0.272        -0.070     0.250\n",
       "loan_default_unknown             -0.2980      0.067     -4.448      0.000        -0.429    -0.167\n",
       "job_services                     -0.1155      0.083     -1.398      0.162        -0.277     0.046\n",
       "job_management                   -0.0620      0.082     -0.756      0.450        -0.223     0.099\n",
       "month_mar                         1.6081      0.114     14.124      0.000         1.385     1.831\n",
       "month_may                        -0.6515      0.059    -11.132      0.000        -0.766    -0.537\n",
       "month_oct                         0.0845      0.105      0.808      0.419        -0.120     0.289\n",
       "job_retired                       0.3545      0.100      3.534      0.000         0.158     0.551\n",
       "education_Unknown                 0.1371      0.104      1.321      0.186        -0.066     0.340\n",
       "job_student                       0.2781      0.109      2.553      0.011         0.065     0.492\n",
       "=================================================================================================\n",
       "\"\"\""
      ]
     },
     "execution_count": 49,
     "metadata": {},
     "output_type": "execute_result"
    }
   ],
   "source": [
    "logit_model=sm.Logit(Y1,X1)\n",
    "result=logit_model.fit()\n",
    "result.summary()"
   ]
  },
  {
   "cell_type": "code",
   "execution_count": 53,
   "metadata": {
    "collapsed": false
   },
   "outputs": [
    {
     "data": {
      "text/plain": [
       "array([0, 0, 0, ..., 0, 1, 0])"
      ]
     },
     "execution_count": 53,
     "metadata": {},
     "output_type": "execute_result"
    }
   ],
   "source": [
    "bank_final_vars=bank_final.columns.values.tolist()\n",
    "Y=['y']\n",
    "X=[\n",
    " 'poutcome_success',\n",
    "]\n",
    "X1=bank_final[X]\n",
    "Y1=bank_final[Y]\n",
    "a = np.ravel(Y1)\n",
    "a\n",
    "\n"
   ]
  },
  {
   "cell_type": "code",
   "execution_count": 54,
   "metadata": {
    "collapsed": false
   },
   "outputs": [
    {
     "name": "stdout",
     "output_type": "stream",
     "text": [
      "Optimization terminated successfully.\n",
      "         Current function value: 0.691600\n",
      "         Iterations 4\n"
     ]
    },
    {
     "data": {
      "text/html": [
       "<table class=\"simpletable\">\n",
       "<caption>Logit Regression Results</caption>\n",
       "<tr>\n",
       "  <th>Dep. Variable:</th>         <td>y</td>        <th>  No. Observations:  </th>  <td> 41188</td> \n",
       "</tr>\n",
       "<tr>\n",
       "  <th>Model:</th>               <td>Logit</td>      <th>  Df Residuals:      </th>  <td> 41187</td> \n",
       "</tr>\n",
       "<tr>\n",
       "  <th>Method:</th>               <td>MLE</td>       <th>  Df Model:          </th>  <td>     0</td> \n",
       "</tr>\n",
       "<tr>\n",
       "  <th>Date:</th>          <td>Sun, 28 May 2017</td> <th>  Pseudo R-squ.:     </th>  <td>-0.9646</td>\n",
       "</tr>\n",
       "<tr>\n",
       "  <th>Time:</th>              <td>11:37:12</td>     <th>  Log-Likelihood:    </th> <td> -28486.</td>\n",
       "</tr>\n",
       "<tr>\n",
       "  <th>converged:</th>           <td>True</td>       <th>  LL-Null:           </th> <td> -14499.</td>\n",
       "</tr>\n",
       "<tr>\n",
       "  <th> </th>                      <td> </td>        <th>  LLR p-value:       </th>  <td>   nan</td> \n",
       "</tr>\n",
       "</table>\n",
       "<table class=\"simpletable\">\n",
       "<tr>\n",
       "          <td></td>            <th>coef</th>     <th>std err</th>      <th>z</th>      <th>P>|z|</th> <th>[95.0% Conf. Int.]</th> \n",
       "</tr>\n",
       "<tr>\n",
       "  <th>poutcome_success</th> <td>    0.6240</td> <td>    0.057</td> <td>   11.020</td> <td> 0.000</td> <td>    0.513     0.735</td>\n",
       "</tr>\n",
       "</table>"
      ],
      "text/plain": [
       "<class 'statsmodels.iolib.summary.Summary'>\n",
       "\"\"\"\n",
       "                           Logit Regression Results                           \n",
       "==============================================================================\n",
       "Dep. Variable:                      y   No. Observations:                41188\n",
       "Model:                          Logit   Df Residuals:                    41187\n",
       "Method:                           MLE   Df Model:                            0\n",
       "Date:                Sun, 28 May 2017   Pseudo R-squ.:                 -0.9646\n",
       "Time:                        11:37:12   Log-Likelihood:                -28486.\n",
       "converged:                       True   LL-Null:                       -14499.\n",
       "                                        LLR p-value:                       nan\n",
       "====================================================================================\n",
       "                       coef    std err          z      P>|z|      [95.0% Conf. Int.]\n",
       "------------------------------------------------------------------------------------\n",
       "poutcome_success     0.6240      0.057     11.020      0.000         0.513     0.735\n",
       "====================================================================================\n",
       "\"\"\""
      ]
     },
     "execution_count": 54,
     "metadata": {},
     "output_type": "execute_result"
    }
   ],
   "source": [
    "logit_model=sm.Logit(Y1,X1)\n",
    "result=logit_model.fit()\n",
    "result.summary()"
   ]
  },
  {
   "cell_type": "code",
   "execution_count": null,
   "metadata": {
    "collapsed": true
   },
   "outputs": [],
   "source": []
  }
 ],
 "metadata": {
  "kernelspec": {
   "display_name": "Python 3",
   "language": "python",
   "name": "python3"
  },
  "language_info": {
   "codemirror_mode": {
    "name": "ipython",
    "version": 3
   },
   "file_extension": ".py",
   "mimetype": "text/x-python",
   "name": "python",
   "nbconvert_exporter": "python",
   "pygments_lexer": "ipython3",
   "version": "3.6.0"
  }
 },
 "nbformat": 4,
 "nbformat_minor": 2
}
