{
 "cells": [
  {
   "cell_type": "code",
   "execution_count": 1,
   "metadata": {
    "collapsed": false
   },
   "outputs": [],
   "source": [
    "#Importing libraries\n",
    "import pandas as pd\n",
    "import numpy as np\n",
    "import seaborn as sns\n",
    "import matplotlib.pyplot as plt\n",
    "%matplotlib inline"
   ]
  },
  {
   "cell_type": "code",
   "execution_count": 2,
   "metadata": {
    "collapsed": false
   },
   "outputs": [],
   "source": [
    "#Loading Bank Dataset\n",
    "bank = pd.read_csv('/Users/Bunny/Documents/Prasanthi/Springboard/Projects/Capstone 1 /Bank Marketing dataset/bank-additional/bank-additional-full.csv', delimiter=';')"
   ]
  },
  {
   "cell_type": "code",
   "execution_count": 3,
   "metadata": {
    "collapsed": false
   },
   "outputs": [
    {
     "data": {
      "text/html": [
       "<div>\n",
       "<style>\n",
       "    .dataframe thead tr:only-child th {\n",
       "        text-align: right;\n",
       "    }\n",
       "\n",
       "    .dataframe thead th {\n",
       "        text-align: left;\n",
       "    }\n",
       "\n",
       "    .dataframe tbody tr th {\n",
       "        vertical-align: top;\n",
       "    }\n",
       "</style>\n",
       "<table border=\"1\" class=\"dataframe\">\n",
       "  <thead>\n",
       "    <tr style=\"text-align: right;\">\n",
       "      <th></th>\n",
       "      <th>age</th>\n",
       "      <th>job</th>\n",
       "      <th>marital</th>\n",
       "      <th>education</th>\n",
       "      <th>default</th>\n",
       "      <th>housing</th>\n",
       "      <th>loan</th>\n",
       "      <th>contact</th>\n",
       "      <th>month</th>\n",
       "      <th>day_of_week</th>\n",
       "      <th>...</th>\n",
       "      <th>campaign</th>\n",
       "      <th>pdays</th>\n",
       "      <th>previous</th>\n",
       "      <th>poutcome</th>\n",
       "      <th>emp.var.rate</th>\n",
       "      <th>cons.price.idx</th>\n",
       "      <th>cons.conf.idx</th>\n",
       "      <th>euribor3m</th>\n",
       "      <th>nr.employed</th>\n",
       "      <th>y</th>\n",
       "    </tr>\n",
       "  </thead>\n",
       "  <tbody>\n",
       "    <tr>\n",
       "      <th>0</th>\n",
       "      <td>56</td>\n",
       "      <td>housemaid</td>\n",
       "      <td>married</td>\n",
       "      <td>basic.4y</td>\n",
       "      <td>no</td>\n",
       "      <td>no</td>\n",
       "      <td>no</td>\n",
       "      <td>telephone</td>\n",
       "      <td>may</td>\n",
       "      <td>mon</td>\n",
       "      <td>...</td>\n",
       "      <td>1</td>\n",
       "      <td>999</td>\n",
       "      <td>0</td>\n",
       "      <td>nonexistent</td>\n",
       "      <td>1.1</td>\n",
       "      <td>93.994</td>\n",
       "      <td>-36.4</td>\n",
       "      <td>4.857</td>\n",
       "      <td>5191.0</td>\n",
       "      <td>no</td>\n",
       "    </tr>\n",
       "    <tr>\n",
       "      <th>1</th>\n",
       "      <td>57</td>\n",
       "      <td>services</td>\n",
       "      <td>married</td>\n",
       "      <td>high.school</td>\n",
       "      <td>unknown</td>\n",
       "      <td>no</td>\n",
       "      <td>no</td>\n",
       "      <td>telephone</td>\n",
       "      <td>may</td>\n",
       "      <td>mon</td>\n",
       "      <td>...</td>\n",
       "      <td>1</td>\n",
       "      <td>999</td>\n",
       "      <td>0</td>\n",
       "      <td>nonexistent</td>\n",
       "      <td>1.1</td>\n",
       "      <td>93.994</td>\n",
       "      <td>-36.4</td>\n",
       "      <td>4.857</td>\n",
       "      <td>5191.0</td>\n",
       "      <td>no</td>\n",
       "    </tr>\n",
       "    <tr>\n",
       "      <th>2</th>\n",
       "      <td>37</td>\n",
       "      <td>services</td>\n",
       "      <td>married</td>\n",
       "      <td>high.school</td>\n",
       "      <td>no</td>\n",
       "      <td>yes</td>\n",
       "      <td>no</td>\n",
       "      <td>telephone</td>\n",
       "      <td>may</td>\n",
       "      <td>mon</td>\n",
       "      <td>...</td>\n",
       "      <td>1</td>\n",
       "      <td>999</td>\n",
       "      <td>0</td>\n",
       "      <td>nonexistent</td>\n",
       "      <td>1.1</td>\n",
       "      <td>93.994</td>\n",
       "      <td>-36.4</td>\n",
       "      <td>4.857</td>\n",
       "      <td>5191.0</td>\n",
       "      <td>no</td>\n",
       "    </tr>\n",
       "    <tr>\n",
       "      <th>3</th>\n",
       "      <td>40</td>\n",
       "      <td>admin.</td>\n",
       "      <td>married</td>\n",
       "      <td>basic.6y</td>\n",
       "      <td>no</td>\n",
       "      <td>no</td>\n",
       "      <td>no</td>\n",
       "      <td>telephone</td>\n",
       "      <td>may</td>\n",
       "      <td>mon</td>\n",
       "      <td>...</td>\n",
       "      <td>1</td>\n",
       "      <td>999</td>\n",
       "      <td>0</td>\n",
       "      <td>nonexistent</td>\n",
       "      <td>1.1</td>\n",
       "      <td>93.994</td>\n",
       "      <td>-36.4</td>\n",
       "      <td>4.857</td>\n",
       "      <td>5191.0</td>\n",
       "      <td>no</td>\n",
       "    </tr>\n",
       "    <tr>\n",
       "      <th>4</th>\n",
       "      <td>56</td>\n",
       "      <td>services</td>\n",
       "      <td>married</td>\n",
       "      <td>high.school</td>\n",
       "      <td>no</td>\n",
       "      <td>no</td>\n",
       "      <td>yes</td>\n",
       "      <td>telephone</td>\n",
       "      <td>may</td>\n",
       "      <td>mon</td>\n",
       "      <td>...</td>\n",
       "      <td>1</td>\n",
       "      <td>999</td>\n",
       "      <td>0</td>\n",
       "      <td>nonexistent</td>\n",
       "      <td>1.1</td>\n",
       "      <td>93.994</td>\n",
       "      <td>-36.4</td>\n",
       "      <td>4.857</td>\n",
       "      <td>5191.0</td>\n",
       "      <td>no</td>\n",
       "    </tr>\n",
       "  </tbody>\n",
       "</table>\n",
       "<p>5 rows × 21 columns</p>\n",
       "</div>"
      ],
      "text/plain": [
       "   age        job  marital    education  default housing loan    contact  \\\n",
       "0   56  housemaid  married     basic.4y       no      no   no  telephone   \n",
       "1   57   services  married  high.school  unknown      no   no  telephone   \n",
       "2   37   services  married  high.school       no     yes   no  telephone   \n",
       "3   40     admin.  married     basic.6y       no      no   no  telephone   \n",
       "4   56   services  married  high.school       no      no  yes  telephone   \n",
       "\n",
       "  month day_of_week ...  campaign  pdays  previous     poutcome emp.var.rate  \\\n",
       "0   may         mon ...         1    999         0  nonexistent          1.1   \n",
       "1   may         mon ...         1    999         0  nonexistent          1.1   \n",
       "2   may         mon ...         1    999         0  nonexistent          1.1   \n",
       "3   may         mon ...         1    999         0  nonexistent          1.1   \n",
       "4   may         mon ...         1    999         0  nonexistent          1.1   \n",
       "\n",
       "   cons.price.idx  cons.conf.idx  euribor3m  nr.employed   y  \n",
       "0          93.994          -36.4      4.857       5191.0  no  \n",
       "1          93.994          -36.4      4.857       5191.0  no  \n",
       "2          93.994          -36.4      4.857       5191.0  no  \n",
       "3          93.994          -36.4      4.857       5191.0  no  \n",
       "4          93.994          -36.4      4.857       5191.0  no  \n",
       "\n",
       "[5 rows x 21 columns]"
      ]
     },
     "execution_count": 3,
     "metadata": {},
     "output_type": "execute_result"
    }
   ],
   "source": [
    "#Data at a glance\n",
    "bank.head(5)"
   ]
  },
  {
   "cell_type": "code",
   "execution_count": 4,
   "metadata": {
    "collapsed": false
   },
   "outputs": [
    {
     "data": {
      "text/plain": [
       "Index(['age', 'job', 'marital', 'education', 'default', 'housing', 'loan',\n",
       "       'contact', 'month', 'day_of_week', 'duration', 'campaign', 'pdays',\n",
       "       'previous', 'poutcome', 'emp.var.rate', 'cons.price.idx',\n",
       "       'cons.conf.idx', 'euribor3m', 'nr.employed', 'y'],\n",
       "      dtype='object')"
      ]
     },
     "execution_count": 4,
     "metadata": {},
     "output_type": "execute_result"
    }
   ],
   "source": [
    "#Variables present in the dataset\n",
    "bank.columns"
   ]
  },
  {
   "cell_type": "code",
   "execution_count": 5,
   "metadata": {
    "collapsed": false
   },
   "outputs": [
    {
     "data": {
      "text/plain": [
       "(41188, 21)"
      ]
     },
     "execution_count": 5,
     "metadata": {},
     "output_type": "execute_result"
    }
   ],
   "source": [
    "#Dataset dimensions\n",
    "bank.shape"
   ]
  },
  {
   "cell_type": "code",
   "execution_count": 6,
   "metadata": {
    "collapsed": false
   },
   "outputs": [
    {
     "data": {
      "text/plain": [
       "Index(['age', 'job', 'marital', 'education', 'default', 'housing', 'loan',\n",
       "       'contact', 'month', 'day_of_week', 'duration', 'number_calls', 'pdays',\n",
       "       'previous', 'poutcome', 'emp.var.rate', 'cons.price.idx',\n",
       "       'cons.conf.idx', 'euribor3m', 'nr.employed', 'outcome'],\n",
       "      dtype='object')"
      ]
     },
     "execution_count": 6,
     "metadata": {},
     "output_type": "execute_result"
    }
   ],
   "source": [
    "#Renaming Dependent Variable 'y' as 'outcome' and 'campaign' as 'number_calls'\n",
    "bank = bank.rename(columns= {'y':'outcome','campaign' : 'number_calls'})\n",
    "bank.columns"
   ]
  },
  {
   "cell_type": "markdown",
   "metadata": {},
   "source": [
    "## Data Wrangling & Exploratory Data Analysis"
   ]
  },
  {
   "cell_type": "markdown",
   "metadata": {},
   "source": [
    "### Missing value treatment"
   ]
  },
  {
   "cell_type": "code",
   "execution_count": 7,
   "metadata": {
    "collapsed": true
   },
   "outputs": [],
   "source": [
    "#Replacing unknown values with np.NaN\n",
    "bank = bank.replace('unknown', np.NaN)"
   ]
  },
  {
   "cell_type": "code",
   "execution_count": 8,
   "metadata": {
    "collapsed": false
   },
   "outputs": [
    {
     "data": {
      "text/plain": [
       "age                0.000000\n",
       "job                0.801204\n",
       "marital            0.194231\n",
       "education          4.202680\n",
       "default           20.872584\n",
       "housing            2.403613\n",
       "loan               2.403613\n",
       "contact            0.000000\n",
       "month              0.000000\n",
       "day_of_week        0.000000\n",
       "duration           0.000000\n",
       "number_calls       0.000000\n",
       "pdays              0.000000\n",
       "previous           0.000000\n",
       "poutcome           0.000000\n",
       "emp.var.rate       0.000000\n",
       "cons.price.idx     0.000000\n",
       "cons.conf.idx      0.000000\n",
       "euribor3m          0.000000\n",
       "nr.employed        0.000000\n",
       "outcome            0.000000\n",
       "dtype: float64"
      ]
     },
     "execution_count": 8,
     "metadata": {},
     "output_type": "execute_result"
    }
   ],
   "source": [
    "# % missing values for each attribute\n",
    "bank.isnull().sum()/len(bank)*100 "
   ]
  },
  {
   "cell_type": "markdown",
   "metadata": {},
   "source": [
    "### Transforming Dependent variable - 'outcome'"
   ]
  },
  {
   "cell_type": "code",
   "execution_count": 9,
   "metadata": {
    "collapsed": false
   },
   "outputs": [],
   "source": [
    "#Converting dependent variable'outcome' from categorical to numerical. yes = 1 , no = 0\n",
    "bank['outcome'] = (bank['outcome']=='yes').astype(int)"
   ]
  },
  {
   "cell_type": "markdown",
   "metadata": {},
   "source": [
    "#### Investigating variables with > 2% missing values"
   ]
  },
  {
   "cell_type": "markdown",
   "metadata": {},
   "source": [
    "#### 1) Default"
   ]
  },
  {
   "cell_type": "code",
   "execution_count": 10,
   "metadata": {
    "collapsed": false
   },
   "outputs": [
    {
     "data": {
      "text/html": [
       "<div>\n",
       "<style>\n",
       "    .dataframe thead tr:only-child th {\n",
       "        text-align: right;\n",
       "    }\n",
       "\n",
       "    .dataframe thead th {\n",
       "        text-align: left;\n",
       "    }\n",
       "\n",
       "    .dataframe tbody tr th {\n",
       "        vertical-align: top;\n",
       "    }\n",
       "</style>\n",
       "<table border=\"1\" class=\"dataframe\">\n",
       "  <thead>\n",
       "    <tr style=\"text-align: right;\">\n",
       "      <th>default</th>\n",
       "      <th>no</th>\n",
       "      <th>yes</th>\n",
       "    </tr>\n",
       "    <tr>\n",
       "      <th>outcome</th>\n",
       "      <th></th>\n",
       "      <th></th>\n",
       "    </tr>\n",
       "  </thead>\n",
       "  <tbody>\n",
       "    <tr>\n",
       "      <th>0</th>\n",
       "      <td>28391.0</td>\n",
       "      <td>3.0</td>\n",
       "    </tr>\n",
       "    <tr>\n",
       "      <th>1</th>\n",
       "      <td>4197.0</td>\n",
       "      <td>NaN</td>\n",
       "    </tr>\n",
       "  </tbody>\n",
       "</table>\n",
       "</div>"
      ],
      "text/plain": [
       "default       no  yes\n",
       "outcome              \n",
       "0        28391.0  3.0\n",
       "1         4197.0  NaN"
      ]
     },
     "execution_count": 10,
     "metadata": {},
     "output_type": "execute_result"
    }
   ],
   "source": [
    "#Investigating 'default' variable \n",
    "bank.groupby(['outcome', 'default']).size().unstack('default')"
   ]
  },
  {
   "cell_type": "markdown",
   "metadata": {},
   "source": [
    "* According to this, only 3 customers with credit defaults have been contacted and the remaining contacted were those with either no credit amounts or with cleared monthly payments. This attribute will therefore be of no use for predicting the outcome and hence will be removed."
   ]
  },
  {
   "cell_type": "code",
   "execution_count": 11,
   "metadata": {
    "collapsed": false
   },
   "outputs": [],
   "source": [
    "#remove 'default' variable from the dataset\n",
    "bank = bank.drop('default',axis=1)"
   ]
  },
  {
   "cell_type": "markdown",
   "metadata": {},
   "source": [
    "#### 2) Loan"
   ]
  },
  {
   "cell_type": "code",
   "execution_count": 12,
   "metadata": {
    "collapsed": false
   },
   "outputs": [
    {
     "data": {
      "text/plain": [
       "array(['no', 'yes', nan], dtype=object)"
      ]
     },
     "execution_count": 12,
     "metadata": {},
     "output_type": "execute_result"
    }
   ],
   "source": [
    "bank['loan'].unique()"
   ]
  },
  {
   "cell_type": "code",
   "execution_count": 13,
   "metadata": {
    "collapsed": false
   },
   "outputs": [
    {
     "data": {
      "text/plain": [
       "<matplotlib.text.Text at 0x11bd87320>"
      ]
     },
     "execution_count": 13,
     "metadata": {},
     "output_type": "execute_result"
    },
    {
     "data": {
      "image/png": "[encoded data removed]",
      "text/plain": [
       "<matplotlib.figure.Figure at 0x11bbddc18>"
      ]
     },
     "metadata": {},
     "output_type": "display_data"
    }
   ],
   "source": [
    "loan_conv = bank.groupby('outcome').loan.value_counts().unstack('outcome')\n",
    "loan_conv['conversion_rate']= 100*loan_conv[1]/(loan_conv[0]+loan_conv[1])\n",
    "loan_conv['conversion_rate'].sort_values().plot(kind= 'bar', title = 'Conversion % based on personal loans',rot=360)\n",
    "plt.ylabel('Conversion %')\n",
    "plt.xlabel('Have personal loan?')"
   ]
  },
  {
   "cell_type": "markdown",
   "metadata": {},
   "source": [
    "The above graph represents how customers having prior loans have reacted towards the campaign compared to those who didn't. Conversion rates for both the categories are similar hence not much can be deduced form this variable. This variable is being dropped form further analysis."
   ]
  },
  {
   "cell_type": "code",
   "execution_count": 14,
   "metadata": {
    "collapsed": false
   },
   "outputs": [],
   "source": [
    "#Remove 'loan' variable from the dataset\n",
    "bank = bank.drop('loan',axis=1)"
   ]
  },
  {
   "cell_type": "markdown",
   "metadata": {},
   "source": [
    "#### 3) Housing (loan)"
   ]
  },
  {
   "cell_type": "code",
   "execution_count": 15,
   "metadata": {
    "collapsed": false
   },
   "outputs": [
    {
     "data": {
      "text/plain": [
       "array(['no', 'yes', nan], dtype=object)"
      ]
     },
     "execution_count": 15,
     "metadata": {},
     "output_type": "execute_result"
    }
   ],
   "source": [
    "bank['housing'].unique()"
   ]
  },
  {
   "cell_type": "code",
   "execution_count": 16,
   "metadata": {
    "collapsed": false
   },
   "outputs": [
    {
     "data": {
      "text/plain": [
       "<matplotlib.text.Text at 0x11bd5e080>"
      ]
     },
     "execution_count": 16,
     "metadata": {},
     "output_type": "execute_result"
    },
    {
     "data": {
      "image/png": "[encoded data removed]",
      "text/plain": [
       "<matplotlib.figure.Figure at 0x11bbdd400>"
      ]
     },
     "metadata": {},
     "output_type": "display_data"
    }
   ],
   "source": [
    "housing_conv = bank.groupby('outcome').housing.value_counts().unstack('outcome')\n",
    "housing_conv['conversion_rate']= 100*housing_conv[1]/(housing_conv[0]+housing_conv[1])\n",
    "housing_conv['conversion_rate'].sort_values().plot(kind= 'bar', title = 'Conversion % based on housing loans',rot=360)\n",
    "plt.ylabel('Conversion %')\n",
    "plt.xlabel('Have housing loan?')"
   ]
  },
  {
   "cell_type": "markdown",
   "metadata": {},
   "source": [
    "Even in the case of customers with/without housing loans,conversion rates are similar hence not much can be deduced form this variable. This variable is being dropped form further analysis."
   ]
  },
  {
   "cell_type": "code",
   "execution_count": 17,
   "metadata": {
    "collapsed": true
   },
   "outputs": [],
   "source": [
    "bank=bank.drop('housing',axis=1)"
   ]
  },
  {
   "cell_type": "markdown",
   "metadata": {},
   "source": [
    "#### 4) Education"
   ]
  },
  {
   "cell_type": "code",
   "execution_count": 18,
   "metadata": {
    "collapsed": false
   },
   "outputs": [
    {
     "data": {
      "text/plain": [
       "array(['basic.4y', 'high.school', 'basic.6y', 'basic.9y',\n",
       "       'professional.course', nan, 'university.degree', 'illiterate'], dtype=object)"
      ]
     },
     "execution_count": 18,
     "metadata": {},
     "output_type": "execute_result"
    }
   ],
   "source": [
    "#Combining all basic education into one category 'basic'\n",
    "bank['education'].unique()"
   ]
  },
  {
   "cell_type": "code",
   "execution_count": 19,
   "metadata": {
    "collapsed": true
   },
   "outputs": [],
   "source": [
    "bank['education']=np.where(bank['education']=='basic.4y','basic',bank['education'])\n",
    "bank['education']=np.where(bank['education']=='basic.6y','basic',bank['education'])\n",
    "bank['education']=np.where(bank['education']=='basic.9y','basic',bank['education'])"
   ]
  },
  {
   "cell_type": "code",
   "execution_count": 20,
   "metadata": {
    "collapsed": false
   },
   "outputs": [
    {
     "data": {
      "text/html": [
       "<div>\n",
       "<style>\n",
       "    .dataframe thead tr:only-child th {\n",
       "        text-align: right;\n",
       "    }\n",
       "\n",
       "    .dataframe thead th {\n",
       "        text-align: left;\n",
       "    }\n",
       "\n",
       "    .dataframe tbody tr th {\n",
       "        vertical-align: top;\n",
       "    }\n",
       "</style>\n",
       "<table border=\"1\" class=\"dataframe\">\n",
       "  <thead>\n",
       "    <tr style=\"text-align: right;\">\n",
       "      <th>outcome</th>\n",
       "      <th>0</th>\n",
       "      <th>1</th>\n",
       "      <th>conversion_rate</th>\n",
       "    </tr>\n",
       "    <tr>\n",
       "      <th>education</th>\n",
       "      <th></th>\n",
       "      <th></th>\n",
       "      <th></th>\n",
       "    </tr>\n",
       "  </thead>\n",
       "  <tbody>\n",
       "    <tr>\n",
       "      <th>basic</th>\n",
       "      <td>11424</td>\n",
       "      <td>1089</td>\n",
       "      <td>8.702949</td>\n",
       "    </tr>\n",
       "    <tr>\n",
       "      <th>high.school</th>\n",
       "      <td>8484</td>\n",
       "      <td>1031</td>\n",
       "      <td>10.835523</td>\n",
       "    </tr>\n",
       "    <tr>\n",
       "      <th>illiterate</th>\n",
       "      <td>14</td>\n",
       "      <td>4</td>\n",
       "      <td>22.222222</td>\n",
       "    </tr>\n",
       "    <tr>\n",
       "      <th>professional.course</th>\n",
       "      <td>4648</td>\n",
       "      <td>595</td>\n",
       "      <td>11.348465</td>\n",
       "    </tr>\n",
       "    <tr>\n",
       "      <th>university.degree</th>\n",
       "      <td>10498</td>\n",
       "      <td>1670</td>\n",
       "      <td>13.724523</td>\n",
       "    </tr>\n",
       "  </tbody>\n",
       "</table>\n",
       "</div>"
      ],
      "text/plain": [
       "outcome                  0     1  conversion_rate\n",
       "education                                        \n",
       "basic                11424  1089         8.702949\n",
       "high.school           8484  1031        10.835523\n",
       "illiterate              14     4        22.222222\n",
       "professional.course   4648   595        11.348465\n",
       "university.degree    10498  1670        13.724523"
      ]
     },
     "execution_count": 20,
     "metadata": {},
     "output_type": "execute_result"
    },
    {
     "data": {
      "image/png": "[encoded data removed]",
      "text/plain": [
       "<matplotlib.figure.Figure at 0x11bd07ba8>"
      ]
     },
     "metadata": {},
     "output_type": "display_data"
    }
   ],
   "source": [
    "education_conv = bank.groupby('outcome').education.value_counts().unstack('outcome')\n",
    "education_conv['conversion_rate']= 100*education_conv[1]/(education_conv[0]+education_conv[1])\n",
    "education_conv['conversion_rate'].sort_values().plot(kind= 'bar', title = 'Conversion % based on Education')\n",
    "education_conv"
   ]
  },
  {
   "cell_type": "markdown",
   "metadata": {},
   "source": [
    "Similar conversion rates have been observed across all education categories other than illiterate category. However, sample size of this category is negligible compared to that of customers with some kind of education background. "
   ]
  },
  {
   "cell_type": "code",
   "execution_count": 21,
   "metadata": {
    "collapsed": false
   },
   "outputs": [],
   "source": [
    "#Removing rows containing null values\n",
    "bank = bank.dropna(axis = 0)"
   ]
  },
  {
   "cell_type": "markdown",
   "metadata": {},
   "source": [
    "## Exploratory Data Analysis"
   ]
  },
  {
   "cell_type": "markdown",
   "metadata": {},
   "source": [
    "#### Summary stats"
   ]
  },
  {
   "cell_type": "code",
   "execution_count": 22,
   "metadata": {
    "collapsed": false
   },
   "outputs": [
    {
     "data": {
      "text/html": [
       "<div>\n",
       "<style>\n",
       "    .dataframe thead tr:only-child th {\n",
       "        text-align: right;\n",
       "    }\n",
       "\n",
       "    .dataframe thead th {\n",
       "        text-align: left;\n",
       "    }\n",
       "\n",
       "    .dataframe tbody tr th {\n",
       "        vertical-align: top;\n",
       "    }\n",
       "</style>\n",
       "<table border=\"1\" class=\"dataframe\">\n",
       "  <thead>\n",
       "    <tr style=\"text-align: right;\">\n",
       "      <th></th>\n",
       "      <th>age</th>\n",
       "      <th>duration</th>\n",
       "      <th>number_calls</th>\n",
       "      <th>pdays</th>\n",
       "      <th>previous</th>\n",
       "      <th>emp.var.rate</th>\n",
       "      <th>cons.price.idx</th>\n",
       "      <th>cons.conf.idx</th>\n",
       "      <th>euribor3m</th>\n",
       "      <th>nr.employed</th>\n",
       "      <th>outcome</th>\n",
       "    </tr>\n",
       "  </thead>\n",
       "  <tbody>\n",
       "    <tr>\n",
       "      <th>count</th>\n",
       "      <td>39191.000000</td>\n",
       "      <td>39191.000000</td>\n",
       "      <td>39191.000000</td>\n",
       "      <td>39191.000000</td>\n",
       "      <td>39191.000000</td>\n",
       "      <td>39191.000000</td>\n",
       "      <td>39191.00000</td>\n",
       "      <td>39191.000000</td>\n",
       "      <td>39191.000000</td>\n",
       "      <td>39191.000000</td>\n",
       "      <td>39191.000000</td>\n",
       "    </tr>\n",
       "    <tr>\n",
       "      <th>mean</th>\n",
       "      <td>39.858003</td>\n",
       "      <td>257.995509</td>\n",
       "      <td>2.566380</td>\n",
       "      <td>963.551657</td>\n",
       "      <td>0.170422</td>\n",
       "      <td>0.083238</td>\n",
       "      <td>93.57172</td>\n",
       "      <td>-40.537146</td>\n",
       "      <td>3.623633</td>\n",
       "      <td>5167.404340</td>\n",
       "      <td>0.111250</td>\n",
       "    </tr>\n",
       "    <tr>\n",
       "      <th>std</th>\n",
       "      <td>10.288300</td>\n",
       "      <td>259.728574</td>\n",
       "      <td>2.772109</td>\n",
       "      <td>184.245042</td>\n",
       "      <td>0.488258</td>\n",
       "      <td>1.566502</td>\n",
       "      <td>0.57705</td>\n",
       "      <td>4.621895</td>\n",
       "      <td>1.730493</td>\n",
       "      <td>71.787741</td>\n",
       "      <td>0.314446</td>\n",
       "    </tr>\n",
       "    <tr>\n",
       "      <th>min</th>\n",
       "      <td>17.000000</td>\n",
       "      <td>0.000000</td>\n",
       "      <td>1.000000</td>\n",
       "      <td>0.000000</td>\n",
       "      <td>0.000000</td>\n",
       "      <td>-3.400000</td>\n",
       "      <td>92.20100</td>\n",
       "      <td>-50.800000</td>\n",
       "      <td>0.634000</td>\n",
       "      <td>4963.600000</td>\n",
       "      <td>0.000000</td>\n",
       "    </tr>\n",
       "    <tr>\n",
       "      <th>25%</th>\n",
       "      <td>32.000000</td>\n",
       "      <td>102.000000</td>\n",
       "      <td>1.000000</td>\n",
       "      <td>999.000000</td>\n",
       "      <td>0.000000</td>\n",
       "      <td>-1.800000</td>\n",
       "      <td>93.07500</td>\n",
       "      <td>-42.700000</td>\n",
       "      <td>1.344000</td>\n",
       "      <td>5099.100000</td>\n",
       "      <td>0.000000</td>\n",
       "    </tr>\n",
       "    <tr>\n",
       "      <th>50%</th>\n",
       "      <td>38.000000</td>\n",
       "      <td>179.000000</td>\n",
       "      <td>2.000000</td>\n",
       "      <td>999.000000</td>\n",
       "      <td>0.000000</td>\n",
       "      <td>1.100000</td>\n",
       "      <td>93.44400</td>\n",
       "      <td>-41.800000</td>\n",
       "      <td>4.857000</td>\n",
       "      <td>5191.000000</td>\n",
       "      <td>0.000000</td>\n",
       "    </tr>\n",
       "    <tr>\n",
       "      <th>75%</th>\n",
       "      <td>47.000000</td>\n",
       "      <td>319.000000</td>\n",
       "      <td>3.000000</td>\n",
       "      <td>999.000000</td>\n",
       "      <td>0.000000</td>\n",
       "      <td>1.400000</td>\n",
       "      <td>93.99400</td>\n",
       "      <td>-36.400000</td>\n",
       "      <td>4.961000</td>\n",
       "      <td>5228.100000</td>\n",
       "      <td>0.000000</td>\n",
       "    </tr>\n",
       "    <tr>\n",
       "      <th>max</th>\n",
       "      <td>98.000000</td>\n",
       "      <td>4918.000000</td>\n",
       "      <td>56.000000</td>\n",
       "      <td>999.000000</td>\n",
       "      <td>7.000000</td>\n",
       "      <td>1.400000</td>\n",
       "      <td>94.76700</td>\n",
       "      <td>-26.900000</td>\n",
       "      <td>5.045000</td>\n",
       "      <td>5228.100000</td>\n",
       "      <td>1.000000</td>\n",
       "    </tr>\n",
       "  </tbody>\n",
       "</table>\n",
       "</div>"
      ],
      "text/plain": [
       "                age      duration  number_calls         pdays      previous  \\\n",
       "count  39191.000000  39191.000000  39191.000000  39191.000000  39191.000000   \n",
       "mean      39.858003    257.995509      2.566380    963.551657      0.170422   \n",
       "std       10.288300    259.728574      2.772109    184.245042      0.488258   \n",
       "min       17.000000      0.000000      1.000000      0.000000      0.000000   \n",
       "25%       32.000000    102.000000      1.000000    999.000000      0.000000   \n",
       "50%       38.000000    179.000000      2.000000    999.000000      0.000000   \n",
       "75%       47.000000    319.000000      3.000000    999.000000      0.000000   \n",
       "max       98.000000   4918.000000     56.000000    999.000000      7.000000   \n",
       "\n",
       "       emp.var.rate  cons.price.idx  cons.conf.idx     euribor3m  \\\n",
       "count  39191.000000     39191.00000   39191.000000  39191.000000   \n",
       "mean       0.083238        93.57172     -40.537146      3.623633   \n",
       "std        1.566502         0.57705       4.621895      1.730493   \n",
       "min       -3.400000        92.20100     -50.800000      0.634000   \n",
       "25%       -1.800000        93.07500     -42.700000      1.344000   \n",
       "50%        1.100000        93.44400     -41.800000      4.857000   \n",
       "75%        1.400000        93.99400     -36.400000      4.961000   \n",
       "max        1.400000        94.76700     -26.900000      5.045000   \n",
       "\n",
       "        nr.employed       outcome  \n",
       "count  39191.000000  39191.000000  \n",
       "mean    5167.404340      0.111250  \n",
       "std       71.787741      0.314446  \n",
       "min     4963.600000      0.000000  \n",
       "25%     5099.100000      0.000000  \n",
       "50%     5191.000000      0.000000  \n",
       "75%     5228.100000      0.000000  \n",
       "max     5228.100000      1.000000  "
      ]
     },
     "execution_count": 22,
     "metadata": {},
     "output_type": "execute_result"
    }
   ],
   "source": [
    "#Summary statistics of Continuous varibles\n",
    "bank.describe()"
   ]
  },
  {
   "cell_type": "markdown",
   "metadata": {},
   "source": [
    "Average age of customers contacted for this campaign is 39 years and each customer was contacted approx. 3 times before hearing a decision from them."
   ]
  },
  {
   "cell_type": "markdown",
   "metadata": {},
   "source": [
    "#### Distribution of Dependent variable categories"
   ]
  },
  {
   "cell_type": "code",
   "execution_count": 23,
   "metadata": {
    "collapsed": false
   },
   "outputs": [
    {
     "name": "stdout",
     "output_type": "stream",
     "text": [
      "outcome\n",
      "0    88.874997\n",
      "1    11.125003\n",
      "dtype: float64\n"
     ]
    },
    {
     "data": {
      "text/plain": [
       "<matplotlib.text.Text at 0x11cdd11d0>"
      ]
     },
     "execution_count": 23,
     "metadata": {},
     "output_type": "execute_result"
    },
    {
     "data": {
      "image/png": "[encoded data removed]",
      "text/plain": [
       "<matplotlib.figure.Figure at 0x110d270f0>"
      ]
     },
     "metadata": {},
     "output_type": "display_data"
    }
   ],
   "source": [
    "#Distribution of 'outcome' variable\n",
    "bank_outcome_dist = bank.groupby('outcome').size()/len(bank)*100\n",
    "print(bank_outcome_dist)\n",
    "bank_outcome_dist.plot(kind = 'bar',rot=360)\n",
    "plt.xlabel('Dependent variable categories')\n",
    "plt.ylabel('% of total dataset')\n",
    "plt.title('Distribution of Dependent variable categories in the dataset')"
   ]
  },
  {
   "cell_type": "markdown",
   "metadata": {},
   "source": [
    "The bank marketing dataset in study is highly imbalanced. Unfavourable outcomes make upto about 89% of the total observations while the favourable ones make up the remaining 11% making the data vulnerable to prediction biases while trying to fit machine-learning models. We will be dealing with this issue only after performing EDA in order to understand the dynamics of unmanipulated data better."
   ]
  },
  {
   "cell_type": "markdown",
   "metadata": {},
   "source": [
    "#### Independent Variable - 'Duration'"
   ]
  },
  {
   "cell_type": "markdown",
   "metadata": {},
   "source": [
    "* The variable ‘duration’ highly affects the output target; i.e. if a call has not been made at all or not been picked by the customer it results in a failed outcome. Yet, the duration is not known before a call is performed. Also, after the end of the call outcome is obviously known (success or a failure). Hence this variable has been removed from future analysis. "
   ]
  },
  {
   "cell_type": "code",
   "execution_count": 24,
   "metadata": {
    "collapsed": false
   },
   "outputs": [],
   "source": [
    "#Remove 'duration' variable from the dataset\n",
    "bank = bank.drop('duration',axis=1)"
   ]
  },
  {
   "cell_type": "markdown",
   "metadata": {},
   "source": [
    "#### Variable number_calls - Average calls made per customer based on 'outcome' categories"
   ]
  },
  {
   "cell_type": "code",
   "execution_count": 25,
   "metadata": {
    "collapsed": false
   },
   "outputs": [
    {
     "data": {
      "text/plain": [
       "array([<matplotlib.axes._subplots.AxesSubplot object at 0x11cdbe860>], dtype=object)"
      ]
     },
     "execution_count": 25,
     "metadata": {},
     "output_type": "execute_result"
    },
    {
     "data": {
      "image/png": "[encoded data removed]",
      "text/plain": [
       "<matplotlib.figure.Figure at 0x11bcf58d0>"
      ]
     },
     "metadata": {},
     "output_type": "display_data"
    }
   ],
   "source": [
    "# Average number of calls per outcome class\n",
    "bank[['number_calls','outcome']].groupby(['outcome']).mean().plot(kind='bar',subplots=True,rot=360,title= 'Average number of calls per outcome class') "
   ]
  },
  {
   "cell_type": "code",
   "execution_count": 26,
   "metadata": {
    "collapsed": false
   },
   "outputs": [
    {
     "name": "stdout",
     "output_type": "stream",
     "text": [
      "% of customers contacted 3 or less than 3 times: 81.4702355133 %\n",
      "% of customers contacted more than 3 times: 18.5297644867 %\n"
     ]
    }
   ],
   "source": [
    "campaign_calls = (bank['number_calls'] <= 3).sum()*100/ len(bank)\n",
    "print('% of customers contacted 3 or less than 3 times:',campaign_calls,('%'))\n",
    "print('% of customers contacted more than 3 times:', (100-campaign_calls),('%'))"
   ]
  },
  {
   "cell_type": "markdown",
   "metadata": {},
   "source": [
    "Customers on an average made their decision by 3rd call with a bank representative. Those who agreed to the offer made their decision within the 2nd call. Customers who rejected the offer expressed their lack of interest only at 3rd call or later. \n",
    "\n",
    "For the purpose of modelling, the overall average calls aspect of this attribute was used and individual outcome wise data has been ignored. "
   ]
  },
  {
   "cell_type": "markdown",
   "metadata": {},
   "source": [
    "#### Age variable"
   ]
  },
  {
   "cell_type": "code",
   "execution_count": 27,
   "metadata": {
    "collapsed": false
   },
   "outputs": [
    {
     "data": {
      "text/plain": [
       "dtype('int64')"
      ]
     },
     "execution_count": 27,
     "metadata": {},
     "output_type": "execute_result"
    }
   ],
   "source": [
    "#Changing age variable into an integer in order to create categories\n",
    "bank['age'].astype(int)\n",
    "bank['age'].dtypes"
   ]
  },
  {
   "cell_type": "code",
   "execution_count": 28,
   "metadata": {
    "collapsed": false
   },
   "outputs": [],
   "source": [
    "#Converting Age variable to a categorical variable 'age_category'\n",
    "bank['age_category']=np.where(bank['age'] < 25,'Young adult',bank['age'])\n",
    "bank['age_category']=np.where((bank['age'] >= 25) & (bank['age'] < 35 ),'Adult',bank['age_category'])\n",
    "bank['age_category']=np.where((bank['age'] >= 35) & (bank['age'] < 54 ),'Middle Aged',bank['age_category'])\n",
    "bank['age_category']=np.where((bank['age'] >= 54) & (bank['age'] < 60 ),'Pre-retirement',bank['age_category'])\n",
    "bank['age_category']=np.where((bank['age'] >= 60),'Post-retirement',bank['age_category'])"
   ]
  },
  {
   "cell_type": "code",
   "execution_count": 29,
   "metadata": {
    "collapsed": false
   },
   "outputs": [
    {
     "data": {
      "text/plain": [
       "<matplotlib.text.Text at 0x11c03acc0>"
      ]
     },
     "execution_count": 29,
     "metadata": {},
     "output_type": "execute_result"
    },
    {
     "data": {
      "image/png": "[encoded data removed]",
      "text/plain": [
       "<matplotlib.figure.Figure at 0x11bcd4ba8>"
      ]
     },
     "metadata": {},
     "output_type": "display_data"
    }
   ],
   "source": [
    "#Conversion rates based on Age categories \n",
    "age = bank.groupby('outcome').age_category.value_counts().unstack('outcome')\n",
    "age['conversion_rates'] = (age[1]/(age[0]+age[1]))*100\n",
    "age['conversion_rates'].sort_values().plot(kind='bar',title='Conversion rates based on age categories',rot=360)\n",
    "plt.ylabel('Conversion %')\n",
    "plt.xlabel('Age categories')"
   ]
  },
  {
   "cell_type": "markdown",
   "metadata": {},
   "source": [
    "Based on the above graph, Retired individuals and young adults seem to be interested in term-deposit offer. These could be highly potential groups while rolling out term-deposit campaigns in future. \n",
    "\n",
    "Since the remaining 3 groups have similar coversion rates, we can put bucket them into 1 category called 'Working adults' which describes them the best; Adults to pre-retirement."
   ]
  },
  {
   "cell_type": "code",
   "execution_count": 30,
   "metadata": {
    "collapsed": false
   },
   "outputs": [],
   "source": [
    "bank['age_category']=np.where((bank['age'] >= 25) & (bank['age'] < 60 ),'Working adult',bank['age_category'])"
   ]
  },
  {
   "cell_type": "markdown",
   "metadata": {},
   "source": [
    "\n",
    "Chi-square test has been performed to see if there is any statistically significant difference in campaign outcome among these groups."
   ]
  },
  {
   "cell_type": "code",
   "execution_count": 31,
   "metadata": {
    "collapsed": true
   },
   "outputs": [],
   "source": [
    "from scipy.stats import chi2_contingency"
   ]
  },
  {
   "cell_type": "code",
   "execution_count": 32,
   "metadata": {
    "collapsed": false
   },
   "outputs": [
    {
     "data": {
      "text/html": [
       "<div>\n",
       "<style>\n",
       "    .dataframe thead tr:only-child th {\n",
       "        text-align: right;\n",
       "    }\n",
       "\n",
       "    .dataframe thead th {\n",
       "        text-align: left;\n",
       "    }\n",
       "\n",
       "    .dataframe tbody tr th {\n",
       "        vertical-align: top;\n",
       "    }\n",
       "</style>\n",
       "<table border=\"1\" class=\"dataframe\">\n",
       "  <thead>\n",
       "    <tr style=\"text-align: right;\">\n",
       "      <th>age_category</th>\n",
       "      <th>Post-retirement</th>\n",
       "      <th>Working adult</th>\n",
       "      <th>Young adult</th>\n",
       "    </tr>\n",
       "    <tr>\n",
       "      <th>outcome</th>\n",
       "      <th></th>\n",
       "      <th></th>\n",
       "      <th></th>\n",
       "    </tr>\n",
       "  </thead>\n",
       "  <tbody>\n",
       "    <tr>\n",
       "      <th>0</th>\n",
       "      <td>641</td>\n",
       "      <td>33439</td>\n",
       "      <td>751</td>\n",
       "    </tr>\n",
       "    <tr>\n",
       "      <th>1</th>\n",
       "      <td>412</td>\n",
       "      <td>3736</td>\n",
       "      <td>212</td>\n",
       "    </tr>\n",
       "  </tbody>\n",
       "</table>\n",
       "</div>"
      ],
      "text/plain": [
       "age_category  Post-retirement  Working adult  Young adult\n",
       "outcome                                                  \n",
       "0                         641          33439          751\n",
       "1                         412           3736          212"
      ]
     },
     "execution_count": 32,
     "metadata": {},
     "output_type": "execute_result"
    }
   ],
   "source": [
    "#Chi-Square test to check existence of statistical difference among Age groups\n",
    "outcome_age = bank.groupby(['outcome', 'age_category']).size().unstack('age_category')\n",
    "outcome_age"
   ]
  },
  {
   "cell_type": "code",
   "execution_count": 33,
   "metadata": {
    "collapsed": false
   },
   "outputs": [
    {
     "data": {
      "text/plain": [
       "(994.00046614014491,\n",
       " 1.4306759381907818e-216,\n",
       " 2,\n",
       " array([[   935.85371641,  33039.2800643 ,    855.86621929],\n",
       "        [   117.14628359,   4135.7199357 ,    107.13378071]]))"
      ]
     },
     "execution_count": 33,
     "metadata": {},
     "output_type": "execute_result"
    }
   ],
   "source": [
    "#Returns chi2, p-value, Degrees of freedom, contingency_table\n",
    "contingency_table = chi2_contingency(outcome_age)\n",
    "contingency_table"
   ]
  },
  {
   "cell_type": "markdown",
   "metadata": {},
   "source": [
    "Chi-tabular < Chi-calculated with a p-value <0.05 indicates that there is a significant difference in outcome based on different categories of age. "
   ]
  },
  {
   "cell_type": "markdown",
   "metadata": {},
   "source": [
    "#### Job "
   ]
  },
  {
   "cell_type": "code",
   "execution_count": 34,
   "metadata": {
    "collapsed": false
   },
   "outputs": [
    {
     "data": {
      "text/plain": [
       "<matplotlib.text.Text at 0x11bff7080>"
      ]
     },
     "execution_count": 34,
     "metadata": {},
     "output_type": "execute_result"
    },
    {
     "data": {
      "image/png": "[encoded data removed]",
      "text/plain": [
       "<matplotlib.figure.Figure at 0x11c063ac8>"
      ]
     },
     "metadata": {},
     "output_type": "display_data"
    }
   ],
   "source": [
    "#Conversion rates based on Job Categories\n",
    "job = bank.groupby('outcome').job.value_counts().unstack('outcome')\n",
    "job['conversion_rate']= 100*job[1]/(job[0]+job[1])\n",
    "job['conversion_rate'].sort_values().plot(kind= 'bar', title = 'Conversion % based on employment type',rot = 90)\n",
    "plt.ylabel('Conversion %')\n",
    "plt.xlabel('Job Categories')"
   ]
  },
  {
   "cell_type": "markdown",
   "metadata": {},
   "source": [
    "Individuals who are retired, are students, unemployed or have administrative roles have higher conversion rates compared to those working in other roles.\n",
    "\n",
    "Retired individuals do not draw regular incomes. Their main interest would be to invest all the savings that have been accumulated so far into low-risk safe return generating products such as term deposits. Also, the average age of retired individuals is 62 which supports the analysis derived from age variable. \n",
    "\n",
    "Students do not have a consistent source of income and are most likely to look for avenues that can grow their savings without having inherent risks until they reach their prime earning period. Blue-collar, housemaids and technicians have very low disposable incomes and tend to have minimum to no savings for them to be able to invest.\n",
    "\n",
    "On the other hand, risk taking, whether financial or social is a distinguishing characteristic of entrepreneurs. High-risk avenues like stocks and other equity based instruments are more rewarding for them than term deposits.\n",
    "\n",
    "It is interesting to see unemployed in the high conversion category. External data can be combined in future to arrive at a consensus."
   ]
  },
  {
   "cell_type": "code",
   "execution_count": 35,
   "metadata": {
    "collapsed": false,
    "scrolled": true
   },
   "outputs": [
    {
     "name": "stdout",
     "output_type": "stream",
     "text": [
      "The mean age of retired individuals is: 62 yrs\n"
     ]
    }
   ],
   "source": [
    "print('The mean age of retired individuals is:', round(bank[bank.job == 'retired'].age.mean()),'yrs')"
   ]
  },
  {
   "cell_type": "code",
   "execution_count": 36,
   "metadata": {
    "collapsed": false
   },
   "outputs": [
    {
     "name": "stdout",
     "output_type": "stream",
     "text": [
      "The mean age of student category is: 26 yrs\n"
     ]
    }
   ],
   "source": [
    "print('The mean age of student category is:', round(bank[bank.job == 'student'].age.mean()),'yrs')"
   ]
  },
  {
   "cell_type": "markdown",
   "metadata": {},
   "source": [
    "Mean age of the top two categories has been calculated to see if the results support what has been observed while analyzing the Age category and there indeed do. Young adults represent 25 yrs age group and retired individuals represent individuals aged 60 yrs and more."
   ]
  },
  {
   "cell_type": "markdown",
   "metadata": {},
   "source": [
    "#### Months of an year"
   ]
  },
  {
   "cell_type": "code",
   "execution_count": 37,
   "metadata": {
    "collapsed": false
   },
   "outputs": [
    {
     "data": {
      "text/plain": [
       "<matplotlib.text.Text at 0x11c0513c8>"
      ]
     },
     "execution_count": 37,
     "metadata": {},
     "output_type": "execute_result"
    },
    {
     "data": {
      "image/png": "[encoded data removed]",
      "text/plain": [
       "<matplotlib.figure.Figure at 0x11e0a67f0>"
      ]
     },
     "metadata": {},
     "output_type": "display_data"
    }
   ],
   "source": [
    "#Conversion rates based on different Months of an year\n",
    "month_wise = bank.groupby('outcome').month.value_counts().unstack('outcome')\n",
    "month_wise['conversion_rate']= 100*month_wise[1]/(month_wise[0]+month_wise[1])\n",
    "month_wise['conversion_rate'].sort_values().plot(kind= 'bar', title = 'Month-wise % Conversion ',rot =360)\n",
    "plt.ylabel('Conversion %')\n",
    "plt.xlabel('Months')"
   ]
  },
  {
   "cell_type": "markdown",
   "metadata": {},
   "source": [
    "The Portuguese tax year runs concurrently with the calendar year from 1 January to 31 December. Individuals hold liquid cash until year-end in anticipation of unexpected expenditures over the course of that year. \n",
    "\n",
    "While locking funds in low-return investments such as term deposits in initial months itself might not be a good decision, year-end could be a good time to invest in them in order maximize tax benefits.\n",
    "\n",
    "Data ranges from May 2008 to Nov 2010, thus reducing the possibility of random occurrences to a good extent.\n",
    "\n"
   ]
  },
  {
   "cell_type": "markdown",
   "metadata": {},
   "source": [
    "#### Marital Status"
   ]
  },
  {
   "cell_type": "code",
   "execution_count": 38,
   "metadata": {
    "collapsed": false
   },
   "outputs": [
    {
     "data": {
      "text/plain": [
       "<matplotlib.text.Text at 0x11e50d048>"
      ]
     },
     "execution_count": 38,
     "metadata": {},
     "output_type": "execute_result"
    },
    {
     "data": {
      "image/png": "[encoded data removed]",
      "text/plain": [
       "<matplotlib.figure.Figure at 0x11e4f69b0>"
      ]
     },
     "metadata": {},
     "output_type": "display_data"
    }
   ],
   "source": [
    "#Conversion rates based on marital status\n",
    "marital_status = bank.groupby('outcome').marital.value_counts().unstack('outcome')\n",
    "marital_status['conversion_rate']= 100*marital_status[1]/(marital_status[0]+marital_status[1])\n",
    "marital_status['conversion_rate'].sort_values().plot(kind= 'bar', title = 'Conversion % based on Marital status',rot = 360)\n",
    "plt.ylabel('Conversion %')\n",
    "plt.xlabel('Marital status')"
   ]
  },
  {
   "cell_type": "markdown",
   "metadata": {},
   "source": [
    "Not much difference can be observed in conversion rates based on martital status categories in this preliminary analysis. "
   ]
  },
  {
   "cell_type": "markdown",
   "metadata": {},
   "source": [
    "#### Contact"
   ]
  },
  {
   "cell_type": "code",
   "execution_count": 39,
   "metadata": {
    "collapsed": false
   },
   "outputs": [
    {
     "data": {
      "text/plain": [
       "array(['telephone', 'cellular'], dtype=object)"
      ]
     },
     "execution_count": 39,
     "metadata": {},
     "output_type": "execute_result"
    }
   ],
   "source": [
    "bank['contact'].unique()"
   ]
  },
  {
   "cell_type": "code",
   "execution_count": 40,
   "metadata": {
    "collapsed": false
   },
   "outputs": [
    {
     "data": {
      "text/plain": [
       "<matplotlib.text.Text at 0x111312358>"
      ]
     },
     "execution_count": 40,
     "metadata": {},
     "output_type": "execute_result"
    },
    {
     "data": {
      "image/png": "[encoded data removed]",
      "text/plain": [
       "<matplotlib.figure.Figure at 0x11bcbdd30>"
      ]
     },
     "metadata": {},
     "output_type": "display_data"
    }
   ],
   "source": [
    "contact_conv = bank.groupby('outcome').contact.value_counts().unstack('outcome')\n",
    "contact_conv['conversion_rate']= 100*contact_conv[1]/(contact_conv[0]+contact_conv[1])\n",
    "contact_conv['conversion_rate'].sort_values().plot(kind= 'bar', title = 'Conversion % based on Mode of contact',rot=360)\n",
    "plt.ylabel('Conversion %')\n",
    "plt.xlabel('Mode of Contact')"
   ]
  },
  {
   "cell_type": "markdown",
   "metadata": {},
   "source": [
    "\n",
    "It has been observed that the conversion rate for customers contacted via mobile phones is 3 times higher than those contacted through landlines. Mobile bank transactions are slowly gaining popularity among individuals with varying socio-economic backgrounds due to comfort and ease of operation and this would provide banks with customer's mobile information.\n",
    "\n",
    "This shift could directly impact outcomes of marketing campaigns in study and thereby improving campaign profits to a great extend; based on above observation if everything else remains constant, just by contacting all customers via mobiles could increase profits by 3 times. "
   ]
  },
  {
   "cell_type": "markdown",
   "metadata": {},
   "source": [
    "#### pdays\n",
    "    Number of days that passed by after the client was last contacted from a previous campaign (numeric; 999 means client was not previously contacted)"
   ]
  },
  {
   "cell_type": "code",
   "execution_count": 41,
   "metadata": {
    "collapsed": false
   },
   "outputs": [
    {
     "data": {
      "text/plain": [
       "999    37792\n",
       "3        403\n",
       "6        386\n",
       "4        109\n",
       "2         58\n",
       "9         57\n",
       "12        55\n",
       "7         54\n",
       "10        48\n",
       "5         45\n",
       "13        33\n",
       "11        26\n",
       "1         24\n",
       "15        22\n",
       "14        18\n",
       "8         16\n",
       "0         15\n",
       "16         8\n",
       "17         6\n",
       "18         5\n",
       "19         3\n",
       "22         3\n",
       "21         2\n",
       "26         1\n",
       "25         1\n",
       "27         1\n",
       "Name: pdays, dtype: int64"
      ]
     },
     "execution_count": 41,
     "metadata": {},
     "output_type": "execute_result"
    }
   ],
   "source": [
    "bank['pdays'].value_counts()"
   ]
  },
  {
   "cell_type": "markdown",
   "metadata": {},
   "source": [
    "A huge majority of customers have not been contacted for any marketing campaigns in the past. This variable will not help in predicting outcome of the campaign and therefore will be dropped for futher analysis. "
   ]
  },
  {
   "cell_type": "code",
   "execution_count": 42,
   "metadata": {
    "collapsed": true
   },
   "outputs": [],
   "source": [
    "bank = bank.drop('pdays', axis =1)"
   ]
  },
  {
   "cell_type": "markdown",
   "metadata": {},
   "source": [
    "#### poutcome"
   ]
  },
  {
   "cell_type": "code",
   "execution_count": 43,
   "metadata": {
    "collapsed": false
   },
   "outputs": [
    {
     "data": {
      "text/plain": [
       "nonexistent    33877\n",
       "failure         4044\n",
       "success         1270\n",
       "Name: poutcome, dtype: int64"
      ]
     },
     "execution_count": 43,
     "metadata": {},
     "output_type": "execute_result"
    }
   ],
   "source": [
    "bank['poutcome'].value_counts()"
   ]
  },
  {
   "cell_type": "markdown",
   "metadata": {},
   "source": [
    "Previous campaign outcome in non existent for 90% of the customers.This variable will not add any value while trying to predict current campaigns outcome and hence will be dropped from further analysis."
   ]
  },
  {
   "cell_type": "code",
   "execution_count": 44,
   "metadata": {
    "collapsed": false,
    "scrolled": true
   },
   "outputs": [],
   "source": [
    "bank = bank.drop('poutcome',axis=1)"
   ]
  },
  {
   "cell_type": "markdown",
   "metadata": {},
   "source": [
    "#### previous"
   ]
  },
  {
   "cell_type": "code",
   "execution_count": 45,
   "metadata": {
    "collapsed": false
   },
   "outputs": [
    {
     "data": {
      "text/plain": [
       "0    33877\n",
       "1     4342\n",
       "2      688\n",
       "3      202\n",
       "4       61\n",
       "5       16\n",
       "6        4\n",
       "7        1\n",
       "Name: previous, dtype: int64"
      ]
     },
     "execution_count": 45,
     "metadata": {},
     "output_type": "execute_result"
    }
   ],
   "source": [
    "bank['previous'].value_counts()"
   ]
  },
  {
   "cell_type": "markdown",
   "metadata": {},
   "source": [
    "This variable is same as poutcome. It is the number of contacts performed before this campaign and for this client. This variable shall be dropped as well. "
   ]
  },
  {
   "cell_type": "code",
   "execution_count": 46,
   "metadata": {
    "collapsed": true
   },
   "outputs": [],
   "source": [
    "bank = bank.drop('previous', axis =1)"
   ]
  },
  {
   "cell_type": "markdown",
   "metadata": {},
   "source": [
    "###  Normalizing dataset"
   ]
  },
  {
   "cell_type": "code",
   "execution_count": 47,
   "metadata": {
    "collapsed": false
   },
   "outputs": [],
   "source": [
    "bank_continuous = bank[['number_calls','emp.var.rate','cons.price.idx','cons.conf.idx','euribor3m','nr.employed']]"
   ]
  },
  {
   "cell_type": "code",
   "execution_count": 48,
   "metadata": {
    "collapsed": false
   },
   "outputs": [],
   "source": [
    "#Normalizing dataset\n",
    "for columns in bank_continuous:\n",
    "    bank[columns] = (bank[columns]-np.mean(bank[columns]))/(np.std(bank[columns]))\n",
    "    columns = range(bank_continuous.shape[1])"
   ]
  },
  {
   "cell_type": "code",
   "execution_count": 49,
   "metadata": {
    "collapsed": false
   },
   "outputs": [
    {
     "data": {
      "text/html": [
       "<div>\n",
       "<style>\n",
       "    .dataframe thead tr:only-child th {\n",
       "        text-align: right;\n",
       "    }\n",
       "\n",
       "    .dataframe thead th {\n",
       "        text-align: left;\n",
       "    }\n",
       "\n",
       "    .dataframe tbody tr th {\n",
       "        vertical-align: top;\n",
       "    }\n",
       "</style>\n",
       "<table border=\"1\" class=\"dataframe\">\n",
       "  <thead>\n",
       "    <tr style=\"text-align: right;\">\n",
       "      <th></th>\n",
       "      <th>age</th>\n",
       "      <th>number_calls</th>\n",
       "      <th>emp.var.rate</th>\n",
       "      <th>cons.price.idx</th>\n",
       "      <th>cons.conf.idx</th>\n",
       "      <th>euribor3m</th>\n",
       "      <th>nr.employed</th>\n",
       "      <th>outcome</th>\n",
       "    </tr>\n",
       "  </thead>\n",
       "  <tbody>\n",
       "    <tr>\n",
       "      <th>count</th>\n",
       "      <td>39191.000000</td>\n",
       "      <td>3.919100e+04</td>\n",
       "      <td>3.919100e+04</td>\n",
       "      <td>3.919100e+04</td>\n",
       "      <td>3.919100e+04</td>\n",
       "      <td>3.919100e+04</td>\n",
       "      <td>3.919100e+04</td>\n",
       "      <td>39191.000000</td>\n",
       "    </tr>\n",
       "    <tr>\n",
       "      <th>mean</th>\n",
       "      <td>39.858003</td>\n",
       "      <td>-2.896203e-14</td>\n",
       "      <td>-5.348150e-14</td>\n",
       "      <td>-7.344020e-11</td>\n",
       "      <td>-2.098819e-12</td>\n",
       "      <td>1.595393e-13</td>\n",
       "      <td>4.769420e-11</td>\n",
       "      <td>0.111250</td>\n",
       "    </tr>\n",
       "    <tr>\n",
       "      <th>std</th>\n",
       "      <td>10.288300</td>\n",
       "      <td>1.000013e+00</td>\n",
       "      <td>1.000013e+00</td>\n",
       "      <td>1.000013e+00</td>\n",
       "      <td>1.000013e+00</td>\n",
       "      <td>1.000013e+00</td>\n",
       "      <td>1.000013e+00</td>\n",
       "      <td>0.314446</td>\n",
       "    </tr>\n",
       "    <tr>\n",
       "      <th>min</th>\n",
       "      <td>17.000000</td>\n",
       "      <td>-5.650571e-01</td>\n",
       "      <td>-2.223606e+00</td>\n",
       "      <td>-2.375423e+00</td>\n",
       "      <td>-2.220515e+00</td>\n",
       "      <td>-1.727642e+00</td>\n",
       "      <td>-2.839021e+00</td>\n",
       "      <td>0.000000</td>\n",
       "    </tr>\n",
       "    <tr>\n",
       "      <th>25%</th>\n",
       "      <td>32.000000</td>\n",
       "      <td>-5.650571e-01</td>\n",
       "      <td>-1.202209e+00</td>\n",
       "      <td>-8.608027e-01</td>\n",
       "      <td>-4.679642e-01</td>\n",
       "      <td>-1.317349e+00</td>\n",
       "      <td>-9.514885e-01</td>\n",
       "      <td>0.000000</td>\n",
       "    </tr>\n",
       "    <tr>\n",
       "      <th>50%</th>\n",
       "      <td>38.000000</td>\n",
       "      <td>-2.043164e-01</td>\n",
       "      <td>6.490731e-01</td>\n",
       "      <td>-2.213350e-01</td>\n",
       "      <td>-2.732364e-01</td>\n",
       "      <td>7.127348e-01</td>\n",
       "      <td>3.286907e-01</td>\n",
       "      <td>0.000000</td>\n",
       "    </tr>\n",
       "    <tr>\n",
       "      <th>75%</th>\n",
       "      <td>47.000000</td>\n",
       "      <td>1.564244e-01</td>\n",
       "      <td>8.405850e-01</td>\n",
       "      <td>7.318012e-01</td>\n",
       "      <td>8.951305e-01</td>\n",
       "      <td>7.728341e-01</td>\n",
       "      <td>8.454986e-01</td>\n",
       "      <td>0.000000</td>\n",
       "    </tr>\n",
       "    <tr>\n",
       "      <th>max</th>\n",
       "      <td>98.000000</td>\n",
       "      <td>1.927568e+01</td>\n",
       "      <td>8.405850e-01</td>\n",
       "      <td>2.071391e+00</td>\n",
       "      <td>2.950591e+00</td>\n",
       "      <td>8.213758e-01</td>\n",
       "      <td>8.454986e-01</td>\n",
       "      <td>1.000000</td>\n",
       "    </tr>\n",
       "  </tbody>\n",
       "</table>\n",
       "</div>"
      ],
      "text/plain": [
       "                age  number_calls  emp.var.rate  cons.price.idx  \\\n",
       "count  39191.000000  3.919100e+04  3.919100e+04    3.919100e+04   \n",
       "mean      39.858003 -2.896203e-14 -5.348150e-14   -7.344020e-11   \n",
       "std       10.288300  1.000013e+00  1.000013e+00    1.000013e+00   \n",
       "min       17.000000 -5.650571e-01 -2.223606e+00   -2.375423e+00   \n",
       "25%       32.000000 -5.650571e-01 -1.202209e+00   -8.608027e-01   \n",
       "50%       38.000000 -2.043164e-01  6.490731e-01   -2.213350e-01   \n",
       "75%       47.000000  1.564244e-01  8.405850e-01    7.318012e-01   \n",
       "max       98.000000  1.927568e+01  8.405850e-01    2.071391e+00   \n",
       "\n",
       "       cons.conf.idx     euribor3m   nr.employed       outcome  \n",
       "count   3.919100e+04  3.919100e+04  3.919100e+04  39191.000000  \n",
       "mean   -2.098819e-12  1.595393e-13  4.769420e-11      0.111250  \n",
       "std     1.000013e+00  1.000013e+00  1.000013e+00      0.314446  \n",
       "min    -2.220515e+00 -1.727642e+00 -2.839021e+00      0.000000  \n",
       "25%    -4.679642e-01 -1.317349e+00 -9.514885e-01      0.000000  \n",
       "50%    -2.732364e-01  7.127348e-01  3.286907e-01      0.000000  \n",
       "75%     8.951305e-01  7.728341e-01  8.454986e-01      0.000000  \n",
       "max     2.950591e+00  8.213758e-01  8.454986e-01      1.000000  "
      ]
     },
     "execution_count": 49,
     "metadata": {},
     "output_type": "execute_result"
    }
   ],
   "source": [
    "bank.describe()"
   ]
  },
  {
   "cell_type": "markdown",
   "metadata": {},
   "source": [
    "##  Check for Multi-collinearity "
   ]
  },
  {
   "cell_type": "code",
   "execution_count": 50,
   "metadata": {
    "collapsed": false
   },
   "outputs": [
    {
     "data": {
      "text/html": [
       "<div>\n",
       "<style>\n",
       "    .dataframe thead tr:only-child th {\n",
       "        text-align: right;\n",
       "    }\n",
       "\n",
       "    .dataframe thead th {\n",
       "        text-align: left;\n",
       "    }\n",
       "\n",
       "    .dataframe tbody tr th {\n",
       "        vertical-align: top;\n",
       "    }\n",
       "</style>\n",
       "<table border=\"1\" class=\"dataframe\">\n",
       "  <thead>\n",
       "    <tr style=\"text-align: right;\">\n",
       "      <th></th>\n",
       "      <th>age</th>\n",
       "      <th>number_calls</th>\n",
       "      <th>emp.var.rate</th>\n",
       "      <th>cons.price.idx</th>\n",
       "      <th>cons.conf.idx</th>\n",
       "      <th>euribor3m</th>\n",
       "      <th>nr.employed</th>\n",
       "      <th>outcome</th>\n",
       "    </tr>\n",
       "  </thead>\n",
       "  <tbody>\n",
       "    <tr>\n",
       "      <th>age</th>\n",
       "      <td>True</td>\n",
       "      <td>False</td>\n",
       "      <td>False</td>\n",
       "      <td>False</td>\n",
       "      <td>False</td>\n",
       "      <td>False</td>\n",
       "      <td>False</td>\n",
       "      <td>False</td>\n",
       "    </tr>\n",
       "    <tr>\n",
       "      <th>number_calls</th>\n",
       "      <td>False</td>\n",
       "      <td>True</td>\n",
       "      <td>False</td>\n",
       "      <td>False</td>\n",
       "      <td>False</td>\n",
       "      <td>False</td>\n",
       "      <td>False</td>\n",
       "      <td>False</td>\n",
       "    </tr>\n",
       "    <tr>\n",
       "      <th>emp.var.rate</th>\n",
       "      <td>False</td>\n",
       "      <td>False</td>\n",
       "      <td>True</td>\n",
       "      <td>True</td>\n",
       "      <td>False</td>\n",
       "      <td>True</td>\n",
       "      <td>True</td>\n",
       "      <td>False</td>\n",
       "    </tr>\n",
       "    <tr>\n",
       "      <th>cons.price.idx</th>\n",
       "      <td>False</td>\n",
       "      <td>False</td>\n",
       "      <td>True</td>\n",
       "      <td>True</td>\n",
       "      <td>False</td>\n",
       "      <td>True</td>\n",
       "      <td>True</td>\n",
       "      <td>False</td>\n",
       "    </tr>\n",
       "    <tr>\n",
       "      <th>cons.conf.idx</th>\n",
       "      <td>False</td>\n",
       "      <td>False</td>\n",
       "      <td>False</td>\n",
       "      <td>False</td>\n",
       "      <td>True</td>\n",
       "      <td>False</td>\n",
       "      <td>False</td>\n",
       "      <td>False</td>\n",
       "    </tr>\n",
       "    <tr>\n",
       "      <th>euribor3m</th>\n",
       "      <td>False</td>\n",
       "      <td>False</td>\n",
       "      <td>True</td>\n",
       "      <td>True</td>\n",
       "      <td>False</td>\n",
       "      <td>True</td>\n",
       "      <td>True</td>\n",
       "      <td>False</td>\n",
       "    </tr>\n",
       "    <tr>\n",
       "      <th>nr.employed</th>\n",
       "      <td>False</td>\n",
       "      <td>False</td>\n",
       "      <td>True</td>\n",
       "      <td>True</td>\n",
       "      <td>False</td>\n",
       "      <td>True</td>\n",
       "      <td>True</td>\n",
       "      <td>False</td>\n",
       "    </tr>\n",
       "    <tr>\n",
       "      <th>outcome</th>\n",
       "      <td>False</td>\n",
       "      <td>False</td>\n",
       "      <td>False</td>\n",
       "      <td>False</td>\n",
       "      <td>False</td>\n",
       "      <td>False</td>\n",
       "      <td>False</td>\n",
       "      <td>True</td>\n",
       "    </tr>\n",
       "  </tbody>\n",
       "</table>\n",
       "</div>"
      ],
      "text/plain": [
       "                  age  number_calls  emp.var.rate  cons.price.idx  \\\n",
       "age              True         False         False           False   \n",
       "number_calls    False          True         False           False   \n",
       "emp.var.rate    False         False          True            True   \n",
       "cons.price.idx  False         False          True            True   \n",
       "cons.conf.idx   False         False         False           False   \n",
       "euribor3m       False         False          True            True   \n",
       "nr.employed     False         False          True            True   \n",
       "outcome         False         False         False           False   \n",
       "\n",
       "                cons.conf.idx  euribor3m  nr.employed  outcome  \n",
       "age                     False      False        False    False  \n",
       "number_calls            False      False        False    False  \n",
       "emp.var.rate            False       True         True    False  \n",
       "cons.price.idx          False       True         True    False  \n",
       "cons.conf.idx            True      False        False    False  \n",
       "euribor3m               False       True         True    False  \n",
       "nr.employed             False       True         True    False  \n",
       "outcome                 False      False        False     True  "
      ]
     },
     "execution_count": 50,
     "metadata": {},
     "output_type": "execute_result"
    }
   ],
   "source": [
    "bank.corr() > 0.5"
   ]
  },
  {
   "cell_type": "markdown",
   "metadata": {},
   "source": [
    "High collinearity exists among the following macro-econimic factors:\n",
    "- Employee Variable rate, Consumer Price Index, Euribor 3m rate and number employed."
   ]
  },
  {
   "cell_type": "markdown",
   "metadata": {},
   "source": [
    "## PCA to eliminate multi collinearity"
   ]
  },
  {
   "cell_type": "code",
   "execution_count": 51,
   "metadata": {
    "collapsed": false
   },
   "outputs": [
    {
     "data": {
      "text/html": [
       "<div>\n",
       "<style>\n",
       "    .dataframe thead tr:only-child th {\n",
       "        text-align: right;\n",
       "    }\n",
       "\n",
       "    .dataframe thead th {\n",
       "        text-align: left;\n",
       "    }\n",
       "\n",
       "    .dataframe tbody tr th {\n",
       "        vertical-align: top;\n",
       "    }\n",
       "</style>\n",
       "<table border=\"1\" class=\"dataframe\">\n",
       "  <thead>\n",
       "    <tr style=\"text-align: right;\">\n",
       "      <th></th>\n",
       "      <th>emp.var.rate</th>\n",
       "      <th>cons.price.idx</th>\n",
       "      <th>cons.conf.idx</th>\n",
       "      <th>euribor3m</th>\n",
       "      <th>nr.employed</th>\n",
       "    </tr>\n",
       "  </thead>\n",
       "  <tbody>\n",
       "    <tr>\n",
       "      <th>0</th>\n",
       "      <td>0.649073</td>\n",
       "      <td>0.731801</td>\n",
       "      <td>0.895131</td>\n",
       "      <td>0.712735</td>\n",
       "      <td>0.328691</td>\n",
       "    </tr>\n",
       "    <tr>\n",
       "      <th>1</th>\n",
       "      <td>0.649073</td>\n",
       "      <td>0.731801</td>\n",
       "      <td>0.895131</td>\n",
       "      <td>0.712735</td>\n",
       "      <td>0.328691</td>\n",
       "    </tr>\n",
       "    <tr>\n",
       "      <th>2</th>\n",
       "      <td>0.649073</td>\n",
       "      <td>0.731801</td>\n",
       "      <td>0.895131</td>\n",
       "      <td>0.712735</td>\n",
       "      <td>0.328691</td>\n",
       "    </tr>\n",
       "    <tr>\n",
       "      <th>3</th>\n",
       "      <td>0.649073</td>\n",
       "      <td>0.731801</td>\n",
       "      <td>0.895131</td>\n",
       "      <td>0.712735</td>\n",
       "      <td>0.328691</td>\n",
       "    </tr>\n",
       "    <tr>\n",
       "      <th>4</th>\n",
       "      <td>0.649073</td>\n",
       "      <td>0.731801</td>\n",
       "      <td>0.895131</td>\n",
       "      <td>0.712735</td>\n",
       "      <td>0.328691</td>\n",
       "    </tr>\n",
       "    <tr>\n",
       "      <th>5</th>\n",
       "      <td>0.649073</td>\n",
       "      <td>0.731801</td>\n",
       "      <td>0.895131</td>\n",
       "      <td>0.712735</td>\n",
       "      <td>0.328691</td>\n",
       "    </tr>\n",
       "    <tr>\n",
       "      <th>6</th>\n",
       "      <td>0.649073</td>\n",
       "      <td>0.731801</td>\n",
       "      <td>0.895131</td>\n",
       "      <td>0.712735</td>\n",
       "      <td>0.328691</td>\n",
       "    </tr>\n",
       "    <tr>\n",
       "      <th>8</th>\n",
       "      <td>0.649073</td>\n",
       "      <td>0.731801</td>\n",
       "      <td>0.895131</td>\n",
       "      <td>0.712735</td>\n",
       "      <td>0.328691</td>\n",
       "    </tr>\n",
       "    <tr>\n",
       "      <th>9</th>\n",
       "      <td>0.649073</td>\n",
       "      <td>0.731801</td>\n",
       "      <td>0.895131</td>\n",
       "      <td>0.712735</td>\n",
       "      <td>0.328691</td>\n",
       "    </tr>\n",
       "    <tr>\n",
       "      <th>11</th>\n",
       "      <td>0.649073</td>\n",
       "      <td>0.731801</td>\n",
       "      <td>0.895131</td>\n",
       "      <td>0.712735</td>\n",
       "      <td>0.328691</td>\n",
       "    </tr>\n",
       "    <tr>\n",
       "      <th>12</th>\n",
       "      <td>0.649073</td>\n",
       "      <td>0.731801</td>\n",
       "      <td>0.895131</td>\n",
       "      <td>0.712735</td>\n",
       "      <td>0.328691</td>\n",
       "    </tr>\n",
       "    <tr>\n",
       "      <th>13</th>\n",
       "      <td>0.649073</td>\n",
       "      <td>0.731801</td>\n",
       "      <td>0.895131</td>\n",
       "      <td>0.712735</td>\n",
       "      <td>0.328691</td>\n",
       "    </tr>\n",
       "    <tr>\n",
       "      <th>14</th>\n",
       "      <td>0.649073</td>\n",
       "      <td>0.731801</td>\n",
       "      <td>0.895131</td>\n",
       "      <td>0.712735</td>\n",
       "      <td>0.328691</td>\n",
       "    </tr>\n",
       "    <tr>\n",
       "      <th>15</th>\n",
       "      <td>0.649073</td>\n",
       "      <td>0.731801</td>\n",
       "      <td>0.895131</td>\n",
       "      <td>0.712735</td>\n",
       "      <td>0.328691</td>\n",
       "    </tr>\n",
       "    <tr>\n",
       "      <th>16</th>\n",
       "      <td>0.649073</td>\n",
       "      <td>0.731801</td>\n",
       "      <td>0.895131</td>\n",
       "      <td>0.712735</td>\n",
       "      <td>0.328691</td>\n",
       "    </tr>\n",
       "    <tr>\n",
       "      <th>17</th>\n",
       "      <td>0.649073</td>\n",
       "      <td>0.731801</td>\n",
       "      <td>0.895131</td>\n",
       "      <td>0.712735</td>\n",
       "      <td>0.328691</td>\n",
       "    </tr>\n",
       "    <tr>\n",
       "      <th>18</th>\n",
       "      <td>0.649073</td>\n",
       "      <td>0.731801</td>\n",
       "      <td>0.895131</td>\n",
       "      <td>0.712735</td>\n",
       "      <td>0.328691</td>\n",
       "    </tr>\n",
       "    <tr>\n",
       "      <th>19</th>\n",
       "      <td>0.649073</td>\n",
       "      <td>0.731801</td>\n",
       "      <td>0.895131</td>\n",
       "      <td>0.712735</td>\n",
       "      <td>0.328691</td>\n",
       "    </tr>\n",
       "    <tr>\n",
       "      <th>20</th>\n",
       "      <td>0.649073</td>\n",
       "      <td>0.731801</td>\n",
       "      <td>0.895131</td>\n",
       "      <td>0.712735</td>\n",
       "      <td>0.328691</td>\n",
       "    </tr>\n",
       "    <tr>\n",
       "      <th>21</th>\n",
       "      <td>0.649073</td>\n",
       "      <td>0.731801</td>\n",
       "      <td>0.895131</td>\n",
       "      <td>0.712735</td>\n",
       "      <td>0.328691</td>\n",
       "    </tr>\n",
       "    <tr>\n",
       "      <th>22</th>\n",
       "      <td>0.649073</td>\n",
       "      <td>0.731801</td>\n",
       "      <td>0.895131</td>\n",
       "      <td>0.712735</td>\n",
       "      <td>0.328691</td>\n",
       "    </tr>\n",
       "    <tr>\n",
       "      <th>23</th>\n",
       "      <td>0.649073</td>\n",
       "      <td>0.731801</td>\n",
       "      <td>0.895131</td>\n",
       "      <td>0.712735</td>\n",
       "      <td>0.328691</td>\n",
       "    </tr>\n",
       "    <tr>\n",
       "      <th>24</th>\n",
       "      <td>0.649073</td>\n",
       "      <td>0.731801</td>\n",
       "      <td>0.895131</td>\n",
       "      <td>0.712735</td>\n",
       "      <td>0.328691</td>\n",
       "    </tr>\n",
       "    <tr>\n",
       "      <th>25</th>\n",
       "      <td>0.649073</td>\n",
       "      <td>0.731801</td>\n",
       "      <td>0.895131</td>\n",
       "      <td>0.712735</td>\n",
       "      <td>0.328691</td>\n",
       "    </tr>\n",
       "    <tr>\n",
       "      <th>27</th>\n",
       "      <td>0.649073</td>\n",
       "      <td>0.731801</td>\n",
       "      <td>0.895131</td>\n",
       "      <td>0.712735</td>\n",
       "      <td>0.328691</td>\n",
       "    </tr>\n",
       "    <tr>\n",
       "      <th>28</th>\n",
       "      <td>0.649073</td>\n",
       "      <td>0.731801</td>\n",
       "      <td>0.895131</td>\n",
       "      <td>0.712735</td>\n",
       "      <td>0.328691</td>\n",
       "    </tr>\n",
       "    <tr>\n",
       "      <th>33</th>\n",
       "      <td>0.649073</td>\n",
       "      <td>0.731801</td>\n",
       "      <td>0.895131</td>\n",
       "      <td>0.712735</td>\n",
       "      <td>0.328691</td>\n",
       "    </tr>\n",
       "    <tr>\n",
       "      <th>34</th>\n",
       "      <td>0.649073</td>\n",
       "      <td>0.731801</td>\n",
       "      <td>0.895131</td>\n",
       "      <td>0.712735</td>\n",
       "      <td>0.328691</td>\n",
       "    </tr>\n",
       "    <tr>\n",
       "      <th>36</th>\n",
       "      <td>0.649073</td>\n",
       "      <td>0.731801</td>\n",
       "      <td>0.895131</td>\n",
       "      <td>0.712735</td>\n",
       "      <td>0.328691</td>\n",
       "    </tr>\n",
       "    <tr>\n",
       "      <th>37</th>\n",
       "      <td>0.649073</td>\n",
       "      <td>0.731801</td>\n",
       "      <td>0.895131</td>\n",
       "      <td>0.712735</td>\n",
       "      <td>0.328691</td>\n",
       "    </tr>\n",
       "    <tr>\n",
       "      <th>...</th>\n",
       "      <td>...</td>\n",
       "      <td>...</td>\n",
       "      <td>...</td>\n",
       "      <td>...</td>\n",
       "      <td>...</td>\n",
       "    </tr>\n",
       "    <tr>\n",
       "      <th>41157</th>\n",
       "      <td>-0.755348</td>\n",
       "      <td>2.071391</td>\n",
       "      <td>-2.220515</td>\n",
       "      <td>-1.493601</td>\n",
       "      <td>-2.839021</td>\n",
       "    </tr>\n",
       "    <tr>\n",
       "      <th>41158</th>\n",
       "      <td>-0.755348</td>\n",
       "      <td>2.071391</td>\n",
       "      <td>-2.220515</td>\n",
       "      <td>-1.495913</td>\n",
       "      <td>-2.839021</td>\n",
       "    </tr>\n",
       "    <tr>\n",
       "      <th>41159</th>\n",
       "      <td>-0.755348</td>\n",
       "      <td>2.071391</td>\n",
       "      <td>-2.220515</td>\n",
       "      <td>-1.495913</td>\n",
       "      <td>-2.839021</td>\n",
       "    </tr>\n",
       "    <tr>\n",
       "      <th>41160</th>\n",
       "      <td>-0.755348</td>\n",
       "      <td>2.071391</td>\n",
       "      <td>-2.220515</td>\n",
       "      <td>-1.495913</td>\n",
       "      <td>-2.839021</td>\n",
       "    </tr>\n",
       "    <tr>\n",
       "      <th>41161</th>\n",
       "      <td>-0.755348</td>\n",
       "      <td>2.071391</td>\n",
       "      <td>-2.220515</td>\n",
       "      <td>-1.495913</td>\n",
       "      <td>-2.839021</td>\n",
       "    </tr>\n",
       "    <tr>\n",
       "      <th>41162</th>\n",
       "      <td>-0.755348</td>\n",
       "      <td>2.071391</td>\n",
       "      <td>-2.220515</td>\n",
       "      <td>-1.495913</td>\n",
       "      <td>-2.839021</td>\n",
       "    </tr>\n",
       "    <tr>\n",
       "      <th>41163</th>\n",
       "      <td>-0.755348</td>\n",
       "      <td>2.071391</td>\n",
       "      <td>-2.220515</td>\n",
       "      <td>-1.495913</td>\n",
       "      <td>-2.839021</td>\n",
       "    </tr>\n",
       "    <tr>\n",
       "      <th>41164</th>\n",
       "      <td>-0.755348</td>\n",
       "      <td>2.071391</td>\n",
       "      <td>-2.220515</td>\n",
       "      <td>-1.495913</td>\n",
       "      <td>-2.839021</td>\n",
       "    </tr>\n",
       "    <tr>\n",
       "      <th>41165</th>\n",
       "      <td>-0.755348</td>\n",
       "      <td>2.071391</td>\n",
       "      <td>-2.220515</td>\n",
       "      <td>-1.498802</td>\n",
       "      <td>-2.839021</td>\n",
       "    </tr>\n",
       "    <tr>\n",
       "      <th>41166</th>\n",
       "      <td>-0.755348</td>\n",
       "      <td>2.071391</td>\n",
       "      <td>-2.220515</td>\n",
       "      <td>-1.498802</td>\n",
       "      <td>-2.839021</td>\n",
       "    </tr>\n",
       "    <tr>\n",
       "      <th>41167</th>\n",
       "      <td>-0.755348</td>\n",
       "      <td>2.071391</td>\n",
       "      <td>-2.220515</td>\n",
       "      <td>-1.498802</td>\n",
       "      <td>-2.839021</td>\n",
       "    </tr>\n",
       "    <tr>\n",
       "      <th>41168</th>\n",
       "      <td>-0.755348</td>\n",
       "      <td>2.071391</td>\n",
       "      <td>-2.220515</td>\n",
       "      <td>-1.498802</td>\n",
       "      <td>-2.839021</td>\n",
       "    </tr>\n",
       "    <tr>\n",
       "      <th>41169</th>\n",
       "      <td>-0.755348</td>\n",
       "      <td>2.071391</td>\n",
       "      <td>-2.220515</td>\n",
       "      <td>-1.498802</td>\n",
       "      <td>-2.839021</td>\n",
       "    </tr>\n",
       "    <tr>\n",
       "      <th>41170</th>\n",
       "      <td>-0.755348</td>\n",
       "      <td>2.071391</td>\n",
       "      <td>-2.220515</td>\n",
       "      <td>-1.498802</td>\n",
       "      <td>-2.839021</td>\n",
       "    </tr>\n",
       "    <tr>\n",
       "      <th>41171</th>\n",
       "      <td>-0.755348</td>\n",
       "      <td>2.071391</td>\n",
       "      <td>-2.220515</td>\n",
       "      <td>-1.498224</td>\n",
       "      <td>-2.839021</td>\n",
       "    </tr>\n",
       "    <tr>\n",
       "      <th>41172</th>\n",
       "      <td>-0.755348</td>\n",
       "      <td>2.071391</td>\n",
       "      <td>-2.220515</td>\n",
       "      <td>-1.498224</td>\n",
       "      <td>-2.839021</td>\n",
       "    </tr>\n",
       "    <tr>\n",
       "      <th>41173</th>\n",
       "      <td>-0.755348</td>\n",
       "      <td>2.071391</td>\n",
       "      <td>-2.220515</td>\n",
       "      <td>-1.498224</td>\n",
       "      <td>-2.839021</td>\n",
       "    </tr>\n",
       "    <tr>\n",
       "      <th>41174</th>\n",
       "      <td>-0.755348</td>\n",
       "      <td>2.071391</td>\n",
       "      <td>-2.220515</td>\n",
       "      <td>-1.498224</td>\n",
       "      <td>-2.839021</td>\n",
       "    </tr>\n",
       "    <tr>\n",
       "      <th>41176</th>\n",
       "      <td>-0.755348</td>\n",
       "      <td>2.071391</td>\n",
       "      <td>-2.220515</td>\n",
       "      <td>-1.498224</td>\n",
       "      <td>-2.839021</td>\n",
       "    </tr>\n",
       "    <tr>\n",
       "      <th>41177</th>\n",
       "      <td>-0.755348</td>\n",
       "      <td>2.071391</td>\n",
       "      <td>-2.220515</td>\n",
       "      <td>-1.498224</td>\n",
       "      <td>-2.839021</td>\n",
       "    </tr>\n",
       "    <tr>\n",
       "      <th>41178</th>\n",
       "      <td>-0.755348</td>\n",
       "      <td>2.071391</td>\n",
       "      <td>-2.220515</td>\n",
       "      <td>-1.498224</td>\n",
       "      <td>-2.839021</td>\n",
       "    </tr>\n",
       "    <tr>\n",
       "      <th>41179</th>\n",
       "      <td>-0.755348</td>\n",
       "      <td>2.071391</td>\n",
       "      <td>-2.220515</td>\n",
       "      <td>-1.499958</td>\n",
       "      <td>-2.839021</td>\n",
       "    </tr>\n",
       "    <tr>\n",
       "      <th>41180</th>\n",
       "      <td>-0.755348</td>\n",
       "      <td>2.071391</td>\n",
       "      <td>-2.220515</td>\n",
       "      <td>-1.499958</td>\n",
       "      <td>-2.839021</td>\n",
       "    </tr>\n",
       "    <tr>\n",
       "      <th>41181</th>\n",
       "      <td>-0.755348</td>\n",
       "      <td>2.071391</td>\n",
       "      <td>-2.220515</td>\n",
       "      <td>-1.499958</td>\n",
       "      <td>-2.839021</td>\n",
       "    </tr>\n",
       "    <tr>\n",
       "      <th>41182</th>\n",
       "      <td>-0.755348</td>\n",
       "      <td>2.071391</td>\n",
       "      <td>-2.220515</td>\n",
       "      <td>-1.499958</td>\n",
       "      <td>-2.839021</td>\n",
       "    </tr>\n",
       "    <tr>\n",
       "      <th>41183</th>\n",
       "      <td>-0.755348</td>\n",
       "      <td>2.071391</td>\n",
       "      <td>-2.220515</td>\n",
       "      <td>-1.499958</td>\n",
       "      <td>-2.839021</td>\n",
       "    </tr>\n",
       "    <tr>\n",
       "      <th>41184</th>\n",
       "      <td>-0.755348</td>\n",
       "      <td>2.071391</td>\n",
       "      <td>-2.220515</td>\n",
       "      <td>-1.499958</td>\n",
       "      <td>-2.839021</td>\n",
       "    </tr>\n",
       "    <tr>\n",
       "      <th>41185</th>\n",
       "      <td>-0.755348</td>\n",
       "      <td>2.071391</td>\n",
       "      <td>-2.220515</td>\n",
       "      <td>-1.499958</td>\n",
       "      <td>-2.839021</td>\n",
       "    </tr>\n",
       "    <tr>\n",
       "      <th>41186</th>\n",
       "      <td>-0.755348</td>\n",
       "      <td>2.071391</td>\n",
       "      <td>-2.220515</td>\n",
       "      <td>-1.499958</td>\n",
       "      <td>-2.839021</td>\n",
       "    </tr>\n",
       "    <tr>\n",
       "      <th>41187</th>\n",
       "      <td>-0.755348</td>\n",
       "      <td>2.071391</td>\n",
       "      <td>-2.220515</td>\n",
       "      <td>-1.499958</td>\n",
       "      <td>-2.839021</td>\n",
       "    </tr>\n",
       "  </tbody>\n",
       "</table>\n",
       "<p>39191 rows × 5 columns</p>\n",
       "</div>"
      ],
      "text/plain": [
       "       emp.var.rate  cons.price.idx  cons.conf.idx  euribor3m  nr.employed\n",
       "0          0.649073        0.731801       0.895131   0.712735     0.328691\n",
       "1          0.649073        0.731801       0.895131   0.712735     0.328691\n",
       "2          0.649073        0.731801       0.895131   0.712735     0.328691\n",
       "3          0.649073        0.731801       0.895131   0.712735     0.328691\n",
       "4          0.649073        0.731801       0.895131   0.712735     0.328691\n",
       "5          0.649073        0.731801       0.895131   0.712735     0.328691\n",
       "6          0.649073        0.731801       0.895131   0.712735     0.328691\n",
       "8          0.649073        0.731801       0.895131   0.712735     0.328691\n",
       "9          0.649073        0.731801       0.895131   0.712735     0.328691\n",
       "11         0.649073        0.731801       0.895131   0.712735     0.328691\n",
       "12         0.649073        0.731801       0.895131   0.712735     0.328691\n",
       "13         0.649073        0.731801       0.895131   0.712735     0.328691\n",
       "14         0.649073        0.731801       0.895131   0.712735     0.328691\n",
       "15         0.649073        0.731801       0.895131   0.712735     0.328691\n",
       "16         0.649073        0.731801       0.895131   0.712735     0.328691\n",
       "17         0.649073        0.731801       0.895131   0.712735     0.328691\n",
       "18         0.649073        0.731801       0.895131   0.712735     0.328691\n",
       "19         0.649073        0.731801       0.895131   0.712735     0.328691\n",
       "20         0.649073        0.731801       0.895131   0.712735     0.328691\n",
       "21         0.649073        0.731801       0.895131   0.712735     0.328691\n",
       "22         0.649073        0.731801       0.895131   0.712735     0.328691\n",
       "23         0.649073        0.731801       0.895131   0.712735     0.328691\n",
       "24         0.649073        0.731801       0.895131   0.712735     0.328691\n",
       "25         0.649073        0.731801       0.895131   0.712735     0.328691\n",
       "27         0.649073        0.731801       0.895131   0.712735     0.328691\n",
       "28         0.649073        0.731801       0.895131   0.712735     0.328691\n",
       "33         0.649073        0.731801       0.895131   0.712735     0.328691\n",
       "34         0.649073        0.731801       0.895131   0.712735     0.328691\n",
       "36         0.649073        0.731801       0.895131   0.712735     0.328691\n",
       "37         0.649073        0.731801       0.895131   0.712735     0.328691\n",
       "...             ...             ...            ...        ...          ...\n",
       "41157     -0.755348        2.071391      -2.220515  -1.493601    -2.839021\n",
       "41158     -0.755348        2.071391      -2.220515  -1.495913    -2.839021\n",
       "41159     -0.755348        2.071391      -2.220515  -1.495913    -2.839021\n",
       "41160     -0.755348        2.071391      -2.220515  -1.495913    -2.839021\n",
       "41161     -0.755348        2.071391      -2.220515  -1.495913    -2.839021\n",
       "41162     -0.755348        2.071391      -2.220515  -1.495913    -2.839021\n",
       "41163     -0.755348        2.071391      -2.220515  -1.495913    -2.839021\n",
       "41164     -0.755348        2.071391      -2.220515  -1.495913    -2.839021\n",
       "41165     -0.755348        2.071391      -2.220515  -1.498802    -2.839021\n",
       "41166     -0.755348        2.071391      -2.220515  -1.498802    -2.839021\n",
       "41167     -0.755348        2.071391      -2.220515  -1.498802    -2.839021\n",
       "41168     -0.755348        2.071391      -2.220515  -1.498802    -2.839021\n",
       "41169     -0.755348        2.071391      -2.220515  -1.498802    -2.839021\n",
       "41170     -0.755348        2.071391      -2.220515  -1.498802    -2.839021\n",
       "41171     -0.755348        2.071391      -2.220515  -1.498224    -2.839021\n",
       "41172     -0.755348        2.071391      -2.220515  -1.498224    -2.839021\n",
       "41173     -0.755348        2.071391      -2.220515  -1.498224    -2.839021\n",
       "41174     -0.755348        2.071391      -2.220515  -1.498224    -2.839021\n",
       "41176     -0.755348        2.071391      -2.220515  -1.498224    -2.839021\n",
       "41177     -0.755348        2.071391      -2.220515  -1.498224    -2.839021\n",
       "41178     -0.755348        2.071391      -2.220515  -1.498224    -2.839021\n",
       "41179     -0.755348        2.071391      -2.220515  -1.499958    -2.839021\n",
       "41180     -0.755348        2.071391      -2.220515  -1.499958    -2.839021\n",
       "41181     -0.755348        2.071391      -2.220515  -1.499958    -2.839021\n",
       "41182     -0.755348        2.071391      -2.220515  -1.499958    -2.839021\n",
       "41183     -0.755348        2.071391      -2.220515  -1.499958    -2.839021\n",
       "41184     -0.755348        2.071391      -2.220515  -1.499958    -2.839021\n",
       "41185     -0.755348        2.071391      -2.220515  -1.499958    -2.839021\n",
       "41186     -0.755348        2.071391      -2.220515  -1.499958    -2.839021\n",
       "41187     -0.755348        2.071391      -2.220515  -1.499958    -2.839021\n",
       "\n",
       "[39191 rows x 5 columns]"
      ]
     },
     "execution_count": 51,
     "metadata": {},
     "output_type": "execute_result"
    }
   ],
   "source": [
    "#bank subset containing macro-economic factors\n",
    "bank_pca = bank[['emp.var.rate','cons.price.idx','cons.conf.idx','euribor3m','nr.employed']]\n",
    "bank_pca"
   ]
  },
  {
   "cell_type": "code",
   "execution_count": 52,
   "metadata": {
    "collapsed": true
   },
   "outputs": [],
   "source": [
    "# Importing PCA algorithmn from library\n",
    "from sklearn.decomposition import PCA"
   ]
  },
  {
   "cell_type": "code",
   "execution_count": 53,
   "metadata": {
    "collapsed": false
   },
   "outputs": [
    {
     "name": "stdout",
     "output_type": "stream",
     "text": [
      "[ 0.69621665  0.19514891  0.10144656  0.00503414  0.00215375]\n"
     ]
    }
   ],
   "source": [
    "# Fitting PCA model onto macro-economic features\n",
    "pca = PCA()\n",
    "pca.fit(bank_pca)\n",
    "\n",
    "# Explained variance from each of the pca components\n",
    "print(pca.explained_variance_ratio_) "
   ]
  },
  {
   "cell_type": "code",
   "execution_count": 54,
   "metadata": {
    "collapsed": false
   },
   "outputs": [
    {
     "data": {
      "text/html": [
       "<div>\n",
       "<style>\n",
       "    .dataframe thead tr:only-child th {\n",
       "        text-align: right;\n",
       "    }\n",
       "\n",
       "    .dataframe thead th {\n",
       "        text-align: left;\n",
       "    }\n",
       "\n",
       "    .dataframe tbody tr th {\n",
       "        vertical-align: top;\n",
       "    }\n",
       "</style>\n",
       "<table border=\"1\" class=\"dataframe\">\n",
       "  <thead>\n",
       "    <tr style=\"text-align: right;\">\n",
       "      <th></th>\n",
       "      <th>Eigen Values</th>\n",
       "      <th>Number of Eigen Values</th>\n",
       "    </tr>\n",
       "  </thead>\n",
       "  <tbody>\n",
       "  </tbody>\n",
       "</table>\n",
       "</div>"
      ],
      "text/plain": [
       "Empty DataFrame\n",
       "Columns: [Eigen Values, Number of Eigen Values]\n",
       "Index: []"
      ]
     },
     "execution_count": 54,
     "metadata": {},
     "output_type": "execute_result"
    }
   ],
   "source": [
    "#Preparing data for Scree Plot\n",
    "x_df = pd.DataFrame(columns=['Eigen Values','Number of Eigen Values'])\n",
    "x_df"
   ]
  },
  {
   "cell_type": "code",
   "execution_count": 55,
   "metadata": {
    "collapsed": false
   },
   "outputs": [
    {
     "data": {
      "text/html": [
       "<div>\n",
       "<style>\n",
       "    .dataframe thead tr:only-child th {\n",
       "        text-align: right;\n",
       "    }\n",
       "\n",
       "    .dataframe thead th {\n",
       "        text-align: left;\n",
       "    }\n",
       "\n",
       "    .dataframe tbody tr th {\n",
       "        vertical-align: top;\n",
       "    }\n",
       "</style>\n",
       "<table border=\"1\" class=\"dataframe\">\n",
       "  <thead>\n",
       "    <tr style=\"text-align: right;\">\n",
       "      <th></th>\n",
       "      <th>Explained variance %</th>\n",
       "      <th>Number of Eigen Values</th>\n",
       "    </tr>\n",
       "  </thead>\n",
       "  <tbody>\n",
       "    <tr>\n",
       "      <th>0</th>\n",
       "      <td>69.621665</td>\n",
       "      <td>1</td>\n",
       "    </tr>\n",
       "    <tr>\n",
       "      <th>1</th>\n",
       "      <td>19.514891</td>\n",
       "      <td>2</td>\n",
       "    </tr>\n",
       "    <tr>\n",
       "      <th>2</th>\n",
       "      <td>10.144656</td>\n",
       "      <td>3</td>\n",
       "    </tr>\n",
       "    <tr>\n",
       "      <th>3</th>\n",
       "      <td>0.503414</td>\n",
       "      <td>4</td>\n",
       "    </tr>\n",
       "    <tr>\n",
       "      <th>4</th>\n",
       "      <td>0.215375</td>\n",
       "      <td>5</td>\n",
       "    </tr>\n",
       "  </tbody>\n",
       "</table>\n",
       "</div>"
      ],
      "text/plain": [
       "   Explained variance %  Number of Eigen Values\n",
       "0             69.621665                       1\n",
       "1             19.514891                       2\n",
       "2             10.144656                       3\n",
       "3              0.503414                       4\n",
       "4              0.215375                       5"
      ]
     },
     "execution_count": 55,
     "metadata": {},
     "output_type": "execute_result"
    }
   ],
   "source": [
    "x_df['Eigen Values'] = (pca.explained_variance_ratio_)*100\n",
    "x_df['Number of Eigen Values']= range(1, 6, 1)\n",
    "x_df.rename(columns={'Eigen Values':'Explained variance %'})"
   ]
  },
  {
   "cell_type": "code",
   "execution_count": 56,
   "metadata": {
    "collapsed": false
   },
   "outputs": [
    {
     "data": {
      "text/plain": [
       "<matplotlib.text.Text at 0x120232358>"
      ]
     },
     "execution_count": 56,
     "metadata": {},
     "output_type": "execute_result"
    },
    {
     "data": {
      "image/png": "[encoded data removed]",
      "text/plain": [
       "<matplotlib.figure.Figure at 0x11fec02e8>"
      ]
     },
     "metadata": {},
     "output_type": "display_data"
    }
   ],
   "source": [
    "# Selecting optimum number of pca components using Scree Plot\n",
    "x = x_df['Number of Eigen Values']\n",
    "y = x_df['Eigen Values']\n",
    "plt.plot(x,y,'bo-',label = \"Scree Plot to determine value for number of PCA components\")\n",
    "plt.xlabel('Number of Eigen Values')\n",
    "plt.ylabel('Eigen Values (Explained variance %)')\n",
    "plt.title('Scree plot to identify optimum number of Principal Components')"
   ]
  },
  {
   "cell_type": "markdown",
   "metadata": {},
   "source": [
    "For greater than 3 eigen values, the slope seems to flatten out i.e not much variance is explained by the remaining two components and hence 3 is an ideal pca number in this case. "
   ]
  },
  {
   "cell_type": "code",
   "execution_count": 57,
   "metadata": {
    "collapsed": false
   },
   "outputs": [
    {
     "data": {
      "text/html": [
       "<div>\n",
       "<style>\n",
       "    .dataframe thead tr:only-child th {\n",
       "        text-align: right;\n",
       "    }\n",
       "\n",
       "    .dataframe thead th {\n",
       "        text-align: left;\n",
       "    }\n",
       "\n",
       "    .dataframe tbody tr th {\n",
       "        vertical-align: top;\n",
       "    }\n",
       "</style>\n",
       "<table border=\"1\" class=\"dataframe\">\n",
       "  <thead>\n",
       "    <tr style=\"text-align: right;\">\n",
       "      <th></th>\n",
       "      <th>PCA1</th>\n",
       "      <th>PCA2</th>\n",
       "      <th>PCA3</th>\n",
       "    </tr>\n",
       "  </thead>\n",
       "  <tbody>\n",
       "    <tr>\n",
       "      <th>0</th>\n",
       "      <td>-1.317983</td>\n",
       "      <td>0.689282</td>\n",
       "      <td>0.396072</td>\n",
       "    </tr>\n",
       "    <tr>\n",
       "      <th>1</th>\n",
       "      <td>-1.317983</td>\n",
       "      <td>0.689282</td>\n",
       "      <td>0.396072</td>\n",
       "    </tr>\n",
       "    <tr>\n",
       "      <th>2</th>\n",
       "      <td>-1.317983</td>\n",
       "      <td>0.689282</td>\n",
       "      <td>0.396072</td>\n",
       "    </tr>\n",
       "    <tr>\n",
       "      <th>3</th>\n",
       "      <td>-1.317983</td>\n",
       "      <td>0.689282</td>\n",
       "      <td>0.396072</td>\n",
       "    </tr>\n",
       "    <tr>\n",
       "      <th>4</th>\n",
       "      <td>-1.317983</td>\n",
       "      <td>0.689282</td>\n",
       "      <td>0.396072</td>\n",
       "    </tr>\n",
       "    <tr>\n",
       "      <th>5</th>\n",
       "      <td>-1.317983</td>\n",
       "      <td>0.689282</td>\n",
       "      <td>0.396072</td>\n",
       "    </tr>\n",
       "    <tr>\n",
       "      <th>6</th>\n",
       "      <td>-1.317983</td>\n",
       "      <td>0.689282</td>\n",
       "      <td>0.396072</td>\n",
       "    </tr>\n",
       "    <tr>\n",
       "      <th>7</th>\n",
       "      <td>-1.317983</td>\n",
       "      <td>0.689282</td>\n",
       "      <td>0.396072</td>\n",
       "    </tr>\n",
       "    <tr>\n",
       "      <th>8</th>\n",
       "      <td>-1.317983</td>\n",
       "      <td>0.689282</td>\n",
       "      <td>0.396072</td>\n",
       "    </tr>\n",
       "    <tr>\n",
       "      <th>9</th>\n",
       "      <td>-1.317983</td>\n",
       "      <td>0.689282</td>\n",
       "      <td>0.396072</td>\n",
       "    </tr>\n",
       "    <tr>\n",
       "      <th>10</th>\n",
       "      <td>-1.317983</td>\n",
       "      <td>0.689282</td>\n",
       "      <td>0.396072</td>\n",
       "    </tr>\n",
       "    <tr>\n",
       "      <th>11</th>\n",
       "      <td>-1.317983</td>\n",
       "      <td>0.689282</td>\n",
       "      <td>0.396072</td>\n",
       "    </tr>\n",
       "    <tr>\n",
       "      <th>12</th>\n",
       "      <td>-1.317983</td>\n",
       "      <td>0.689282</td>\n",
       "      <td>0.396072</td>\n",
       "    </tr>\n",
       "    <tr>\n",
       "      <th>13</th>\n",
       "      <td>-1.317983</td>\n",
       "      <td>0.689282</td>\n",
       "      <td>0.396072</td>\n",
       "    </tr>\n",
       "    <tr>\n",
       "      <th>14</th>\n",
       "      <td>-1.317983</td>\n",
       "      <td>0.689282</td>\n",
       "      <td>0.396072</td>\n",
       "    </tr>\n",
       "    <tr>\n",
       "      <th>15</th>\n",
       "      <td>-1.317983</td>\n",
       "      <td>0.689282</td>\n",
       "      <td>0.396072</td>\n",
       "    </tr>\n",
       "    <tr>\n",
       "      <th>16</th>\n",
       "      <td>-1.317983</td>\n",
       "      <td>0.689282</td>\n",
       "      <td>0.396072</td>\n",
       "    </tr>\n",
       "    <tr>\n",
       "      <th>17</th>\n",
       "      <td>-1.317983</td>\n",
       "      <td>0.689282</td>\n",
       "      <td>0.396072</td>\n",
       "    </tr>\n",
       "    <tr>\n",
       "      <th>18</th>\n",
       "      <td>-1.317983</td>\n",
       "      <td>0.689282</td>\n",
       "      <td>0.396072</td>\n",
       "    </tr>\n",
       "    <tr>\n",
       "      <th>19</th>\n",
       "      <td>-1.317983</td>\n",
       "      <td>0.689282</td>\n",
       "      <td>0.396072</td>\n",
       "    </tr>\n",
       "    <tr>\n",
       "      <th>20</th>\n",
       "      <td>-1.317983</td>\n",
       "      <td>0.689282</td>\n",
       "      <td>0.396072</td>\n",
       "    </tr>\n",
       "    <tr>\n",
       "      <th>21</th>\n",
       "      <td>-1.317983</td>\n",
       "      <td>0.689282</td>\n",
       "      <td>0.396072</td>\n",
       "    </tr>\n",
       "    <tr>\n",
       "      <th>22</th>\n",
       "      <td>-1.317983</td>\n",
       "      <td>0.689282</td>\n",
       "      <td>0.396072</td>\n",
       "    </tr>\n",
       "    <tr>\n",
       "      <th>23</th>\n",
       "      <td>-1.317983</td>\n",
       "      <td>0.689282</td>\n",
       "      <td>0.396072</td>\n",
       "    </tr>\n",
       "    <tr>\n",
       "      <th>24</th>\n",
       "      <td>-1.317983</td>\n",
       "      <td>0.689282</td>\n",
       "      <td>0.396072</td>\n",
       "    </tr>\n",
       "    <tr>\n",
       "      <th>25</th>\n",
       "      <td>-1.317983</td>\n",
       "      <td>0.689282</td>\n",
       "      <td>0.396072</td>\n",
       "    </tr>\n",
       "    <tr>\n",
       "      <th>26</th>\n",
       "      <td>-1.317983</td>\n",
       "      <td>0.689282</td>\n",
       "      <td>0.396072</td>\n",
       "    </tr>\n",
       "    <tr>\n",
       "      <th>27</th>\n",
       "      <td>-1.317983</td>\n",
       "      <td>0.689282</td>\n",
       "      <td>0.396072</td>\n",
       "    </tr>\n",
       "    <tr>\n",
       "      <th>28</th>\n",
       "      <td>-1.317983</td>\n",
       "      <td>0.689282</td>\n",
       "      <td>0.396072</td>\n",
       "    </tr>\n",
       "    <tr>\n",
       "      <th>29</th>\n",
       "      <td>-1.317983</td>\n",
       "      <td>0.689282</td>\n",
       "      <td>0.396072</td>\n",
       "    </tr>\n",
       "    <tr>\n",
       "      <th>...</th>\n",
       "      <td>...</td>\n",
       "      <td>...</td>\n",
       "      <td>...</td>\n",
       "    </tr>\n",
       "    <tr>\n",
       "      <th>39161</th>\n",
       "      <td>2.028832</td>\n",
       "      <td>-2.306191</td>\n",
       "      <td>3.214152</td>\n",
       "    </tr>\n",
       "    <tr>\n",
       "      <th>39162</th>\n",
       "      <td>2.030054</td>\n",
       "      <td>-2.306294</td>\n",
       "      <td>3.214573</td>\n",
       "    </tr>\n",
       "    <tr>\n",
       "      <th>39163</th>\n",
       "      <td>2.030054</td>\n",
       "      <td>-2.306294</td>\n",
       "      <td>3.214573</td>\n",
       "    </tr>\n",
       "    <tr>\n",
       "      <th>39164</th>\n",
       "      <td>2.030054</td>\n",
       "      <td>-2.306294</td>\n",
       "      <td>3.214573</td>\n",
       "    </tr>\n",
       "    <tr>\n",
       "      <th>39165</th>\n",
       "      <td>2.030054</td>\n",
       "      <td>-2.306294</td>\n",
       "      <td>3.214573</td>\n",
       "    </tr>\n",
       "    <tr>\n",
       "      <th>39166</th>\n",
       "      <td>2.030054</td>\n",
       "      <td>-2.306294</td>\n",
       "      <td>3.214573</td>\n",
       "    </tr>\n",
       "    <tr>\n",
       "      <th>39167</th>\n",
       "      <td>2.030054</td>\n",
       "      <td>-2.306294</td>\n",
       "      <td>3.214573</td>\n",
       "    </tr>\n",
       "    <tr>\n",
       "      <th>39168</th>\n",
       "      <td>2.030054</td>\n",
       "      <td>-2.306294</td>\n",
       "      <td>3.214573</td>\n",
       "    </tr>\n",
       "    <tr>\n",
       "      <th>39169</th>\n",
       "      <td>2.031582</td>\n",
       "      <td>-2.306424</td>\n",
       "      <td>3.215099</td>\n",
       "    </tr>\n",
       "    <tr>\n",
       "      <th>39170</th>\n",
       "      <td>2.031582</td>\n",
       "      <td>-2.306424</td>\n",
       "      <td>3.215099</td>\n",
       "    </tr>\n",
       "    <tr>\n",
       "      <th>39171</th>\n",
       "      <td>2.031582</td>\n",
       "      <td>-2.306424</td>\n",
       "      <td>3.215099</td>\n",
       "    </tr>\n",
       "    <tr>\n",
       "      <th>39172</th>\n",
       "      <td>2.031582</td>\n",
       "      <td>-2.306424</td>\n",
       "      <td>3.215099</td>\n",
       "    </tr>\n",
       "    <tr>\n",
       "      <th>39173</th>\n",
       "      <td>2.031582</td>\n",
       "      <td>-2.306424</td>\n",
       "      <td>3.215099</td>\n",
       "    </tr>\n",
       "    <tr>\n",
       "      <th>39174</th>\n",
       "      <td>2.031582</td>\n",
       "      <td>-2.306424</td>\n",
       "      <td>3.215099</td>\n",
       "    </tr>\n",
       "    <tr>\n",
       "      <th>39175</th>\n",
       "      <td>2.031277</td>\n",
       "      <td>-2.306398</td>\n",
       "      <td>3.214994</td>\n",
       "    </tr>\n",
       "    <tr>\n",
       "      <th>39176</th>\n",
       "      <td>2.031277</td>\n",
       "      <td>-2.306398</td>\n",
       "      <td>3.214994</td>\n",
       "    </tr>\n",
       "    <tr>\n",
       "      <th>39177</th>\n",
       "      <td>2.031277</td>\n",
       "      <td>-2.306398</td>\n",
       "      <td>3.214994</td>\n",
       "    </tr>\n",
       "    <tr>\n",
       "      <th>39178</th>\n",
       "      <td>2.031277</td>\n",
       "      <td>-2.306398</td>\n",
       "      <td>3.214994</td>\n",
       "    </tr>\n",
       "    <tr>\n",
       "      <th>39179</th>\n",
       "      <td>2.031277</td>\n",
       "      <td>-2.306398</td>\n",
       "      <td>3.214994</td>\n",
       "    </tr>\n",
       "    <tr>\n",
       "      <th>39180</th>\n",
       "      <td>2.031277</td>\n",
       "      <td>-2.306398</td>\n",
       "      <td>3.214994</td>\n",
       "    </tr>\n",
       "    <tr>\n",
       "      <th>39181</th>\n",
       "      <td>2.031277</td>\n",
       "      <td>-2.306398</td>\n",
       "      <td>3.214994</td>\n",
       "    </tr>\n",
       "    <tr>\n",
       "      <th>39182</th>\n",
       "      <td>2.032194</td>\n",
       "      <td>-2.306476</td>\n",
       "      <td>3.215309</td>\n",
       "    </tr>\n",
       "    <tr>\n",
       "      <th>39183</th>\n",
       "      <td>2.032194</td>\n",
       "      <td>-2.306476</td>\n",
       "      <td>3.215309</td>\n",
       "    </tr>\n",
       "    <tr>\n",
       "      <th>39184</th>\n",
       "      <td>2.032194</td>\n",
       "      <td>-2.306476</td>\n",
       "      <td>3.215309</td>\n",
       "    </tr>\n",
       "    <tr>\n",
       "      <th>39185</th>\n",
       "      <td>2.032194</td>\n",
       "      <td>-2.306476</td>\n",
       "      <td>3.215309</td>\n",
       "    </tr>\n",
       "    <tr>\n",
       "      <th>39186</th>\n",
       "      <td>2.032194</td>\n",
       "      <td>-2.306476</td>\n",
       "      <td>3.215309</td>\n",
       "    </tr>\n",
       "    <tr>\n",
       "      <th>39187</th>\n",
       "      <td>2.032194</td>\n",
       "      <td>-2.306476</td>\n",
       "      <td>3.215309</td>\n",
       "    </tr>\n",
       "    <tr>\n",
       "      <th>39188</th>\n",
       "      <td>2.032194</td>\n",
       "      <td>-2.306476</td>\n",
       "      <td>3.215309</td>\n",
       "    </tr>\n",
       "    <tr>\n",
       "      <th>39189</th>\n",
       "      <td>2.032194</td>\n",
       "      <td>-2.306476</td>\n",
       "      <td>3.215309</td>\n",
       "    </tr>\n",
       "    <tr>\n",
       "      <th>39190</th>\n",
       "      <td>2.032194</td>\n",
       "      <td>-2.306476</td>\n",
       "      <td>3.215309</td>\n",
       "    </tr>\n",
       "  </tbody>\n",
       "</table>\n",
       "<p>39191 rows × 3 columns</p>\n",
       "</div>"
      ],
      "text/plain": [
       "           PCA1      PCA2      PCA3\n",
       "0     -1.317983  0.689282  0.396072\n",
       "1     -1.317983  0.689282  0.396072\n",
       "2     -1.317983  0.689282  0.396072\n",
       "3     -1.317983  0.689282  0.396072\n",
       "4     -1.317983  0.689282  0.396072\n",
       "5     -1.317983  0.689282  0.396072\n",
       "6     -1.317983  0.689282  0.396072\n",
       "7     -1.317983  0.689282  0.396072\n",
       "8     -1.317983  0.689282  0.396072\n",
       "9     -1.317983  0.689282  0.396072\n",
       "10    -1.317983  0.689282  0.396072\n",
       "11    -1.317983  0.689282  0.396072\n",
       "12    -1.317983  0.689282  0.396072\n",
       "13    -1.317983  0.689282  0.396072\n",
       "14    -1.317983  0.689282  0.396072\n",
       "15    -1.317983  0.689282  0.396072\n",
       "16    -1.317983  0.689282  0.396072\n",
       "17    -1.317983  0.689282  0.396072\n",
       "18    -1.317983  0.689282  0.396072\n",
       "19    -1.317983  0.689282  0.396072\n",
       "20    -1.317983  0.689282  0.396072\n",
       "21    -1.317983  0.689282  0.396072\n",
       "22    -1.317983  0.689282  0.396072\n",
       "23    -1.317983  0.689282  0.396072\n",
       "24    -1.317983  0.689282  0.396072\n",
       "25    -1.317983  0.689282  0.396072\n",
       "26    -1.317983  0.689282  0.396072\n",
       "27    -1.317983  0.689282  0.396072\n",
       "28    -1.317983  0.689282  0.396072\n",
       "29    -1.317983  0.689282  0.396072\n",
       "...         ...       ...       ...\n",
       "39161  2.028832 -2.306191  3.214152\n",
       "39162  2.030054 -2.306294  3.214573\n",
       "39163  2.030054 -2.306294  3.214573\n",
       "39164  2.030054 -2.306294  3.214573\n",
       "39165  2.030054 -2.306294  3.214573\n",
       "39166  2.030054 -2.306294  3.214573\n",
       "39167  2.030054 -2.306294  3.214573\n",
       "39168  2.030054 -2.306294  3.214573\n",
       "39169  2.031582 -2.306424  3.215099\n",
       "39170  2.031582 -2.306424  3.215099\n",
       "39171  2.031582 -2.306424  3.215099\n",
       "39172  2.031582 -2.306424  3.215099\n",
       "39173  2.031582 -2.306424  3.215099\n",
       "39174  2.031582 -2.306424  3.215099\n",
       "39175  2.031277 -2.306398  3.214994\n",
       "39176  2.031277 -2.306398  3.214994\n",
       "39177  2.031277 -2.306398  3.214994\n",
       "39178  2.031277 -2.306398  3.214994\n",
       "39179  2.031277 -2.306398  3.214994\n",
       "39180  2.031277 -2.306398  3.214994\n",
       "39181  2.031277 -2.306398  3.214994\n",
       "39182  2.032194 -2.306476  3.215309\n",
       "39183  2.032194 -2.306476  3.215309\n",
       "39184  2.032194 -2.306476  3.215309\n",
       "39185  2.032194 -2.306476  3.215309\n",
       "39186  2.032194 -2.306476  3.215309\n",
       "39187  2.032194 -2.306476  3.215309\n",
       "39188  2.032194 -2.306476  3.215309\n",
       "39189  2.032194 -2.306476  3.215309\n",
       "39190  2.032194 -2.306476  3.215309\n",
       "\n",
       "[39191 rows x 3 columns]"
      ]
     },
     "execution_count": 57,
     "metadata": {},
     "output_type": "execute_result"
    }
   ],
   "source": [
    "# Generating component array from macro-economic features\n",
    "pca_array = pca.transform(bank_pca)\n",
    "# Creating a dataframe with top 3 PCA components\n",
    "bank_pca_df = pd.DataFrame(pca_array)\n",
    "bank_pca_df= bank_pca_df.rename(columns={0:'PCA1',1:'PCA2',2:'PCA3',3:'PCA4',4:'PCA5'})\n",
    "bank_pca_df= bank_pca_df.drop(['PCA4','PCA5'],axis =1)\n",
    "bank_pca_df"
   ]
  },
  {
   "cell_type": "code",
   "execution_count": 58,
   "metadata": {
    "collapsed": false
   },
   "outputs": [
    {
     "data": {
      "text/html": [
       "<div>\n",
       "<style>\n",
       "    .dataframe thead tr:only-child th {\n",
       "        text-align: right;\n",
       "    }\n",
       "\n",
       "    .dataframe thead th {\n",
       "        text-align: left;\n",
       "    }\n",
       "\n",
       "    .dataframe tbody tr th {\n",
       "        vertical-align: top;\n",
       "    }\n",
       "</style>\n",
       "<table border=\"1\" class=\"dataframe\">\n",
       "  <thead>\n",
       "    <tr style=\"text-align: right;\">\n",
       "      <th></th>\n",
       "      <th>age</th>\n",
       "      <th>job</th>\n",
       "      <th>marital</th>\n",
       "      <th>education</th>\n",
       "      <th>contact</th>\n",
       "      <th>month</th>\n",
       "      <th>day_of_week</th>\n",
       "      <th>number_calls</th>\n",
       "      <th>outcome</th>\n",
       "      <th>age_category</th>\n",
       "    </tr>\n",
       "  </thead>\n",
       "  <tbody>\n",
       "    <tr>\n",
       "      <th>0</th>\n",
       "      <td>56</td>\n",
       "      <td>housemaid</td>\n",
       "      <td>married</td>\n",
       "      <td>basic</td>\n",
       "      <td>telephone</td>\n",
       "      <td>may</td>\n",
       "      <td>mon</td>\n",
       "      <td>-0.565057</td>\n",
       "      <td>0</td>\n",
       "      <td>Working adult</td>\n",
       "    </tr>\n",
       "    <tr>\n",
       "      <th>1</th>\n",
       "      <td>57</td>\n",
       "      <td>services</td>\n",
       "      <td>married</td>\n",
       "      <td>high.school</td>\n",
       "      <td>telephone</td>\n",
       "      <td>may</td>\n",
       "      <td>mon</td>\n",
       "      <td>-0.565057</td>\n",
       "      <td>0</td>\n",
       "      <td>Working adult</td>\n",
       "    </tr>\n",
       "    <tr>\n",
       "      <th>2</th>\n",
       "      <td>37</td>\n",
       "      <td>services</td>\n",
       "      <td>married</td>\n",
       "      <td>high.school</td>\n",
       "      <td>telephone</td>\n",
       "      <td>may</td>\n",
       "      <td>mon</td>\n",
       "      <td>-0.565057</td>\n",
       "      <td>0</td>\n",
       "      <td>Working adult</td>\n",
       "    </tr>\n",
       "    <tr>\n",
       "      <th>3</th>\n",
       "      <td>40</td>\n",
       "      <td>admin.</td>\n",
       "      <td>married</td>\n",
       "      <td>basic</td>\n",
       "      <td>telephone</td>\n",
       "      <td>may</td>\n",
       "      <td>mon</td>\n",
       "      <td>-0.565057</td>\n",
       "      <td>0</td>\n",
       "      <td>Working adult</td>\n",
       "    </tr>\n",
       "    <tr>\n",
       "      <th>4</th>\n",
       "      <td>56</td>\n",
       "      <td>services</td>\n",
       "      <td>married</td>\n",
       "      <td>high.school</td>\n",
       "      <td>telephone</td>\n",
       "      <td>may</td>\n",
       "      <td>mon</td>\n",
       "      <td>-0.565057</td>\n",
       "      <td>0</td>\n",
       "      <td>Working adult</td>\n",
       "    </tr>\n",
       "    <tr>\n",
       "      <th>5</th>\n",
       "      <td>45</td>\n",
       "      <td>services</td>\n",
       "      <td>married</td>\n",
       "      <td>basic</td>\n",
       "      <td>telephone</td>\n",
       "      <td>may</td>\n",
       "      <td>mon</td>\n",
       "      <td>-0.565057</td>\n",
       "      <td>0</td>\n",
       "      <td>Working adult</td>\n",
       "    </tr>\n",
       "    <tr>\n",
       "      <th>6</th>\n",
       "      <td>59</td>\n",
       "      <td>admin.</td>\n",
       "      <td>married</td>\n",
       "      <td>professional.course</td>\n",
       "      <td>telephone</td>\n",
       "      <td>may</td>\n",
       "      <td>mon</td>\n",
       "      <td>-0.565057</td>\n",
       "      <td>0</td>\n",
       "      <td>Working adult</td>\n",
       "    </tr>\n",
       "    <tr>\n",
       "      <th>7</th>\n",
       "      <td>24</td>\n",
       "      <td>technician</td>\n",
       "      <td>single</td>\n",
       "      <td>professional.course</td>\n",
       "      <td>telephone</td>\n",
       "      <td>may</td>\n",
       "      <td>mon</td>\n",
       "      <td>-0.565057</td>\n",
       "      <td>0</td>\n",
       "      <td>Young adult</td>\n",
       "    </tr>\n",
       "    <tr>\n",
       "      <th>8</th>\n",
       "      <td>25</td>\n",
       "      <td>services</td>\n",
       "      <td>single</td>\n",
       "      <td>high.school</td>\n",
       "      <td>telephone</td>\n",
       "      <td>may</td>\n",
       "      <td>mon</td>\n",
       "      <td>-0.565057</td>\n",
       "      <td>0</td>\n",
       "      <td>Working adult</td>\n",
       "    </tr>\n",
       "    <tr>\n",
       "      <th>9</th>\n",
       "      <td>25</td>\n",
       "      <td>services</td>\n",
       "      <td>single</td>\n",
       "      <td>high.school</td>\n",
       "      <td>telephone</td>\n",
       "      <td>may</td>\n",
       "      <td>mon</td>\n",
       "      <td>-0.565057</td>\n",
       "      <td>0</td>\n",
       "      <td>Working adult</td>\n",
       "    </tr>\n",
       "    <tr>\n",
       "      <th>10</th>\n",
       "      <td>29</td>\n",
       "      <td>blue-collar</td>\n",
       "      <td>single</td>\n",
       "      <td>high.school</td>\n",
       "      <td>telephone</td>\n",
       "      <td>may</td>\n",
       "      <td>mon</td>\n",
       "      <td>-0.565057</td>\n",
       "      <td>0</td>\n",
       "      <td>Working adult</td>\n",
       "    </tr>\n",
       "    <tr>\n",
       "      <th>11</th>\n",
       "      <td>57</td>\n",
       "      <td>housemaid</td>\n",
       "      <td>divorced</td>\n",
       "      <td>basic</td>\n",
       "      <td>telephone</td>\n",
       "      <td>may</td>\n",
       "      <td>mon</td>\n",
       "      <td>-0.565057</td>\n",
       "      <td>0</td>\n",
       "      <td>Working adult</td>\n",
       "    </tr>\n",
       "    <tr>\n",
       "      <th>12</th>\n",
       "      <td>35</td>\n",
       "      <td>blue-collar</td>\n",
       "      <td>married</td>\n",
       "      <td>basic</td>\n",
       "      <td>telephone</td>\n",
       "      <td>may</td>\n",
       "      <td>mon</td>\n",
       "      <td>-0.565057</td>\n",
       "      <td>0</td>\n",
       "      <td>Working adult</td>\n",
       "    </tr>\n",
       "    <tr>\n",
       "      <th>13</th>\n",
       "      <td>54</td>\n",
       "      <td>retired</td>\n",
       "      <td>married</td>\n",
       "      <td>basic</td>\n",
       "      <td>telephone</td>\n",
       "      <td>may</td>\n",
       "      <td>mon</td>\n",
       "      <td>-0.565057</td>\n",
       "      <td>0</td>\n",
       "      <td>Working adult</td>\n",
       "    </tr>\n",
       "    <tr>\n",
       "      <th>14</th>\n",
       "      <td>35</td>\n",
       "      <td>blue-collar</td>\n",
       "      <td>married</td>\n",
       "      <td>basic</td>\n",
       "      <td>telephone</td>\n",
       "      <td>may</td>\n",
       "      <td>mon</td>\n",
       "      <td>-0.565057</td>\n",
       "      <td>0</td>\n",
       "      <td>Working adult</td>\n",
       "    </tr>\n",
       "    <tr>\n",
       "      <th>15</th>\n",
       "      <td>46</td>\n",
       "      <td>blue-collar</td>\n",
       "      <td>married</td>\n",
       "      <td>basic</td>\n",
       "      <td>telephone</td>\n",
       "      <td>may</td>\n",
       "      <td>mon</td>\n",
       "      <td>-0.565057</td>\n",
       "      <td>0</td>\n",
       "      <td>Working adult</td>\n",
       "    </tr>\n",
       "    <tr>\n",
       "      <th>16</th>\n",
       "      <td>50</td>\n",
       "      <td>blue-collar</td>\n",
       "      <td>married</td>\n",
       "      <td>basic</td>\n",
       "      <td>telephone</td>\n",
       "      <td>may</td>\n",
       "      <td>mon</td>\n",
       "      <td>-0.565057</td>\n",
       "      <td>0</td>\n",
       "      <td>Working adult</td>\n",
       "    </tr>\n",
       "    <tr>\n",
       "      <th>17</th>\n",
       "      <td>39</td>\n",
       "      <td>management</td>\n",
       "      <td>single</td>\n",
       "      <td>basic</td>\n",
       "      <td>telephone</td>\n",
       "      <td>may</td>\n",
       "      <td>mon</td>\n",
       "      <td>-0.565057</td>\n",
       "      <td>0</td>\n",
       "      <td>Working adult</td>\n",
       "    </tr>\n",
       "    <tr>\n",
       "      <th>18</th>\n",
       "      <td>30</td>\n",
       "      <td>unemployed</td>\n",
       "      <td>married</td>\n",
       "      <td>high.school</td>\n",
       "      <td>telephone</td>\n",
       "      <td>may</td>\n",
       "      <td>mon</td>\n",
       "      <td>-0.565057</td>\n",
       "      <td>0</td>\n",
       "      <td>Working adult</td>\n",
       "    </tr>\n",
       "    <tr>\n",
       "      <th>19</th>\n",
       "      <td>55</td>\n",
       "      <td>blue-collar</td>\n",
       "      <td>married</td>\n",
       "      <td>basic</td>\n",
       "      <td>telephone</td>\n",
       "      <td>may</td>\n",
       "      <td>mon</td>\n",
       "      <td>-0.565057</td>\n",
       "      <td>0</td>\n",
       "      <td>Working adult</td>\n",
       "    </tr>\n",
       "    <tr>\n",
       "      <th>20</th>\n",
       "      <td>55</td>\n",
       "      <td>retired</td>\n",
       "      <td>single</td>\n",
       "      <td>high.school</td>\n",
       "      <td>telephone</td>\n",
       "      <td>may</td>\n",
       "      <td>mon</td>\n",
       "      <td>-0.565057</td>\n",
       "      <td>0</td>\n",
       "      <td>Working adult</td>\n",
       "    </tr>\n",
       "    <tr>\n",
       "      <th>21</th>\n",
       "      <td>41</td>\n",
       "      <td>technician</td>\n",
       "      <td>single</td>\n",
       "      <td>high.school</td>\n",
       "      <td>telephone</td>\n",
       "      <td>may</td>\n",
       "      <td>mon</td>\n",
       "      <td>-0.565057</td>\n",
       "      <td>0</td>\n",
       "      <td>Working adult</td>\n",
       "    </tr>\n",
       "    <tr>\n",
       "      <th>22</th>\n",
       "      <td>37</td>\n",
       "      <td>admin.</td>\n",
       "      <td>married</td>\n",
       "      <td>high.school</td>\n",
       "      <td>telephone</td>\n",
       "      <td>may</td>\n",
       "      <td>mon</td>\n",
       "      <td>-0.565057</td>\n",
       "      <td>0</td>\n",
       "      <td>Working adult</td>\n",
       "    </tr>\n",
       "    <tr>\n",
       "      <th>23</th>\n",
       "      <td>35</td>\n",
       "      <td>technician</td>\n",
       "      <td>married</td>\n",
       "      <td>university.degree</td>\n",
       "      <td>telephone</td>\n",
       "      <td>may</td>\n",
       "      <td>mon</td>\n",
       "      <td>-0.565057</td>\n",
       "      <td>0</td>\n",
       "      <td>Working adult</td>\n",
       "    </tr>\n",
       "    <tr>\n",
       "      <th>24</th>\n",
       "      <td>39</td>\n",
       "      <td>self-employed</td>\n",
       "      <td>married</td>\n",
       "      <td>basic</td>\n",
       "      <td>telephone</td>\n",
       "      <td>may</td>\n",
       "      <td>mon</td>\n",
       "      <td>-0.565057</td>\n",
       "      <td>0</td>\n",
       "      <td>Working adult</td>\n",
       "    </tr>\n",
       "    <tr>\n",
       "      <th>25</th>\n",
       "      <td>54</td>\n",
       "      <td>technician</td>\n",
       "      <td>single</td>\n",
       "      <td>university.degree</td>\n",
       "      <td>telephone</td>\n",
       "      <td>may</td>\n",
       "      <td>mon</td>\n",
       "      <td>-0.204316</td>\n",
       "      <td>0</td>\n",
       "      <td>Working adult</td>\n",
       "    </tr>\n",
       "    <tr>\n",
       "      <th>26</th>\n",
       "      <td>54</td>\n",
       "      <td>management</td>\n",
       "      <td>married</td>\n",
       "      <td>basic</td>\n",
       "      <td>telephone</td>\n",
       "      <td>may</td>\n",
       "      <td>mon</td>\n",
       "      <td>-0.565057</td>\n",
       "      <td>0</td>\n",
       "      <td>Working adult</td>\n",
       "    </tr>\n",
       "    <tr>\n",
       "      <th>27</th>\n",
       "      <td>54</td>\n",
       "      <td>blue-collar</td>\n",
       "      <td>divorced</td>\n",
       "      <td>basic</td>\n",
       "      <td>telephone</td>\n",
       "      <td>may</td>\n",
       "      <td>mon</td>\n",
       "      <td>-0.565057</td>\n",
       "      <td>0</td>\n",
       "      <td>Working adult</td>\n",
       "    </tr>\n",
       "    <tr>\n",
       "      <th>28</th>\n",
       "      <td>34</td>\n",
       "      <td>services</td>\n",
       "      <td>married</td>\n",
       "      <td>high.school</td>\n",
       "      <td>telephone</td>\n",
       "      <td>may</td>\n",
       "      <td>mon</td>\n",
       "      <td>-0.565057</td>\n",
       "      <td>0</td>\n",
       "      <td>Working adult</td>\n",
       "    </tr>\n",
       "    <tr>\n",
       "      <th>29</th>\n",
       "      <td>52</td>\n",
       "      <td>technician</td>\n",
       "      <td>married</td>\n",
       "      <td>basic</td>\n",
       "      <td>telephone</td>\n",
       "      <td>may</td>\n",
       "      <td>mon</td>\n",
       "      <td>-0.565057</td>\n",
       "      <td>0</td>\n",
       "      <td>Working adult</td>\n",
       "    </tr>\n",
       "    <tr>\n",
       "      <th>...</th>\n",
       "      <td>...</td>\n",
       "      <td>...</td>\n",
       "      <td>...</td>\n",
       "      <td>...</td>\n",
       "      <td>...</td>\n",
       "      <td>...</td>\n",
       "      <td>...</td>\n",
       "      <td>...</td>\n",
       "      <td>...</td>\n",
       "      <td>...</td>\n",
       "    </tr>\n",
       "    <tr>\n",
       "      <th>39161</th>\n",
       "      <td>31</td>\n",
       "      <td>housemaid</td>\n",
       "      <td>single</td>\n",
       "      <td>university.degree</td>\n",
       "      <td>cellular</td>\n",
       "      <td>nov</td>\n",
       "      <td>mon</td>\n",
       "      <td>0.517165</td>\n",
       "      <td>0</td>\n",
       "      <td>Working adult</td>\n",
       "    </tr>\n",
       "    <tr>\n",
       "      <th>39162</th>\n",
       "      <td>35</td>\n",
       "      <td>technician</td>\n",
       "      <td>divorced</td>\n",
       "      <td>basic</td>\n",
       "      <td>cellular</td>\n",
       "      <td>nov</td>\n",
       "      <td>tue</td>\n",
       "      <td>-0.565057</td>\n",
       "      <td>1</td>\n",
       "      <td>Working adult</td>\n",
       "    </tr>\n",
       "    <tr>\n",
       "      <th>39163</th>\n",
       "      <td>35</td>\n",
       "      <td>technician</td>\n",
       "      <td>divorced</td>\n",
       "      <td>basic</td>\n",
       "      <td>cellular</td>\n",
       "      <td>nov</td>\n",
       "      <td>tue</td>\n",
       "      <td>-0.565057</td>\n",
       "      <td>1</td>\n",
       "      <td>Working adult</td>\n",
       "    </tr>\n",
       "    <tr>\n",
       "      <th>39164</th>\n",
       "      <td>33</td>\n",
       "      <td>admin.</td>\n",
       "      <td>married</td>\n",
       "      <td>university.degree</td>\n",
       "      <td>cellular</td>\n",
       "      <td>nov</td>\n",
       "      <td>tue</td>\n",
       "      <td>-0.565057</td>\n",
       "      <td>1</td>\n",
       "      <td>Working adult</td>\n",
       "    </tr>\n",
       "    <tr>\n",
       "      <th>39165</th>\n",
       "      <td>33</td>\n",
       "      <td>admin.</td>\n",
       "      <td>married</td>\n",
       "      <td>university.degree</td>\n",
       "      <td>cellular</td>\n",
       "      <td>nov</td>\n",
       "      <td>tue</td>\n",
       "      <td>-0.565057</td>\n",
       "      <td>0</td>\n",
       "      <td>Working adult</td>\n",
       "    </tr>\n",
       "    <tr>\n",
       "      <th>39166</th>\n",
       "      <td>60</td>\n",
       "      <td>blue-collar</td>\n",
       "      <td>married</td>\n",
       "      <td>basic</td>\n",
       "      <td>cellular</td>\n",
       "      <td>nov</td>\n",
       "      <td>tue</td>\n",
       "      <td>-0.204316</td>\n",
       "      <td>0</td>\n",
       "      <td>Post-retirement</td>\n",
       "    </tr>\n",
       "    <tr>\n",
       "      <th>39167</th>\n",
       "      <td>35</td>\n",
       "      <td>technician</td>\n",
       "      <td>divorced</td>\n",
       "      <td>basic</td>\n",
       "      <td>cellular</td>\n",
       "      <td>nov</td>\n",
       "      <td>tue</td>\n",
       "      <td>0.156424</td>\n",
       "      <td>1</td>\n",
       "      <td>Working adult</td>\n",
       "    </tr>\n",
       "    <tr>\n",
       "      <th>39168</th>\n",
       "      <td>54</td>\n",
       "      <td>admin.</td>\n",
       "      <td>married</td>\n",
       "      <td>professional.course</td>\n",
       "      <td>cellular</td>\n",
       "      <td>nov</td>\n",
       "      <td>tue</td>\n",
       "      <td>-0.204316</td>\n",
       "      <td>1</td>\n",
       "      <td>Working adult</td>\n",
       "    </tr>\n",
       "    <tr>\n",
       "      <th>39169</th>\n",
       "      <td>38</td>\n",
       "      <td>housemaid</td>\n",
       "      <td>divorced</td>\n",
       "      <td>university.degree</td>\n",
       "      <td>cellular</td>\n",
       "      <td>nov</td>\n",
       "      <td>wed</td>\n",
       "      <td>-0.204316</td>\n",
       "      <td>1</td>\n",
       "      <td>Working adult</td>\n",
       "    </tr>\n",
       "    <tr>\n",
       "      <th>39170</th>\n",
       "      <td>32</td>\n",
       "      <td>admin.</td>\n",
       "      <td>married</td>\n",
       "      <td>university.degree</td>\n",
       "      <td>telephone</td>\n",
       "      <td>nov</td>\n",
       "      <td>wed</td>\n",
       "      <td>-0.565057</td>\n",
       "      <td>1</td>\n",
       "      <td>Working adult</td>\n",
       "    </tr>\n",
       "    <tr>\n",
       "      <th>39171</th>\n",
       "      <td>32</td>\n",
       "      <td>admin.</td>\n",
       "      <td>married</td>\n",
       "      <td>university.degree</td>\n",
       "      <td>cellular</td>\n",
       "      <td>nov</td>\n",
       "      <td>wed</td>\n",
       "      <td>0.156424</td>\n",
       "      <td>0</td>\n",
       "      <td>Working adult</td>\n",
       "    </tr>\n",
       "    <tr>\n",
       "      <th>39172</th>\n",
       "      <td>38</td>\n",
       "      <td>entrepreneur</td>\n",
       "      <td>married</td>\n",
       "      <td>university.degree</td>\n",
       "      <td>cellular</td>\n",
       "      <td>nov</td>\n",
       "      <td>wed</td>\n",
       "      <td>-0.204316</td>\n",
       "      <td>0</td>\n",
       "      <td>Working adult</td>\n",
       "    </tr>\n",
       "    <tr>\n",
       "      <th>39173</th>\n",
       "      <td>62</td>\n",
       "      <td>services</td>\n",
       "      <td>married</td>\n",
       "      <td>high.school</td>\n",
       "      <td>cellular</td>\n",
       "      <td>nov</td>\n",
       "      <td>wed</td>\n",
       "      <td>0.877906</td>\n",
       "      <td>0</td>\n",
       "      <td>Post-retirement</td>\n",
       "    </tr>\n",
       "    <tr>\n",
       "      <th>39174</th>\n",
       "      <td>40</td>\n",
       "      <td>management</td>\n",
       "      <td>divorced</td>\n",
       "      <td>university.degree</td>\n",
       "      <td>cellular</td>\n",
       "      <td>nov</td>\n",
       "      <td>wed</td>\n",
       "      <td>-0.204316</td>\n",
       "      <td>0</td>\n",
       "      <td>Working adult</td>\n",
       "    </tr>\n",
       "    <tr>\n",
       "      <th>39175</th>\n",
       "      <td>33</td>\n",
       "      <td>student</td>\n",
       "      <td>married</td>\n",
       "      <td>professional.course</td>\n",
       "      <td>telephone</td>\n",
       "      <td>nov</td>\n",
       "      <td>thu</td>\n",
       "      <td>-0.565057</td>\n",
       "      <td>1</td>\n",
       "      <td>Working adult</td>\n",
       "    </tr>\n",
       "    <tr>\n",
       "      <th>39176</th>\n",
       "      <td>31</td>\n",
       "      <td>admin.</td>\n",
       "      <td>single</td>\n",
       "      <td>university.degree</td>\n",
       "      <td>cellular</td>\n",
       "      <td>nov</td>\n",
       "      <td>thu</td>\n",
       "      <td>-0.565057</td>\n",
       "      <td>1</td>\n",
       "      <td>Working adult</td>\n",
       "    </tr>\n",
       "    <tr>\n",
       "      <th>39177</th>\n",
       "      <td>62</td>\n",
       "      <td>retired</td>\n",
       "      <td>married</td>\n",
       "      <td>university.degree</td>\n",
       "      <td>cellular</td>\n",
       "      <td>nov</td>\n",
       "      <td>thu</td>\n",
       "      <td>-0.565057</td>\n",
       "      <td>1</td>\n",
       "      <td>Post-retirement</td>\n",
       "    </tr>\n",
       "    <tr>\n",
       "      <th>39178</th>\n",
       "      <td>62</td>\n",
       "      <td>retired</td>\n",
       "      <td>married</td>\n",
       "      <td>university.degree</td>\n",
       "      <td>cellular</td>\n",
       "      <td>nov</td>\n",
       "      <td>thu</td>\n",
       "      <td>-0.565057</td>\n",
       "      <td>1</td>\n",
       "      <td>Post-retirement</td>\n",
       "    </tr>\n",
       "    <tr>\n",
       "      <th>39179</th>\n",
       "      <td>38</td>\n",
       "      <td>housemaid</td>\n",
       "      <td>divorced</td>\n",
       "      <td>high.school</td>\n",
       "      <td>cellular</td>\n",
       "      <td>nov</td>\n",
       "      <td>thu</td>\n",
       "      <td>-0.565057</td>\n",
       "      <td>0</td>\n",
       "      <td>Working adult</td>\n",
       "    </tr>\n",
       "    <tr>\n",
       "      <th>39180</th>\n",
       "      <td>57</td>\n",
       "      <td>retired</td>\n",
       "      <td>married</td>\n",
       "      <td>professional.course</td>\n",
       "      <td>cellular</td>\n",
       "      <td>nov</td>\n",
       "      <td>thu</td>\n",
       "      <td>1.238647</td>\n",
       "      <td>0</td>\n",
       "      <td>Working adult</td>\n",
       "    </tr>\n",
       "    <tr>\n",
       "      <th>39181</th>\n",
       "      <td>62</td>\n",
       "      <td>retired</td>\n",
       "      <td>married</td>\n",
       "      <td>university.degree</td>\n",
       "      <td>cellular</td>\n",
       "      <td>nov</td>\n",
       "      <td>thu</td>\n",
       "      <td>-0.204316</td>\n",
       "      <td>1</td>\n",
       "      <td>Post-retirement</td>\n",
       "    </tr>\n",
       "    <tr>\n",
       "      <th>39182</th>\n",
       "      <td>64</td>\n",
       "      <td>retired</td>\n",
       "      <td>divorced</td>\n",
       "      <td>professional.course</td>\n",
       "      <td>cellular</td>\n",
       "      <td>nov</td>\n",
       "      <td>fri</td>\n",
       "      <td>0.156424</td>\n",
       "      <td>0</td>\n",
       "      <td>Post-retirement</td>\n",
       "    </tr>\n",
       "    <tr>\n",
       "      <th>39183</th>\n",
       "      <td>36</td>\n",
       "      <td>admin.</td>\n",
       "      <td>married</td>\n",
       "      <td>university.degree</td>\n",
       "      <td>cellular</td>\n",
       "      <td>nov</td>\n",
       "      <td>fri</td>\n",
       "      <td>-0.204316</td>\n",
       "      <td>0</td>\n",
       "      <td>Working adult</td>\n",
       "    </tr>\n",
       "    <tr>\n",
       "      <th>39184</th>\n",
       "      <td>37</td>\n",
       "      <td>admin.</td>\n",
       "      <td>married</td>\n",
       "      <td>university.degree</td>\n",
       "      <td>cellular</td>\n",
       "      <td>nov</td>\n",
       "      <td>fri</td>\n",
       "      <td>-0.565057</td>\n",
       "      <td>1</td>\n",
       "      <td>Working adult</td>\n",
       "    </tr>\n",
       "    <tr>\n",
       "      <th>39185</th>\n",
       "      <td>29</td>\n",
       "      <td>unemployed</td>\n",
       "      <td>single</td>\n",
       "      <td>basic</td>\n",
       "      <td>cellular</td>\n",
       "      <td>nov</td>\n",
       "      <td>fri</td>\n",
       "      <td>-0.565057</td>\n",
       "      <td>0</td>\n",
       "      <td>Working adult</td>\n",
       "    </tr>\n",
       "    <tr>\n",
       "      <th>39186</th>\n",
       "      <td>73</td>\n",
       "      <td>retired</td>\n",
       "      <td>married</td>\n",
       "      <td>professional.course</td>\n",
       "      <td>cellular</td>\n",
       "      <td>nov</td>\n",
       "      <td>fri</td>\n",
       "      <td>-0.565057</td>\n",
       "      <td>1</td>\n",
       "      <td>Post-retirement</td>\n",
       "    </tr>\n",
       "    <tr>\n",
       "      <th>39187</th>\n",
       "      <td>46</td>\n",
       "      <td>blue-collar</td>\n",
       "      <td>married</td>\n",
       "      <td>professional.course</td>\n",
       "      <td>cellular</td>\n",
       "      <td>nov</td>\n",
       "      <td>fri</td>\n",
       "      <td>-0.565057</td>\n",
       "      <td>0</td>\n",
       "      <td>Working adult</td>\n",
       "    </tr>\n",
       "    <tr>\n",
       "      <th>39188</th>\n",
       "      <td>56</td>\n",
       "      <td>retired</td>\n",
       "      <td>married</td>\n",
       "      <td>university.degree</td>\n",
       "      <td>cellular</td>\n",
       "      <td>nov</td>\n",
       "      <td>fri</td>\n",
       "      <td>-0.204316</td>\n",
       "      <td>0</td>\n",
       "      <td>Working adult</td>\n",
       "    </tr>\n",
       "    <tr>\n",
       "      <th>39189</th>\n",
       "      <td>44</td>\n",
       "      <td>technician</td>\n",
       "      <td>married</td>\n",
       "      <td>professional.course</td>\n",
       "      <td>cellular</td>\n",
       "      <td>nov</td>\n",
       "      <td>fri</td>\n",
       "      <td>-0.565057</td>\n",
       "      <td>1</td>\n",
       "      <td>Working adult</td>\n",
       "    </tr>\n",
       "    <tr>\n",
       "      <th>39190</th>\n",
       "      <td>74</td>\n",
       "      <td>retired</td>\n",
       "      <td>married</td>\n",
       "      <td>professional.course</td>\n",
       "      <td>cellular</td>\n",
       "      <td>nov</td>\n",
       "      <td>fri</td>\n",
       "      <td>0.156424</td>\n",
       "      <td>0</td>\n",
       "      <td>Post-retirement</td>\n",
       "    </tr>\n",
       "  </tbody>\n",
       "</table>\n",
       "<p>39191 rows × 10 columns</p>\n",
       "</div>"
      ],
      "text/plain": [
       "       age            job   marital            education    contact month  \\\n",
       "0       56      housemaid   married                basic  telephone   may   \n",
       "1       57       services   married          high.school  telephone   may   \n",
       "2       37       services   married          high.school  telephone   may   \n",
       "3       40         admin.   married                basic  telephone   may   \n",
       "4       56       services   married          high.school  telephone   may   \n",
       "5       45       services   married                basic  telephone   may   \n",
       "6       59         admin.   married  professional.course  telephone   may   \n",
       "7       24     technician    single  professional.course  telephone   may   \n",
       "8       25       services    single          high.school  telephone   may   \n",
       "9       25       services    single          high.school  telephone   may   \n",
       "10      29    blue-collar    single          high.school  telephone   may   \n",
       "11      57      housemaid  divorced                basic  telephone   may   \n",
       "12      35    blue-collar   married                basic  telephone   may   \n",
       "13      54        retired   married                basic  telephone   may   \n",
       "14      35    blue-collar   married                basic  telephone   may   \n",
       "15      46    blue-collar   married                basic  telephone   may   \n",
       "16      50    blue-collar   married                basic  telephone   may   \n",
       "17      39     management    single                basic  telephone   may   \n",
       "18      30     unemployed   married          high.school  telephone   may   \n",
       "19      55    blue-collar   married                basic  telephone   may   \n",
       "20      55        retired    single          high.school  telephone   may   \n",
       "21      41     technician    single          high.school  telephone   may   \n",
       "22      37         admin.   married          high.school  telephone   may   \n",
       "23      35     technician   married    university.degree  telephone   may   \n",
       "24      39  self-employed   married                basic  telephone   may   \n",
       "25      54     technician    single    university.degree  telephone   may   \n",
       "26      54     management   married                basic  telephone   may   \n",
       "27      54    blue-collar  divorced                basic  telephone   may   \n",
       "28      34       services   married          high.school  telephone   may   \n",
       "29      52     technician   married                basic  telephone   may   \n",
       "...    ...            ...       ...                  ...        ...   ...   \n",
       "39161   31      housemaid    single    university.degree   cellular   nov   \n",
       "39162   35     technician  divorced                basic   cellular   nov   \n",
       "39163   35     technician  divorced                basic   cellular   nov   \n",
       "39164   33         admin.   married    university.degree   cellular   nov   \n",
       "39165   33         admin.   married    university.degree   cellular   nov   \n",
       "39166   60    blue-collar   married                basic   cellular   nov   \n",
       "39167   35     technician  divorced                basic   cellular   nov   \n",
       "39168   54         admin.   married  professional.course   cellular   nov   \n",
       "39169   38      housemaid  divorced    university.degree   cellular   nov   \n",
       "39170   32         admin.   married    university.degree  telephone   nov   \n",
       "39171   32         admin.   married    university.degree   cellular   nov   \n",
       "39172   38   entrepreneur   married    university.degree   cellular   nov   \n",
       "39173   62       services   married          high.school   cellular   nov   \n",
       "39174   40     management  divorced    university.degree   cellular   nov   \n",
       "39175   33        student   married  professional.course  telephone   nov   \n",
       "39176   31         admin.    single    university.degree   cellular   nov   \n",
       "39177   62        retired   married    university.degree   cellular   nov   \n",
       "39178   62        retired   married    university.degree   cellular   nov   \n",
       "39179   38      housemaid  divorced          high.school   cellular   nov   \n",
       "39180   57        retired   married  professional.course   cellular   nov   \n",
       "39181   62        retired   married    university.degree   cellular   nov   \n",
       "39182   64        retired  divorced  professional.course   cellular   nov   \n",
       "39183   36         admin.   married    university.degree   cellular   nov   \n",
       "39184   37         admin.   married    university.degree   cellular   nov   \n",
       "39185   29     unemployed    single                basic   cellular   nov   \n",
       "39186   73        retired   married  professional.course   cellular   nov   \n",
       "39187   46    blue-collar   married  professional.course   cellular   nov   \n",
       "39188   56        retired   married    university.degree   cellular   nov   \n",
       "39189   44     technician   married  professional.course   cellular   nov   \n",
       "39190   74        retired   married  professional.course   cellular   nov   \n",
       "\n",
       "      day_of_week  number_calls  outcome     age_category  \n",
       "0             mon     -0.565057        0    Working adult  \n",
       "1             mon     -0.565057        0    Working adult  \n",
       "2             mon     -0.565057        0    Working adult  \n",
       "3             mon     -0.565057        0    Working adult  \n",
       "4             mon     -0.565057        0    Working adult  \n",
       "5             mon     -0.565057        0    Working adult  \n",
       "6             mon     -0.565057        0    Working adult  \n",
       "7             mon     -0.565057        0      Young adult  \n",
       "8             mon     -0.565057        0    Working adult  \n",
       "9             mon     -0.565057        0    Working adult  \n",
       "10            mon     -0.565057        0    Working adult  \n",
       "11            mon     -0.565057        0    Working adult  \n",
       "12            mon     -0.565057        0    Working adult  \n",
       "13            mon     -0.565057        0    Working adult  \n",
       "14            mon     -0.565057        0    Working adult  \n",
       "15            mon     -0.565057        0    Working adult  \n",
       "16            mon     -0.565057        0    Working adult  \n",
       "17            mon     -0.565057        0    Working adult  \n",
       "18            mon     -0.565057        0    Working adult  \n",
       "19            mon     -0.565057        0    Working adult  \n",
       "20            mon     -0.565057        0    Working adult  \n",
       "21            mon     -0.565057        0    Working adult  \n",
       "22            mon     -0.565057        0    Working adult  \n",
       "23            mon     -0.565057        0    Working adult  \n",
       "24            mon     -0.565057        0    Working adult  \n",
       "25            mon     -0.204316        0    Working adult  \n",
       "26            mon     -0.565057        0    Working adult  \n",
       "27            mon     -0.565057        0    Working adult  \n",
       "28            mon     -0.565057        0    Working adult  \n",
       "29            mon     -0.565057        0    Working adult  \n",
       "...           ...           ...      ...              ...  \n",
       "39161         mon      0.517165        0    Working adult  \n",
       "39162         tue     -0.565057        1    Working adult  \n",
       "39163         tue     -0.565057        1    Working adult  \n",
       "39164         tue     -0.565057        1    Working adult  \n",
       "39165         tue     -0.565057        0    Working adult  \n",
       "39166         tue     -0.204316        0  Post-retirement  \n",
       "39167         tue      0.156424        1    Working adult  \n",
       "39168         tue     -0.204316        1    Working adult  \n",
       "39169         wed     -0.204316        1    Working adult  \n",
       "39170         wed     -0.565057        1    Working adult  \n",
       "39171         wed      0.156424        0    Working adult  \n",
       "39172         wed     -0.204316        0    Working adult  \n",
       "39173         wed      0.877906        0  Post-retirement  \n",
       "39174         wed     -0.204316        0    Working adult  \n",
       "39175         thu     -0.565057        1    Working adult  \n",
       "39176         thu     -0.565057        1    Working adult  \n",
       "39177         thu     -0.565057        1  Post-retirement  \n",
       "39178         thu     -0.565057        1  Post-retirement  \n",
       "39179         thu     -0.565057        0    Working adult  \n",
       "39180         thu      1.238647        0    Working adult  \n",
       "39181         thu     -0.204316        1  Post-retirement  \n",
       "39182         fri      0.156424        0  Post-retirement  \n",
       "39183         fri     -0.204316        0    Working adult  \n",
       "39184         fri     -0.565057        1    Working adult  \n",
       "39185         fri     -0.565057        0    Working adult  \n",
       "39186         fri     -0.565057        1  Post-retirement  \n",
       "39187         fri     -0.565057        0    Working adult  \n",
       "39188         fri     -0.204316        0    Working adult  \n",
       "39189         fri     -0.565057        1    Working adult  \n",
       "39190         fri      0.156424        0  Post-retirement  \n",
       "\n",
       "[39191 rows x 10 columns]"
      ]
     },
     "execution_count": 58,
     "metadata": {},
     "output_type": "execute_result"
    }
   ],
   "source": [
    "# Dropping multi-collinear macro economic variabes from the dataset \n",
    "bank_final = bank.drop(['emp.var.rate','cons.price.idx','cons.conf.idx','euribor3m','nr.employed'],axis =1)\n",
    "# Resetting bank dataframe's index to make it suitable for merging purpose\n",
    "bank_final.index = range(len(bank_final))\n",
    "bank_final"
   ]
  },
  {
   "cell_type": "code",
   "execution_count": 59,
   "metadata": {
    "collapsed": false
   },
   "outputs": [
    {
     "data": {
      "text/html": [
       "<div>\n",
       "<style>\n",
       "    .dataframe thead tr:only-child th {\n",
       "        text-align: right;\n",
       "    }\n",
       "\n",
       "    .dataframe thead th {\n",
       "        text-align: left;\n",
       "    }\n",
       "\n",
       "    .dataframe tbody tr th {\n",
       "        vertical-align: top;\n",
       "    }\n",
       "</style>\n",
       "<table border=\"1\" class=\"dataframe\">\n",
       "  <thead>\n",
       "    <tr style=\"text-align: right;\">\n",
       "      <th></th>\n",
       "      <th>age</th>\n",
       "      <th>job</th>\n",
       "      <th>marital</th>\n",
       "      <th>education</th>\n",
       "      <th>contact</th>\n",
       "      <th>month</th>\n",
       "      <th>day_of_week</th>\n",
       "      <th>number_calls</th>\n",
       "      <th>outcome</th>\n",
       "      <th>age_category</th>\n",
       "      <th>PCA1</th>\n",
       "      <th>PCA2</th>\n",
       "      <th>PCA3</th>\n",
       "    </tr>\n",
       "  </thead>\n",
       "  <tbody>\n",
       "    <tr>\n",
       "      <th>0</th>\n",
       "      <td>56</td>\n",
       "      <td>housemaid</td>\n",
       "      <td>married</td>\n",
       "      <td>basic</td>\n",
       "      <td>telephone</td>\n",
       "      <td>may</td>\n",
       "      <td>mon</td>\n",
       "      <td>-0.565057</td>\n",
       "      <td>0</td>\n",
       "      <td>Working adult</td>\n",
       "      <td>-1.317983</td>\n",
       "      <td>0.689282</td>\n",
       "      <td>0.396072</td>\n",
       "    </tr>\n",
       "    <tr>\n",
       "      <th>1</th>\n",
       "      <td>57</td>\n",
       "      <td>services</td>\n",
       "      <td>married</td>\n",
       "      <td>high.school</td>\n",
       "      <td>telephone</td>\n",
       "      <td>may</td>\n",
       "      <td>mon</td>\n",
       "      <td>-0.565057</td>\n",
       "      <td>0</td>\n",
       "      <td>Working adult</td>\n",
       "      <td>-1.317983</td>\n",
       "      <td>0.689282</td>\n",
       "      <td>0.396072</td>\n",
       "    </tr>\n",
       "    <tr>\n",
       "      <th>2</th>\n",
       "      <td>37</td>\n",
       "      <td>services</td>\n",
       "      <td>married</td>\n",
       "      <td>high.school</td>\n",
       "      <td>telephone</td>\n",
       "      <td>may</td>\n",
       "      <td>mon</td>\n",
       "      <td>-0.565057</td>\n",
       "      <td>0</td>\n",
       "      <td>Working adult</td>\n",
       "      <td>-1.317983</td>\n",
       "      <td>0.689282</td>\n",
       "      <td>0.396072</td>\n",
       "    </tr>\n",
       "    <tr>\n",
       "      <th>3</th>\n",
       "      <td>40</td>\n",
       "      <td>admin.</td>\n",
       "      <td>married</td>\n",
       "      <td>basic</td>\n",
       "      <td>telephone</td>\n",
       "      <td>may</td>\n",
       "      <td>mon</td>\n",
       "      <td>-0.565057</td>\n",
       "      <td>0</td>\n",
       "      <td>Working adult</td>\n",
       "      <td>-1.317983</td>\n",
       "      <td>0.689282</td>\n",
       "      <td>0.396072</td>\n",
       "    </tr>\n",
       "    <tr>\n",
       "      <th>4</th>\n",
       "      <td>56</td>\n",
       "      <td>services</td>\n",
       "      <td>married</td>\n",
       "      <td>high.school</td>\n",
       "      <td>telephone</td>\n",
       "      <td>may</td>\n",
       "      <td>mon</td>\n",
       "      <td>-0.565057</td>\n",
       "      <td>0</td>\n",
       "      <td>Working adult</td>\n",
       "      <td>-1.317983</td>\n",
       "      <td>0.689282</td>\n",
       "      <td>0.396072</td>\n",
       "    </tr>\n",
       "    <tr>\n",
       "      <th>5</th>\n",
       "      <td>45</td>\n",
       "      <td>services</td>\n",
       "      <td>married</td>\n",
       "      <td>basic</td>\n",
       "      <td>telephone</td>\n",
       "      <td>may</td>\n",
       "      <td>mon</td>\n",
       "      <td>-0.565057</td>\n",
       "      <td>0</td>\n",
       "      <td>Working adult</td>\n",
       "      <td>-1.317983</td>\n",
       "      <td>0.689282</td>\n",
       "      <td>0.396072</td>\n",
       "    </tr>\n",
       "    <tr>\n",
       "      <th>6</th>\n",
       "      <td>59</td>\n",
       "      <td>admin.</td>\n",
       "      <td>married</td>\n",
       "      <td>professional.course</td>\n",
       "      <td>telephone</td>\n",
       "      <td>may</td>\n",
       "      <td>mon</td>\n",
       "      <td>-0.565057</td>\n",
       "      <td>0</td>\n",
       "      <td>Working adult</td>\n",
       "      <td>-1.317983</td>\n",
       "      <td>0.689282</td>\n",
       "      <td>0.396072</td>\n",
       "    </tr>\n",
       "    <tr>\n",
       "      <th>7</th>\n",
       "      <td>24</td>\n",
       "      <td>technician</td>\n",
       "      <td>single</td>\n",
       "      <td>professional.course</td>\n",
       "      <td>telephone</td>\n",
       "      <td>may</td>\n",
       "      <td>mon</td>\n",
       "      <td>-0.565057</td>\n",
       "      <td>0</td>\n",
       "      <td>Young adult</td>\n",
       "      <td>-1.317983</td>\n",
       "      <td>0.689282</td>\n",
       "      <td>0.396072</td>\n",
       "    </tr>\n",
       "    <tr>\n",
       "      <th>8</th>\n",
       "      <td>25</td>\n",
       "      <td>services</td>\n",
       "      <td>single</td>\n",
       "      <td>high.school</td>\n",
       "      <td>telephone</td>\n",
       "      <td>may</td>\n",
       "      <td>mon</td>\n",
       "      <td>-0.565057</td>\n",
       "      <td>0</td>\n",
       "      <td>Working adult</td>\n",
       "      <td>-1.317983</td>\n",
       "      <td>0.689282</td>\n",
       "      <td>0.396072</td>\n",
       "    </tr>\n",
       "    <tr>\n",
       "      <th>9</th>\n",
       "      <td>25</td>\n",
       "      <td>services</td>\n",
       "      <td>single</td>\n",
       "      <td>high.school</td>\n",
       "      <td>telephone</td>\n",
       "      <td>may</td>\n",
       "      <td>mon</td>\n",
       "      <td>-0.565057</td>\n",
       "      <td>0</td>\n",
       "      <td>Working adult</td>\n",
       "      <td>-1.317983</td>\n",
       "      <td>0.689282</td>\n",
       "      <td>0.396072</td>\n",
       "    </tr>\n",
       "    <tr>\n",
       "      <th>10</th>\n",
       "      <td>29</td>\n",
       "      <td>blue-collar</td>\n",
       "      <td>single</td>\n",
       "      <td>high.school</td>\n",
       "      <td>telephone</td>\n",
       "      <td>may</td>\n",
       "      <td>mon</td>\n",
       "      <td>-0.565057</td>\n",
       "      <td>0</td>\n",
       "      <td>Working adult</td>\n",
       "      <td>-1.317983</td>\n",
       "      <td>0.689282</td>\n",
       "      <td>0.396072</td>\n",
       "    </tr>\n",
       "    <tr>\n",
       "      <th>11</th>\n",
       "      <td>57</td>\n",
       "      <td>housemaid</td>\n",
       "      <td>divorced</td>\n",
       "      <td>basic</td>\n",
       "      <td>telephone</td>\n",
       "      <td>may</td>\n",
       "      <td>mon</td>\n",
       "      <td>-0.565057</td>\n",
       "      <td>0</td>\n",
       "      <td>Working adult</td>\n",
       "      <td>-1.317983</td>\n",
       "      <td>0.689282</td>\n",
       "      <td>0.396072</td>\n",
       "    </tr>\n",
       "    <tr>\n",
       "      <th>12</th>\n",
       "      <td>35</td>\n",
       "      <td>blue-collar</td>\n",
       "      <td>married</td>\n",
       "      <td>basic</td>\n",
       "      <td>telephone</td>\n",
       "      <td>may</td>\n",
       "      <td>mon</td>\n",
       "      <td>-0.565057</td>\n",
       "      <td>0</td>\n",
       "      <td>Working adult</td>\n",
       "      <td>-1.317983</td>\n",
       "      <td>0.689282</td>\n",
       "      <td>0.396072</td>\n",
       "    </tr>\n",
       "    <tr>\n",
       "      <th>13</th>\n",
       "      <td>54</td>\n",
       "      <td>retired</td>\n",
       "      <td>married</td>\n",
       "      <td>basic</td>\n",
       "      <td>telephone</td>\n",
       "      <td>may</td>\n",
       "      <td>mon</td>\n",
       "      <td>-0.565057</td>\n",
       "      <td>0</td>\n",
       "      <td>Working adult</td>\n",
       "      <td>-1.317983</td>\n",
       "      <td>0.689282</td>\n",
       "      <td>0.396072</td>\n",
       "    </tr>\n",
       "    <tr>\n",
       "      <th>14</th>\n",
       "      <td>35</td>\n",
       "      <td>blue-collar</td>\n",
       "      <td>married</td>\n",
       "      <td>basic</td>\n",
       "      <td>telephone</td>\n",
       "      <td>may</td>\n",
       "      <td>mon</td>\n",
       "      <td>-0.565057</td>\n",
       "      <td>0</td>\n",
       "      <td>Working adult</td>\n",
       "      <td>-1.317983</td>\n",
       "      <td>0.689282</td>\n",
       "      <td>0.396072</td>\n",
       "    </tr>\n",
       "    <tr>\n",
       "      <th>15</th>\n",
       "      <td>46</td>\n",
       "      <td>blue-collar</td>\n",
       "      <td>married</td>\n",
       "      <td>basic</td>\n",
       "      <td>telephone</td>\n",
       "      <td>may</td>\n",
       "      <td>mon</td>\n",
       "      <td>-0.565057</td>\n",
       "      <td>0</td>\n",
       "      <td>Working adult</td>\n",
       "      <td>-1.317983</td>\n",
       "      <td>0.689282</td>\n",
       "      <td>0.396072</td>\n",
       "    </tr>\n",
       "    <tr>\n",
       "      <th>16</th>\n",
       "      <td>50</td>\n",
       "      <td>blue-collar</td>\n",
       "      <td>married</td>\n",
       "      <td>basic</td>\n",
       "      <td>telephone</td>\n",
       "      <td>may</td>\n",
       "      <td>mon</td>\n",
       "      <td>-0.565057</td>\n",
       "      <td>0</td>\n",
       "      <td>Working adult</td>\n",
       "      <td>-1.317983</td>\n",
       "      <td>0.689282</td>\n",
       "      <td>0.396072</td>\n",
       "    </tr>\n",
       "    <tr>\n",
       "      <th>17</th>\n",
       "      <td>39</td>\n",
       "      <td>management</td>\n",
       "      <td>single</td>\n",
       "      <td>basic</td>\n",
       "      <td>telephone</td>\n",
       "      <td>may</td>\n",
       "      <td>mon</td>\n",
       "      <td>-0.565057</td>\n",
       "      <td>0</td>\n",
       "      <td>Working adult</td>\n",
       "      <td>-1.317983</td>\n",
       "      <td>0.689282</td>\n",
       "      <td>0.396072</td>\n",
       "    </tr>\n",
       "    <tr>\n",
       "      <th>18</th>\n",
       "      <td>30</td>\n",
       "      <td>unemployed</td>\n",
       "      <td>married</td>\n",
       "      <td>high.school</td>\n",
       "      <td>telephone</td>\n",
       "      <td>may</td>\n",
       "      <td>mon</td>\n",
       "      <td>-0.565057</td>\n",
       "      <td>0</td>\n",
       "      <td>Working adult</td>\n",
       "      <td>-1.317983</td>\n",
       "      <td>0.689282</td>\n",
       "      <td>0.396072</td>\n",
       "    </tr>\n",
       "    <tr>\n",
       "      <th>19</th>\n",
       "      <td>55</td>\n",
       "      <td>blue-collar</td>\n",
       "      <td>married</td>\n",
       "      <td>basic</td>\n",
       "      <td>telephone</td>\n",
       "      <td>may</td>\n",
       "      <td>mon</td>\n",
       "      <td>-0.565057</td>\n",
       "      <td>0</td>\n",
       "      <td>Working adult</td>\n",
       "      <td>-1.317983</td>\n",
       "      <td>0.689282</td>\n",
       "      <td>0.396072</td>\n",
       "    </tr>\n",
       "    <tr>\n",
       "      <th>20</th>\n",
       "      <td>55</td>\n",
       "      <td>retired</td>\n",
       "      <td>single</td>\n",
       "      <td>high.school</td>\n",
       "      <td>telephone</td>\n",
       "      <td>may</td>\n",
       "      <td>mon</td>\n",
       "      <td>-0.565057</td>\n",
       "      <td>0</td>\n",
       "      <td>Working adult</td>\n",
       "      <td>-1.317983</td>\n",
       "      <td>0.689282</td>\n",
       "      <td>0.396072</td>\n",
       "    </tr>\n",
       "    <tr>\n",
       "      <th>21</th>\n",
       "      <td>41</td>\n",
       "      <td>technician</td>\n",
       "      <td>single</td>\n",
       "      <td>high.school</td>\n",
       "      <td>telephone</td>\n",
       "      <td>may</td>\n",
       "      <td>mon</td>\n",
       "      <td>-0.565057</td>\n",
       "      <td>0</td>\n",
       "      <td>Working adult</td>\n",
       "      <td>-1.317983</td>\n",
       "      <td>0.689282</td>\n",
       "      <td>0.396072</td>\n",
       "    </tr>\n",
       "    <tr>\n",
       "      <th>22</th>\n",
       "      <td>37</td>\n",
       "      <td>admin.</td>\n",
       "      <td>married</td>\n",
       "      <td>high.school</td>\n",
       "      <td>telephone</td>\n",
       "      <td>may</td>\n",
       "      <td>mon</td>\n",
       "      <td>-0.565057</td>\n",
       "      <td>0</td>\n",
       "      <td>Working adult</td>\n",
       "      <td>-1.317983</td>\n",
       "      <td>0.689282</td>\n",
       "      <td>0.396072</td>\n",
       "    </tr>\n",
       "    <tr>\n",
       "      <th>23</th>\n",
       "      <td>35</td>\n",
       "      <td>technician</td>\n",
       "      <td>married</td>\n",
       "      <td>university.degree</td>\n",
       "      <td>telephone</td>\n",
       "      <td>may</td>\n",
       "      <td>mon</td>\n",
       "      <td>-0.565057</td>\n",
       "      <td>0</td>\n",
       "      <td>Working adult</td>\n",
       "      <td>-1.317983</td>\n",
       "      <td>0.689282</td>\n",
       "      <td>0.396072</td>\n",
       "    </tr>\n",
       "    <tr>\n",
       "      <th>24</th>\n",
       "      <td>39</td>\n",
       "      <td>self-employed</td>\n",
       "      <td>married</td>\n",
       "      <td>basic</td>\n",
       "      <td>telephone</td>\n",
       "      <td>may</td>\n",
       "      <td>mon</td>\n",
       "      <td>-0.565057</td>\n",
       "      <td>0</td>\n",
       "      <td>Working adult</td>\n",
       "      <td>-1.317983</td>\n",
       "      <td>0.689282</td>\n",
       "      <td>0.396072</td>\n",
       "    </tr>\n",
       "    <tr>\n",
       "      <th>25</th>\n",
       "      <td>54</td>\n",
       "      <td>technician</td>\n",
       "      <td>single</td>\n",
       "      <td>university.degree</td>\n",
       "      <td>telephone</td>\n",
       "      <td>may</td>\n",
       "      <td>mon</td>\n",
       "      <td>-0.204316</td>\n",
       "      <td>0</td>\n",
       "      <td>Working adult</td>\n",
       "      <td>-1.317983</td>\n",
       "      <td>0.689282</td>\n",
       "      <td>0.396072</td>\n",
       "    </tr>\n",
       "    <tr>\n",
       "      <th>26</th>\n",
       "      <td>54</td>\n",
       "      <td>management</td>\n",
       "      <td>married</td>\n",
       "      <td>basic</td>\n",
       "      <td>telephone</td>\n",
       "      <td>may</td>\n",
       "      <td>mon</td>\n",
       "      <td>-0.565057</td>\n",
       "      <td>0</td>\n",
       "      <td>Working adult</td>\n",
       "      <td>-1.317983</td>\n",
       "      <td>0.689282</td>\n",
       "      <td>0.396072</td>\n",
       "    </tr>\n",
       "    <tr>\n",
       "      <th>27</th>\n",
       "      <td>54</td>\n",
       "      <td>blue-collar</td>\n",
       "      <td>divorced</td>\n",
       "      <td>basic</td>\n",
       "      <td>telephone</td>\n",
       "      <td>may</td>\n",
       "      <td>mon</td>\n",
       "      <td>-0.565057</td>\n",
       "      <td>0</td>\n",
       "      <td>Working adult</td>\n",
       "      <td>-1.317983</td>\n",
       "      <td>0.689282</td>\n",
       "      <td>0.396072</td>\n",
       "    </tr>\n",
       "    <tr>\n",
       "      <th>28</th>\n",
       "      <td>34</td>\n",
       "      <td>services</td>\n",
       "      <td>married</td>\n",
       "      <td>high.school</td>\n",
       "      <td>telephone</td>\n",
       "      <td>may</td>\n",
       "      <td>mon</td>\n",
       "      <td>-0.565057</td>\n",
       "      <td>0</td>\n",
       "      <td>Working adult</td>\n",
       "      <td>-1.317983</td>\n",
       "      <td>0.689282</td>\n",
       "      <td>0.396072</td>\n",
       "    </tr>\n",
       "    <tr>\n",
       "      <th>29</th>\n",
       "      <td>52</td>\n",
       "      <td>technician</td>\n",
       "      <td>married</td>\n",
       "      <td>basic</td>\n",
       "      <td>telephone</td>\n",
       "      <td>may</td>\n",
       "      <td>mon</td>\n",
       "      <td>-0.565057</td>\n",
       "      <td>0</td>\n",
       "      <td>Working adult</td>\n",
       "      <td>-1.317983</td>\n",
       "      <td>0.689282</td>\n",
       "      <td>0.396072</td>\n",
       "    </tr>\n",
       "    <tr>\n",
       "      <th>...</th>\n",
       "      <td>...</td>\n",
       "      <td>...</td>\n",
       "      <td>...</td>\n",
       "      <td>...</td>\n",
       "      <td>...</td>\n",
       "      <td>...</td>\n",
       "      <td>...</td>\n",
       "      <td>...</td>\n",
       "      <td>...</td>\n",
       "      <td>...</td>\n",
       "      <td>...</td>\n",
       "      <td>...</td>\n",
       "      <td>...</td>\n",
       "    </tr>\n",
       "    <tr>\n",
       "      <th>39161</th>\n",
       "      <td>31</td>\n",
       "      <td>housemaid</td>\n",
       "      <td>single</td>\n",
       "      <td>university.degree</td>\n",
       "      <td>cellular</td>\n",
       "      <td>nov</td>\n",
       "      <td>mon</td>\n",
       "      <td>0.517165</td>\n",
       "      <td>0</td>\n",
       "      <td>Working adult</td>\n",
       "      <td>2.028832</td>\n",
       "      <td>-2.306191</td>\n",
       "      <td>3.214152</td>\n",
       "    </tr>\n",
       "    <tr>\n",
       "      <th>39162</th>\n",
       "      <td>35</td>\n",
       "      <td>technician</td>\n",
       "      <td>divorced</td>\n",
       "      <td>basic</td>\n",
       "      <td>cellular</td>\n",
       "      <td>nov</td>\n",
       "      <td>tue</td>\n",
       "      <td>-0.565057</td>\n",
       "      <td>1</td>\n",
       "      <td>Working adult</td>\n",
       "      <td>2.030054</td>\n",
       "      <td>-2.306294</td>\n",
       "      <td>3.214573</td>\n",
       "    </tr>\n",
       "    <tr>\n",
       "      <th>39163</th>\n",
       "      <td>35</td>\n",
       "      <td>technician</td>\n",
       "      <td>divorced</td>\n",
       "      <td>basic</td>\n",
       "      <td>cellular</td>\n",
       "      <td>nov</td>\n",
       "      <td>tue</td>\n",
       "      <td>-0.565057</td>\n",
       "      <td>1</td>\n",
       "      <td>Working adult</td>\n",
       "      <td>2.030054</td>\n",
       "      <td>-2.306294</td>\n",
       "      <td>3.214573</td>\n",
       "    </tr>\n",
       "    <tr>\n",
       "      <th>39164</th>\n",
       "      <td>33</td>\n",
       "      <td>admin.</td>\n",
       "      <td>married</td>\n",
       "      <td>university.degree</td>\n",
       "      <td>cellular</td>\n",
       "      <td>nov</td>\n",
       "      <td>tue</td>\n",
       "      <td>-0.565057</td>\n",
       "      <td>1</td>\n",
       "      <td>Working adult</td>\n",
       "      <td>2.030054</td>\n",
       "      <td>-2.306294</td>\n",
       "      <td>3.214573</td>\n",
       "    </tr>\n",
       "    <tr>\n",
       "      <th>39165</th>\n",
       "      <td>33</td>\n",
       "      <td>admin.</td>\n",
       "      <td>married</td>\n",
       "      <td>university.degree</td>\n",
       "      <td>cellular</td>\n",
       "      <td>nov</td>\n",
       "      <td>tue</td>\n",
       "      <td>-0.565057</td>\n",
       "      <td>0</td>\n",
       "      <td>Working adult</td>\n",
       "      <td>2.030054</td>\n",
       "      <td>-2.306294</td>\n",
       "      <td>3.214573</td>\n",
       "    </tr>\n",
       "    <tr>\n",
       "      <th>39166</th>\n",
       "      <td>60</td>\n",
       "      <td>blue-collar</td>\n",
       "      <td>married</td>\n",
       "      <td>basic</td>\n",
       "      <td>cellular</td>\n",
       "      <td>nov</td>\n",
       "      <td>tue</td>\n",
       "      <td>-0.204316</td>\n",
       "      <td>0</td>\n",
       "      <td>Post-retirement</td>\n",
       "      <td>2.030054</td>\n",
       "      <td>-2.306294</td>\n",
       "      <td>3.214573</td>\n",
       "    </tr>\n",
       "    <tr>\n",
       "      <th>39167</th>\n",
       "      <td>35</td>\n",
       "      <td>technician</td>\n",
       "      <td>divorced</td>\n",
       "      <td>basic</td>\n",
       "      <td>cellular</td>\n",
       "      <td>nov</td>\n",
       "      <td>tue</td>\n",
       "      <td>0.156424</td>\n",
       "      <td>1</td>\n",
       "      <td>Working adult</td>\n",
       "      <td>2.030054</td>\n",
       "      <td>-2.306294</td>\n",
       "      <td>3.214573</td>\n",
       "    </tr>\n",
       "    <tr>\n",
       "      <th>39168</th>\n",
       "      <td>54</td>\n",
       "      <td>admin.</td>\n",
       "      <td>married</td>\n",
       "      <td>professional.course</td>\n",
       "      <td>cellular</td>\n",
       "      <td>nov</td>\n",
       "      <td>tue</td>\n",
       "      <td>-0.204316</td>\n",
       "      <td>1</td>\n",
       "      <td>Working adult</td>\n",
       "      <td>2.030054</td>\n",
       "      <td>-2.306294</td>\n",
       "      <td>3.214573</td>\n",
       "    </tr>\n",
       "    <tr>\n",
       "      <th>39169</th>\n",
       "      <td>38</td>\n",
       "      <td>housemaid</td>\n",
       "      <td>divorced</td>\n",
       "      <td>university.degree</td>\n",
       "      <td>cellular</td>\n",
       "      <td>nov</td>\n",
       "      <td>wed</td>\n",
       "      <td>-0.204316</td>\n",
       "      <td>1</td>\n",
       "      <td>Working adult</td>\n",
       "      <td>2.031582</td>\n",
       "      <td>-2.306424</td>\n",
       "      <td>3.215099</td>\n",
       "    </tr>\n",
       "    <tr>\n",
       "      <th>39170</th>\n",
       "      <td>32</td>\n",
       "      <td>admin.</td>\n",
       "      <td>married</td>\n",
       "      <td>university.degree</td>\n",
       "      <td>telephone</td>\n",
       "      <td>nov</td>\n",
       "      <td>wed</td>\n",
       "      <td>-0.565057</td>\n",
       "      <td>1</td>\n",
       "      <td>Working adult</td>\n",
       "      <td>2.031582</td>\n",
       "      <td>-2.306424</td>\n",
       "      <td>3.215099</td>\n",
       "    </tr>\n",
       "    <tr>\n",
       "      <th>39171</th>\n",
       "      <td>32</td>\n",
       "      <td>admin.</td>\n",
       "      <td>married</td>\n",
       "      <td>university.degree</td>\n",
       "      <td>cellular</td>\n",
       "      <td>nov</td>\n",
       "      <td>wed</td>\n",
       "      <td>0.156424</td>\n",
       "      <td>0</td>\n",
       "      <td>Working adult</td>\n",
       "      <td>2.031582</td>\n",
       "      <td>-2.306424</td>\n",
       "      <td>3.215099</td>\n",
       "    </tr>\n",
       "    <tr>\n",
       "      <th>39172</th>\n",
       "      <td>38</td>\n",
       "      <td>entrepreneur</td>\n",
       "      <td>married</td>\n",
       "      <td>university.degree</td>\n",
       "      <td>cellular</td>\n",
       "      <td>nov</td>\n",
       "      <td>wed</td>\n",
       "      <td>-0.204316</td>\n",
       "      <td>0</td>\n",
       "      <td>Working adult</td>\n",
       "      <td>2.031582</td>\n",
       "      <td>-2.306424</td>\n",
       "      <td>3.215099</td>\n",
       "    </tr>\n",
       "    <tr>\n",
       "      <th>39173</th>\n",
       "      <td>62</td>\n",
       "      <td>services</td>\n",
       "      <td>married</td>\n",
       "      <td>high.school</td>\n",
       "      <td>cellular</td>\n",
       "      <td>nov</td>\n",
       "      <td>wed</td>\n",
       "      <td>0.877906</td>\n",
       "      <td>0</td>\n",
       "      <td>Post-retirement</td>\n",
       "      <td>2.031582</td>\n",
       "      <td>-2.306424</td>\n",
       "      <td>3.215099</td>\n",
       "    </tr>\n",
       "    <tr>\n",
       "      <th>39174</th>\n",
       "      <td>40</td>\n",
       "      <td>management</td>\n",
       "      <td>divorced</td>\n",
       "      <td>university.degree</td>\n",
       "      <td>cellular</td>\n",
       "      <td>nov</td>\n",
       "      <td>wed</td>\n",
       "      <td>-0.204316</td>\n",
       "      <td>0</td>\n",
       "      <td>Working adult</td>\n",
       "      <td>2.031582</td>\n",
       "      <td>-2.306424</td>\n",
       "      <td>3.215099</td>\n",
       "    </tr>\n",
       "    <tr>\n",
       "      <th>39175</th>\n",
       "      <td>33</td>\n",
       "      <td>student</td>\n",
       "      <td>married</td>\n",
       "      <td>professional.course</td>\n",
       "      <td>telephone</td>\n",
       "      <td>nov</td>\n",
       "      <td>thu</td>\n",
       "      <td>-0.565057</td>\n",
       "      <td>1</td>\n",
       "      <td>Working adult</td>\n",
       "      <td>2.031277</td>\n",
       "      <td>-2.306398</td>\n",
       "      <td>3.214994</td>\n",
       "    </tr>\n",
       "    <tr>\n",
       "      <th>39176</th>\n",
       "      <td>31</td>\n",
       "      <td>admin.</td>\n",
       "      <td>single</td>\n",
       "      <td>university.degree</td>\n",
       "      <td>cellular</td>\n",
       "      <td>nov</td>\n",
       "      <td>thu</td>\n",
       "      <td>-0.565057</td>\n",
       "      <td>1</td>\n",
       "      <td>Working adult</td>\n",
       "      <td>2.031277</td>\n",
       "      <td>-2.306398</td>\n",
       "      <td>3.214994</td>\n",
       "    </tr>\n",
       "    <tr>\n",
       "      <th>39177</th>\n",
       "      <td>62</td>\n",
       "      <td>retired</td>\n",
       "      <td>married</td>\n",
       "      <td>university.degree</td>\n",
       "      <td>cellular</td>\n",
       "      <td>nov</td>\n",
       "      <td>thu</td>\n",
       "      <td>-0.565057</td>\n",
       "      <td>1</td>\n",
       "      <td>Post-retirement</td>\n",
       "      <td>2.031277</td>\n",
       "      <td>-2.306398</td>\n",
       "      <td>3.214994</td>\n",
       "    </tr>\n",
       "    <tr>\n",
       "      <th>39178</th>\n",
       "      <td>62</td>\n",
       "      <td>retired</td>\n",
       "      <td>married</td>\n",
       "      <td>university.degree</td>\n",
       "      <td>cellular</td>\n",
       "      <td>nov</td>\n",
       "      <td>thu</td>\n",
       "      <td>-0.565057</td>\n",
       "      <td>1</td>\n",
       "      <td>Post-retirement</td>\n",
       "      <td>2.031277</td>\n",
       "      <td>-2.306398</td>\n",
       "      <td>3.214994</td>\n",
       "    </tr>\n",
       "    <tr>\n",
       "      <th>39179</th>\n",
       "      <td>38</td>\n",
       "      <td>housemaid</td>\n",
       "      <td>divorced</td>\n",
       "      <td>high.school</td>\n",
       "      <td>cellular</td>\n",
       "      <td>nov</td>\n",
       "      <td>thu</td>\n",
       "      <td>-0.565057</td>\n",
       "      <td>0</td>\n",
       "      <td>Working adult</td>\n",
       "      <td>2.031277</td>\n",
       "      <td>-2.306398</td>\n",
       "      <td>3.214994</td>\n",
       "    </tr>\n",
       "    <tr>\n",
       "      <th>39180</th>\n",
       "      <td>57</td>\n",
       "      <td>retired</td>\n",
       "      <td>married</td>\n",
       "      <td>professional.course</td>\n",
       "      <td>cellular</td>\n",
       "      <td>nov</td>\n",
       "      <td>thu</td>\n",
       "      <td>1.238647</td>\n",
       "      <td>0</td>\n",
       "      <td>Working adult</td>\n",
       "      <td>2.031277</td>\n",
       "      <td>-2.306398</td>\n",
       "      <td>3.214994</td>\n",
       "    </tr>\n",
       "    <tr>\n",
       "      <th>39181</th>\n",
       "      <td>62</td>\n",
       "      <td>retired</td>\n",
       "      <td>married</td>\n",
       "      <td>university.degree</td>\n",
       "      <td>cellular</td>\n",
       "      <td>nov</td>\n",
       "      <td>thu</td>\n",
       "      <td>-0.204316</td>\n",
       "      <td>1</td>\n",
       "      <td>Post-retirement</td>\n",
       "      <td>2.031277</td>\n",
       "      <td>-2.306398</td>\n",
       "      <td>3.214994</td>\n",
       "    </tr>\n",
       "    <tr>\n",
       "      <th>39182</th>\n",
       "      <td>64</td>\n",
       "      <td>retired</td>\n",
       "      <td>divorced</td>\n",
       "      <td>professional.course</td>\n",
       "      <td>cellular</td>\n",
       "      <td>nov</td>\n",
       "      <td>fri</td>\n",
       "      <td>0.156424</td>\n",
       "      <td>0</td>\n",
       "      <td>Post-retirement</td>\n",
       "      <td>2.032194</td>\n",
       "      <td>-2.306476</td>\n",
       "      <td>3.215309</td>\n",
       "    </tr>\n",
       "    <tr>\n",
       "      <th>39183</th>\n",
       "      <td>36</td>\n",
       "      <td>admin.</td>\n",
       "      <td>married</td>\n",
       "      <td>university.degree</td>\n",
       "      <td>cellular</td>\n",
       "      <td>nov</td>\n",
       "      <td>fri</td>\n",
       "      <td>-0.204316</td>\n",
       "      <td>0</td>\n",
       "      <td>Working adult</td>\n",
       "      <td>2.032194</td>\n",
       "      <td>-2.306476</td>\n",
       "      <td>3.215309</td>\n",
       "    </tr>\n",
       "    <tr>\n",
       "      <th>39184</th>\n",
       "      <td>37</td>\n",
       "      <td>admin.</td>\n",
       "      <td>married</td>\n",
       "      <td>university.degree</td>\n",
       "      <td>cellular</td>\n",
       "      <td>nov</td>\n",
       "      <td>fri</td>\n",
       "      <td>-0.565057</td>\n",
       "      <td>1</td>\n",
       "      <td>Working adult</td>\n",
       "      <td>2.032194</td>\n",
       "      <td>-2.306476</td>\n",
       "      <td>3.215309</td>\n",
       "    </tr>\n",
       "    <tr>\n",
       "      <th>39185</th>\n",
       "      <td>29</td>\n",
       "      <td>unemployed</td>\n",
       "      <td>single</td>\n",
       "      <td>basic</td>\n",
       "      <td>cellular</td>\n",
       "      <td>nov</td>\n",
       "      <td>fri</td>\n",
       "      <td>-0.565057</td>\n",
       "      <td>0</td>\n",
       "      <td>Working adult</td>\n",
       "      <td>2.032194</td>\n",
       "      <td>-2.306476</td>\n",
       "      <td>3.215309</td>\n",
       "    </tr>\n",
       "    <tr>\n",
       "      <th>39186</th>\n",
       "      <td>73</td>\n",
       "      <td>retired</td>\n",
       "      <td>married</td>\n",
       "      <td>professional.course</td>\n",
       "      <td>cellular</td>\n",
       "      <td>nov</td>\n",
       "      <td>fri</td>\n",
       "      <td>-0.565057</td>\n",
       "      <td>1</td>\n",
       "      <td>Post-retirement</td>\n",
       "      <td>2.032194</td>\n",
       "      <td>-2.306476</td>\n",
       "      <td>3.215309</td>\n",
       "    </tr>\n",
       "    <tr>\n",
       "      <th>39187</th>\n",
       "      <td>46</td>\n",
       "      <td>blue-collar</td>\n",
       "      <td>married</td>\n",
       "      <td>professional.course</td>\n",
       "      <td>cellular</td>\n",
       "      <td>nov</td>\n",
       "      <td>fri</td>\n",
       "      <td>-0.565057</td>\n",
       "      <td>0</td>\n",
       "      <td>Working adult</td>\n",
       "      <td>2.032194</td>\n",
       "      <td>-2.306476</td>\n",
       "      <td>3.215309</td>\n",
       "    </tr>\n",
       "    <tr>\n",
       "      <th>39188</th>\n",
       "      <td>56</td>\n",
       "      <td>retired</td>\n",
       "      <td>married</td>\n",
       "      <td>university.degree</td>\n",
       "      <td>cellular</td>\n",
       "      <td>nov</td>\n",
       "      <td>fri</td>\n",
       "      <td>-0.204316</td>\n",
       "      <td>0</td>\n",
       "      <td>Working adult</td>\n",
       "      <td>2.032194</td>\n",
       "      <td>-2.306476</td>\n",
       "      <td>3.215309</td>\n",
       "    </tr>\n",
       "    <tr>\n",
       "      <th>39189</th>\n",
       "      <td>44</td>\n",
       "      <td>technician</td>\n",
       "      <td>married</td>\n",
       "      <td>professional.course</td>\n",
       "      <td>cellular</td>\n",
       "      <td>nov</td>\n",
       "      <td>fri</td>\n",
       "      <td>-0.565057</td>\n",
       "      <td>1</td>\n",
       "      <td>Working adult</td>\n",
       "      <td>2.032194</td>\n",
       "      <td>-2.306476</td>\n",
       "      <td>3.215309</td>\n",
       "    </tr>\n",
       "    <tr>\n",
       "      <th>39190</th>\n",
       "      <td>74</td>\n",
       "      <td>retired</td>\n",
       "      <td>married</td>\n",
       "      <td>professional.course</td>\n",
       "      <td>cellular</td>\n",
       "      <td>nov</td>\n",
       "      <td>fri</td>\n",
       "      <td>0.156424</td>\n",
       "      <td>0</td>\n",
       "      <td>Post-retirement</td>\n",
       "      <td>2.032194</td>\n",
       "      <td>-2.306476</td>\n",
       "      <td>3.215309</td>\n",
       "    </tr>\n",
       "  </tbody>\n",
       "</table>\n",
       "<p>39191 rows × 13 columns</p>\n",
       "</div>"
      ],
      "text/plain": [
       "       age            job   marital            education    contact month  \\\n",
       "0       56      housemaid   married                basic  telephone   may   \n",
       "1       57       services   married          high.school  telephone   may   \n",
       "2       37       services   married          high.school  telephone   may   \n",
       "3       40         admin.   married                basic  telephone   may   \n",
       "4       56       services   married          high.school  telephone   may   \n",
       "5       45       services   married                basic  telephone   may   \n",
       "6       59         admin.   married  professional.course  telephone   may   \n",
       "7       24     technician    single  professional.course  telephone   may   \n",
       "8       25       services    single          high.school  telephone   may   \n",
       "9       25       services    single          high.school  telephone   may   \n",
       "10      29    blue-collar    single          high.school  telephone   may   \n",
       "11      57      housemaid  divorced                basic  telephone   may   \n",
       "12      35    blue-collar   married                basic  telephone   may   \n",
       "13      54        retired   married                basic  telephone   may   \n",
       "14      35    blue-collar   married                basic  telephone   may   \n",
       "15      46    blue-collar   married                basic  telephone   may   \n",
       "16      50    blue-collar   married                basic  telephone   may   \n",
       "17      39     management    single                basic  telephone   may   \n",
       "18      30     unemployed   married          high.school  telephone   may   \n",
       "19      55    blue-collar   married                basic  telephone   may   \n",
       "20      55        retired    single          high.school  telephone   may   \n",
       "21      41     technician    single          high.school  telephone   may   \n",
       "22      37         admin.   married          high.school  telephone   may   \n",
       "23      35     technician   married    university.degree  telephone   may   \n",
       "24      39  self-employed   married                basic  telephone   may   \n",
       "25      54     technician    single    university.degree  telephone   may   \n",
       "26      54     management   married                basic  telephone   may   \n",
       "27      54    blue-collar  divorced                basic  telephone   may   \n",
       "28      34       services   married          high.school  telephone   may   \n",
       "29      52     technician   married                basic  telephone   may   \n",
       "...    ...            ...       ...                  ...        ...   ...   \n",
       "39161   31      housemaid    single    university.degree   cellular   nov   \n",
       "39162   35     technician  divorced                basic   cellular   nov   \n",
       "39163   35     technician  divorced                basic   cellular   nov   \n",
       "39164   33         admin.   married    university.degree   cellular   nov   \n",
       "39165   33         admin.   married    university.degree   cellular   nov   \n",
       "39166   60    blue-collar   married                basic   cellular   nov   \n",
       "39167   35     technician  divorced                basic   cellular   nov   \n",
       "39168   54         admin.   married  professional.course   cellular   nov   \n",
       "39169   38      housemaid  divorced    university.degree   cellular   nov   \n",
       "39170   32         admin.   married    university.degree  telephone   nov   \n",
       "39171   32         admin.   married    university.degree   cellular   nov   \n",
       "39172   38   entrepreneur   married    university.degree   cellular   nov   \n",
       "39173   62       services   married          high.school   cellular   nov   \n",
       "39174   40     management  divorced    university.degree   cellular   nov   \n",
       "39175   33        student   married  professional.course  telephone   nov   \n",
       "39176   31         admin.    single    university.degree   cellular   nov   \n",
       "39177   62        retired   married    university.degree   cellular   nov   \n",
       "39178   62        retired   married    university.degree   cellular   nov   \n",
       "39179   38      housemaid  divorced          high.school   cellular   nov   \n",
       "39180   57        retired   married  professional.course   cellular   nov   \n",
       "39181   62        retired   married    university.degree   cellular   nov   \n",
       "39182   64        retired  divorced  professional.course   cellular   nov   \n",
       "39183   36         admin.   married    university.degree   cellular   nov   \n",
       "39184   37         admin.   married    university.degree   cellular   nov   \n",
       "39185   29     unemployed    single                basic   cellular   nov   \n",
       "39186   73        retired   married  professional.course   cellular   nov   \n",
       "39187   46    blue-collar   married  professional.course   cellular   nov   \n",
       "39188   56        retired   married    university.degree   cellular   nov   \n",
       "39189   44     technician   married  professional.course   cellular   nov   \n",
       "39190   74        retired   married  professional.course   cellular   nov   \n",
       "\n",
       "      day_of_week  number_calls  outcome     age_category      PCA1      PCA2  \\\n",
       "0             mon     -0.565057        0    Working adult -1.317983  0.689282   \n",
       "1             mon     -0.565057        0    Working adult -1.317983  0.689282   \n",
       "2             mon     -0.565057        0    Working adult -1.317983  0.689282   \n",
       "3             mon     -0.565057        0    Working adult -1.317983  0.689282   \n",
       "4             mon     -0.565057        0    Working adult -1.317983  0.689282   \n",
       "5             mon     -0.565057        0    Working adult -1.317983  0.689282   \n",
       "6             mon     -0.565057        0    Working adult -1.317983  0.689282   \n",
       "7             mon     -0.565057        0      Young adult -1.317983  0.689282   \n",
       "8             mon     -0.565057        0    Working adult -1.317983  0.689282   \n",
       "9             mon     -0.565057        0    Working adult -1.317983  0.689282   \n",
       "10            mon     -0.565057        0    Working adult -1.317983  0.689282   \n",
       "11            mon     -0.565057        0    Working adult -1.317983  0.689282   \n",
       "12            mon     -0.565057        0    Working adult -1.317983  0.689282   \n",
       "13            mon     -0.565057        0    Working adult -1.317983  0.689282   \n",
       "14            mon     -0.565057        0    Working adult -1.317983  0.689282   \n",
       "15            mon     -0.565057        0    Working adult -1.317983  0.689282   \n",
       "16            mon     -0.565057        0    Working adult -1.317983  0.689282   \n",
       "17            mon     -0.565057        0    Working adult -1.317983  0.689282   \n",
       "18            mon     -0.565057        0    Working adult -1.317983  0.689282   \n",
       "19            mon     -0.565057        0    Working adult -1.317983  0.689282   \n",
       "20            mon     -0.565057        0    Working adult -1.317983  0.689282   \n",
       "21            mon     -0.565057        0    Working adult -1.317983  0.689282   \n",
       "22            mon     -0.565057        0    Working adult -1.317983  0.689282   \n",
       "23            mon     -0.565057        0    Working adult -1.317983  0.689282   \n",
       "24            mon     -0.565057        0    Working adult -1.317983  0.689282   \n",
       "25            mon     -0.204316        0    Working adult -1.317983  0.689282   \n",
       "26            mon     -0.565057        0    Working adult -1.317983  0.689282   \n",
       "27            mon     -0.565057        0    Working adult -1.317983  0.689282   \n",
       "28            mon     -0.565057        0    Working adult -1.317983  0.689282   \n",
       "29            mon     -0.565057        0    Working adult -1.317983  0.689282   \n",
       "...           ...           ...      ...              ...       ...       ...   \n",
       "39161         mon      0.517165        0    Working adult  2.028832 -2.306191   \n",
       "39162         tue     -0.565057        1    Working adult  2.030054 -2.306294   \n",
       "39163         tue     -0.565057        1    Working adult  2.030054 -2.306294   \n",
       "39164         tue     -0.565057        1    Working adult  2.030054 -2.306294   \n",
       "39165         tue     -0.565057        0    Working adult  2.030054 -2.306294   \n",
       "39166         tue     -0.204316        0  Post-retirement  2.030054 -2.306294   \n",
       "39167         tue      0.156424        1    Working adult  2.030054 -2.306294   \n",
       "39168         tue     -0.204316        1    Working adult  2.030054 -2.306294   \n",
       "39169         wed     -0.204316        1    Working adult  2.031582 -2.306424   \n",
       "39170         wed     -0.565057        1    Working adult  2.031582 -2.306424   \n",
       "39171         wed      0.156424        0    Working adult  2.031582 -2.306424   \n",
       "39172         wed     -0.204316        0    Working adult  2.031582 -2.306424   \n",
       "39173         wed      0.877906        0  Post-retirement  2.031582 -2.306424   \n",
       "39174         wed     -0.204316        0    Working adult  2.031582 -2.306424   \n",
       "39175         thu     -0.565057        1    Working adult  2.031277 -2.306398   \n",
       "39176         thu     -0.565057        1    Working adult  2.031277 -2.306398   \n",
       "39177         thu     -0.565057        1  Post-retirement  2.031277 -2.306398   \n",
       "39178         thu     -0.565057        1  Post-retirement  2.031277 -2.306398   \n",
       "39179         thu     -0.565057        0    Working adult  2.031277 -2.306398   \n",
       "39180         thu      1.238647        0    Working adult  2.031277 -2.306398   \n",
       "39181         thu     -0.204316        1  Post-retirement  2.031277 -2.306398   \n",
       "39182         fri      0.156424        0  Post-retirement  2.032194 -2.306476   \n",
       "39183         fri     -0.204316        0    Working adult  2.032194 -2.306476   \n",
       "39184         fri     -0.565057        1    Working adult  2.032194 -2.306476   \n",
       "39185         fri     -0.565057        0    Working adult  2.032194 -2.306476   \n",
       "39186         fri     -0.565057        1  Post-retirement  2.032194 -2.306476   \n",
       "39187         fri     -0.565057        0    Working adult  2.032194 -2.306476   \n",
       "39188         fri     -0.204316        0    Working adult  2.032194 -2.306476   \n",
       "39189         fri     -0.565057        1    Working adult  2.032194 -2.306476   \n",
       "39190         fri      0.156424        0  Post-retirement  2.032194 -2.306476   \n",
       "\n",
       "           PCA3  \n",
       "0      0.396072  \n",
       "1      0.396072  \n",
       "2      0.396072  \n",
       "3      0.396072  \n",
       "4      0.396072  \n",
       "5      0.396072  \n",
       "6      0.396072  \n",
       "7      0.396072  \n",
       "8      0.396072  \n",
       "9      0.396072  \n",
       "10     0.396072  \n",
       "11     0.396072  \n",
       "12     0.396072  \n",
       "13     0.396072  \n",
       "14     0.396072  \n",
       "15     0.396072  \n",
       "16     0.396072  \n",
       "17     0.396072  \n",
       "18     0.396072  \n",
       "19     0.396072  \n",
       "20     0.396072  \n",
       "21     0.396072  \n",
       "22     0.396072  \n",
       "23     0.396072  \n",
       "24     0.396072  \n",
       "25     0.396072  \n",
       "26     0.396072  \n",
       "27     0.396072  \n",
       "28     0.396072  \n",
       "29     0.396072  \n",
       "...         ...  \n",
       "39161  3.214152  \n",
       "39162  3.214573  \n",
       "39163  3.214573  \n",
       "39164  3.214573  \n",
       "39165  3.214573  \n",
       "39166  3.214573  \n",
       "39167  3.214573  \n",
       "39168  3.214573  \n",
       "39169  3.215099  \n",
       "39170  3.215099  \n",
       "39171  3.215099  \n",
       "39172  3.215099  \n",
       "39173  3.215099  \n",
       "39174  3.215099  \n",
       "39175  3.214994  \n",
       "39176  3.214994  \n",
       "39177  3.214994  \n",
       "39178  3.214994  \n",
       "39179  3.214994  \n",
       "39180  3.214994  \n",
       "39181  3.214994  \n",
       "39182  3.215309  \n",
       "39183  3.215309  \n",
       "39184  3.215309  \n",
       "39185  3.215309  \n",
       "39186  3.215309  \n",
       "39187  3.215309  \n",
       "39188  3.215309  \n",
       "39189  3.215309  \n",
       "39190  3.215309  \n",
       "\n",
       "[39191 rows x 13 columns]"
      ]
     },
     "execution_count": 59,
     "metadata": {},
     "output_type": "execute_result"
    }
   ],
   "source": [
    "# Merging macro-economic PCA components with remaining bank dataset\n",
    "bank_final = bank_final.merge(bank_pca_df,how='inner',left_index = True,right_index = True)\n",
    "bank_final"
   ]
  },
  {
   "cell_type": "markdown",
   "metadata": {},
   "source": [
    "### Creating dummy variables & Final Dataset"
   ]
  },
  {
   "cell_type": "code",
   "execution_count": 60,
   "metadata": {
    "collapsed": false
   },
   "outputs": [
    {
     "data": {
      "text/html": [
       "<div>\n",
       "<style>\n",
       "    .dataframe thead tr:only-child th {\n",
       "        text-align: right;\n",
       "    }\n",
       "\n",
       "    .dataframe thead th {\n",
       "        text-align: left;\n",
       "    }\n",
       "\n",
       "    .dataframe tbody tr th {\n",
       "        vertical-align: top;\n",
       "    }\n",
       "</style>\n",
       "<table border=\"1\" class=\"dataframe\">\n",
       "  <thead>\n",
       "    <tr style=\"text-align: right;\">\n",
       "      <th></th>\n",
       "      <th>number_calls</th>\n",
       "      <th>PCA1</th>\n",
       "      <th>PCA2</th>\n",
       "      <th>PCA3</th>\n",
       "      <th>job_blue-collar</th>\n",
       "      <th>job_entrepreneur</th>\n",
       "      <th>job_housemaid</th>\n",
       "      <th>job_management</th>\n",
       "      <th>job_retired</th>\n",
       "      <th>job_self-employed</th>\n",
       "      <th>...</th>\n",
       "      <th>month_may</th>\n",
       "      <th>month_nov</th>\n",
       "      <th>month_oct</th>\n",
       "      <th>month_sep</th>\n",
       "      <th>day_of_week_mon</th>\n",
       "      <th>day_of_week_thu</th>\n",
       "      <th>day_of_week_tue</th>\n",
       "      <th>day_of_week_wed</th>\n",
       "      <th>age_category_Working adult</th>\n",
       "      <th>age_category_Young adult</th>\n",
       "    </tr>\n",
       "  </thead>\n",
       "  <tbody>\n",
       "    <tr>\n",
       "      <th>0</th>\n",
       "      <td>-0.565057</td>\n",
       "      <td>-1.317983</td>\n",
       "      <td>0.689282</td>\n",
       "      <td>0.396072</td>\n",
       "      <td>0</td>\n",
       "      <td>0</td>\n",
       "      <td>1</td>\n",
       "      <td>0</td>\n",
       "      <td>0</td>\n",
       "      <td>0</td>\n",
       "      <td>...</td>\n",
       "      <td>1</td>\n",
       "      <td>0</td>\n",
       "      <td>0</td>\n",
       "      <td>0</td>\n",
       "      <td>1</td>\n",
       "      <td>0</td>\n",
       "      <td>0</td>\n",
       "      <td>0</td>\n",
       "      <td>1</td>\n",
       "      <td>0</td>\n",
       "    </tr>\n",
       "  </tbody>\n",
       "</table>\n",
       "<p>1 rows × 36 columns</p>\n",
       "</div>"
      ],
      "text/plain": [
       "   number_calls      PCA1      PCA2      PCA3  job_blue-collar  \\\n",
       "0     -0.565057 -1.317983  0.689282  0.396072                0   \n",
       "\n",
       "   job_entrepreneur  job_housemaid  job_management  job_retired  \\\n",
       "0                 0              1               0            0   \n",
       "\n",
       "   job_self-employed            ...             month_may  month_nov  \\\n",
       "0                  0            ...                     1          0   \n",
       "\n",
       "   month_oct  month_sep  day_of_week_mon  day_of_week_thu  day_of_week_tue  \\\n",
       "0          0          0                1                0                0   \n",
       "\n",
       "   day_of_week_wed  age_category_Working adult  age_category_Young adult  \n",
       "0                0                           1                         0  \n",
       "\n",
       "[1 rows x 36 columns]"
      ]
     },
     "execution_count": 60,
     "metadata": {},
     "output_type": "execute_result"
    }
   ],
   "source": [
    "# Final set of dependent variables\n",
    "bank_x = bank_final.drop(['outcome','age'],axis=1)\n",
    "\n",
    "#Independent variable\n",
    "bank_y = bank['outcome']\n",
    "\n",
    "#Creating dummies for all categorical dependent variables\n",
    "bank_x = pd.get_dummies(bank_x,drop_first= True)\n",
    "bank_x.head(1)"
   ]
  },
  {
   "cell_type": "code",
   "execution_count": 61,
   "metadata": {
    "collapsed": false
   },
   "outputs": [],
   "source": [
    "#Resetting bank_y's index\n",
    "bank_y.index=range(len(bank_y))\n",
    "# Converting list to DataFrame for future usage\n",
    "bank_y = pd.DataFrame(bank_y)"
   ]
  },
  {
   "cell_type": "code",
   "execution_count": 62,
   "metadata": {
    "collapsed": false
   },
   "outputs": [
    {
     "data": {
      "text/plain": [
       "Index(['number_calls', 'PCA1', 'PCA2', 'PCA3', 'job_blue-collar',\n",
       "       'job_entrepreneur', 'job_housemaid', 'job_management', 'job_retired',\n",
       "       'job_self-employed', 'job_services', 'job_student', 'job_technician',\n",
       "       'job_unemployed', 'marital_married', 'marital_single',\n",
       "       'education_high.school', 'education_illiterate',\n",
       "       'education_professional.course', 'education_university.degree',\n",
       "       'contact_telephone', 'month_aug', 'month_dec', 'month_jul', 'month_jun',\n",
       "       'month_mar', 'month_may', 'month_nov', 'month_oct', 'month_sep',\n",
       "       'day_of_week_mon', 'day_of_week_thu', 'day_of_week_tue',\n",
       "       'day_of_week_wed', 'age_category_Working adult',\n",
       "       'age_category_Young adult', 'outcome'],\n",
       "      dtype='object')"
      ]
     },
     "execution_count": 62,
     "metadata": {},
     "output_type": "execute_result"
    }
   ],
   "source": [
    "bank_xy = bank_x.merge(bank_y,how='inner',left_index = True,right_index = True)\n",
    "bank_xy.columns"
   ]
  },
  {
   "cell_type": "code",
   "execution_count": 63,
   "metadata": {
    "collapsed": false
   },
   "outputs": [],
   "source": [
    "# Converting 'y' to a 1D array\n",
    "#bank_y = bank_y.as_matrix()\n",
    "#bank_y = np.ravel(bank_y)\n",
    "#bank_y.shape"
   ]
  },
  {
   "cell_type": "markdown",
   "metadata": {},
   "source": [
    "Now that we are ready with our final dataset, it is time to apply machine learning algorithmns to achieve final outcomes. Models parameters need to be selected carefully to ensure maximum profitability is achieved. \n",
    "\n",
    "Multiple algorithmns will be tested and a model with highest profitability along with the ROC score will be shortlisted. Following classification algorithmns will be tested on the final dataset:\n",
    "1) Logistic regression\n",
    "2) Support Vector Machines\n",
    "3) Random Forests"
   ]
  },
  {
   "cell_type": "markdown",
   "metadata": {},
   "source": [
    "## Test Train Validate datasets"
   ]
  },
  {
   "cell_type": "code",
   "execution_count": 64,
   "metadata": {
    "collapsed": false
   },
   "outputs": [],
   "source": [
    "# Introducing intercept term into the dataset for logistic regression\n",
    "bank_xy['intercept'] = 1"
   ]
  },
  {
   "cell_type": "code",
   "execution_count": 65,
   "metadata": {
    "collapsed": false
   },
   "outputs": [
    {
     "name": "stderr",
     "output_type": "stream",
     "text": [
      "/Users/Bunny/anaconda3/lib/python3.6/site-packages/sklearn/cross_validation.py:44: DeprecationWarning: This module was deprecated in version 0.18 in favor of the model_selection module into which all the refactored classes and functions are moved. Also note that the interface of the new CV iterators are different from that of this module. This module will be removed in 0.20.\n",
      "  \"This module will be removed in 0.20.\", DeprecationWarning)\n"
     ]
    }
   ],
   "source": [
    "# Importing libraries to perform logistic regression\n",
    "from sklearn.linear_model import LogisticRegression\n",
    "from sklearn.cross_validation import train_test_split\n",
    "from sklearn.metrics import confusion_matrix, f1_score, precision_score, recall_score, roc_auc_score,roc_curve,auc"
   ]
  },
  {
   "cell_type": "code",
   "execution_count": 66,
   "metadata": {
    "collapsed": false
   },
   "outputs": [],
   "source": [
    "# Splitting data into train&Validate and test datasets\n",
    "train_validate_XY,test_XY = train_test_split(bank_xy)\n",
    "\n",
    "# Splitting train&validate into seperate Train and Validate sets\n",
    "train_validate_X = train_validate_XY.drop(['outcome'],axis=1)\n",
    "train_validate_Y = train_validate_XY['outcome']\n",
    "\n",
    "X_train,X_validate,Y_train,Y_validate = train_test_split(train_validate_X,train_validate_Y)\n",
    "\n",
    "# Splitting test set into seperate X and Y sets\n",
    "X_test = test_XY.drop(['outcome'],axis=1)\n",
    "Y_test = test_XY['outcome']"
   ]
  },
  {
   "cell_type": "markdown",
   "metadata": {},
   "source": [
    "Final datasets\n",
    "\n",
    "    1) Train sets - X_train,Y_train \n",
    "    2) Validate sets - X_validate,Y_validate\n",
    "    3) Test sets - X_test,Y_test\n",
    "    4) Train+validate set for sampling purpose - train_validate_XY,train_validate_X,train_validate_Y"
   ]
  },
  {
   "cell_type": "code",
   "execution_count": 67,
   "metadata": {
    "collapsed": false
   },
   "outputs": [
    {
     "data": {
      "text/plain": [
       "0    19561\n",
       "1     2483\n",
       "Name: outcome, dtype: int64"
      ]
     },
     "execution_count": 67,
     "metadata": {},
     "output_type": "execute_result"
    }
   ],
   "source": [
    "Y_train.value_counts()"
   ]
  },
  {
   "cell_type": "code",
   "execution_count": 68,
   "metadata": {
    "collapsed": false
   },
   "outputs": [
    {
     "data": {
      "text/plain": [
       "0    8738\n",
       "1    1060\n",
       "Name: outcome, dtype: int64"
      ]
     },
     "execution_count": 68,
     "metadata": {},
     "output_type": "execute_result"
    }
   ],
   "source": [
    "Y_test.value_counts()"
   ]
  },
  {
   "cell_type": "code",
   "execution_count": 69,
   "metadata": {
    "collapsed": false
   },
   "outputs": [
    {
     "data": {
      "text/plain": [
       "0    6532\n",
       "1     817\n",
       "Name: outcome, dtype: int64"
      ]
     },
     "execution_count": 69,
     "metadata": {},
     "output_type": "execute_result"
    }
   ],
   "source": [
    "Y_validate.value_counts()"
   ]
  },
  {
   "cell_type": "markdown",
   "metadata": {},
   "source": [
    "# Model 1 - Scikit Logistic Regression"
   ]
  },
  {
   "cell_type": "markdown",
   "metadata": {},
   "source": [
    "Baseline performance: \n",
    "* 11.2% has been the conversion rate for this campaign. Out of the total 41188 customers contacted, 4613 of them accepteed the offer and remaining 36575 customers have rejected it. \n",
    "* Profitability:\n",
    "              -> $43*Total converts- $11*Total customers contacted \n",
    "               = $43(4613)-$11(41188)\n",
    "               = $ 1,98,359 - $ 4,53,068\n",
    "               = (- $ 2,54,709) \n",
    "               \n",
    "* Overall, this campaign made a loss of $2,54,709 hence our goal is not only to obtain profits but also to develop a model that can maximize it."
   ]
  },
  {
   "cell_type": "markdown",
   "metadata": {},
   "source": [
    "### Model 1 A - Performance of Logistic Regression on Original imbalanced Data "
   ]
  },
  {
   "cell_type": "code",
   "execution_count": 70,
   "metadata": {
    "collapsed": true
   },
   "outputs": [],
   "source": [
    "# Creating a function for Logistic regression\n",
    "def test_logistic_regression(X_train, X_validate, Y_train, Y_validate):\n",
    "    Y_train = Y_train.as_matrix()\n",
    "    Y_train = np.ravel(Y_train)\n",
    "    lr = LogisticRegression()\n",
    "    lr.fit(X_train, Y_train)\n",
    "    Y_predict = lr.predict(X_validate)\n",
    "    Y_proba = [x[1] for x in lr.predict_proba(X_validate)]\n",
    "    print ('Scores at default Threshold of 0.5')\n",
    "    print ('f1 score:',format(f1_score(Y_validate, Y_predict)))\n",
    "    print ('precision:',format(precision_score(Y_validate, Y_predict)))\n",
    "    print ('recall:',format(recall_score(Y_validate, Y_predict)))\n",
    "    print ('ROC AUC:',format(roc_auc_score(Y_validate, Y_proba)))\n",
    "    \n",
    "    threshold = np.arange(0.0,1,0.01)\n",
    "    max_profitability = 0\n",
    "    for t in threshold:\n",
    "        Y_predict = 0\n",
    "        Y_predict = np.where(Y_proba >= t ,1,Y_predict)\n",
    "        tn,fp,fn,tp = confusion_matrix(Y_validate,Y_predict).ravel()\n",
    "        principal_amt = 1000\n",
    "        profitability = ((tp*.043*principal_amt))-((tp+fp)*11)\n",
    "        if profitability > max_profitability: \n",
    "            max_profitability = profitability\n",
    "            max_threshold = t\n",
    "\n",
    "        plt.plot(t,profitability,'bo')\n",
    "        plt.xlabel('Logistic Regression Thresholds')\n",
    "        plt.ylabel('Profitability')\n",
    "        plt.grid(True)\n",
    "        \n",
    "    print ('Threshold at which profitability is the highest is:',max_threshold)\n",
    "    print ('Maximum achievable profitability with the model is:',max_profitability)"
   ]
  },
  {
   "cell_type": "markdown",
   "metadata": {},
   "source": [
    "#### Model performance "
   ]
  },
  {
   "cell_type": "code",
   "execution_count": 71,
   "metadata": {
    "collapsed": false
   },
   "outputs": [
    {
     "name": "stdout",
     "output_type": "stream",
     "text": [
      "Scores at default Threshold of 0.5\n",
      "f1 score: 0.2849264705882353\n",
      "precision: 0.5719557195571956\n",
      "recall: 0.189718482252142\n",
      "ROC AUC: 0.781061749668893\n",
      "Threshold at which profitability is the highest is: 0.23\n",
      "Maximum achievable profitability with the model is: 7348.0\n"
     ]
    },
    {
     "data": {
      "image/png": "[encoded data removed]",
      "text/plain": [
       "<matplotlib.figure.Figure at 0x125260fd0>"
      ]
     },
     "metadata": {},
     "output_type": "display_data"
    }
   ],
   "source": [
    "test_logistic_regression(X_train, X_validate, Y_train, Y_validate)"
   ]
  },
  {
   "cell_type": "markdown",
   "metadata": {},
   "source": [
    "#### Regularization on unbalanced LR model & maximum achievable profitability "
   ]
  },
  {
   "cell_type": "code",
   "execution_count": 72,
   "metadata": {
    "collapsed": true
   },
   "outputs": [],
   "source": [
    "def regularization_lr(X_train, X_validate, Y_train, Y_validate):\n",
    "    param_grid = [0.001, 0.1, 1, 10,100]\n",
    "    for param in param_grid:\n",
    "        clf = LogisticRegression(C=param)\n",
    "        clf.fit(X_train,Y_train)\n",
    "        Y_proba = [x[1] for x in clf.predict_proba(X_validate)]\n",
    "        threshold = np.arange(0.0,1.1,0.01)\n",
    "        max_profitability = 0\n",
    "        for t in threshold:\n",
    "            Y_predict = 0\n",
    "            Y_predict = np.where(Y_proba >= t ,1,Y_predict)\n",
    "            tn,fp,fn,tp = confusion_matrix(Y_validate,Y_predict).ravel()\n",
    "            principal_amt = 1000\n",
    "            profitability = ((tp*.043*principal_amt))-((tp+fp)*11)\n",
    "            if profitability > max_profitability: \n",
    "                max_profitability = profitability\n",
    "                max_threshold = t\n",
    "                max_C = param\n",
    "    print ('Regularization coefficient C at which profitability is maximum is:',param)\n",
    "    print ('Threshold at which profitability is the highest is:',max_threshold)\n",
    "    print ('Maximum achievable profitability with the model is:',max_profitability)\n",
    "    print ('ROC AUC:',format(roc_auc_score(Y_validate, Y_proba)))"
   ]
  },
  {
   "cell_type": "code",
   "execution_count": 73,
   "metadata": {
    "collapsed": false
   },
   "outputs": [
    {
     "name": "stdout",
     "output_type": "stream",
     "text": [
      "Regularization coefficient C at which profitability is maximum is: 100\n",
      "Threshold at which profitability is the highest is: 0.23\n",
      "Maximum achievable profitability with the model is: 7359.0\n",
      "ROC AUC: 0.78108985722113\n"
     ]
    }
   ],
   "source": [
    "regularization_lr(X_train, X_validate, Y_train, Y_validate)"
   ]
  },
  {
   "cell_type": "code",
   "execution_count": 74,
   "metadata": {
    "collapsed": false
   },
   "outputs": [],
   "source": [
    "# Profitability on Test data with regularization\n",
    "def profitability(clf,X_train,X_test,Y_train,Y_test):\n",
    "    #lr = LogisticRegression(C=100)\n",
    "    clf.fit(X_train, Y_train)\n",
    "    Y_predict = clf.predict(X_test)\n",
    "    Y_proba = [x[1] for x in clf.predict_proba(X_test)]\n",
    "    threshold = np.arange(0.0,1,0.01)\n",
    "    max_profitability = 0\n",
    "    for t in threshold:\n",
    "        Y_predict = 0\n",
    "        Y_predict = np.where(Y_proba >= t ,1,Y_predict)\n",
    "        tn,fp,fn,tp = confusion_matrix(Y_test,Y_predict).ravel()\n",
    "        principal_amt = 1000\n",
    "        profitability = ((tp*.043*principal_amt))-((tp+fp)*11)\n",
    "        if profitability > max_profitability: \n",
    "                max_profitability = profitability\n",
    "                max_threshold = t\n",
    "                \n",
    "        plt.plot(t,profitability,'bo')        \n",
    "        plt.xlabel('Probability Thresholds')\n",
    "        plt.ylabel('Profitability')\n",
    "        plt.grid(True)\n",
    "                \n",
    "    print ('Threshold at which profitability is the highest is:',max_threshold)\n",
    "    print ('Maximum achievable profitability with the model is:',max_profitability)\n",
    "    print ('ROC AUC:',format(roc_auc_score(Y_test, Y_proba)))"
   ]
  },
  {
   "cell_type": "code",
   "execution_count": 75,
   "metadata": {
    "collapsed": false
   },
   "outputs": [
    {
     "name": "stdout",
     "output_type": "stream",
     "text": [
      "Threshold at which profitability is the highest is: 0.21\n",
      "Maximum achievable profitability with the model is: 10159.0\n",
      "ROC AUC: 0.7746822056772198\n"
     ]
    },
    {
     "data": {
      "image/png": "[encoded data removed]",
      "text/plain": [
       "<matplotlib.figure.Figure at 0x120cc19b0>"
      ]
     },
     "metadata": {},
     "output_type": "display_data"
    }
   ],
   "source": [
    "profitability(LogisticRegression(C=100),X_train,X_test,Y_train,Y_test)"
   ]
  },
  {
   "cell_type": "markdown",
   "metadata": {},
   "source": [
    "### Model 1 B - Logistic Regression on Resampled data and testing on hold-out test set"
   ]
  },
  {
   "cell_type": "markdown",
   "metadata": {},
   "source": [
    "#### Up-sampling the training dataset"
   ]
  },
  {
   "cell_type": "code",
   "execution_count": 76,
   "metadata": {
    "collapsed": false
   },
   "outputs": [],
   "source": [
    "from sklearn.utils import resample\n",
    "\n",
    "# Splitting majority and minority class sets\n",
    "bank_maj = train_validate_XY[train_validate_XY.outcome==0] # Majority class\n",
    "bank_min = train_validate_XY[train_validate_XY.outcome==1] # Minority class\n",
    "\n",
    "#upsampling minority class \n",
    "bank_min_upsmpl = resample(bank_min, \n",
    "                                 replace=True, # sample with replacement\n",
    "                                 n_samples=len(bank_maj),  # to match majority class size\n",
    "                                 random_state=123) # reproducible results\n",
    "bank_upsmpl = pd.concat([bank_maj, bank_min_upsmpl])\n",
    "upsmpl_y = bank_upsmpl.outcome\n",
    "upsmpl_x = bank_upsmpl.drop('outcome', axis=1)"
   ]
  },
  {
   "cell_type": "markdown",
   "metadata": {},
   "source": [
    "#### Down-sampling the training dataset"
   ]
  },
  {
   "cell_type": "code",
   "execution_count": 77,
   "metadata": {
    "collapsed": false
   },
   "outputs": [],
   "source": [
    "# Splitting majority and minority class sets\n",
    "bank_maj = train_validate_XY[train_validate_XY.outcome==0] # Majority class\n",
    "bank_min = train_validate_XY[train_validate_XY.outcome==1] # Minority class\n",
    "\n",
    "#downsampling majority class\n",
    "bank_maj_downsmpl = resample(bank_maj, \n",
    "                                 replace=False,     # sample without replacement\n",
    "                                 n_samples=len(bank_min),    # to match minority class size\n",
    "                                 random_state=123) # reproducible results\n",
    "bank_downsmpl = pd.concat([bank_min, bank_maj_downsmpl])\n",
    "downsmpl_y = bank_downsmpl.outcome\n",
    "downsmpl_x = bank_downsmpl.drop('outcome', axis=1)"
   ]
  },
  {
   "cell_type": "markdown",
   "metadata": {},
   "source": [
    "#### Regualrization and maximum profitability from upsampling & downsampling data"
   ]
  },
  {
   "cell_type": "code",
   "execution_count": 78,
   "metadata": {
    "collapsed": false
   },
   "outputs": [
    {
     "name": "stdout",
     "output_type": "stream",
     "text": [
      "Threshold at which profitability is the highest is: 0.67\n",
      "Maximum achievable profitability with the model is: 10157.0\n",
      "ROC AUC: 0.7783953303074406\n"
     ]
    },
    {
     "data": {
      "image/png": "[encoded data removed]",
      "text/plain": [
       "<matplotlib.figure.Figure at 0x120cc10f0>"
      ]
     },
     "metadata": {},
     "output_type": "display_data"
    }
   ],
   "source": [
    "# Profitabilty with upsampling\n",
    "profitability(LogisticRegression(C=100),upsmpl_x,X_test,upsmpl_y,Y_test)"
   ]
  },
  {
   "cell_type": "code",
   "execution_count": 79,
   "metadata": {
    "collapsed": false
   },
   "outputs": [
    {
     "name": "stdout",
     "output_type": "stream",
     "text": [
      "Threshold at which profitability is the highest is: 0.63\n",
      "Maximum achievable profitability with the model is: 10114.0\n",
      "ROC AUC: 0.7792322732631707\n"
     ]
    },
    {
     "data": {
      "image/png": "[encoded data removed]",
      "text/plain": [
       "<matplotlib.figure.Figure at 0x11da369e8>"
      ]
     },
     "metadata": {},
     "output_type": "display_data"
    }
   ],
   "source": [
    "# Profitabilty with downsampling\n",
    "profitability(LogisticRegression(C=100),downsmpl_x,X_test,downsmpl_y,Y_test)"
   ]
  },
  {
   "cell_type": "markdown",
   "metadata": {},
   "source": [
    "Dataset rebalancing has not proven to be effective in our business case. There was no improvement in either profitability or ROC AUC."
   ]
  },
  {
   "cell_type": "markdown",
   "metadata": {},
   "source": [
    "## Model 2 - Random Forests"
   ]
  },
  {
   "cell_type": "code",
   "execution_count": 80,
   "metadata": {
    "collapsed": true
   },
   "outputs": [],
   "source": [
    "# Importing Random Forest Classifier from library\n",
    "from sklearn.ensemble import RandomForestClassifier"
   ]
  },
  {
   "cell_type": "code",
   "execution_count": 81,
   "metadata": {
    "collapsed": true
   },
   "outputs": [],
   "source": [
    "def regularization_rfc(X_train, X_validate, Y_train,Y_validate):\n",
    "    results = pd.DataFrame()\n",
    "    leaf_size = [5,10,50,100]\n",
    "    estimators = [10,50,100]\n",
    "    split_size = [2,5,10]\n",
    "    for leaf in leaf_size:\n",
    "        for estimator in estimators:\n",
    "            for split in split_size:\n",
    "                clf = RandomForestClassifier(min_samples_leaf = leaf,min_samples_split = split, n_estimators = estimator)\n",
    "                clf.fit(X_train,Y_train)\n",
    "                Y_proba = [x[1] for x in clf.predict_proba(X_validate)]\n",
    "                threshold = np.arange(0.0,1.0,0.01)\n",
    "                max_profitability = 0\n",
    "                for t in threshold:\n",
    "                    Y_predict = 0\n",
    "                    Y_predict = np.where(Y_proba >= t ,1,Y_predict)\n",
    "                    tn,fp,fn,tp = confusion_matrix(Y_validate,Y_predict).ravel()\n",
    "                    principal_amt = 1000\n",
    "                    profitability = ((tp*.043*principal_amt))-((tp+fp)*11)\n",
    "                   \n",
    "                    results = results.append({'Threshold':t,'leaf_size': leaf, 'Estimator': estimator, 'split_size': split,'Profitability': profitability},ignore_index = True)\n",
    "    return results.sort_values(by=['Profitability'], ascending=False).head(5)"
   ]
  },
  {
   "cell_type": "code",
   "execution_count": 82,
   "metadata": {
    "collapsed": false,
    "scrolled": true
   },
   "outputs": [
    {
     "data": {
      "text/html": [
       "<div>\n",
       "<style>\n",
       "    .dataframe thead tr:only-child th {\n",
       "        text-align: right;\n",
       "    }\n",
       "\n",
       "    .dataframe thead th {\n",
       "        text-align: left;\n",
       "    }\n",
       "\n",
       "    .dataframe tbody tr th {\n",
       "        vertical-align: top;\n",
       "    }\n",
       "</style>\n",
       "<table border=\"1\" class=\"dataframe\">\n",
       "  <thead>\n",
       "    <tr style=\"text-align: right;\">\n",
       "      <th></th>\n",
       "      <th>Estimator</th>\n",
       "      <th>Profitability</th>\n",
       "      <th>Threshold</th>\n",
       "      <th>leaf_size</th>\n",
       "      <th>split_size</th>\n",
       "    </tr>\n",
       "  </thead>\n",
       "  <tbody>\n",
       "    <tr>\n",
       "      <th>524</th>\n",
       "      <td>50.0</td>\n",
       "      <td>8251.0</td>\n",
       "      <td>0.24</td>\n",
       "      <td>5.0</td>\n",
       "      <td>10.0</td>\n",
       "    </tr>\n",
       "    <tr>\n",
       "      <th>1127</th>\n",
       "      <td>10.0</td>\n",
       "      <td>8159.0</td>\n",
       "      <td>0.27</td>\n",
       "      <td>10.0</td>\n",
       "      <td>10.0</td>\n",
       "    </tr>\n",
       "    <tr>\n",
       "      <th>1126</th>\n",
       "      <td>10.0</td>\n",
       "      <td>8155.0</td>\n",
       "      <td>0.26</td>\n",
       "      <td>10.0</td>\n",
       "      <td>10.0</td>\n",
       "    </tr>\n",
       "    <tr>\n",
       "      <th>523</th>\n",
       "      <td>50.0</td>\n",
       "      <td>8138.0</td>\n",
       "      <td>0.23</td>\n",
       "      <td>5.0</td>\n",
       "      <td>10.0</td>\n",
       "    </tr>\n",
       "    <tr>\n",
       "      <th>525</th>\n",
       "      <td>50.0</td>\n",
       "      <td>8095.0</td>\n",
       "      <td>0.25</td>\n",
       "      <td>5.0</td>\n",
       "      <td>10.0</td>\n",
       "    </tr>\n",
       "  </tbody>\n",
       "</table>\n",
       "</div>"
      ],
      "text/plain": [
       "      Estimator  Profitability  Threshold  leaf_size  split_size\n",
       "524        50.0         8251.0       0.24        5.0        10.0\n",
       "1127       10.0         8159.0       0.27       10.0        10.0\n",
       "1126       10.0         8155.0       0.26       10.0        10.0\n",
       "523        50.0         8138.0       0.23        5.0        10.0\n",
       "525        50.0         8095.0       0.25        5.0        10.0"
      ]
     },
     "execution_count": 82,
     "metadata": {},
     "output_type": "execute_result"
    }
   ],
   "source": [
    "regularization_rfc(X_train, X_validate, Y_train,Y_validate)"
   ]
  },
  {
   "cell_type": "code",
   "execution_count": 83,
   "metadata": {
    "collapsed": false,
    "scrolled": true
   },
   "outputs": [
    {
     "name": "stdout",
     "output_type": "stream",
     "text": [
      "Threshold at which profitability is the highest is: 0.26\n",
      "Maximum achievable profitability with the model is: 11359.0\n",
      "ROC AUC: 0.7955871556463419\n"
     ]
    },
    {
     "data": {
      "image/png": "[encoded data removed]",
      "text/plain": [
       "<matplotlib.figure.Figure at 0x11ccd4828>"
      ]
     },
     "metadata": {},
     "output_type": "display_data"
    }
   ],
   "source": [
    "profitability(RandomForestClassifier(min_samples_leaf = 5,min_samples_split = 10, n_estimators = 50),X_train, X_test, Y_train,Y_test)"
   ]
  },
  {
   "cell_type": "markdown",
   "metadata": {},
   "source": [
    "## Model 3 - SVM"
   ]
  },
  {
   "cell_type": "code",
   "execution_count": 84,
   "metadata": {
    "collapsed": false
   },
   "outputs": [],
   "source": [
    "# Importing svm from library\n",
    "from sklearn import svm"
   ]
  },
  {
   "cell_type": "code",
   "execution_count": null,
   "metadata": {
    "collapsed": false
   },
   "outputs": [],
   "source": [
    "def regularization_svm(X_train, X_validate, Y_train, Y_validate):\n",
    "    results = pd.DataFrame()\n",
    "    Cs = [0.01,0.1,1]\n",
    "    gammas = [1,10]\n",
    "    for i in Cs:\n",
    "        for j in gammas:\n",
    "                clf = svm.SVC(C = i, gamma = j,probability=True)\n",
    "                clf.fit(X_train,Y_train)\n",
    "                Y_proba = [x[1] for x in clf.predict_proba(X_validate)]\n",
    "                threshold = np.arange(0.0,1.0,0.01)\n",
    "                for t in threshold:\n",
    "                    Y_predict = 0\n",
    "                    Y_predict = np.where(Y_proba >= t ,1,Y_predict)\n",
    "                    tn,fp,fn,tp = confusion_matrix(Y_validate,Y_predict).ravel()\n",
    "                    principal_amt = 1000\n",
    "                    profitability = ((tp*.043*principal_amt))-((tp+fp)*11)\n",
    "                   \n",
    "                    results = results.append({'Threshold':t,'Cs': i, 'Gammas': j,'Profitability': profitability},ignore_index = True)\n",
    "    return results.sort_values(by=['Profitability'], ascending=False).head(5)"
   ]
  },
  {
   "cell_type": "code",
   "execution_count": null,
   "metadata": {
    "collapsed": false,
    "scrolled": true
   },
   "outputs": [],
   "source": [
    "# SVM grid search results\n",
    "regularization_svm(X_train, X_validate, Y_train, Y_validate)"
   ]
  },
  {
   "cell_type": "code",
   "execution_count": 86,
   "metadata": {
    "collapsed": false
   },
   "outputs": [
    {
     "name": "stdout",
     "output_type": "stream",
     "text": [
      "Threshold at which profitability is the highest is: 0.17\n",
      "Maximum achievable profitability with the model is: 2804.0\n",
      "ROC AUC: 0.6875537664592304\n"
     ]
    },
    {
     "data": {
      "image/png": "[encoded data removed]",
      "text/plain": [
       "<matplotlib.figure.Figure at 0x11dc252e8>"
      ]
     },
     "metadata": {},
     "output_type": "display_data"
    }
   ],
   "source": [
    "profitability(svm.SVC(kernel = 'rbf',C=1, gamma = 10, probability=True),X_train, X_test, Y_train,Y_test)"
   ]
  },
  {
   "cell_type": "code",
   "execution_count": 88,
   "metadata": {
    "collapsed": false
   },
   "outputs": [
    {
     "name": "stdout",
     "output_type": "stream",
     "text": [
      "Threshold at which profitability is the highest is: 0.1\n",
      "Maximum achievable profitability with the model is: 8296.0\n",
      "ROC AUC: 0.7073993660308261\n"
     ]
    },
    {
     "data": {
      "image/png": "[encoded data removed]",
      "text/plain": [
       "<matplotlib.figure.Figure at 0x123b50c50>"
      ]
     },
     "metadata": {},
     "output_type": "display_data"
    }
   ],
   "source": [
    "# kernel = rbf(default), C = 1, gamma = auto\n",
    "profitability(svm.SVC(kernel = 'rbf',gamma = 'auto',C=1,probability=True),X_train, X_test, Y_train,Y_test)"
   ]
  },
  {
   "cell_type": "code",
   "execution_count": 94,
   "metadata": {
    "collapsed": false
   },
   "outputs": [
    {
     "name": "stdout",
     "output_type": "stream",
     "text": [
      "Threshold at which profitability is the highest is: 0.1\n",
      "Maximum achievable profitability with the model is: 8536.0\n",
      "ROC AUC: 0.7095120747807235\n"
     ]
    },
    {
     "data": {
      "image/png": "[encoded data removed]",
      "text/plain": [
       "<matplotlib.figure.Figure at 0x11d19f320>"
      ]
     },
     "metadata": {},
     "output_type": "display_data"
    }
   ],
   "source": [
    "profitability(svm.SVC(kernel= 'rbf',gamma = 'auto',C=0.1, probability=True),X_train, X_test, Y_train,Y_test)"
   ]
  },
  {
   "cell_type": "code",
   "execution_count": 89,
   "metadata": {
    "collapsed": false
   },
   "outputs": [
    {
     "name": "stdout",
     "output_type": "stream",
     "text": [
      "Threshold at which profitability is the highest is: 0.11\n",
      "Maximum achievable profitability with the model is: 1076.0\n",
      "ROC AUC: 0.6307890173909664\n"
     ]
    },
    {
     "data": {
      "image/png": "[encoded data removed]",
      "text/plain": [
       "<matplotlib.figure.Figure at 0x123b3b748>"
      ]
     },
     "metadata": {},
     "output_type": "display_data"
    }
   ],
   "source": [
    "profitability(svm.SVC(kernel='linear',C=1,probability=True),X_train, X_test, Y_train,Y_test)"
   ]
  },
  {
   "cell_type": "code",
   "execution_count": 90,
   "metadata": {
    "collapsed": false
   },
   "outputs": [
    {
     "name": "stdout",
     "output_type": "stream",
     "text": [
      "Threshold at which profitability is the highest is: 0.1\n",
      "Maximum achievable profitability with the model is: 7227.0\n",
      "ROC AUC: 0.6586514875387054\n"
     ]
    },
    {
     "data": {
      "image/png": "[encoded data removed]",
      "text/plain": [
       "<matplotlib.figure.Figure at 0x123e7b198>"
      ]
     },
     "metadata": {},
     "output_type": "display_data"
    }
   ],
   "source": [
    "profitability(svm.SVC(kernel='linear',C=0.1,probability=True),X_train, X_test, Y_train,Y_test)"
   ]
  },
  {
   "cell_type": "code",
   "execution_count": 91,
   "metadata": {
    "collapsed": false
   },
   "outputs": [
    {
     "name": "stdout",
     "output_type": "stream",
     "text": [
      "Threshold at which profitability is the highest is: 0.11\n",
      "Maximum achievable profitability with the model is: 6551.0\n",
      "ROC AUC: 0.7063623103598682\n"
     ]
    },
    {
     "data": {
      "image/png": "[encoded data removed]",
      "text/plain": [
       "<matplotlib.figure.Figure at 0x123e7b160>"
      ]
     },
     "metadata": {},
     "output_type": "display_data"
    }
   ],
   "source": [
    "profitability(svm.SVC(kernel='linear',C=0.01,probability=True),X_train, X_test, Y_train,Y_test)"
   ]
  },
  {
   "cell_type": "code",
   "execution_count": null,
   "metadata": {
    "collapsed": true
   },
   "outputs": [],
   "source": []
  }
 ],
 "metadata": {
  "kernelspec": {
   "display_name": "Python 3",
   "language": "python",
   "name": "python3"
  },
  "language_info": {
   "codemirror_mode": {
    "name": "ipython",
    "version": 3
   },
   "file_extension": ".py",
   "mimetype": "text/x-python",
   "name": "python",
   "nbconvert_exporter": "python",
   "pygments_lexer": "ipython3",
   "version": "3.6.0"
  }
 },
 "nbformat": 4,
 "nbformat_minor": 2
}
