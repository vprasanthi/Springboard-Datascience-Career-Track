{
 "cells": [
  {
   "cell_type": "code",
   "execution_count": 1,
   "metadata": {
    "collapsed": false
   },
   "outputs": [],
   "source": [
    "#Importing libraries\n",
    "import pandas as pd\n",
    "import numpy as np\n",
    "import seaborn as sns\n",
    "import matplotlib.pyplot as plt\n",
    "from scipy.stats import chi2_contingency\n",
    "%matplotlib inline"
   ]
  },
  {
   "cell_type": "code",
   "execution_count": 2,
   "metadata": {
    "collapsed": false
   },
   "outputs": [],
   "source": [
    "#Loading Bank Dataset\n",
    "bank = pd.read_csv('/Users/Bunny/Documents/Prasanthi/Springboard/Projects/Capstone 1 /Bank Marketing dataset/bank-additional/bank-additional-full.csv', delimiter=';')"
   ]
  },
  {
   "cell_type": "code",
   "execution_count": 3,
   "metadata": {
    "collapsed": false
   },
   "outputs": [
    {
     "data": {
      "text/html": [
       "<div>\n",
       "<style>\n",
       "    .dataframe thead tr:only-child th {\n",
       "        text-align: right;\n",
       "    }\n",
       "\n",
       "    .dataframe thead th {\n",
       "        text-align: left;\n",
       "    }\n",
       "\n",
       "    .dataframe tbody tr th {\n",
       "        vertical-align: top;\n",
       "    }\n",
       "</style>\n",
       "<table border=\"1\" class=\"dataframe\">\n",
       "  <thead>\n",
       "    <tr style=\"text-align: right;\">\n",
       "      <th></th>\n",
       "      <th>age</th>\n",
       "      <th>job</th>\n",
       "      <th>marital</th>\n",
       "      <th>education</th>\n",
       "      <th>default</th>\n",
       "      <th>housing</th>\n",
       "      <th>loan</th>\n",
       "      <th>contact</th>\n",
       "      <th>month</th>\n",
       "      <th>day_of_week</th>\n",
       "      <th>...</th>\n",
       "      <th>campaign</th>\n",
       "      <th>pdays</th>\n",
       "      <th>previous</th>\n",
       "      <th>poutcome</th>\n",
       "      <th>emp.var.rate</th>\n",
       "      <th>cons.price.idx</th>\n",
       "      <th>cons.conf.idx</th>\n",
       "      <th>euribor3m</th>\n",
       "      <th>nr.employed</th>\n",
       "      <th>y</th>\n",
       "    </tr>\n",
       "  </thead>\n",
       "  <tbody>\n",
       "    <tr>\n",
       "      <th>0</th>\n",
       "      <td>56</td>\n",
       "      <td>housemaid</td>\n",
       "      <td>married</td>\n",
       "      <td>basic.4y</td>\n",
       "      <td>no</td>\n",
       "      <td>no</td>\n",
       "      <td>no</td>\n",
       "      <td>telephone</td>\n",
       "      <td>may</td>\n",
       "      <td>mon</td>\n",
       "      <td>...</td>\n",
       "      <td>1</td>\n",
       "      <td>999</td>\n",
       "      <td>0</td>\n",
       "      <td>nonexistent</td>\n",
       "      <td>1.1</td>\n",
       "      <td>93.994</td>\n",
       "      <td>-36.4</td>\n",
       "      <td>4.857</td>\n",
       "      <td>5191.0</td>\n",
       "      <td>no</td>\n",
       "    </tr>\n",
       "    <tr>\n",
       "      <th>1</th>\n",
       "      <td>57</td>\n",
       "      <td>services</td>\n",
       "      <td>married</td>\n",
       "      <td>high.school</td>\n",
       "      <td>unknown</td>\n",
       "      <td>no</td>\n",
       "      <td>no</td>\n",
       "      <td>telephone</td>\n",
       "      <td>may</td>\n",
       "      <td>mon</td>\n",
       "      <td>...</td>\n",
       "      <td>1</td>\n",
       "      <td>999</td>\n",
       "      <td>0</td>\n",
       "      <td>nonexistent</td>\n",
       "      <td>1.1</td>\n",
       "      <td>93.994</td>\n",
       "      <td>-36.4</td>\n",
       "      <td>4.857</td>\n",
       "      <td>5191.0</td>\n",
       "      <td>no</td>\n",
       "    </tr>\n",
       "    <tr>\n",
       "      <th>2</th>\n",
       "      <td>37</td>\n",
       "      <td>services</td>\n",
       "      <td>married</td>\n",
       "      <td>high.school</td>\n",
       "      <td>no</td>\n",
       "      <td>yes</td>\n",
       "      <td>no</td>\n",
       "      <td>telephone</td>\n",
       "      <td>may</td>\n",
       "      <td>mon</td>\n",
       "      <td>...</td>\n",
       "      <td>1</td>\n",
       "      <td>999</td>\n",
       "      <td>0</td>\n",
       "      <td>nonexistent</td>\n",
       "      <td>1.1</td>\n",
       "      <td>93.994</td>\n",
       "      <td>-36.4</td>\n",
       "      <td>4.857</td>\n",
       "      <td>5191.0</td>\n",
       "      <td>no</td>\n",
       "    </tr>\n",
       "    <tr>\n",
       "      <th>3</th>\n",
       "      <td>40</td>\n",
       "      <td>admin.</td>\n",
       "      <td>married</td>\n",
       "      <td>basic.6y</td>\n",
       "      <td>no</td>\n",
       "      <td>no</td>\n",
       "      <td>no</td>\n",
       "      <td>telephone</td>\n",
       "      <td>may</td>\n",
       "      <td>mon</td>\n",
       "      <td>...</td>\n",
       "      <td>1</td>\n",
       "      <td>999</td>\n",
       "      <td>0</td>\n",
       "      <td>nonexistent</td>\n",
       "      <td>1.1</td>\n",
       "      <td>93.994</td>\n",
       "      <td>-36.4</td>\n",
       "      <td>4.857</td>\n",
       "      <td>5191.0</td>\n",
       "      <td>no</td>\n",
       "    </tr>\n",
       "    <tr>\n",
       "      <th>4</th>\n",
       "      <td>56</td>\n",
       "      <td>services</td>\n",
       "      <td>married</td>\n",
       "      <td>high.school</td>\n",
       "      <td>no</td>\n",
       "      <td>no</td>\n",
       "      <td>yes</td>\n",
       "      <td>telephone</td>\n",
       "      <td>may</td>\n",
       "      <td>mon</td>\n",
       "      <td>...</td>\n",
       "      <td>1</td>\n",
       "      <td>999</td>\n",
       "      <td>0</td>\n",
       "      <td>nonexistent</td>\n",
       "      <td>1.1</td>\n",
       "      <td>93.994</td>\n",
       "      <td>-36.4</td>\n",
       "      <td>4.857</td>\n",
       "      <td>5191.0</td>\n",
       "      <td>no</td>\n",
       "    </tr>\n",
       "  </tbody>\n",
       "</table>\n",
       "<p>5 rows × 21 columns</p>\n",
       "</div>"
      ],
      "text/plain": [
       "   age        job  marital    education  default housing loan    contact  \\\n",
       "0   56  housemaid  married     basic.4y       no      no   no  telephone   \n",
       "1   57   services  married  high.school  unknown      no   no  telephone   \n",
       "2   37   services  married  high.school       no     yes   no  telephone   \n",
       "3   40     admin.  married     basic.6y       no      no   no  telephone   \n",
       "4   56   services  married  high.school       no      no  yes  telephone   \n",
       "\n",
       "  month day_of_week ...  campaign  pdays  previous     poutcome emp.var.rate  \\\n",
       "0   may         mon ...         1    999         0  nonexistent          1.1   \n",
       "1   may         mon ...         1    999         0  nonexistent          1.1   \n",
       "2   may         mon ...         1    999         0  nonexistent          1.1   \n",
       "3   may         mon ...         1    999         0  nonexistent          1.1   \n",
       "4   may         mon ...         1    999         0  nonexistent          1.1   \n",
       "\n",
       "   cons.price.idx  cons.conf.idx  euribor3m  nr.employed   y  \n",
       "0          93.994          -36.4      4.857       5191.0  no  \n",
       "1          93.994          -36.4      4.857       5191.0  no  \n",
       "2          93.994          -36.4      4.857       5191.0  no  \n",
       "3          93.994          -36.4      4.857       5191.0  no  \n",
       "4          93.994          -36.4      4.857       5191.0  no  \n",
       "\n",
       "[5 rows x 21 columns]"
      ]
     },
     "execution_count": 3,
     "metadata": {},
     "output_type": "execute_result"
    }
   ],
   "source": [
    "#Data at a glance\n",
    "bank.head(5)"
   ]
  },
  {
   "cell_type": "code",
   "execution_count": 4,
   "metadata": {
    "collapsed": false
   },
   "outputs": [
    {
     "data": {
      "text/plain": [
       "Index(['age', 'job', 'marital', 'education', 'default', 'housing', 'loan',\n",
       "       'contact', 'month', 'day_of_week', 'duration', 'campaign', 'pdays',\n",
       "       'previous', 'poutcome', 'emp.var.rate', 'cons.price.idx',\n",
       "       'cons.conf.idx', 'euribor3m', 'nr.employed', 'y'],\n",
       "      dtype='object')"
      ]
     },
     "execution_count": 4,
     "metadata": {},
     "output_type": "execute_result"
    }
   ],
   "source": [
    "#Variables present in the dataset\n",
    "bank.columns"
   ]
  },
  {
   "cell_type": "code",
   "execution_count": 5,
   "metadata": {
    "collapsed": false
   },
   "outputs": [
    {
     "data": {
      "text/plain": [
       "(41188, 21)"
      ]
     },
     "execution_count": 5,
     "metadata": {},
     "output_type": "execute_result"
    }
   ],
   "source": [
    "#Dataset dimensions\n",
    "bank.shape"
   ]
  },
  {
   "cell_type": "code",
   "execution_count": 6,
   "metadata": {
    "collapsed": false
   },
   "outputs": [
    {
     "data": {
      "text/plain": [
       "Index(['age', 'job', 'marital', 'education', 'default', 'housing', 'loan',\n",
       "       'contact', 'month', 'day_of_week', 'duration', 'number_calls', 'pdays',\n",
       "       'previous', 'poutcome', 'emp.var.rate', 'cons.price.idx',\n",
       "       'cons.conf.idx', 'euribor3m', 'nr.employed', 'outcome'],\n",
       "      dtype='object')"
      ]
     },
     "execution_count": 6,
     "metadata": {},
     "output_type": "execute_result"
    }
   ],
   "source": [
    "#Renaming Dependent Variable 'y' as 'outcome' and 'campaign' as 'number_calls'\n",
    "bank = bank.rename(columns= {'y':'outcome','campaign' : 'number_calls'})\n",
    "bank.columns"
   ]
  },
  {
   "cell_type": "markdown",
   "metadata": {},
   "source": [
    "## Data Wrangling & Exploratory Data Analysis"
   ]
  },
  {
   "cell_type": "markdown",
   "metadata": {},
   "source": [
    "### Missing value treatment"
   ]
  },
  {
   "cell_type": "code",
   "execution_count": 7,
   "metadata": {
    "collapsed": true
   },
   "outputs": [],
   "source": [
    "#Replacing unknown values with np.NaN\n",
    "bank = bank.replace('unknown', np.NaN)"
   ]
  },
  {
   "cell_type": "code",
   "execution_count": 8,
   "metadata": {
    "collapsed": false
   },
   "outputs": [
    {
     "data": {
      "text/plain": [
       "age                0.000000\n",
       "job                0.801204\n",
       "marital            0.194231\n",
       "education          4.202680\n",
       "default           20.872584\n",
       "housing            2.403613\n",
       "loan               2.403613\n",
       "contact            0.000000\n",
       "month              0.000000\n",
       "day_of_week        0.000000\n",
       "duration           0.000000\n",
       "number_calls       0.000000\n",
       "pdays              0.000000\n",
       "previous           0.000000\n",
       "poutcome           0.000000\n",
       "emp.var.rate       0.000000\n",
       "cons.price.idx     0.000000\n",
       "cons.conf.idx      0.000000\n",
       "euribor3m          0.000000\n",
       "nr.employed        0.000000\n",
       "outcome            0.000000\n",
       "dtype: float64"
      ]
     },
     "execution_count": 8,
     "metadata": {},
     "output_type": "execute_result"
    }
   ],
   "source": [
    "# % missing values for each attribute\n",
    "bank.isnull().sum()/len(bank)*100 "
   ]
  },
  {
   "cell_type": "markdown",
   "metadata": {},
   "source": [
    "### Transforming Dependent variable - 'outcome'"
   ]
  },
  {
   "cell_type": "code",
   "execution_count": 9,
   "metadata": {
    "collapsed": false
   },
   "outputs": [],
   "source": [
    "#Converting dependent variable'outcome' from categorical to numerical. yes = 1 , no = 0\n",
    "bank['outcome'] = (bank['outcome']=='yes').astype(int)"
   ]
  },
  {
   "cell_type": "markdown",
   "metadata": {},
   "source": [
    "#### Investigating variables with > 2% missing values"
   ]
  },
  {
   "cell_type": "markdown",
   "metadata": {},
   "source": [
    "#### 1) Default"
   ]
  },
  {
   "cell_type": "code",
   "execution_count": 10,
   "metadata": {
    "collapsed": false
   },
   "outputs": [
    {
     "data": {
      "text/html": [
       "<div>\n",
       "<style>\n",
       "    .dataframe thead tr:only-child th {\n",
       "        text-align: right;\n",
       "    }\n",
       "\n",
       "    .dataframe thead th {\n",
       "        text-align: left;\n",
       "    }\n",
       "\n",
       "    .dataframe tbody tr th {\n",
       "        vertical-align: top;\n",
       "    }\n",
       "</style>\n",
       "<table border=\"1\" class=\"dataframe\">\n",
       "  <thead>\n",
       "    <tr style=\"text-align: right;\">\n",
       "      <th>default</th>\n",
       "      <th>no</th>\n",
       "      <th>yes</th>\n",
       "    </tr>\n",
       "    <tr>\n",
       "      <th>outcome</th>\n",
       "      <th></th>\n",
       "      <th></th>\n",
       "    </tr>\n",
       "  </thead>\n",
       "  <tbody>\n",
       "    <tr>\n",
       "      <th>0</th>\n",
       "      <td>28391.0</td>\n",
       "      <td>3.0</td>\n",
       "    </tr>\n",
       "    <tr>\n",
       "      <th>1</th>\n",
       "      <td>4197.0</td>\n",
       "      <td>NaN</td>\n",
       "    </tr>\n",
       "  </tbody>\n",
       "</table>\n",
       "</div>"
      ],
      "text/plain": [
       "default       no  yes\n",
       "outcome              \n",
       "0        28391.0  3.0\n",
       "1         4197.0  NaN"
      ]
     },
     "execution_count": 10,
     "metadata": {},
     "output_type": "execute_result"
    }
   ],
   "source": [
    "#Investigating 'default' variable \n",
    "bank.groupby(['outcome', 'default']).size().unstack('default')"
   ]
  },
  {
   "cell_type": "markdown",
   "metadata": {},
   "source": [
    "* According to this, only 3 customers with credit defaults have been contacted and the remaining contacted were those with either no credit amounts or with cleared monthly payments. This attribute will therefore be of no use for predicting the outcome and hence will be removed."
   ]
  },
  {
   "cell_type": "code",
   "execution_count": 11,
   "metadata": {
    "collapsed": false
   },
   "outputs": [],
   "source": [
    "#remove 'default' variable from the dataset\n",
    "bank = bank.drop('default',axis=1)"
   ]
  },
  {
   "cell_type": "markdown",
   "metadata": {},
   "source": [
    "#### 2) Loan"
   ]
  },
  {
   "cell_type": "code",
   "execution_count": 12,
   "metadata": {
    "collapsed": false
   },
   "outputs": [
    {
     "data": {
      "text/plain": [
       "array(['no', 'yes', nan], dtype=object)"
      ]
     },
     "execution_count": 12,
     "metadata": {},
     "output_type": "execute_result"
    }
   ],
   "source": [
    "bank['loan'].unique()"
   ]
  },
  {
   "cell_type": "code",
   "execution_count": 13,
   "metadata": {
    "collapsed": false
   },
   "outputs": [
    {
     "data": {
      "text/plain": [
       "<matplotlib.text.Text at 0x1116c83c8>"
      ]
     },
     "execution_count": 13,
     "metadata": {},
     "output_type": "execute_result"
    },
    {
     "data": {
      "image/png": "[encoded data removed]",
      "text/plain": [
       "<matplotlib.figure.Figure at 0x1115209e8>"
      ]
     },
     "metadata": {},
     "output_type": "display_data"
    }
   ],
   "source": [
    "loan_conv = bank.groupby('outcome').loan.value_counts().unstack('outcome')\n",
    "loan_conv['conversion_rate']= 100*loan_conv[1]/(loan_conv[0]+loan_conv[1])\n",
    "loan_conv['conversion_rate'].sort_values().plot(kind= 'bar', title = 'Conversion % based on personal loans',rot=360)\n",
    "plt.ylabel('Conversion %')\n",
    "plt.xlabel('Have personal loan?')"
   ]
  },
  {
   "cell_type": "markdown",
   "metadata": {},
   "source": [
    "The above graph represents how customers having prior loans have reacted towards the campaign compared to those who didn't and we can see that the conversion rates for both categories are similar."
   ]
  },
  {
   "cell_type": "code",
   "execution_count": 14,
   "metadata": {
    "collapsed": false
   },
   "outputs": [
    {
     "data": {
      "text/html": [
       "<div>\n",
       "<style>\n",
       "    .dataframe thead tr:only-child th {\n",
       "        text-align: right;\n",
       "    }\n",
       "\n",
       "    .dataframe thead th {\n",
       "        text-align: left;\n",
       "    }\n",
       "\n",
       "    .dataframe tbody tr th {\n",
       "        vertical-align: top;\n",
       "    }\n",
       "</style>\n",
       "<table border=\"1\" class=\"dataframe\">\n",
       "  <thead>\n",
       "    <tr style=\"text-align: right;\">\n",
       "      <th>loan</th>\n",
       "      <th>no</th>\n",
       "      <th>yes</th>\n",
       "    </tr>\n",
       "    <tr>\n",
       "      <th>outcome</th>\n",
       "      <th></th>\n",
       "      <th></th>\n",
       "    </tr>\n",
       "  </thead>\n",
       "  <tbody>\n",
       "    <tr>\n",
       "      <th>0</th>\n",
       "      <td>30100</td>\n",
       "      <td>5565</td>\n",
       "    </tr>\n",
       "    <tr>\n",
       "      <th>1</th>\n",
       "      <td>3850</td>\n",
       "      <td>683</td>\n",
       "    </tr>\n",
       "  </tbody>\n",
       "</table>\n",
       "</div>"
      ],
      "text/plain": [
       "loan        no   yes\n",
       "outcome             \n",
       "0        30100  5565\n",
       "1         3850   683"
      ]
     },
     "execution_count": 14,
     "metadata": {},
     "output_type": "execute_result"
    }
   ],
   "source": [
    "#Chi-Square test to check existence of statistical difference among customers with orior loans and those without loans\n",
    "outcome_loan = bank.groupby(['outcome', 'loan']).size().unstack('loan')\n",
    "outcome_loan"
   ]
  },
  {
   "cell_type": "code",
   "execution_count": 15,
   "metadata": {
    "collapsed": false
   },
   "outputs": [
    {
     "data": {
      "text/plain": [
       "(0.84063933655186474,\n",
       " 0.35921398426348206,\n",
       " 1,\n",
       " array([[ 30121.56699338,   5543.43300662],\n",
       "        [  3828.43300662,    704.56699338]]))"
      ]
     },
     "execution_count": 15,
     "metadata": {},
     "output_type": "execute_result"
    }
   ],
   "source": [
    "#Returns chi2, p-value, Degrees of freedom, contingency_table\n",
    "contingency_table_loan = chi2_contingency(outcome_loan)\n",
    "contingency_table_loan"
   ]
  },
  {
   "cell_type": "markdown",
   "metadata": {},
   "source": [
    "Chi-square test showed a p-value > 0.05 and chi-cal>chi-tab which shows that there is statistically no significant difference in outcome between the two groups and hence this variable is being dropped form further analysis."
   ]
  },
  {
   "cell_type": "code",
   "execution_count": 16,
   "metadata": {
    "collapsed": false
   },
   "outputs": [],
   "source": [
    "#Remove 'loan' variable from the dataset\n",
    "bank = bank.drop('loan',axis=1)"
   ]
  },
  {
   "cell_type": "markdown",
   "metadata": {},
   "source": [
    "#### 3) Housing (loan)"
   ]
  },
  {
   "cell_type": "code",
   "execution_count": 17,
   "metadata": {
    "collapsed": false
   },
   "outputs": [
    {
     "data": {
      "text/plain": [
       "array(['no', 'yes', nan], dtype=object)"
      ]
     },
     "execution_count": 17,
     "metadata": {},
     "output_type": "execute_result"
    }
   ],
   "source": [
    "bank['housing'].unique()"
   ]
  },
  {
   "cell_type": "code",
   "execution_count": 18,
   "metadata": {
    "collapsed": false
   },
   "outputs": [
    {
     "data": {
      "text/plain": [
       "<matplotlib.text.Text at 0x111616320>"
      ]
     },
     "execution_count": 18,
     "metadata": {},
     "output_type": "execute_result"
    },
    {
     "data": {
      "image/png": "[encoded data removed]",
      "text/plain": [
       "<matplotlib.figure.Figure at 0x111520b70>"
      ]
     },
     "metadata": {},
     "output_type": "display_data"
    }
   ],
   "source": [
    "housing_conv = bank.groupby('outcome').housing.value_counts().unstack('outcome')\n",
    "housing_conv['conversion_rate']= 100*housing_conv[1]/(housing_conv[0]+housing_conv[1])\n",
    "housing_conv['conversion_rate'].sort_values().plot(kind= 'bar', title = 'Conversion % based on housing loans',rot=360)\n",
    "plt.ylabel('Conversion %')\n",
    "plt.xlabel('Have housing loan?')"
   ]
  },
  {
   "cell_type": "markdown",
   "metadata": {},
   "source": [
    "In the case of customers with/without housing loan, based on above graph results, there does not seem to be any difference between the two groups."
   ]
  },
  {
   "cell_type": "code",
   "execution_count": 20,
   "metadata": {
    "collapsed": false
   },
   "outputs": [
    {
     "data": {
      "text/html": [
       "<div>\n",
       "<style>\n",
       "    .dataframe thead tr:only-child th {\n",
       "        text-align: right;\n",
       "    }\n",
       "\n",
       "    .dataframe thead th {\n",
       "        text-align: left;\n",
       "    }\n",
       "\n",
       "    .dataframe tbody tr th {\n",
       "        vertical-align: top;\n",
       "    }\n",
       "</style>\n",
       "<table border=\"1\" class=\"dataframe\">\n",
       "  <thead>\n",
       "    <tr style=\"text-align: right;\">\n",
       "      <th>housing</th>\n",
       "      <th>no</th>\n",
       "      <th>yes</th>\n",
       "    </tr>\n",
       "    <tr>\n",
       "      <th>outcome</th>\n",
       "      <th></th>\n",
       "      <th></th>\n",
       "    </tr>\n",
       "  </thead>\n",
       "  <tbody>\n",
       "    <tr>\n",
       "      <th>0</th>\n",
       "      <td>16596</td>\n",
       "      <td>19069</td>\n",
       "    </tr>\n",
       "    <tr>\n",
       "      <th>1</th>\n",
       "      <td>2026</td>\n",
       "      <td>2507</td>\n",
       "    </tr>\n",
       "  </tbody>\n",
       "</table>\n",
       "</div>"
      ],
      "text/plain": [
       "housing     no    yes\n",
       "outcome              \n",
       "0        16596  19069\n",
       "1         2026   2507"
      ]
     },
     "execution_count": 20,
     "metadata": {},
     "output_type": "execute_result"
    }
   ],
   "source": [
    "#Chi-Square test to check existence of statistical difference among customers with existing housing loan \n",
    "#and those without it\n",
    "outcome_housing = bank.groupby(['outcome', 'housing']).size().unstack('housing')\n",
    "outcome_housing"
   ]
  },
  {
   "cell_type": "code",
   "execution_count": 21,
   "metadata": {
    "collapsed": false
   },
   "outputs": [
    {
     "data": {
      "text/plain": [
       "(5.3937900445262397,\n",
       " 0.02020853196455713,\n",
       " 1,\n",
       " array([[ 16522.05656998,  19142.94343002],\n",
       "        [  2099.94343002,   2433.05656998]]))"
      ]
     },
     "execution_count": 21,
     "metadata": {},
     "output_type": "execute_result"
    }
   ],
   "source": [
    "#Returns chi2, p-value, Degrees of freedom, contingency_table\n",
    "contingency_table_housing = chi2_contingency(outcome_housing)\n",
    "contingency_table_housing"
   ]
  },
  {
   "cell_type": "markdown",
   "metadata": {},
   "source": [
    "However, results of chi-square have suggested that there is a statistically significant difference in outcome between the two groups and hence this variable will be retained for further analysis."
   ]
  },
  {
   "cell_type": "markdown",
   "metadata": {},
   "source": [
    "#### 4) Education"
   ]
  },
  {
   "cell_type": "code",
   "execution_count": 22,
   "metadata": {
    "collapsed": false
   },
   "outputs": [
    {
     "data": {
      "text/plain": [
       "array(['basic.4y', 'high.school', 'basic.6y', 'basic.9y',\n",
       "       'professional.course', nan, 'university.degree', 'illiterate'], dtype=object)"
      ]
     },
     "execution_count": 22,
     "metadata": {},
     "output_type": "execute_result"
    }
   ],
   "source": [
    "#Combining all basic education into one category 'basic'\n",
    "bank['education'].unique()"
   ]
  },
  {
   "cell_type": "code",
   "execution_count": 23,
   "metadata": {
    "collapsed": true
   },
   "outputs": [],
   "source": [
    "bank['education']=np.where(bank['education']=='basic.4y','basic',bank['education'])\n",
    "bank['education']=np.where(bank['education']=='basic.6y','basic',bank['education'])\n",
    "bank['education']=np.where(bank['education']=='basic.9y','basic',bank['education'])"
   ]
  },
  {
   "cell_type": "code",
   "execution_count": 24,
   "metadata": {
    "collapsed": false
   },
   "outputs": [
    {
     "data": {
      "text/html": [
       "<div>\n",
       "<style>\n",
       "    .dataframe thead tr:only-child th {\n",
       "        text-align: right;\n",
       "    }\n",
       "\n",
       "    .dataframe thead th {\n",
       "        text-align: left;\n",
       "    }\n",
       "\n",
       "    .dataframe tbody tr th {\n",
       "        vertical-align: top;\n",
       "    }\n",
       "</style>\n",
       "<table border=\"1\" class=\"dataframe\">\n",
       "  <thead>\n",
       "    <tr style=\"text-align: right;\">\n",
       "      <th>outcome</th>\n",
       "      <th>0</th>\n",
       "      <th>1</th>\n",
       "      <th>conversion_rate</th>\n",
       "    </tr>\n",
       "    <tr>\n",
       "      <th>education</th>\n",
       "      <th></th>\n",
       "      <th></th>\n",
       "      <th></th>\n",
       "    </tr>\n",
       "  </thead>\n",
       "  <tbody>\n",
       "    <tr>\n",
       "      <th>basic</th>\n",
       "      <td>11424</td>\n",
       "      <td>1089</td>\n",
       "      <td>8.702949</td>\n",
       "    </tr>\n",
       "    <tr>\n",
       "      <th>high.school</th>\n",
       "      <td>8484</td>\n",
       "      <td>1031</td>\n",
       "      <td>10.835523</td>\n",
       "    </tr>\n",
       "    <tr>\n",
       "      <th>illiterate</th>\n",
       "      <td>14</td>\n",
       "      <td>4</td>\n",
       "      <td>22.222222</td>\n",
       "    </tr>\n",
       "    <tr>\n",
       "      <th>professional.course</th>\n",
       "      <td>4648</td>\n",
       "      <td>595</td>\n",
       "      <td>11.348465</td>\n",
       "    </tr>\n",
       "    <tr>\n",
       "      <th>university.degree</th>\n",
       "      <td>10498</td>\n",
       "      <td>1670</td>\n",
       "      <td>13.724523</td>\n",
       "    </tr>\n",
       "  </tbody>\n",
       "</table>\n",
       "</div>"
      ],
      "text/plain": [
       "outcome                  0     1  conversion_rate\n",
       "education                                        \n",
       "basic                11424  1089         8.702949\n",
       "high.school           8484  1031        10.835523\n",
       "illiterate              14     4        22.222222\n",
       "professional.course   4648   595        11.348465\n",
       "university.degree    10498  1670        13.724523"
      ]
     },
     "execution_count": 24,
     "metadata": {},
     "output_type": "execute_result"
    },
    {
     "data": {
      "image/png": "[encoded data removed]",
      "text/plain": [
       "<matplotlib.figure.Figure at 0x110fdcb38>"
      ]
     },
     "metadata": {},
     "output_type": "display_data"
    }
   ],
   "source": [
    "education_conv = bank.groupby('outcome').education.value_counts().unstack('outcome')\n",
    "education_conv['conversion_rate']= 100*education_conv[1]/(education_conv[0]+education_conv[1])\n",
    "education_conv['conversion_rate'].sort_values().plot(kind= 'bar', title = 'Conversion % based on Education')\n",
    "education_conv"
   ]
  },
  {
   "cell_type": "markdown",
   "metadata": {},
   "source": [
    "Similar conversion rates have been observed across all education categories other than illiterate category. However, sample size of this category is negligible compared to that of customers with some kind of education background. "
   ]
  },
  {
   "cell_type": "code",
   "execution_count": 25,
   "metadata": {
    "collapsed": false
   },
   "outputs": [],
   "source": [
    "#Removing rows containing null values\n",
    "bank = bank.dropna(axis = 0)"
   ]
  },
  {
   "cell_type": "markdown",
   "metadata": {},
   "source": [
    "## Exploratory Data Analysis"
   ]
  },
  {
   "cell_type": "markdown",
   "metadata": {},
   "source": [
    "#### Summary stats"
   ]
  },
  {
   "cell_type": "code",
   "execution_count": 26,
   "metadata": {
    "collapsed": false
   },
   "outputs": [
    {
     "data": {
      "text/html": [
       "<div>\n",
       "<style>\n",
       "    .dataframe thead tr:only-child th {\n",
       "        text-align: right;\n",
       "    }\n",
       "\n",
       "    .dataframe thead th {\n",
       "        text-align: left;\n",
       "    }\n",
       "\n",
       "    .dataframe tbody tr th {\n",
       "        vertical-align: top;\n",
       "    }\n",
       "</style>\n",
       "<table border=\"1\" class=\"dataframe\">\n",
       "  <thead>\n",
       "    <tr style=\"text-align: right;\">\n",
       "      <th></th>\n",
       "      <th>age</th>\n",
       "      <th>duration</th>\n",
       "      <th>number_calls</th>\n",
       "      <th>pdays</th>\n",
       "      <th>previous</th>\n",
       "      <th>emp.var.rate</th>\n",
       "      <th>cons.price.idx</th>\n",
       "      <th>cons.conf.idx</th>\n",
       "      <th>euribor3m</th>\n",
       "      <th>nr.employed</th>\n",
       "      <th>outcome</th>\n",
       "    </tr>\n",
       "  </thead>\n",
       "  <tbody>\n",
       "    <tr>\n",
       "      <th>count</th>\n",
       "      <td>38245.000000</td>\n",
       "      <td>38245.000000</td>\n",
       "      <td>38245.000000</td>\n",
       "      <td>38245.000000</td>\n",
       "      <td>38245.000000</td>\n",
       "      <td>38245.000000</td>\n",
       "      <td>38245.000000</td>\n",
       "      <td>38245.000000</td>\n",
       "      <td>38245.000000</td>\n",
       "      <td>38245.000000</td>\n",
       "      <td>38245.000000</td>\n",
       "    </tr>\n",
       "    <tr>\n",
       "      <th>mean</th>\n",
       "      <td>39.860871</td>\n",
       "      <td>258.207583</td>\n",
       "      <td>2.566662</td>\n",
       "      <td>963.531651</td>\n",
       "      <td>0.170009</td>\n",
       "      <td>0.082861</td>\n",
       "      <td>93.570313</td>\n",
       "      <td>-40.541164</td>\n",
       "      <td>3.623298</td>\n",
       "      <td>5167.432566</td>\n",
       "      <td>0.111335</td>\n",
       "    </tr>\n",
       "    <tr>\n",
       "      <th>std</th>\n",
       "      <td>10.289488</td>\n",
       "      <td>259.792638</td>\n",
       "      <td>2.767473</td>\n",
       "      <td>184.295254</td>\n",
       "      <td>0.487169</td>\n",
       "      <td>1.565945</td>\n",
       "      <td>0.576367</td>\n",
       "      <td>4.623200</td>\n",
       "      <td>1.730226</td>\n",
       "      <td>71.760333</td>\n",
       "      <td>0.314550</td>\n",
       "    </tr>\n",
       "    <tr>\n",
       "      <th>min</th>\n",
       "      <td>17.000000</td>\n",
       "      <td>0.000000</td>\n",
       "      <td>1.000000</td>\n",
       "      <td>0.000000</td>\n",
       "      <td>0.000000</td>\n",
       "      <td>-3.400000</td>\n",
       "      <td>92.201000</td>\n",
       "      <td>-50.800000</td>\n",
       "      <td>0.634000</td>\n",
       "      <td>4963.600000</td>\n",
       "      <td>0.000000</td>\n",
       "    </tr>\n",
       "    <tr>\n",
       "      <th>25%</th>\n",
       "      <td>32.000000</td>\n",
       "      <td>102.000000</td>\n",
       "      <td>1.000000</td>\n",
       "      <td>999.000000</td>\n",
       "      <td>0.000000</td>\n",
       "      <td>-1.800000</td>\n",
       "      <td>93.075000</td>\n",
       "      <td>-42.700000</td>\n",
       "      <td>1.344000</td>\n",
       "      <td>5099.100000</td>\n",
       "      <td>0.000000</td>\n",
       "    </tr>\n",
       "    <tr>\n",
       "      <th>50%</th>\n",
       "      <td>38.000000</td>\n",
       "      <td>180.000000</td>\n",
       "      <td>2.000000</td>\n",
       "      <td>999.000000</td>\n",
       "      <td>0.000000</td>\n",
       "      <td>1.100000</td>\n",
       "      <td>93.444000</td>\n",
       "      <td>-41.800000</td>\n",
       "      <td>4.857000</td>\n",
       "      <td>5191.000000</td>\n",
       "      <td>0.000000</td>\n",
       "    </tr>\n",
       "    <tr>\n",
       "      <th>75%</th>\n",
       "      <td>47.000000</td>\n",
       "      <td>319.000000</td>\n",
       "      <td>3.000000</td>\n",
       "      <td>999.000000</td>\n",
       "      <td>0.000000</td>\n",
       "      <td>1.400000</td>\n",
       "      <td>93.994000</td>\n",
       "      <td>-36.400000</td>\n",
       "      <td>4.961000</td>\n",
       "      <td>5228.100000</td>\n",
       "      <td>0.000000</td>\n",
       "    </tr>\n",
       "    <tr>\n",
       "      <th>max</th>\n",
       "      <td>98.000000</td>\n",
       "      <td>4918.000000</td>\n",
       "      <td>43.000000</td>\n",
       "      <td>999.000000</td>\n",
       "      <td>7.000000</td>\n",
       "      <td>1.400000</td>\n",
       "      <td>94.767000</td>\n",
       "      <td>-26.900000</td>\n",
       "      <td>5.045000</td>\n",
       "      <td>5228.100000</td>\n",
       "      <td>1.000000</td>\n",
       "    </tr>\n",
       "  </tbody>\n",
       "</table>\n",
       "</div>"
      ],
      "text/plain": [
       "                age      duration  number_calls         pdays      previous  \\\n",
       "count  38245.000000  38245.000000  38245.000000  38245.000000  38245.000000   \n",
       "mean      39.860871    258.207583      2.566662    963.531651      0.170009   \n",
       "std       10.289488    259.792638      2.767473    184.295254      0.487169   \n",
       "min       17.000000      0.000000      1.000000      0.000000      0.000000   \n",
       "25%       32.000000    102.000000      1.000000    999.000000      0.000000   \n",
       "50%       38.000000    180.000000      2.000000    999.000000      0.000000   \n",
       "75%       47.000000    319.000000      3.000000    999.000000      0.000000   \n",
       "max       98.000000   4918.000000     43.000000    999.000000      7.000000   \n",
       "\n",
       "       emp.var.rate  cons.price.idx  cons.conf.idx     euribor3m  \\\n",
       "count  38245.000000    38245.000000   38245.000000  38245.000000   \n",
       "mean       0.082861       93.570313     -40.541164      3.623298   \n",
       "std        1.565945        0.576367       4.623200      1.730226   \n",
       "min       -3.400000       92.201000     -50.800000      0.634000   \n",
       "25%       -1.800000       93.075000     -42.700000      1.344000   \n",
       "50%        1.100000       93.444000     -41.800000      4.857000   \n",
       "75%        1.400000       93.994000     -36.400000      4.961000   \n",
       "max        1.400000       94.767000     -26.900000      5.045000   \n",
       "\n",
       "        nr.employed       outcome  \n",
       "count  38245.000000  38245.000000  \n",
       "mean    5167.432566      0.111335  \n",
       "std       71.760333      0.314550  \n",
       "min     4963.600000      0.000000  \n",
       "25%     5099.100000      0.000000  \n",
       "50%     5191.000000      0.000000  \n",
       "75%     5228.100000      0.000000  \n",
       "max     5228.100000      1.000000  "
      ]
     },
     "execution_count": 26,
     "metadata": {},
     "output_type": "execute_result"
    }
   ],
   "source": [
    "#Summary statistics of Continuous varibles\n",
    "bank.describe()"
   ]
  },
  {
   "cell_type": "markdown",
   "metadata": {},
   "source": [
    "Average age of customers contacted for this campaign is 39 years and each customer was contacted approx. 3 times before hearing a decision from them."
   ]
  },
  {
   "cell_type": "markdown",
   "metadata": {},
   "source": [
    "#### Distribution of Dependent variable categories"
   ]
  },
  {
   "cell_type": "code",
   "execution_count": 27,
   "metadata": {
    "collapsed": false
   },
   "outputs": [
    {
     "name": "stdout",
     "output_type": "stream",
     "text": [
      "outcome\n",
      "0    88.866518\n",
      "1    11.133482\n",
      "dtype: float64\n"
     ]
    },
    {
     "data": {
      "text/plain": [
       "<matplotlib.text.Text at 0x11271d908>"
      ]
     },
     "execution_count": 27,
     "metadata": {},
     "output_type": "execute_result"
    },
    {
     "data": {
      "image/png": "[encoded data removed]",
      "text/plain": [
       "<matplotlib.figure.Figure at 0x1115258d0>"
      ]
     },
     "metadata": {},
     "output_type": "display_data"
    }
   ],
   "source": [
    "#Distribution of 'outcome' variable\n",
    "bank_outcome_dist = bank.groupby('outcome').size()/len(bank)*100\n",
    "print(bank_outcome_dist)\n",
    "bank_outcome_dist.plot(kind = 'bar',rot=360)\n",
    "plt.xlabel('Dependent variable categories')\n",
    "plt.ylabel('% of total dataset')\n",
    "plt.title('Distribution of Dependent variable categories in the dataset')"
   ]
  },
  {
   "cell_type": "markdown",
   "metadata": {},
   "source": [
    "The bank marketing dataset in study is highly imbalanced. Unfavourable outcomes make upto about 89% of the total observations while the favourable ones make up the remaining 11% making the data vulnerable to prediction biases while trying to fit machine-learning models. We will be dealing with this issue only after performing EDA in order to understand the dynamics of unmanipulated data better."
   ]
  },
  {
   "cell_type": "markdown",
   "metadata": {},
   "source": [
    "#### Independent Variable - 'Duration'"
   ]
  },
  {
   "cell_type": "markdown",
   "metadata": {},
   "source": [
    "* The variable ‘duration’ highly affects the output target; i.e. if a call has not been made at all or not been picked by the customer it results in a failed outcome. Yet, the duration is not known before a call is performed. Also, after the end of the call outcome is obviously known (success or a failure). Hence this variable has been removed from future analysis. "
   ]
  },
  {
   "cell_type": "code",
   "execution_count": 28,
   "metadata": {
    "collapsed": false
   },
   "outputs": [],
   "source": [
    "#Remove 'duration' variable from the dataset\n",
    "bank = bank.drop('duration',axis=1)"
   ]
  },
  {
   "cell_type": "markdown",
   "metadata": {},
   "source": [
    "#### Variable number_calls - Average calls made per customer based on 'outcome' categories"
   ]
  },
  {
   "cell_type": "code",
   "execution_count": 29,
   "metadata": {
    "collapsed": false
   },
   "outputs": [
    {
     "data": {
      "text/plain": [
       "array([<matplotlib.axes._subplots.AxesSubplot object at 0x1126ca6a0>], dtype=object)"
      ]
     },
     "execution_count": 29,
     "metadata": {},
     "output_type": "execute_result"
    },
    {
     "data": {
      "image/png": "[encoded data removed]",
      "text/plain": [
       "<matplotlib.figure.Figure at 0x111917828>"
      ]
     },
     "metadata": {},
     "output_type": "display_data"
    }
   ],
   "source": [
    "# Average number of calls per outcome class\n",
    "bank[['number_calls','outcome']].groupby(['outcome']).mean().plot(kind='bar',subplots=True,rot=360,title= 'Average number of calls per outcome class') "
   ]
  },
  {
   "cell_type": "code",
   "execution_count": 30,
   "metadata": {
    "collapsed": false
   },
   "outputs": [
    {
     "name": "stdout",
     "output_type": "stream",
     "text": [
      "% of customers contacted 3 or less than 3 times: 81.4459406458 %\n",
      "% of customers contacted more than 3 times: 18.5540593542 %\n"
     ]
    }
   ],
   "source": [
    "campaign_calls = (bank['number_calls'] <= 3).sum()*100/ len(bank)\n",
    "print('% of customers contacted 3 or less than 3 times:',campaign_calls,('%'))\n",
    "print('% of customers contacted more than 3 times:', (100-campaign_calls),('%'))"
   ]
  },
  {
   "cell_type": "markdown",
   "metadata": {},
   "source": [
    "Customers on an average made their decision by 3rd call with a bank representative. Those who agreed to the offer made their decision within the 2nd call. Customers who rejected the offer expressed their lack of interest only at 3rd call or later. \n",
    "\n",
    "For the purpose of modelling, the overall average calls aspect of this attribute was used and individual outcome wise data has been ignored. "
   ]
  },
  {
   "cell_type": "markdown",
   "metadata": {},
   "source": [
    "#### Age variable"
   ]
  },
  {
   "cell_type": "code",
   "execution_count": 31,
   "metadata": {
    "collapsed": false
   },
   "outputs": [
    {
     "data": {
      "text/plain": [
       "dtype('int64')"
      ]
     },
     "execution_count": 31,
     "metadata": {},
     "output_type": "execute_result"
    }
   ],
   "source": [
    "#Changing age variable into an integer in order to create categories\n",
    "bank['age'].astype(int)\n",
    "bank['age'].dtypes"
   ]
  },
  {
   "cell_type": "code",
   "execution_count": 32,
   "metadata": {
    "collapsed": false
   },
   "outputs": [],
   "source": [
    "#Converting Age variable to a categorical variable 'age_category'\n",
    "bank['age_category']=np.where(bank['age'] < 25,'Young adult',bank['age'])\n",
    "bank['age_category']=np.where((bank['age'] >= 25) & (bank['age'] < 35 ),'Adult',bank['age_category'])\n",
    "bank['age_category']=np.where((bank['age'] >= 35) & (bank['age'] < 54 ),'Middle Aged',bank['age_category'])\n",
    "bank['age_category']=np.where((bank['age'] >= 54) & (bank['age'] < 60 ),'Pre-retirement',bank['age_category'])\n",
    "bank['age_category']=np.where((bank['age'] >= 60),'Post-retirement',bank['age_category'])"
   ]
  },
  {
   "cell_type": "code",
   "execution_count": 33,
   "metadata": {
    "collapsed": false
   },
   "outputs": [
    {
     "data": {
      "text/plain": [
       "<matplotlib.text.Text at 0x1119affd0>"
      ]
     },
     "execution_count": 33,
     "metadata": {},
     "output_type": "execute_result"
    },
    {
     "data": {
      "image/png": "[encoded data removed]",
      "text/plain": [
       "<matplotlib.figure.Figure at 0x111934470>"
      ]
     },
     "metadata": {},
     "output_type": "display_data"
    }
   ],
   "source": [
    "#Conversion rates based on Age categories \n",
    "age = bank.groupby('outcome').age_category.value_counts().unstack('outcome')\n",
    "age['conversion_rates'] = (age[1]/(age[0]+age[1]))*100\n",
    "age['conversion_rates'].sort_values().plot(kind='bar',title='Conversion rates based on age categories',rot=360)\n",
    "plt.ylabel('Conversion %')\n",
    "plt.xlabel('Age categories')"
   ]
  },
  {
   "cell_type": "markdown",
   "metadata": {},
   "source": [
    "Based on the above graph, Retired individuals and young adults seem to be interested in term-deposit offer. These could be highly potential groups while rolling out term-deposit campaigns in future. \n",
    "\n",
    "Since the remaining 3 groups have similar coversion rates, we can put bucket them into 1 category called 'Working adults' which describes them the best; Adults to pre-retirement."
   ]
  },
  {
   "cell_type": "code",
   "execution_count": 34,
   "metadata": {
    "collapsed": false
   },
   "outputs": [],
   "source": [
    "bank['age_category']=np.where((bank['age'] >= 25) & (bank['age'] < 60 ),'Working adult',bank['age_category'])"
   ]
  },
  {
   "cell_type": "markdown",
   "metadata": {},
   "source": [
    "\n",
    "Chi-square test has been performed to see if there is any statistically significant difference in campaign outcome among these groups."
   ]
  },
  {
   "cell_type": "code",
   "execution_count": 35,
   "metadata": {
    "collapsed": false
   },
   "outputs": [
    {
     "data": {
      "text/html": [
       "<div>\n",
       "<style>\n",
       "    .dataframe thead tr:only-child th {\n",
       "        text-align: right;\n",
       "    }\n",
       "\n",
       "    .dataframe thead th {\n",
       "        text-align: left;\n",
       "    }\n",
       "\n",
       "    .dataframe tbody tr th {\n",
       "        vertical-align: top;\n",
       "    }\n",
       "</style>\n",
       "<table border=\"1\" class=\"dataframe\">\n",
       "  <thead>\n",
       "    <tr style=\"text-align: right;\">\n",
       "      <th>age_category</th>\n",
       "      <th>Post-retirement</th>\n",
       "      <th>Working adult</th>\n",
       "      <th>Young adult</th>\n",
       "    </tr>\n",
       "    <tr>\n",
       "      <th>outcome</th>\n",
       "      <th></th>\n",
       "      <th></th>\n",
       "      <th></th>\n",
       "    </tr>\n",
       "  </thead>\n",
       "  <tbody>\n",
       "    <tr>\n",
       "      <th>0</th>\n",
       "      <td>625</td>\n",
       "      <td>32635</td>\n",
       "      <td>727</td>\n",
       "    </tr>\n",
       "    <tr>\n",
       "      <th>1</th>\n",
       "      <td>401</td>\n",
       "      <td>3653</td>\n",
       "      <td>204</td>\n",
       "    </tr>\n",
       "  </tbody>\n",
       "</table>\n",
       "</div>"
      ],
      "text/plain": [
       "age_category  Post-retirement  Working adult  Young adult\n",
       "outcome                                                  \n",
       "0                         625          32635          727\n",
       "1                         401           3653          204"
      ]
     },
     "execution_count": 35,
     "metadata": {},
     "output_type": "execute_result"
    }
   ],
   "source": [
    "#Chi-Square test to check existence of statistical difference among Age groups\n",
    "outcome_age = bank.groupby(['outcome', 'age_category']).size().unstack('age_category')\n",
    "outcome_age"
   ]
  },
  {
   "cell_type": "code",
   "execution_count": 36,
   "metadata": {
    "collapsed": false
   },
   "outputs": [
    {
     "data": {
      "text/plain": [
       "(961.18396178281444,\n",
       " 1.9122939538170554e-209,\n",
       " 2,\n",
       " array([[   911.7704798 ,  32247.88223297,    827.34728723],\n",
       "        [   114.2295202 ,   4040.11776703,    103.65271277]]))"
      ]
     },
     "execution_count": 36,
     "metadata": {},
     "output_type": "execute_result"
    }
   ],
   "source": [
    "#Returns chi2, p-value, Degrees of freedom, contingency_table\n",
    "contingency_table = chi2_contingency(outcome_age)\n",
    "contingency_table"
   ]
  },
  {
   "cell_type": "markdown",
   "metadata": {},
   "source": [
    "Chi-tabular < Chi-calculated with a p-value <0.05 indicates that there is a statistically significant difference in outcome based on different categories of age. "
   ]
  },
  {
   "cell_type": "markdown",
   "metadata": {},
   "source": [
    "#### Job "
   ]
  },
  {
   "cell_type": "code",
   "execution_count": 37,
   "metadata": {
    "collapsed": false
   },
   "outputs": [
    {
     "data": {
      "text/plain": [
       "<matplotlib.text.Text at 0x111941710>"
      ]
     },
     "execution_count": 37,
     "metadata": {},
     "output_type": "execute_result"
    },
    {
     "data": {
      "image/png": "[encoded data removed]",
      "text/plain": [
       "<matplotlib.figure.Figure at 0x113a52b38>"
      ]
     },
     "metadata": {},
     "output_type": "display_data"
    }
   ],
   "source": [
    "#Conversion rates based on Job Categories\n",
    "job = bank.groupby('outcome').job.value_counts().unstack('outcome')\n",
    "job['conversion_rate']= 100*job[1]/(job[0]+job[1])\n",
    "job['conversion_rate'].sort_values().plot(kind= 'bar', title = 'Conversion % based on employment type',rot = 90)\n",
    "plt.ylabel('Conversion %')\n",
    "plt.xlabel('Job Categories')"
   ]
  },
  {
   "cell_type": "markdown",
   "metadata": {},
   "source": [
    "Individuals who are retired, are students, unemployed or have administrative roles have higher conversion rates compared to those working in other roles.\n",
    "\n",
    "Retired individuals do not draw regular incomes. Their main interest would be to invest all the savings that have been accumulated so far into low-risk safe return generating products such as term deposits. Also, the average age of retired individuals is 62 which supports the analysis derived from age variable. \n",
    "\n",
    "Students do not have a consistent source of income and are most likely to look for avenues that can grow their savings without having inherent risks until they reach their prime earning period. Blue-collar, housemaids and technicians have very low disposable incomes and tend to have minimum to no savings for them to be able to invest.\n",
    "\n",
    "On the other hand, risk taking, whether financial or social is a distinguishing characteristic of entrepreneurs. High-risk avenues like stocks and other equity based instruments are more rewarding for them than term deposits.\n",
    "\n",
    "It is interesting to see unemployed in the high conversion category. External data can be combined in future to arrive at a consensus."
   ]
  },
  {
   "cell_type": "code",
   "execution_count": 38,
   "metadata": {
    "collapsed": false,
    "scrolled": true
   },
   "outputs": [
    {
     "name": "stdout",
     "output_type": "stream",
     "text": [
      "The mean age of retired individuals is: 62 yrs\n"
     ]
    }
   ],
   "source": [
    "print('The mean age of retired individuals is:', round(bank[bank.job == 'retired'].age.mean()),'yrs')"
   ]
  },
  {
   "cell_type": "code",
   "execution_count": 39,
   "metadata": {
    "collapsed": false
   },
   "outputs": [
    {
     "name": "stdout",
     "output_type": "stream",
     "text": [
      "The mean age of student category is: 26 yrs\n"
     ]
    }
   ],
   "source": [
    "print('The mean age of student category is:', round(bank[bank.job == 'student'].age.mean()),'yrs')"
   ]
  },
  {
   "cell_type": "markdown",
   "metadata": {},
   "source": [
    "Mean age of the top two categories has been calculated to see if the results support what has been observed while analyzing the Age category and there indeed do. Young adults represent 25 yrs age group and retired individuals represent individuals aged 60 yrs and more."
   ]
  },
  {
   "cell_type": "markdown",
   "metadata": {},
   "source": [
    "#### Months of an year"
   ]
  },
  {
   "cell_type": "code",
   "execution_count": 40,
   "metadata": {
    "collapsed": false
   },
   "outputs": [
    {
     "data": {
      "text/plain": [
       "<matplotlib.text.Text at 0x113fc5828>"
      ]
     },
     "execution_count": 40,
     "metadata": {},
     "output_type": "execute_result"
    },
    {
     "data": {
      "image/png": "[encoded data removed]",
      "text/plain": [
       "<matplotlib.figure.Figure at 0x113f1ccc0>"
      ]
     },
     "metadata": {},
     "output_type": "display_data"
    }
   ],
   "source": [
    "#Conversion rates based on different Months of an year\n",
    "month_wise = bank.groupby('outcome').month.value_counts().unstack('outcome')\n",
    "month_wise['conversion_rate']= 100*month_wise[1]/(month_wise[0]+month_wise[1])\n",
    "month_wise['conversion_rate'].sort_values().plot(kind= 'bar', title = 'Month-wise % Conversion ',rot =360)\n",
    "plt.ylabel('Conversion %')\n",
    "plt.xlabel('Months')"
   ]
  },
  {
   "cell_type": "markdown",
   "metadata": {},
   "source": [
    "The Portuguese tax year runs concurrently with the calendar year from 1 January to 31 December. Individuals hold liquid cash until year-end in anticipation of unexpected expenditures over the course of that year. \n",
    "\n",
    "While locking funds in low-return investments such as term deposits in initial months itself might not be a good decision, year-end could be a good time to invest in them in order maximize tax benefits.\n",
    "\n",
    "Data ranges from May 2008 to Nov 2010, thus reducing the possibility of random occurrences to a good extent.\n",
    "\n"
   ]
  },
  {
   "cell_type": "markdown",
   "metadata": {},
   "source": [
    "#### Marital Status"
   ]
  },
  {
   "cell_type": "code",
   "execution_count": 41,
   "metadata": {
    "collapsed": false
   },
   "outputs": [
    {
     "data": {
      "text/plain": [
       "<matplotlib.text.Text at 0x111fd0860>"
      ]
     },
     "execution_count": 41,
     "metadata": {},
     "output_type": "execute_result"
    },
    {
     "data": {
      "image/png": "[encoded data removed]",
      "text/plain": [
       "<matplotlib.figure.Figure at 0x113eec860>"
      ]
     },
     "metadata": {},
     "output_type": "display_data"
    }
   ],
   "source": [
    "#Conversion rates based on marital status\n",
    "marital_status = bank.groupby('outcome').marital.value_counts().unstack('outcome')\n",
    "marital_status['conversion_rate']= 100*marital_status[1]/(marital_status[0]+marital_status[1])\n",
    "marital_status['conversion_rate'].sort_values().plot(kind= 'bar', title = 'Conversion % based on Marital status',rot = 360)\n",
    "plt.ylabel('Conversion %')\n",
    "plt.xlabel('Marital status')"
   ]
  },
  {
   "cell_type": "markdown",
   "metadata": {},
   "source": [
    "Not much difference can be observed in conversion rates based on martital status categories in this preliminary analysis."
   ]
  },
  {
   "cell_type": "code",
   "execution_count": 42,
   "metadata": {
    "collapsed": false
   },
   "outputs": [
    {
     "data": {
      "text/html": [
       "<div>\n",
       "<style>\n",
       "    .dataframe thead tr:only-child th {\n",
       "        text-align: right;\n",
       "    }\n",
       "\n",
       "    .dataframe thead th {\n",
       "        text-align: left;\n",
       "    }\n",
       "\n",
       "    .dataframe tbody tr th {\n",
       "        vertical-align: top;\n",
       "    }\n",
       "</style>\n",
       "<table border=\"1\" class=\"dataframe\">\n",
       "  <thead>\n",
       "    <tr style=\"text-align: right;\">\n",
       "      <th>marital</th>\n",
       "      <th>divorced</th>\n",
       "      <th>married</th>\n",
       "      <th>single</th>\n",
       "    </tr>\n",
       "    <tr>\n",
       "      <th>outcome</th>\n",
       "      <th></th>\n",
       "      <th></th>\n",
       "      <th></th>\n",
       "    </tr>\n",
       "  </thead>\n",
       "  <tbody>\n",
       "    <tr>\n",
       "      <th>0</th>\n",
       "      <td>3854</td>\n",
       "      <td>20842</td>\n",
       "      <td>9291</td>\n",
       "    </tr>\n",
       "    <tr>\n",
       "      <th>1</th>\n",
       "      <td>448</td>\n",
       "      <td>2341</td>\n",
       "      <td>1469</td>\n",
       "    </tr>\n",
       "  </tbody>\n",
       "</table>\n",
       "</div>"
      ],
      "text/plain": [
       "marital  divorced  married  single\n",
       "outcome                           \n",
       "0            3854    20842    9291\n",
       "1             448     2341    1469"
      ]
     },
     "execution_count": 42,
     "metadata": {},
     "output_type": "execute_result"
    }
   ],
   "source": [
    "#Chi-Square test to check existence of statistical difference among Age groups\n",
    "outcome_marital = bank.groupby(['outcome', 'marital']).size().unstack('marital')\n",
    "outcome_marital"
   ]
  },
  {
   "cell_type": "code",
   "execution_count": 43,
   "metadata": {
    "collapsed": false
   },
   "outputs": [
    {
     "data": {
      "text/plain": [
       "(96.384585038939349,\n",
       " 1.1758536958018105e-21,\n",
       " 2,\n",
       " array([[  3823.03762583,  20601.92498366,   9562.03739051],\n",
       "        [   478.96237417,   2581.07501634,   1197.96260949]]))"
      ]
     },
     "execution_count": 43,
     "metadata": {},
     "output_type": "execute_result"
    }
   ],
   "source": [
    "#Returns chi2, p-value, Degrees of freedom, contingency_table\n",
    "contingency_table_marital = chi2_contingency(outcome_marital)\n",
    "contingency_table_marital"
   ]
  },
  {
   "cell_type": "markdown",
   "metadata": {},
   "source": [
    "Chi-tabular < Chi-calculated with a p-value <0.05 indicates that there is a statistically significant difference in outcome based on marital status and hence this variable will be retained for future analysis."
   ]
  },
  {
   "cell_type": "markdown",
   "metadata": {},
   "source": [
    "#### Contact"
   ]
  },
  {
   "cell_type": "code",
   "execution_count": 44,
   "metadata": {
    "collapsed": false
   },
   "outputs": [
    {
     "data": {
      "text/plain": [
       "array(['telephone', 'cellular'], dtype=object)"
      ]
     },
     "execution_count": 44,
     "metadata": {},
     "output_type": "execute_result"
    }
   ],
   "source": [
    "bank['contact'].unique()"
   ]
  },
  {
   "cell_type": "code",
   "execution_count": 45,
   "metadata": {
    "collapsed": false
   },
   "outputs": [
    {
     "data": {
      "text/plain": [
       "<matplotlib.text.Text at 0x106c8a470>"
      ]
     },
     "execution_count": 45,
     "metadata": {},
     "output_type": "execute_result"
    },
    {
     "data": {
      "image/png": "[encoded data removed]",
      "text/plain": [
       "<matplotlib.figure.Figure at 0x1119a5198>"
      ]
     },
     "metadata": {},
     "output_type": "display_data"
    }
   ],
   "source": [
    "contact_conv = bank.groupby('outcome').contact.value_counts().unstack('outcome')\n",
    "contact_conv['conversion_rate']= 100*contact_conv[1]/(contact_conv[0]+contact_conv[1])\n",
    "contact_conv['conversion_rate'].sort_values().plot(kind= 'bar', title = 'Conversion % based on Mode of contact',rot=360)\n",
    "plt.ylabel('Conversion %')\n",
    "plt.xlabel('Mode of Contact')"
   ]
  },
  {
   "cell_type": "markdown",
   "metadata": {},
   "source": [
    "\n",
    "It has been observed that the conversion rate for customers contacted via mobile phones is 3 times higher than those contacted through landlines. Mobile bank transactions are slowly gaining popularity among individuals with varying socio-economic backgrounds due to comfort and ease of operation and this would provide banks with customer's mobile information.\n",
    "\n",
    "This shift could directly impact outcomes of marketing campaigns in study and thereby improving campaign profits to a great extend; based on above observation if everything else remains constant, just by contacting all customers via mobiles could increase profits by 3 times. "
   ]
  },
  {
   "cell_type": "markdown",
   "metadata": {},
   "source": [
    "#### pdays\n",
    "    Number of days that passed by after the client was last contacted from a previous campaign (numeric; 999 means client was not previously contacted)"
   ]
  },
  {
   "cell_type": "code",
   "execution_count": 46,
   "metadata": {
    "collapsed": false
   },
   "outputs": [
    {
     "data": {
      "text/plain": [
       "999    36879\n",
       "3        393\n",
       "6        379\n",
       "4        106\n",
       "2         57\n",
       "9         55\n",
       "12        53\n",
       "7         52\n",
       "5         45\n",
       "10        44\n",
       "13        33\n",
       "11        26\n",
       "1         24\n",
       "15        22\n",
       "14        18\n",
       "0         15\n",
       "8         14\n",
       "16         8\n",
       "17         6\n",
       "18         5\n",
       "19         3\n",
       "22         3\n",
       "21         2\n",
       "26         1\n",
       "25         1\n",
       "27         1\n",
       "Name: pdays, dtype: int64"
      ]
     },
     "execution_count": 46,
     "metadata": {},
     "output_type": "execute_result"
    }
   ],
   "source": [
    "bank['pdays'].value_counts()"
   ]
  },
  {
   "cell_type": "markdown",
   "metadata": {},
   "source": [
    "A huge majority of customers have not been contacted for any marketing campaigns in the past. This variable will not help in predicting outcome of the campaign and therefore will be dropped for futher analysis. "
   ]
  },
  {
   "cell_type": "code",
   "execution_count": 47,
   "metadata": {
    "collapsed": true
   },
   "outputs": [],
   "source": [
    "bank = bank.drop('pdays', axis =1)"
   ]
  },
  {
   "cell_type": "markdown",
   "metadata": {},
   "source": [
    "#### poutcome"
   ]
  },
  {
   "cell_type": "code",
   "execution_count": 48,
   "metadata": {
    "collapsed": false
   },
   "outputs": [
    {
     "data": {
      "text/plain": [
       "nonexistent    33066\n",
       "failure         3936\n",
       "success         1243\n",
       "Name: poutcome, dtype: int64"
      ]
     },
     "execution_count": 48,
     "metadata": {},
     "output_type": "execute_result"
    }
   ],
   "source": [
    "bank['poutcome'].value_counts()"
   ]
  },
  {
   "cell_type": "markdown",
   "metadata": {},
   "source": [
    "Previous campaign outcome in non existent for 90% of the customers.This variable will not add any value while trying to predict current campaigns outcome and hence will be dropped from further analysis."
   ]
  },
  {
   "cell_type": "code",
   "execution_count": 49,
   "metadata": {
    "collapsed": false,
    "scrolled": true
   },
   "outputs": [],
   "source": [
    "bank = bank.drop('poutcome',axis=1)"
   ]
  },
  {
   "cell_type": "markdown",
   "metadata": {},
   "source": [
    "#### previous"
   ]
  },
  {
   "cell_type": "code",
   "execution_count": 50,
   "metadata": {
    "collapsed": false
   },
   "outputs": [
    {
     "data": {
      "text/plain": [
       "0    33066\n",
       "1     4234\n",
       "2      672\n",
       "3      195\n",
       "4       57\n",
       "5       16\n",
       "6        4\n",
       "7        1\n",
       "Name: previous, dtype: int64"
      ]
     },
     "execution_count": 50,
     "metadata": {},
     "output_type": "execute_result"
    }
   ],
   "source": [
    "bank['previous'].value_counts()"
   ]
  },
  {
   "cell_type": "markdown",
   "metadata": {},
   "source": [
    "This variable is same as poutcome. It is the number of contacts performed before this campaign and for this client. This variable shall be dropped as well. "
   ]
  },
  {
   "cell_type": "code",
   "execution_count": 51,
   "metadata": {
    "collapsed": true
   },
   "outputs": [],
   "source": [
    "bank = bank.drop('previous', axis =1)"
   ]
  },
  {
   "cell_type": "markdown",
   "metadata": {},
   "source": [
    "###  Normalizing dataset"
   ]
  },
  {
   "cell_type": "code",
   "execution_count": 52,
   "metadata": {
    "collapsed": false
   },
   "outputs": [],
   "source": [
    "bank_continuous = bank[['number_calls','emp.var.rate','cons.price.idx','cons.conf.idx','euribor3m','nr.employed']]"
   ]
  },
  {
   "cell_type": "code",
   "execution_count": 53,
   "metadata": {
    "collapsed": false
   },
   "outputs": [],
   "source": [
    "#Normalizing dataset\n",
    "for columns in bank_continuous:\n",
    "    bank[columns] = (bank[columns]-np.mean(bank[columns]))/(np.std(bank[columns]))\n",
    "    columns = range(bank_continuous.shape[1])"
   ]
  },
  {
   "cell_type": "code",
   "execution_count": 54,
   "metadata": {
    "collapsed": false
   },
   "outputs": [
    {
     "data": {
      "text/html": [
       "<div>\n",
       "<style>\n",
       "    .dataframe thead tr:only-child th {\n",
       "        text-align: right;\n",
       "    }\n",
       "\n",
       "    .dataframe thead th {\n",
       "        text-align: left;\n",
       "    }\n",
       "\n",
       "    .dataframe tbody tr th {\n",
       "        vertical-align: top;\n",
       "    }\n",
       "</style>\n",
       "<table border=\"1\" class=\"dataframe\">\n",
       "  <thead>\n",
       "    <tr style=\"text-align: right;\">\n",
       "      <th></th>\n",
       "      <th>age</th>\n",
       "      <th>number_calls</th>\n",
       "      <th>emp.var.rate</th>\n",
       "      <th>cons.price.idx</th>\n",
       "      <th>cons.conf.idx</th>\n",
       "      <th>euribor3m</th>\n",
       "      <th>nr.employed</th>\n",
       "      <th>outcome</th>\n",
       "    </tr>\n",
       "  </thead>\n",
       "  <tbody>\n",
       "    <tr>\n",
       "      <th>count</th>\n",
       "      <td>38245.000000</td>\n",
       "      <td>3.824500e+04</td>\n",
       "      <td>3.824500e+04</td>\n",
       "      <td>3.824500e+04</td>\n",
       "      <td>3.824500e+04</td>\n",
       "      <td>3.824500e+04</td>\n",
       "      <td>3.824500e+04</td>\n",
       "      <td>38245.000000</td>\n",
       "    </tr>\n",
       "    <tr>\n",
       "      <th>mean</th>\n",
       "      <td>39.860871</td>\n",
       "      <td>-2.173384e-14</td>\n",
       "      <td>-2.545412e-13</td>\n",
       "      <td>-6.738102e-11</td>\n",
       "      <td>-2.248749e-12</td>\n",
       "      <td>1.685190e-13</td>\n",
       "      <td>5.018674e-11</td>\n",
       "      <td>0.111335</td>\n",
       "    </tr>\n",
       "    <tr>\n",
       "      <th>std</th>\n",
       "      <td>10.289488</td>\n",
       "      <td>1.000013e+00</td>\n",
       "      <td>1.000013e+00</td>\n",
       "      <td>1.000013e+00</td>\n",
       "      <td>1.000013e+00</td>\n",
       "      <td>1.000013e+00</td>\n",
       "      <td>1.000013e+00</td>\n",
       "      <td>0.314550</td>\n",
       "    </tr>\n",
       "    <tr>\n",
       "      <th>min</th>\n",
       "      <td>17.000000</td>\n",
       "      <td>-5.661058e-01</td>\n",
       "      <td>-2.224156e+00</td>\n",
       "      <td>-2.375799e+00</td>\n",
       "      <td>-2.219019e+00</td>\n",
       "      <td>-1.727715e+00</td>\n",
       "      <td>-2.840500e+00</td>\n",
       "      <td>0.000000</td>\n",
       "    </tr>\n",
       "    <tr>\n",
       "      <th>25%</th>\n",
       "      <td>32.000000</td>\n",
       "      <td>-5.661058e-01</td>\n",
       "      <td>-1.202396e+00</td>\n",
       "      <td>-8.593829e-01</td>\n",
       "      <td>-4.669633e-01</td>\n",
       "      <td>-1.317359e+00</td>\n",
       "      <td>-9.522456e-01</td>\n",
       "      <td>0.000000</td>\n",
       "    </tr>\n",
       "    <tr>\n",
       "      <th>50%</th>\n",
       "      <td>38.000000</td>\n",
       "      <td>-2.047607e-01</td>\n",
       "      <td>6.495457e-01</td>\n",
       "      <td>-2.191571e-01</td>\n",
       "      <td>-2.722904e-01</td>\n",
       "      <td>7.130388e-01</td>\n",
       "      <td>3.284230e-01</td>\n",
       "      <td>0.000000</td>\n",
       "    </tr>\n",
       "    <tr>\n",
       "      <th>75%</th>\n",
       "      <td>47.000000</td>\n",
       "      <td>1.565845e-01</td>\n",
       "      <td>8.411259e-01</td>\n",
       "      <td>7.351090e-01</td>\n",
       "      <td>8.957470e-01</td>\n",
       "      <td>7.731473e-01</td>\n",
       "      <td>8.454285e-01</td>\n",
       "      <td>0.000000</td>\n",
       "    </tr>\n",
       "    <tr>\n",
       "      <th>max</th>\n",
       "      <td>98.000000</td>\n",
       "      <td>1.461039e+01</td>\n",
       "      <td>8.411259e-01</td>\n",
       "      <td>2.076287e+00</td>\n",
       "      <td>2.950627e+00</td>\n",
       "      <td>8.216965e-01</td>\n",
       "      <td>8.454285e-01</td>\n",
       "      <td>1.000000</td>\n",
       "    </tr>\n",
       "  </tbody>\n",
       "</table>\n",
       "</div>"
      ],
      "text/plain": [
       "                age  number_calls  emp.var.rate  cons.price.idx  \\\n",
       "count  38245.000000  3.824500e+04  3.824500e+04    3.824500e+04   \n",
       "mean      39.860871 -2.173384e-14 -2.545412e-13   -6.738102e-11   \n",
       "std       10.289488  1.000013e+00  1.000013e+00    1.000013e+00   \n",
       "min       17.000000 -5.661058e-01 -2.224156e+00   -2.375799e+00   \n",
       "25%       32.000000 -5.661058e-01 -1.202396e+00   -8.593829e-01   \n",
       "50%       38.000000 -2.047607e-01  6.495457e-01   -2.191571e-01   \n",
       "75%       47.000000  1.565845e-01  8.411259e-01    7.351090e-01   \n",
       "max       98.000000  1.461039e+01  8.411259e-01    2.076287e+00   \n",
       "\n",
       "       cons.conf.idx     euribor3m   nr.employed       outcome  \n",
       "count   3.824500e+04  3.824500e+04  3.824500e+04  38245.000000  \n",
       "mean   -2.248749e-12  1.685190e-13  5.018674e-11      0.111335  \n",
       "std     1.000013e+00  1.000013e+00  1.000013e+00      0.314550  \n",
       "min    -2.219019e+00 -1.727715e+00 -2.840500e+00      0.000000  \n",
       "25%    -4.669633e-01 -1.317359e+00 -9.522456e-01      0.000000  \n",
       "50%    -2.722904e-01  7.130388e-01  3.284230e-01      0.000000  \n",
       "75%     8.957470e-01  7.731473e-01  8.454285e-01      0.000000  \n",
       "max     2.950627e+00  8.216965e-01  8.454285e-01      1.000000  "
      ]
     },
     "execution_count": 54,
     "metadata": {},
     "output_type": "execute_result"
    }
   ],
   "source": [
    "bank.describe()"
   ]
  },
  {
   "cell_type": "markdown",
   "metadata": {},
   "source": [
    "##  Check for Multi-collinearity "
   ]
  },
  {
   "cell_type": "code",
   "execution_count": 55,
   "metadata": {
    "collapsed": false
   },
   "outputs": [
    {
     "data": {
      "text/html": [
       "<div>\n",
       "<style>\n",
       "    .dataframe thead tr:only-child th {\n",
       "        text-align: right;\n",
       "    }\n",
       "\n",
       "    .dataframe thead th {\n",
       "        text-align: left;\n",
       "    }\n",
       "\n",
       "    .dataframe tbody tr th {\n",
       "        vertical-align: top;\n",
       "    }\n",
       "</style>\n",
       "<table border=\"1\" class=\"dataframe\">\n",
       "  <thead>\n",
       "    <tr style=\"text-align: right;\">\n",
       "      <th></th>\n",
       "      <th>age</th>\n",
       "      <th>number_calls</th>\n",
       "      <th>emp.var.rate</th>\n",
       "      <th>cons.price.idx</th>\n",
       "      <th>cons.conf.idx</th>\n",
       "      <th>euribor3m</th>\n",
       "      <th>nr.employed</th>\n",
       "      <th>outcome</th>\n",
       "    </tr>\n",
       "  </thead>\n",
       "  <tbody>\n",
       "    <tr>\n",
       "      <th>age</th>\n",
       "      <td>True</td>\n",
       "      <td>False</td>\n",
       "      <td>False</td>\n",
       "      <td>False</td>\n",
       "      <td>False</td>\n",
       "      <td>False</td>\n",
       "      <td>False</td>\n",
       "      <td>False</td>\n",
       "    </tr>\n",
       "    <tr>\n",
       "      <th>number_calls</th>\n",
       "      <td>False</td>\n",
       "      <td>True</td>\n",
       "      <td>False</td>\n",
       "      <td>False</td>\n",
       "      <td>False</td>\n",
       "      <td>False</td>\n",
       "      <td>False</td>\n",
       "      <td>False</td>\n",
       "    </tr>\n",
       "    <tr>\n",
       "      <th>emp.var.rate</th>\n",
       "      <td>False</td>\n",
       "      <td>False</td>\n",
       "      <td>True</td>\n",
       "      <td>True</td>\n",
       "      <td>False</td>\n",
       "      <td>True</td>\n",
       "      <td>True</td>\n",
       "      <td>False</td>\n",
       "    </tr>\n",
       "    <tr>\n",
       "      <th>cons.price.idx</th>\n",
       "      <td>False</td>\n",
       "      <td>False</td>\n",
       "      <td>True</td>\n",
       "      <td>True</td>\n",
       "      <td>False</td>\n",
       "      <td>True</td>\n",
       "      <td>True</td>\n",
       "      <td>False</td>\n",
       "    </tr>\n",
       "    <tr>\n",
       "      <th>cons.conf.idx</th>\n",
       "      <td>False</td>\n",
       "      <td>False</td>\n",
       "      <td>False</td>\n",
       "      <td>False</td>\n",
       "      <td>True</td>\n",
       "      <td>False</td>\n",
       "      <td>False</td>\n",
       "      <td>False</td>\n",
       "    </tr>\n",
       "    <tr>\n",
       "      <th>euribor3m</th>\n",
       "      <td>False</td>\n",
       "      <td>False</td>\n",
       "      <td>True</td>\n",
       "      <td>True</td>\n",
       "      <td>False</td>\n",
       "      <td>True</td>\n",
       "      <td>True</td>\n",
       "      <td>False</td>\n",
       "    </tr>\n",
       "    <tr>\n",
       "      <th>nr.employed</th>\n",
       "      <td>False</td>\n",
       "      <td>False</td>\n",
       "      <td>True</td>\n",
       "      <td>True</td>\n",
       "      <td>False</td>\n",
       "      <td>True</td>\n",
       "      <td>True</td>\n",
       "      <td>False</td>\n",
       "    </tr>\n",
       "    <tr>\n",
       "      <th>outcome</th>\n",
       "      <td>False</td>\n",
       "      <td>False</td>\n",
       "      <td>False</td>\n",
       "      <td>False</td>\n",
       "      <td>False</td>\n",
       "      <td>False</td>\n",
       "      <td>False</td>\n",
       "      <td>True</td>\n",
       "    </tr>\n",
       "  </tbody>\n",
       "</table>\n",
       "</div>"
      ],
      "text/plain": [
       "                  age  number_calls  emp.var.rate  cons.price.idx  \\\n",
       "age              True         False         False           False   \n",
       "number_calls    False          True         False           False   \n",
       "emp.var.rate    False         False          True            True   \n",
       "cons.price.idx  False         False          True            True   \n",
       "cons.conf.idx   False         False         False           False   \n",
       "euribor3m       False         False          True            True   \n",
       "nr.employed     False         False          True            True   \n",
       "outcome         False         False         False           False   \n",
       "\n",
       "                cons.conf.idx  euribor3m  nr.employed  outcome  \n",
       "age                     False      False        False    False  \n",
       "number_calls            False      False        False    False  \n",
       "emp.var.rate            False       True         True    False  \n",
       "cons.price.idx          False       True         True    False  \n",
       "cons.conf.idx            True      False        False    False  \n",
       "euribor3m               False       True         True    False  \n",
       "nr.employed             False       True         True    False  \n",
       "outcome                 False      False        False     True  "
      ]
     },
     "execution_count": 55,
     "metadata": {},
     "output_type": "execute_result"
    }
   ],
   "source": [
    "bank.corr() > 0.5"
   ]
  },
  {
   "cell_type": "markdown",
   "metadata": {},
   "source": [
    "High collinearity exists among the following macro-econimic factors:\n",
    "- Employee Variable rate, Consumer Price Index, Euribor 3m rate and number employed."
   ]
  },
  {
   "cell_type": "markdown",
   "metadata": {},
   "source": [
    "## PCA to eliminate multi collinearity"
   ]
  },
  {
   "cell_type": "code",
   "execution_count": 56,
   "metadata": {
    "collapsed": false
   },
   "outputs": [
    {
     "data": {
      "text/html": [
       "<div>\n",
       "<style>\n",
       "    .dataframe thead tr:only-child th {\n",
       "        text-align: right;\n",
       "    }\n",
       "\n",
       "    .dataframe thead th {\n",
       "        text-align: left;\n",
       "    }\n",
       "\n",
       "    .dataframe tbody tr th {\n",
       "        vertical-align: top;\n",
       "    }\n",
       "</style>\n",
       "<table border=\"1\" class=\"dataframe\">\n",
       "  <thead>\n",
       "    <tr style=\"text-align: right;\">\n",
       "      <th></th>\n",
       "      <th>emp.var.rate</th>\n",
       "      <th>cons.price.idx</th>\n",
       "      <th>cons.conf.idx</th>\n",
       "      <th>euribor3m</th>\n",
       "      <th>nr.employed</th>\n",
       "    </tr>\n",
       "  </thead>\n",
       "  <tbody>\n",
       "    <tr>\n",
       "      <th>0</th>\n",
       "      <td>0.649546</td>\n",
       "      <td>0.735109</td>\n",
       "      <td>0.895747</td>\n",
       "      <td>0.713039</td>\n",
       "      <td>0.328423</td>\n",
       "    </tr>\n",
       "    <tr>\n",
       "      <th>1</th>\n",
       "      <td>0.649546</td>\n",
       "      <td>0.735109</td>\n",
       "      <td>0.895747</td>\n",
       "      <td>0.713039</td>\n",
       "      <td>0.328423</td>\n",
       "    </tr>\n",
       "    <tr>\n",
       "      <th>2</th>\n",
       "      <td>0.649546</td>\n",
       "      <td>0.735109</td>\n",
       "      <td>0.895747</td>\n",
       "      <td>0.713039</td>\n",
       "      <td>0.328423</td>\n",
       "    </tr>\n",
       "    <tr>\n",
       "      <th>3</th>\n",
       "      <td>0.649546</td>\n",
       "      <td>0.735109</td>\n",
       "      <td>0.895747</td>\n",
       "      <td>0.713039</td>\n",
       "      <td>0.328423</td>\n",
       "    </tr>\n",
       "    <tr>\n",
       "      <th>4</th>\n",
       "      <td>0.649546</td>\n",
       "      <td>0.735109</td>\n",
       "      <td>0.895747</td>\n",
       "      <td>0.713039</td>\n",
       "      <td>0.328423</td>\n",
       "    </tr>\n",
       "    <tr>\n",
       "      <th>5</th>\n",
       "      <td>0.649546</td>\n",
       "      <td>0.735109</td>\n",
       "      <td>0.895747</td>\n",
       "      <td>0.713039</td>\n",
       "      <td>0.328423</td>\n",
       "    </tr>\n",
       "    <tr>\n",
       "      <th>6</th>\n",
       "      <td>0.649546</td>\n",
       "      <td>0.735109</td>\n",
       "      <td>0.895747</td>\n",
       "      <td>0.713039</td>\n",
       "      <td>0.328423</td>\n",
       "    </tr>\n",
       "    <tr>\n",
       "      <th>8</th>\n",
       "      <td>0.649546</td>\n",
       "      <td>0.735109</td>\n",
       "      <td>0.895747</td>\n",
       "      <td>0.713039</td>\n",
       "      <td>0.328423</td>\n",
       "    </tr>\n",
       "    <tr>\n",
       "      <th>9</th>\n",
       "      <td>0.649546</td>\n",
       "      <td>0.735109</td>\n",
       "      <td>0.895747</td>\n",
       "      <td>0.713039</td>\n",
       "      <td>0.328423</td>\n",
       "    </tr>\n",
       "    <tr>\n",
       "      <th>11</th>\n",
       "      <td>0.649546</td>\n",
       "      <td>0.735109</td>\n",
       "      <td>0.895747</td>\n",
       "      <td>0.713039</td>\n",
       "      <td>0.328423</td>\n",
       "    </tr>\n",
       "    <tr>\n",
       "      <th>12</th>\n",
       "      <td>0.649546</td>\n",
       "      <td>0.735109</td>\n",
       "      <td>0.895747</td>\n",
       "      <td>0.713039</td>\n",
       "      <td>0.328423</td>\n",
       "    </tr>\n",
       "    <tr>\n",
       "      <th>13</th>\n",
       "      <td>0.649546</td>\n",
       "      <td>0.735109</td>\n",
       "      <td>0.895747</td>\n",
       "      <td>0.713039</td>\n",
       "      <td>0.328423</td>\n",
       "    </tr>\n",
       "    <tr>\n",
       "      <th>14</th>\n",
       "      <td>0.649546</td>\n",
       "      <td>0.735109</td>\n",
       "      <td>0.895747</td>\n",
       "      <td>0.713039</td>\n",
       "      <td>0.328423</td>\n",
       "    </tr>\n",
       "    <tr>\n",
       "      <th>15</th>\n",
       "      <td>0.649546</td>\n",
       "      <td>0.735109</td>\n",
       "      <td>0.895747</td>\n",
       "      <td>0.713039</td>\n",
       "      <td>0.328423</td>\n",
       "    </tr>\n",
       "    <tr>\n",
       "      <th>16</th>\n",
       "      <td>0.649546</td>\n",
       "      <td>0.735109</td>\n",
       "      <td>0.895747</td>\n",
       "      <td>0.713039</td>\n",
       "      <td>0.328423</td>\n",
       "    </tr>\n",
       "    <tr>\n",
       "      <th>17</th>\n",
       "      <td>0.649546</td>\n",
       "      <td>0.735109</td>\n",
       "      <td>0.895747</td>\n",
       "      <td>0.713039</td>\n",
       "      <td>0.328423</td>\n",
       "    </tr>\n",
       "    <tr>\n",
       "      <th>18</th>\n",
       "      <td>0.649546</td>\n",
       "      <td>0.735109</td>\n",
       "      <td>0.895747</td>\n",
       "      <td>0.713039</td>\n",
       "      <td>0.328423</td>\n",
       "    </tr>\n",
       "    <tr>\n",
       "      <th>19</th>\n",
       "      <td>0.649546</td>\n",
       "      <td>0.735109</td>\n",
       "      <td>0.895747</td>\n",
       "      <td>0.713039</td>\n",
       "      <td>0.328423</td>\n",
       "    </tr>\n",
       "    <tr>\n",
       "      <th>20</th>\n",
       "      <td>0.649546</td>\n",
       "      <td>0.735109</td>\n",
       "      <td>0.895747</td>\n",
       "      <td>0.713039</td>\n",
       "      <td>0.328423</td>\n",
       "    </tr>\n",
       "    <tr>\n",
       "      <th>21</th>\n",
       "      <td>0.649546</td>\n",
       "      <td>0.735109</td>\n",
       "      <td>0.895747</td>\n",
       "      <td>0.713039</td>\n",
       "      <td>0.328423</td>\n",
       "    </tr>\n",
       "    <tr>\n",
       "      <th>22</th>\n",
       "      <td>0.649546</td>\n",
       "      <td>0.735109</td>\n",
       "      <td>0.895747</td>\n",
       "      <td>0.713039</td>\n",
       "      <td>0.328423</td>\n",
       "    </tr>\n",
       "    <tr>\n",
       "      <th>23</th>\n",
       "      <td>0.649546</td>\n",
       "      <td>0.735109</td>\n",
       "      <td>0.895747</td>\n",
       "      <td>0.713039</td>\n",
       "      <td>0.328423</td>\n",
       "    </tr>\n",
       "    <tr>\n",
       "      <th>24</th>\n",
       "      <td>0.649546</td>\n",
       "      <td>0.735109</td>\n",
       "      <td>0.895747</td>\n",
       "      <td>0.713039</td>\n",
       "      <td>0.328423</td>\n",
       "    </tr>\n",
       "    <tr>\n",
       "      <th>25</th>\n",
       "      <td>0.649546</td>\n",
       "      <td>0.735109</td>\n",
       "      <td>0.895747</td>\n",
       "      <td>0.713039</td>\n",
       "      <td>0.328423</td>\n",
       "    </tr>\n",
       "    <tr>\n",
       "      <th>27</th>\n",
       "      <td>0.649546</td>\n",
       "      <td>0.735109</td>\n",
       "      <td>0.895747</td>\n",
       "      <td>0.713039</td>\n",
       "      <td>0.328423</td>\n",
       "    </tr>\n",
       "    <tr>\n",
       "      <th>28</th>\n",
       "      <td>0.649546</td>\n",
       "      <td>0.735109</td>\n",
       "      <td>0.895747</td>\n",
       "      <td>0.713039</td>\n",
       "      <td>0.328423</td>\n",
       "    </tr>\n",
       "    <tr>\n",
       "      <th>33</th>\n",
       "      <td>0.649546</td>\n",
       "      <td>0.735109</td>\n",
       "      <td>0.895747</td>\n",
       "      <td>0.713039</td>\n",
       "      <td>0.328423</td>\n",
       "    </tr>\n",
       "    <tr>\n",
       "      <th>34</th>\n",
       "      <td>0.649546</td>\n",
       "      <td>0.735109</td>\n",
       "      <td>0.895747</td>\n",
       "      <td>0.713039</td>\n",
       "      <td>0.328423</td>\n",
       "    </tr>\n",
       "    <tr>\n",
       "      <th>36</th>\n",
       "      <td>0.649546</td>\n",
       "      <td>0.735109</td>\n",
       "      <td>0.895747</td>\n",
       "      <td>0.713039</td>\n",
       "      <td>0.328423</td>\n",
       "    </tr>\n",
       "    <tr>\n",
       "      <th>37</th>\n",
       "      <td>0.649546</td>\n",
       "      <td>0.735109</td>\n",
       "      <td>0.895747</td>\n",
       "      <td>0.713039</td>\n",
       "      <td>0.328423</td>\n",
       "    </tr>\n",
       "    <tr>\n",
       "      <th>...</th>\n",
       "      <td>...</td>\n",
       "      <td>...</td>\n",
       "      <td>...</td>\n",
       "      <td>...</td>\n",
       "      <td>...</td>\n",
       "    </tr>\n",
       "    <tr>\n",
       "      <th>41157</th>\n",
       "      <td>-0.755375</td>\n",
       "      <td>2.076287</td>\n",
       "      <td>-2.219019</td>\n",
       "      <td>-1.493639</td>\n",
       "      <td>-2.840500</td>\n",
       "    </tr>\n",
       "    <tr>\n",
       "      <th>41158</th>\n",
       "      <td>-0.755375</td>\n",
       "      <td>2.076287</td>\n",
       "      <td>-2.219019</td>\n",
       "      <td>-1.495950</td>\n",
       "      <td>-2.840500</td>\n",
       "    </tr>\n",
       "    <tr>\n",
       "      <th>41159</th>\n",
       "      <td>-0.755375</td>\n",
       "      <td>2.076287</td>\n",
       "      <td>-2.219019</td>\n",
       "      <td>-1.495950</td>\n",
       "      <td>-2.840500</td>\n",
       "    </tr>\n",
       "    <tr>\n",
       "      <th>41160</th>\n",
       "      <td>-0.755375</td>\n",
       "      <td>2.076287</td>\n",
       "      <td>-2.219019</td>\n",
       "      <td>-1.495950</td>\n",
       "      <td>-2.840500</td>\n",
       "    </tr>\n",
       "    <tr>\n",
       "      <th>41161</th>\n",
       "      <td>-0.755375</td>\n",
       "      <td>2.076287</td>\n",
       "      <td>-2.219019</td>\n",
       "      <td>-1.495950</td>\n",
       "      <td>-2.840500</td>\n",
       "    </tr>\n",
       "    <tr>\n",
       "      <th>41162</th>\n",
       "      <td>-0.755375</td>\n",
       "      <td>2.076287</td>\n",
       "      <td>-2.219019</td>\n",
       "      <td>-1.495950</td>\n",
       "      <td>-2.840500</td>\n",
       "    </tr>\n",
       "    <tr>\n",
       "      <th>41163</th>\n",
       "      <td>-0.755375</td>\n",
       "      <td>2.076287</td>\n",
       "      <td>-2.219019</td>\n",
       "      <td>-1.495950</td>\n",
       "      <td>-2.840500</td>\n",
       "    </tr>\n",
       "    <tr>\n",
       "      <th>41164</th>\n",
       "      <td>-0.755375</td>\n",
       "      <td>2.076287</td>\n",
       "      <td>-2.219019</td>\n",
       "      <td>-1.495950</td>\n",
       "      <td>-2.840500</td>\n",
       "    </tr>\n",
       "    <tr>\n",
       "      <th>41165</th>\n",
       "      <td>-0.755375</td>\n",
       "      <td>2.076287</td>\n",
       "      <td>-2.219019</td>\n",
       "      <td>-1.498840</td>\n",
       "      <td>-2.840500</td>\n",
       "    </tr>\n",
       "    <tr>\n",
       "      <th>41166</th>\n",
       "      <td>-0.755375</td>\n",
       "      <td>2.076287</td>\n",
       "      <td>-2.219019</td>\n",
       "      <td>-1.498840</td>\n",
       "      <td>-2.840500</td>\n",
       "    </tr>\n",
       "    <tr>\n",
       "      <th>41167</th>\n",
       "      <td>-0.755375</td>\n",
       "      <td>2.076287</td>\n",
       "      <td>-2.219019</td>\n",
       "      <td>-1.498840</td>\n",
       "      <td>-2.840500</td>\n",
       "    </tr>\n",
       "    <tr>\n",
       "      <th>41168</th>\n",
       "      <td>-0.755375</td>\n",
       "      <td>2.076287</td>\n",
       "      <td>-2.219019</td>\n",
       "      <td>-1.498840</td>\n",
       "      <td>-2.840500</td>\n",
       "    </tr>\n",
       "    <tr>\n",
       "      <th>41169</th>\n",
       "      <td>-0.755375</td>\n",
       "      <td>2.076287</td>\n",
       "      <td>-2.219019</td>\n",
       "      <td>-1.498840</td>\n",
       "      <td>-2.840500</td>\n",
       "    </tr>\n",
       "    <tr>\n",
       "      <th>41170</th>\n",
       "      <td>-0.755375</td>\n",
       "      <td>2.076287</td>\n",
       "      <td>-2.219019</td>\n",
       "      <td>-1.498840</td>\n",
       "      <td>-2.840500</td>\n",
       "    </tr>\n",
       "    <tr>\n",
       "      <th>41171</th>\n",
       "      <td>-0.755375</td>\n",
       "      <td>2.076287</td>\n",
       "      <td>-2.219019</td>\n",
       "      <td>-1.498262</td>\n",
       "      <td>-2.840500</td>\n",
       "    </tr>\n",
       "    <tr>\n",
       "      <th>41172</th>\n",
       "      <td>-0.755375</td>\n",
       "      <td>2.076287</td>\n",
       "      <td>-2.219019</td>\n",
       "      <td>-1.498262</td>\n",
       "      <td>-2.840500</td>\n",
       "    </tr>\n",
       "    <tr>\n",
       "      <th>41173</th>\n",
       "      <td>-0.755375</td>\n",
       "      <td>2.076287</td>\n",
       "      <td>-2.219019</td>\n",
       "      <td>-1.498262</td>\n",
       "      <td>-2.840500</td>\n",
       "    </tr>\n",
       "    <tr>\n",
       "      <th>41174</th>\n",
       "      <td>-0.755375</td>\n",
       "      <td>2.076287</td>\n",
       "      <td>-2.219019</td>\n",
       "      <td>-1.498262</td>\n",
       "      <td>-2.840500</td>\n",
       "    </tr>\n",
       "    <tr>\n",
       "      <th>41176</th>\n",
       "      <td>-0.755375</td>\n",
       "      <td>2.076287</td>\n",
       "      <td>-2.219019</td>\n",
       "      <td>-1.498262</td>\n",
       "      <td>-2.840500</td>\n",
       "    </tr>\n",
       "    <tr>\n",
       "      <th>41177</th>\n",
       "      <td>-0.755375</td>\n",
       "      <td>2.076287</td>\n",
       "      <td>-2.219019</td>\n",
       "      <td>-1.498262</td>\n",
       "      <td>-2.840500</td>\n",
       "    </tr>\n",
       "    <tr>\n",
       "      <th>41178</th>\n",
       "      <td>-0.755375</td>\n",
       "      <td>2.076287</td>\n",
       "      <td>-2.219019</td>\n",
       "      <td>-1.498262</td>\n",
       "      <td>-2.840500</td>\n",
       "    </tr>\n",
       "    <tr>\n",
       "      <th>41179</th>\n",
       "      <td>-0.755375</td>\n",
       "      <td>2.076287</td>\n",
       "      <td>-2.219019</td>\n",
       "      <td>-1.499996</td>\n",
       "      <td>-2.840500</td>\n",
       "    </tr>\n",
       "    <tr>\n",
       "      <th>41180</th>\n",
       "      <td>-0.755375</td>\n",
       "      <td>2.076287</td>\n",
       "      <td>-2.219019</td>\n",
       "      <td>-1.499996</td>\n",
       "      <td>-2.840500</td>\n",
       "    </tr>\n",
       "    <tr>\n",
       "      <th>41181</th>\n",
       "      <td>-0.755375</td>\n",
       "      <td>2.076287</td>\n",
       "      <td>-2.219019</td>\n",
       "      <td>-1.499996</td>\n",
       "      <td>-2.840500</td>\n",
       "    </tr>\n",
       "    <tr>\n",
       "      <th>41182</th>\n",
       "      <td>-0.755375</td>\n",
       "      <td>2.076287</td>\n",
       "      <td>-2.219019</td>\n",
       "      <td>-1.499996</td>\n",
       "      <td>-2.840500</td>\n",
       "    </tr>\n",
       "    <tr>\n",
       "      <th>41183</th>\n",
       "      <td>-0.755375</td>\n",
       "      <td>2.076287</td>\n",
       "      <td>-2.219019</td>\n",
       "      <td>-1.499996</td>\n",
       "      <td>-2.840500</td>\n",
       "    </tr>\n",
       "    <tr>\n",
       "      <th>41184</th>\n",
       "      <td>-0.755375</td>\n",
       "      <td>2.076287</td>\n",
       "      <td>-2.219019</td>\n",
       "      <td>-1.499996</td>\n",
       "      <td>-2.840500</td>\n",
       "    </tr>\n",
       "    <tr>\n",
       "      <th>41185</th>\n",
       "      <td>-0.755375</td>\n",
       "      <td>2.076287</td>\n",
       "      <td>-2.219019</td>\n",
       "      <td>-1.499996</td>\n",
       "      <td>-2.840500</td>\n",
       "    </tr>\n",
       "    <tr>\n",
       "      <th>41186</th>\n",
       "      <td>-0.755375</td>\n",
       "      <td>2.076287</td>\n",
       "      <td>-2.219019</td>\n",
       "      <td>-1.499996</td>\n",
       "      <td>-2.840500</td>\n",
       "    </tr>\n",
       "    <tr>\n",
       "      <th>41187</th>\n",
       "      <td>-0.755375</td>\n",
       "      <td>2.076287</td>\n",
       "      <td>-2.219019</td>\n",
       "      <td>-1.499996</td>\n",
       "      <td>-2.840500</td>\n",
       "    </tr>\n",
       "  </tbody>\n",
       "</table>\n",
       "<p>38245 rows × 5 columns</p>\n",
       "</div>"
      ],
      "text/plain": [
       "       emp.var.rate  cons.price.idx  cons.conf.idx  euribor3m  nr.employed\n",
       "0          0.649546        0.735109       0.895747   0.713039     0.328423\n",
       "1          0.649546        0.735109       0.895747   0.713039     0.328423\n",
       "2          0.649546        0.735109       0.895747   0.713039     0.328423\n",
       "3          0.649546        0.735109       0.895747   0.713039     0.328423\n",
       "4          0.649546        0.735109       0.895747   0.713039     0.328423\n",
       "5          0.649546        0.735109       0.895747   0.713039     0.328423\n",
       "6          0.649546        0.735109       0.895747   0.713039     0.328423\n",
       "8          0.649546        0.735109       0.895747   0.713039     0.328423\n",
       "9          0.649546        0.735109       0.895747   0.713039     0.328423\n",
       "11         0.649546        0.735109       0.895747   0.713039     0.328423\n",
       "12         0.649546        0.735109       0.895747   0.713039     0.328423\n",
       "13         0.649546        0.735109       0.895747   0.713039     0.328423\n",
       "14         0.649546        0.735109       0.895747   0.713039     0.328423\n",
       "15         0.649546        0.735109       0.895747   0.713039     0.328423\n",
       "16         0.649546        0.735109       0.895747   0.713039     0.328423\n",
       "17         0.649546        0.735109       0.895747   0.713039     0.328423\n",
       "18         0.649546        0.735109       0.895747   0.713039     0.328423\n",
       "19         0.649546        0.735109       0.895747   0.713039     0.328423\n",
       "20         0.649546        0.735109       0.895747   0.713039     0.328423\n",
       "21         0.649546        0.735109       0.895747   0.713039     0.328423\n",
       "22         0.649546        0.735109       0.895747   0.713039     0.328423\n",
       "23         0.649546        0.735109       0.895747   0.713039     0.328423\n",
       "24         0.649546        0.735109       0.895747   0.713039     0.328423\n",
       "25         0.649546        0.735109       0.895747   0.713039     0.328423\n",
       "27         0.649546        0.735109       0.895747   0.713039     0.328423\n",
       "28         0.649546        0.735109       0.895747   0.713039     0.328423\n",
       "33         0.649546        0.735109       0.895747   0.713039     0.328423\n",
       "34         0.649546        0.735109       0.895747   0.713039     0.328423\n",
       "36         0.649546        0.735109       0.895747   0.713039     0.328423\n",
       "37         0.649546        0.735109       0.895747   0.713039     0.328423\n",
       "...             ...             ...            ...        ...          ...\n",
       "41157     -0.755375        2.076287      -2.219019  -1.493639    -2.840500\n",
       "41158     -0.755375        2.076287      -2.219019  -1.495950    -2.840500\n",
       "41159     -0.755375        2.076287      -2.219019  -1.495950    -2.840500\n",
       "41160     -0.755375        2.076287      -2.219019  -1.495950    -2.840500\n",
       "41161     -0.755375        2.076287      -2.219019  -1.495950    -2.840500\n",
       "41162     -0.755375        2.076287      -2.219019  -1.495950    -2.840500\n",
       "41163     -0.755375        2.076287      -2.219019  -1.495950    -2.840500\n",
       "41164     -0.755375        2.076287      -2.219019  -1.495950    -2.840500\n",
       "41165     -0.755375        2.076287      -2.219019  -1.498840    -2.840500\n",
       "41166     -0.755375        2.076287      -2.219019  -1.498840    -2.840500\n",
       "41167     -0.755375        2.076287      -2.219019  -1.498840    -2.840500\n",
       "41168     -0.755375        2.076287      -2.219019  -1.498840    -2.840500\n",
       "41169     -0.755375        2.076287      -2.219019  -1.498840    -2.840500\n",
       "41170     -0.755375        2.076287      -2.219019  -1.498840    -2.840500\n",
       "41171     -0.755375        2.076287      -2.219019  -1.498262    -2.840500\n",
       "41172     -0.755375        2.076287      -2.219019  -1.498262    -2.840500\n",
       "41173     -0.755375        2.076287      -2.219019  -1.498262    -2.840500\n",
       "41174     -0.755375        2.076287      -2.219019  -1.498262    -2.840500\n",
       "41176     -0.755375        2.076287      -2.219019  -1.498262    -2.840500\n",
       "41177     -0.755375        2.076287      -2.219019  -1.498262    -2.840500\n",
       "41178     -0.755375        2.076287      -2.219019  -1.498262    -2.840500\n",
       "41179     -0.755375        2.076287      -2.219019  -1.499996    -2.840500\n",
       "41180     -0.755375        2.076287      -2.219019  -1.499996    -2.840500\n",
       "41181     -0.755375        2.076287      -2.219019  -1.499996    -2.840500\n",
       "41182     -0.755375        2.076287      -2.219019  -1.499996    -2.840500\n",
       "41183     -0.755375        2.076287      -2.219019  -1.499996    -2.840500\n",
       "41184     -0.755375        2.076287      -2.219019  -1.499996    -2.840500\n",
       "41185     -0.755375        2.076287      -2.219019  -1.499996    -2.840500\n",
       "41186     -0.755375        2.076287      -2.219019  -1.499996    -2.840500\n",
       "41187     -0.755375        2.076287      -2.219019  -1.499996    -2.840500\n",
       "\n",
       "[38245 rows x 5 columns]"
      ]
     },
     "execution_count": 56,
     "metadata": {},
     "output_type": "execute_result"
    }
   ],
   "source": [
    "#bank subset containing macro-economic factors\n",
    "bank_pca = bank[['emp.var.rate','cons.price.idx','cons.conf.idx','euribor3m','nr.employed']]\n",
    "bank_pca"
   ]
  },
  {
   "cell_type": "code",
   "execution_count": 57,
   "metadata": {
    "collapsed": true
   },
   "outputs": [],
   "source": [
    "# Importing PCA algorithmn from library\n",
    "from sklearn.decomposition import PCA"
   ]
  },
  {
   "cell_type": "code",
   "execution_count": 58,
   "metadata": {
    "collapsed": false
   },
   "outputs": [
    {
     "name": "stdout",
     "output_type": "stream",
     "text": [
      "[ 0.69623218  0.19507041  0.10152953  0.00501144  0.00215644]\n"
     ]
    }
   ],
   "source": [
    "# Fitting PCA model onto macro-economic features\n",
    "pca = PCA()\n",
    "pca.fit(bank_pca)\n",
    "\n",
    "# Explained variance from each of the pca components\n",
    "print(pca.explained_variance_ratio_) "
   ]
  },
  {
   "cell_type": "code",
   "execution_count": 60,
   "metadata": {
    "collapsed": false
   },
   "outputs": [],
   "source": [
    "#Preparing data for Scree Plot\n",
    "x_df = pd.DataFrame(columns=['Eigen Values','Number of Eigen Values'])"
   ]
  },
  {
   "cell_type": "code",
   "execution_count": 61,
   "metadata": {
    "collapsed": false
   },
   "outputs": [
    {
     "data": {
      "text/html": [
       "<div>\n",
       "<style>\n",
       "    .dataframe thead tr:only-child th {\n",
       "        text-align: right;\n",
       "    }\n",
       "\n",
       "    .dataframe thead th {\n",
       "        text-align: left;\n",
       "    }\n",
       "\n",
       "    .dataframe tbody tr th {\n",
       "        vertical-align: top;\n",
       "    }\n",
       "</style>\n",
       "<table border=\"1\" class=\"dataframe\">\n",
       "  <thead>\n",
       "    <tr style=\"text-align: right;\">\n",
       "      <th></th>\n",
       "      <th>Explained variance %</th>\n",
       "      <th>Number of Eigen Values</th>\n",
       "    </tr>\n",
       "  </thead>\n",
       "  <tbody>\n",
       "    <tr>\n",
       "      <th>0</th>\n",
       "      <td>69.623218</td>\n",
       "      <td>1</td>\n",
       "    </tr>\n",
       "    <tr>\n",
       "      <th>1</th>\n",
       "      <td>19.507041</td>\n",
       "      <td>2</td>\n",
       "    </tr>\n",
       "    <tr>\n",
       "      <th>2</th>\n",
       "      <td>10.152953</td>\n",
       "      <td>3</td>\n",
       "    </tr>\n",
       "    <tr>\n",
       "      <th>3</th>\n",
       "      <td>0.501144</td>\n",
       "      <td>4</td>\n",
       "    </tr>\n",
       "    <tr>\n",
       "      <th>4</th>\n",
       "      <td>0.215644</td>\n",
       "      <td>5</td>\n",
       "    </tr>\n",
       "  </tbody>\n",
       "</table>\n",
       "</div>"
      ],
      "text/plain": [
       "   Explained variance %  Number of Eigen Values\n",
       "0             69.623218                       1\n",
       "1             19.507041                       2\n",
       "2             10.152953                       3\n",
       "3              0.501144                       4\n",
       "4              0.215644                       5"
      ]
     },
     "execution_count": 61,
     "metadata": {},
     "output_type": "execute_result"
    }
   ],
   "source": [
    "x_df['Eigen Values'] = (pca.explained_variance_ratio_)*100\n",
    "x_df['Number of Eigen Values']= range(1, 6, 1)\n",
    "x_df.rename(columns={'Eigen Values':'Explained variance %'})"
   ]
  },
  {
   "cell_type": "code",
   "execution_count": 62,
   "metadata": {
    "collapsed": false
   },
   "outputs": [
    {
     "data": {
      "text/plain": [
       "<matplotlib.text.Text at 0x115acac18>"
      ]
     },
     "execution_count": 62,
     "metadata": {},
     "output_type": "execute_result"
    },
    {
     "data": {
      "image/png": "[encoded data removed]",
      "text/plain": [
       "<matplotlib.figure.Figure at 0x115754c18>"
      ]
     },
     "metadata": {},
     "output_type": "display_data"
    }
   ],
   "source": [
    "# Selecting optimum number of pca components using Scree Plot\n",
    "x = x_df['Number of Eigen Values']\n",
    "y = x_df['Eigen Values']\n",
    "plt.plot(x,y,'bo-',label = \"Scree Plot to determine value for number of PCA components\")\n",
    "plt.xlabel('Number of Eigen Values')\n",
    "plt.ylabel('Eigen Values (Explained variance %)')\n",
    "plt.title('Scree plot to identify optimum number of Principal Components')"
   ]
  },
  {
   "cell_type": "markdown",
   "metadata": {},
   "source": [
    "For greater than 3 eigen values, the slope seems to flatten out i.e not much variance is explained by the remaining two components and hence 3 is an ideal pca number in this case. "
   ]
  },
  {
   "cell_type": "code",
   "execution_count": 63,
   "metadata": {
    "collapsed": true
   },
   "outputs": [
    {
     "data": {
      "text/html": [
       "<div>\n",
       "<style>\n",
       "    .dataframe thead tr:only-child th {\n",
       "        text-align: right;\n",
       "    }\n",
       "\n",
       "    .dataframe thead th {\n",
       "        text-align: left;\n",
       "    }\n",
       "\n",
       "    .dataframe tbody tr th {\n",
       "        vertical-align: top;\n",
       "    }\n",
       "</style>\n",
       "<table border=\"1\" class=\"dataframe\">\n",
       "  <thead>\n",
       "    <tr style=\"text-align: right;\">\n",
       "      <th></th>\n",
       "      <th>PCA1</th>\n",
       "      <th>PCA2</th>\n",
       "      <th>PCA3</th>\n",
       "    </tr>\n",
       "  </thead>\n",
       "  <tbody>\n",
       "    <tr>\n",
       "      <th>0</th>\n",
       "      <td>-1.320113</td>\n",
       "      <td>0.688198</td>\n",
       "      <td>0.399483</td>\n",
       "    </tr>\n",
       "    <tr>\n",
       "      <th>1</th>\n",
       "      <td>-1.320113</td>\n",
       "      <td>0.688198</td>\n",
       "      <td>0.399483</td>\n",
       "    </tr>\n",
       "    <tr>\n",
       "      <th>2</th>\n",
       "      <td>-1.320113</td>\n",
       "      <td>0.688198</td>\n",
       "      <td>0.399483</td>\n",
       "    </tr>\n",
       "    <tr>\n",
       "      <th>3</th>\n",
       "      <td>-1.320113</td>\n",
       "      <td>0.688198</td>\n",
       "      <td>0.399483</td>\n",
       "    </tr>\n",
       "    <tr>\n",
       "      <th>4</th>\n",
       "      <td>-1.320113</td>\n",
       "      <td>0.688198</td>\n",
       "      <td>0.399483</td>\n",
       "    </tr>\n",
       "    <tr>\n",
       "      <th>5</th>\n",
       "      <td>-1.320113</td>\n",
       "      <td>0.688198</td>\n",
       "      <td>0.399483</td>\n",
       "    </tr>\n",
       "    <tr>\n",
       "      <th>6</th>\n",
       "      <td>-1.320113</td>\n",
       "      <td>0.688198</td>\n",
       "      <td>0.399483</td>\n",
       "    </tr>\n",
       "    <tr>\n",
       "      <th>7</th>\n",
       "      <td>-1.320113</td>\n",
       "      <td>0.688198</td>\n",
       "      <td>0.399483</td>\n",
       "    </tr>\n",
       "    <tr>\n",
       "      <th>8</th>\n",
       "      <td>-1.320113</td>\n",
       "      <td>0.688198</td>\n",
       "      <td>0.399483</td>\n",
       "    </tr>\n",
       "    <tr>\n",
       "      <th>9</th>\n",
       "      <td>-1.320113</td>\n",
       "      <td>0.688198</td>\n",
       "      <td>0.399483</td>\n",
       "    </tr>\n",
       "    <tr>\n",
       "      <th>10</th>\n",
       "      <td>-1.320113</td>\n",
       "      <td>0.688198</td>\n",
       "      <td>0.399483</td>\n",
       "    </tr>\n",
       "    <tr>\n",
       "      <th>11</th>\n",
       "      <td>-1.320113</td>\n",
       "      <td>0.688198</td>\n",
       "      <td>0.399483</td>\n",
       "    </tr>\n",
       "    <tr>\n",
       "      <th>12</th>\n",
       "      <td>-1.320113</td>\n",
       "      <td>0.688198</td>\n",
       "      <td>0.399483</td>\n",
       "    </tr>\n",
       "    <tr>\n",
       "      <th>13</th>\n",
       "      <td>-1.320113</td>\n",
       "      <td>0.688198</td>\n",
       "      <td>0.399483</td>\n",
       "    </tr>\n",
       "    <tr>\n",
       "      <th>14</th>\n",
       "      <td>-1.320113</td>\n",
       "      <td>0.688198</td>\n",
       "      <td>0.399483</td>\n",
       "    </tr>\n",
       "    <tr>\n",
       "      <th>15</th>\n",
       "      <td>-1.320113</td>\n",
       "      <td>0.688198</td>\n",
       "      <td>0.399483</td>\n",
       "    </tr>\n",
       "    <tr>\n",
       "      <th>16</th>\n",
       "      <td>-1.320113</td>\n",
       "      <td>0.688198</td>\n",
       "      <td>0.399483</td>\n",
       "    </tr>\n",
       "    <tr>\n",
       "      <th>17</th>\n",
       "      <td>-1.320113</td>\n",
       "      <td>0.688198</td>\n",
       "      <td>0.399483</td>\n",
       "    </tr>\n",
       "    <tr>\n",
       "      <th>18</th>\n",
       "      <td>-1.320113</td>\n",
       "      <td>0.688198</td>\n",
       "      <td>0.399483</td>\n",
       "    </tr>\n",
       "    <tr>\n",
       "      <th>19</th>\n",
       "      <td>-1.320113</td>\n",
       "      <td>0.688198</td>\n",
       "      <td>0.399483</td>\n",
       "    </tr>\n",
       "    <tr>\n",
       "      <th>20</th>\n",
       "      <td>-1.320113</td>\n",
       "      <td>0.688198</td>\n",
       "      <td>0.399483</td>\n",
       "    </tr>\n",
       "    <tr>\n",
       "      <th>21</th>\n",
       "      <td>-1.320113</td>\n",
       "      <td>0.688198</td>\n",
       "      <td>0.399483</td>\n",
       "    </tr>\n",
       "    <tr>\n",
       "      <th>22</th>\n",
       "      <td>-1.320113</td>\n",
       "      <td>0.688198</td>\n",
       "      <td>0.399483</td>\n",
       "    </tr>\n",
       "    <tr>\n",
       "      <th>23</th>\n",
       "      <td>-1.320113</td>\n",
       "      <td>0.688198</td>\n",
       "      <td>0.399483</td>\n",
       "    </tr>\n",
       "    <tr>\n",
       "      <th>24</th>\n",
       "      <td>-1.320113</td>\n",
       "      <td>0.688198</td>\n",
       "      <td>0.399483</td>\n",
       "    </tr>\n",
       "    <tr>\n",
       "      <th>25</th>\n",
       "      <td>-1.320113</td>\n",
       "      <td>0.688198</td>\n",
       "      <td>0.399483</td>\n",
       "    </tr>\n",
       "    <tr>\n",
       "      <th>26</th>\n",
       "      <td>-1.320113</td>\n",
       "      <td>0.688198</td>\n",
       "      <td>0.399483</td>\n",
       "    </tr>\n",
       "    <tr>\n",
       "      <th>27</th>\n",
       "      <td>-1.320113</td>\n",
       "      <td>0.688198</td>\n",
       "      <td>0.399483</td>\n",
       "    </tr>\n",
       "    <tr>\n",
       "      <th>28</th>\n",
       "      <td>-1.320113</td>\n",
       "      <td>0.688198</td>\n",
       "      <td>0.399483</td>\n",
       "    </tr>\n",
       "    <tr>\n",
       "      <th>29</th>\n",
       "      <td>-1.320113</td>\n",
       "      <td>0.688198</td>\n",
       "      <td>0.399483</td>\n",
       "    </tr>\n",
       "    <tr>\n",
       "      <th>...</th>\n",
       "      <td>...</td>\n",
       "      <td>...</td>\n",
       "      <td>...</td>\n",
       "    </tr>\n",
       "    <tr>\n",
       "      <th>38215</th>\n",
       "      <td>2.029025</td>\n",
       "      <td>-2.306351</td>\n",
       "      <td>3.217342</td>\n",
       "    </tr>\n",
       "    <tr>\n",
       "      <th>38216</th>\n",
       "      <td>2.030248</td>\n",
       "      <td>-2.306454</td>\n",
       "      <td>3.217763</td>\n",
       "    </tr>\n",
       "    <tr>\n",
       "      <th>38217</th>\n",
       "      <td>2.030248</td>\n",
       "      <td>-2.306454</td>\n",
       "      <td>3.217763</td>\n",
       "    </tr>\n",
       "    <tr>\n",
       "      <th>38218</th>\n",
       "      <td>2.030248</td>\n",
       "      <td>-2.306454</td>\n",
       "      <td>3.217763</td>\n",
       "    </tr>\n",
       "    <tr>\n",
       "      <th>38219</th>\n",
       "      <td>2.030248</td>\n",
       "      <td>-2.306454</td>\n",
       "      <td>3.217763</td>\n",
       "    </tr>\n",
       "    <tr>\n",
       "      <th>38220</th>\n",
       "      <td>2.030248</td>\n",
       "      <td>-2.306454</td>\n",
       "      <td>3.217763</td>\n",
       "    </tr>\n",
       "    <tr>\n",
       "      <th>38221</th>\n",
       "      <td>2.030248</td>\n",
       "      <td>-2.306454</td>\n",
       "      <td>3.217763</td>\n",
       "    </tr>\n",
       "    <tr>\n",
       "      <th>38222</th>\n",
       "      <td>2.030248</td>\n",
       "      <td>-2.306454</td>\n",
       "      <td>3.217763</td>\n",
       "    </tr>\n",
       "    <tr>\n",
       "      <th>38223</th>\n",
       "      <td>2.031777</td>\n",
       "      <td>-2.306583</td>\n",
       "      <td>3.218289</td>\n",
       "    </tr>\n",
       "    <tr>\n",
       "      <th>38224</th>\n",
       "      <td>2.031777</td>\n",
       "      <td>-2.306583</td>\n",
       "      <td>3.218289</td>\n",
       "    </tr>\n",
       "    <tr>\n",
       "      <th>38225</th>\n",
       "      <td>2.031777</td>\n",
       "      <td>-2.306583</td>\n",
       "      <td>3.218289</td>\n",
       "    </tr>\n",
       "    <tr>\n",
       "      <th>38226</th>\n",
       "      <td>2.031777</td>\n",
       "      <td>-2.306583</td>\n",
       "      <td>3.218289</td>\n",
       "    </tr>\n",
       "    <tr>\n",
       "      <th>38227</th>\n",
       "      <td>2.031777</td>\n",
       "      <td>-2.306583</td>\n",
       "      <td>3.218289</td>\n",
       "    </tr>\n",
       "    <tr>\n",
       "      <th>38228</th>\n",
       "      <td>2.031777</td>\n",
       "      <td>-2.306583</td>\n",
       "      <td>3.218289</td>\n",
       "    </tr>\n",
       "    <tr>\n",
       "      <th>38229</th>\n",
       "      <td>2.031471</td>\n",
       "      <td>-2.306557</td>\n",
       "      <td>3.218184</td>\n",
       "    </tr>\n",
       "    <tr>\n",
       "      <th>38230</th>\n",
       "      <td>2.031471</td>\n",
       "      <td>-2.306557</td>\n",
       "      <td>3.218184</td>\n",
       "    </tr>\n",
       "    <tr>\n",
       "      <th>38231</th>\n",
       "      <td>2.031471</td>\n",
       "      <td>-2.306557</td>\n",
       "      <td>3.218184</td>\n",
       "    </tr>\n",
       "    <tr>\n",
       "      <th>38232</th>\n",
       "      <td>2.031471</td>\n",
       "      <td>-2.306557</td>\n",
       "      <td>3.218184</td>\n",
       "    </tr>\n",
       "    <tr>\n",
       "      <th>38233</th>\n",
       "      <td>2.031471</td>\n",
       "      <td>-2.306557</td>\n",
       "      <td>3.218184</td>\n",
       "    </tr>\n",
       "    <tr>\n",
       "      <th>38234</th>\n",
       "      <td>2.031471</td>\n",
       "      <td>-2.306557</td>\n",
       "      <td>3.218184</td>\n",
       "    </tr>\n",
       "    <tr>\n",
       "      <th>38235</th>\n",
       "      <td>2.031471</td>\n",
       "      <td>-2.306557</td>\n",
       "      <td>3.218184</td>\n",
       "    </tr>\n",
       "    <tr>\n",
       "      <th>38236</th>\n",
       "      <td>2.032388</td>\n",
       "      <td>-2.306634</td>\n",
       "      <td>3.218499</td>\n",
       "    </tr>\n",
       "    <tr>\n",
       "      <th>38237</th>\n",
       "      <td>2.032388</td>\n",
       "      <td>-2.306634</td>\n",
       "      <td>3.218499</td>\n",
       "    </tr>\n",
       "    <tr>\n",
       "      <th>38238</th>\n",
       "      <td>2.032388</td>\n",
       "      <td>-2.306634</td>\n",
       "      <td>3.218499</td>\n",
       "    </tr>\n",
       "    <tr>\n",
       "      <th>38239</th>\n",
       "      <td>2.032388</td>\n",
       "      <td>-2.306634</td>\n",
       "      <td>3.218499</td>\n",
       "    </tr>\n",
       "    <tr>\n",
       "      <th>38240</th>\n",
       "      <td>2.032388</td>\n",
       "      <td>-2.306634</td>\n",
       "      <td>3.218499</td>\n",
       "    </tr>\n",
       "    <tr>\n",
       "      <th>38241</th>\n",
       "      <td>2.032388</td>\n",
       "      <td>-2.306634</td>\n",
       "      <td>3.218499</td>\n",
       "    </tr>\n",
       "    <tr>\n",
       "      <th>38242</th>\n",
       "      <td>2.032388</td>\n",
       "      <td>-2.306634</td>\n",
       "      <td>3.218499</td>\n",
       "    </tr>\n",
       "    <tr>\n",
       "      <th>38243</th>\n",
       "      <td>2.032388</td>\n",
       "      <td>-2.306634</td>\n",
       "      <td>3.218499</td>\n",
       "    </tr>\n",
       "    <tr>\n",
       "      <th>38244</th>\n",
       "      <td>2.032388</td>\n",
       "      <td>-2.306634</td>\n",
       "      <td>3.218499</td>\n",
       "    </tr>\n",
       "  </tbody>\n",
       "</table>\n",
       "<p>38245 rows × 3 columns</p>\n",
       "</div>"
      ],
      "text/plain": [
       "           PCA1      PCA2      PCA3\n",
       "0     -1.320113  0.688198  0.399483\n",
       "1     -1.320113  0.688198  0.399483\n",
       "2     -1.320113  0.688198  0.399483\n",
       "3     -1.320113  0.688198  0.399483\n",
       "4     -1.320113  0.688198  0.399483\n",
       "5     -1.320113  0.688198  0.399483\n",
       "6     -1.320113  0.688198  0.399483\n",
       "7     -1.320113  0.688198  0.399483\n",
       "8     -1.320113  0.688198  0.399483\n",
       "9     -1.320113  0.688198  0.399483\n",
       "10    -1.320113  0.688198  0.399483\n",
       "11    -1.320113  0.688198  0.399483\n",
       "12    -1.320113  0.688198  0.399483\n",
       "13    -1.320113  0.688198  0.399483\n",
       "14    -1.320113  0.688198  0.399483\n",
       "15    -1.320113  0.688198  0.399483\n",
       "16    -1.320113  0.688198  0.399483\n",
       "17    -1.320113  0.688198  0.399483\n",
       "18    -1.320113  0.688198  0.399483\n",
       "19    -1.320113  0.688198  0.399483\n",
       "20    -1.320113  0.688198  0.399483\n",
       "21    -1.320113  0.688198  0.399483\n",
       "22    -1.320113  0.688198  0.399483\n",
       "23    -1.320113  0.688198  0.399483\n",
       "24    -1.320113  0.688198  0.399483\n",
       "25    -1.320113  0.688198  0.399483\n",
       "26    -1.320113  0.688198  0.399483\n",
       "27    -1.320113  0.688198  0.399483\n",
       "28    -1.320113  0.688198  0.399483\n",
       "29    -1.320113  0.688198  0.399483\n",
       "...         ...       ...       ...\n",
       "38215  2.029025 -2.306351  3.217342\n",
       "38216  2.030248 -2.306454  3.217763\n",
       "38217  2.030248 -2.306454  3.217763\n",
       "38218  2.030248 -2.306454  3.217763\n",
       "38219  2.030248 -2.306454  3.217763\n",
       "38220  2.030248 -2.306454  3.217763\n",
       "38221  2.030248 -2.306454  3.217763\n",
       "38222  2.030248 -2.306454  3.217763\n",
       "38223  2.031777 -2.306583  3.218289\n",
       "38224  2.031777 -2.306583  3.218289\n",
       "38225  2.031777 -2.306583  3.218289\n",
       "38226  2.031777 -2.306583  3.218289\n",
       "38227  2.031777 -2.306583  3.218289\n",
       "38228  2.031777 -2.306583  3.218289\n",
       "38229  2.031471 -2.306557  3.218184\n",
       "38230  2.031471 -2.306557  3.218184\n",
       "38231  2.031471 -2.306557  3.218184\n",
       "38232  2.031471 -2.306557  3.218184\n",
       "38233  2.031471 -2.306557  3.218184\n",
       "38234  2.031471 -2.306557  3.218184\n",
       "38235  2.031471 -2.306557  3.218184\n",
       "38236  2.032388 -2.306634  3.218499\n",
       "38237  2.032388 -2.306634  3.218499\n",
       "38238  2.032388 -2.306634  3.218499\n",
       "38239  2.032388 -2.306634  3.218499\n",
       "38240  2.032388 -2.306634  3.218499\n",
       "38241  2.032388 -2.306634  3.218499\n",
       "38242  2.032388 -2.306634  3.218499\n",
       "38243  2.032388 -2.306634  3.218499\n",
       "38244  2.032388 -2.306634  3.218499\n",
       "\n",
       "[38245 rows x 3 columns]"
      ]
     },
     "execution_count": 63,
     "metadata": {},
     "output_type": "execute_result"
    }
   ],
   "source": [
    "# Generating component array from macro-economic features\n",
    "pca_array = pca.transform(bank_pca)\n",
    "# Creating a dataframe with top 3 PCA components\n",
    "bank_pca_df = pd.DataFrame(pca_array)\n",
    "bank_pca_df= bank_pca_df.rename(columns={0:'PCA1',1:'PCA2',2:'PCA3',3:'PCA4',4:'PCA5'})\n",
    "bank_pca_df= bank_pca_df.drop(['PCA4','PCA5'],axis =1)\n",
    "bank_pca_df"
   ]
  },
  {
   "cell_type": "code",
   "execution_count": 64,
   "metadata": {
    "collapsed": true
   },
   "outputs": [
    {
     "data": {
      "text/html": [
       "<div>\n",
       "<style>\n",
       "    .dataframe thead tr:only-child th {\n",
       "        text-align: right;\n",
       "    }\n",
       "\n",
       "    .dataframe thead th {\n",
       "        text-align: left;\n",
       "    }\n",
       "\n",
       "    .dataframe tbody tr th {\n",
       "        vertical-align: top;\n",
       "    }\n",
       "</style>\n",
       "<table border=\"1\" class=\"dataframe\">\n",
       "  <thead>\n",
       "    <tr style=\"text-align: right;\">\n",
       "      <th></th>\n",
       "      <th>age</th>\n",
       "      <th>job</th>\n",
       "      <th>marital</th>\n",
       "      <th>education</th>\n",
       "      <th>housing</th>\n",
       "      <th>contact</th>\n",
       "      <th>month</th>\n",
       "      <th>day_of_week</th>\n",
       "      <th>number_calls</th>\n",
       "      <th>outcome</th>\n",
       "      <th>age_category</th>\n",
       "    </tr>\n",
       "  </thead>\n",
       "  <tbody>\n",
       "    <tr>\n",
       "      <th>0</th>\n",
       "      <td>56</td>\n",
       "      <td>housemaid</td>\n",
       "      <td>married</td>\n",
       "      <td>basic</td>\n",
       "      <td>no</td>\n",
       "      <td>telephone</td>\n",
       "      <td>may</td>\n",
       "      <td>mon</td>\n",
       "      <td>-0.566106</td>\n",
       "      <td>0</td>\n",
       "      <td>Working adult</td>\n",
       "    </tr>\n",
       "    <tr>\n",
       "      <th>1</th>\n",
       "      <td>57</td>\n",
       "      <td>services</td>\n",
       "      <td>married</td>\n",
       "      <td>high.school</td>\n",
       "      <td>no</td>\n",
       "      <td>telephone</td>\n",
       "      <td>may</td>\n",
       "      <td>mon</td>\n",
       "      <td>-0.566106</td>\n",
       "      <td>0</td>\n",
       "      <td>Working adult</td>\n",
       "    </tr>\n",
       "    <tr>\n",
       "      <th>2</th>\n",
       "      <td>37</td>\n",
       "      <td>services</td>\n",
       "      <td>married</td>\n",
       "      <td>high.school</td>\n",
       "      <td>yes</td>\n",
       "      <td>telephone</td>\n",
       "      <td>may</td>\n",
       "      <td>mon</td>\n",
       "      <td>-0.566106</td>\n",
       "      <td>0</td>\n",
       "      <td>Working adult</td>\n",
       "    </tr>\n",
       "    <tr>\n",
       "      <th>3</th>\n",
       "      <td>40</td>\n",
       "      <td>admin.</td>\n",
       "      <td>married</td>\n",
       "      <td>basic</td>\n",
       "      <td>no</td>\n",
       "      <td>telephone</td>\n",
       "      <td>may</td>\n",
       "      <td>mon</td>\n",
       "      <td>-0.566106</td>\n",
       "      <td>0</td>\n",
       "      <td>Working adult</td>\n",
       "    </tr>\n",
       "    <tr>\n",
       "      <th>4</th>\n",
       "      <td>56</td>\n",
       "      <td>services</td>\n",
       "      <td>married</td>\n",
       "      <td>high.school</td>\n",
       "      <td>no</td>\n",
       "      <td>telephone</td>\n",
       "      <td>may</td>\n",
       "      <td>mon</td>\n",
       "      <td>-0.566106</td>\n",
       "      <td>0</td>\n",
       "      <td>Working adult</td>\n",
       "    </tr>\n",
       "    <tr>\n",
       "      <th>5</th>\n",
       "      <td>45</td>\n",
       "      <td>services</td>\n",
       "      <td>married</td>\n",
       "      <td>basic</td>\n",
       "      <td>no</td>\n",
       "      <td>telephone</td>\n",
       "      <td>may</td>\n",
       "      <td>mon</td>\n",
       "      <td>-0.566106</td>\n",
       "      <td>0</td>\n",
       "      <td>Working adult</td>\n",
       "    </tr>\n",
       "    <tr>\n",
       "      <th>6</th>\n",
       "      <td>59</td>\n",
       "      <td>admin.</td>\n",
       "      <td>married</td>\n",
       "      <td>professional.course</td>\n",
       "      <td>no</td>\n",
       "      <td>telephone</td>\n",
       "      <td>may</td>\n",
       "      <td>mon</td>\n",
       "      <td>-0.566106</td>\n",
       "      <td>0</td>\n",
       "      <td>Working adult</td>\n",
       "    </tr>\n",
       "    <tr>\n",
       "      <th>7</th>\n",
       "      <td>24</td>\n",
       "      <td>technician</td>\n",
       "      <td>single</td>\n",
       "      <td>professional.course</td>\n",
       "      <td>yes</td>\n",
       "      <td>telephone</td>\n",
       "      <td>may</td>\n",
       "      <td>mon</td>\n",
       "      <td>-0.566106</td>\n",
       "      <td>0</td>\n",
       "      <td>Young adult</td>\n",
       "    </tr>\n",
       "    <tr>\n",
       "      <th>8</th>\n",
       "      <td>25</td>\n",
       "      <td>services</td>\n",
       "      <td>single</td>\n",
       "      <td>high.school</td>\n",
       "      <td>yes</td>\n",
       "      <td>telephone</td>\n",
       "      <td>may</td>\n",
       "      <td>mon</td>\n",
       "      <td>-0.566106</td>\n",
       "      <td>0</td>\n",
       "      <td>Working adult</td>\n",
       "    </tr>\n",
       "    <tr>\n",
       "      <th>9</th>\n",
       "      <td>25</td>\n",
       "      <td>services</td>\n",
       "      <td>single</td>\n",
       "      <td>high.school</td>\n",
       "      <td>yes</td>\n",
       "      <td>telephone</td>\n",
       "      <td>may</td>\n",
       "      <td>mon</td>\n",
       "      <td>-0.566106</td>\n",
       "      <td>0</td>\n",
       "      <td>Working adult</td>\n",
       "    </tr>\n",
       "    <tr>\n",
       "      <th>10</th>\n",
       "      <td>29</td>\n",
       "      <td>blue-collar</td>\n",
       "      <td>single</td>\n",
       "      <td>high.school</td>\n",
       "      <td>no</td>\n",
       "      <td>telephone</td>\n",
       "      <td>may</td>\n",
       "      <td>mon</td>\n",
       "      <td>-0.566106</td>\n",
       "      <td>0</td>\n",
       "      <td>Working adult</td>\n",
       "    </tr>\n",
       "    <tr>\n",
       "      <th>11</th>\n",
       "      <td>57</td>\n",
       "      <td>housemaid</td>\n",
       "      <td>divorced</td>\n",
       "      <td>basic</td>\n",
       "      <td>yes</td>\n",
       "      <td>telephone</td>\n",
       "      <td>may</td>\n",
       "      <td>mon</td>\n",
       "      <td>-0.566106</td>\n",
       "      <td>0</td>\n",
       "      <td>Working adult</td>\n",
       "    </tr>\n",
       "    <tr>\n",
       "      <th>12</th>\n",
       "      <td>35</td>\n",
       "      <td>blue-collar</td>\n",
       "      <td>married</td>\n",
       "      <td>basic</td>\n",
       "      <td>yes</td>\n",
       "      <td>telephone</td>\n",
       "      <td>may</td>\n",
       "      <td>mon</td>\n",
       "      <td>-0.566106</td>\n",
       "      <td>0</td>\n",
       "      <td>Working adult</td>\n",
       "    </tr>\n",
       "    <tr>\n",
       "      <th>13</th>\n",
       "      <td>54</td>\n",
       "      <td>retired</td>\n",
       "      <td>married</td>\n",
       "      <td>basic</td>\n",
       "      <td>yes</td>\n",
       "      <td>telephone</td>\n",
       "      <td>may</td>\n",
       "      <td>mon</td>\n",
       "      <td>-0.566106</td>\n",
       "      <td>0</td>\n",
       "      <td>Working adult</td>\n",
       "    </tr>\n",
       "    <tr>\n",
       "      <th>14</th>\n",
       "      <td>35</td>\n",
       "      <td>blue-collar</td>\n",
       "      <td>married</td>\n",
       "      <td>basic</td>\n",
       "      <td>yes</td>\n",
       "      <td>telephone</td>\n",
       "      <td>may</td>\n",
       "      <td>mon</td>\n",
       "      <td>-0.566106</td>\n",
       "      <td>0</td>\n",
       "      <td>Working adult</td>\n",
       "    </tr>\n",
       "    <tr>\n",
       "      <th>15</th>\n",
       "      <td>46</td>\n",
       "      <td>blue-collar</td>\n",
       "      <td>married</td>\n",
       "      <td>basic</td>\n",
       "      <td>yes</td>\n",
       "      <td>telephone</td>\n",
       "      <td>may</td>\n",
       "      <td>mon</td>\n",
       "      <td>-0.566106</td>\n",
       "      <td>0</td>\n",
       "      <td>Working adult</td>\n",
       "    </tr>\n",
       "    <tr>\n",
       "      <th>16</th>\n",
       "      <td>50</td>\n",
       "      <td>blue-collar</td>\n",
       "      <td>married</td>\n",
       "      <td>basic</td>\n",
       "      <td>yes</td>\n",
       "      <td>telephone</td>\n",
       "      <td>may</td>\n",
       "      <td>mon</td>\n",
       "      <td>-0.566106</td>\n",
       "      <td>0</td>\n",
       "      <td>Working adult</td>\n",
       "    </tr>\n",
       "    <tr>\n",
       "      <th>17</th>\n",
       "      <td>39</td>\n",
       "      <td>management</td>\n",
       "      <td>single</td>\n",
       "      <td>basic</td>\n",
       "      <td>no</td>\n",
       "      <td>telephone</td>\n",
       "      <td>may</td>\n",
       "      <td>mon</td>\n",
       "      <td>-0.566106</td>\n",
       "      <td>0</td>\n",
       "      <td>Working adult</td>\n",
       "    </tr>\n",
       "    <tr>\n",
       "      <th>18</th>\n",
       "      <td>30</td>\n",
       "      <td>unemployed</td>\n",
       "      <td>married</td>\n",
       "      <td>high.school</td>\n",
       "      <td>no</td>\n",
       "      <td>telephone</td>\n",
       "      <td>may</td>\n",
       "      <td>mon</td>\n",
       "      <td>-0.566106</td>\n",
       "      <td>0</td>\n",
       "      <td>Working adult</td>\n",
       "    </tr>\n",
       "    <tr>\n",
       "      <th>19</th>\n",
       "      <td>55</td>\n",
       "      <td>blue-collar</td>\n",
       "      <td>married</td>\n",
       "      <td>basic</td>\n",
       "      <td>yes</td>\n",
       "      <td>telephone</td>\n",
       "      <td>may</td>\n",
       "      <td>mon</td>\n",
       "      <td>-0.566106</td>\n",
       "      <td>0</td>\n",
       "      <td>Working adult</td>\n",
       "    </tr>\n",
       "    <tr>\n",
       "      <th>20</th>\n",
       "      <td>55</td>\n",
       "      <td>retired</td>\n",
       "      <td>single</td>\n",
       "      <td>high.school</td>\n",
       "      <td>yes</td>\n",
       "      <td>telephone</td>\n",
       "      <td>may</td>\n",
       "      <td>mon</td>\n",
       "      <td>-0.566106</td>\n",
       "      <td>0</td>\n",
       "      <td>Working adult</td>\n",
       "    </tr>\n",
       "    <tr>\n",
       "      <th>21</th>\n",
       "      <td>41</td>\n",
       "      <td>technician</td>\n",
       "      <td>single</td>\n",
       "      <td>high.school</td>\n",
       "      <td>yes</td>\n",
       "      <td>telephone</td>\n",
       "      <td>may</td>\n",
       "      <td>mon</td>\n",
       "      <td>-0.566106</td>\n",
       "      <td>0</td>\n",
       "      <td>Working adult</td>\n",
       "    </tr>\n",
       "    <tr>\n",
       "      <th>22</th>\n",
       "      <td>37</td>\n",
       "      <td>admin.</td>\n",
       "      <td>married</td>\n",
       "      <td>high.school</td>\n",
       "      <td>yes</td>\n",
       "      <td>telephone</td>\n",
       "      <td>may</td>\n",
       "      <td>mon</td>\n",
       "      <td>-0.566106</td>\n",
       "      <td>0</td>\n",
       "      <td>Working adult</td>\n",
       "    </tr>\n",
       "    <tr>\n",
       "      <th>23</th>\n",
       "      <td>35</td>\n",
       "      <td>technician</td>\n",
       "      <td>married</td>\n",
       "      <td>university.degree</td>\n",
       "      <td>no</td>\n",
       "      <td>telephone</td>\n",
       "      <td>may</td>\n",
       "      <td>mon</td>\n",
       "      <td>-0.566106</td>\n",
       "      <td>0</td>\n",
       "      <td>Working adult</td>\n",
       "    </tr>\n",
       "    <tr>\n",
       "      <th>24</th>\n",
       "      <td>39</td>\n",
       "      <td>self-employed</td>\n",
       "      <td>married</td>\n",
       "      <td>basic</td>\n",
       "      <td>no</td>\n",
       "      <td>telephone</td>\n",
       "      <td>may</td>\n",
       "      <td>mon</td>\n",
       "      <td>-0.566106</td>\n",
       "      <td>0</td>\n",
       "      <td>Working adult</td>\n",
       "    </tr>\n",
       "    <tr>\n",
       "      <th>25</th>\n",
       "      <td>54</td>\n",
       "      <td>technician</td>\n",
       "      <td>single</td>\n",
       "      <td>university.degree</td>\n",
       "      <td>no</td>\n",
       "      <td>telephone</td>\n",
       "      <td>may</td>\n",
       "      <td>mon</td>\n",
       "      <td>-0.204761</td>\n",
       "      <td>0</td>\n",
       "      <td>Working adult</td>\n",
       "    </tr>\n",
       "    <tr>\n",
       "      <th>26</th>\n",
       "      <td>54</td>\n",
       "      <td>management</td>\n",
       "      <td>married</td>\n",
       "      <td>basic</td>\n",
       "      <td>yes</td>\n",
       "      <td>telephone</td>\n",
       "      <td>may</td>\n",
       "      <td>mon</td>\n",
       "      <td>-0.566106</td>\n",
       "      <td>0</td>\n",
       "      <td>Working adult</td>\n",
       "    </tr>\n",
       "    <tr>\n",
       "      <th>27</th>\n",
       "      <td>54</td>\n",
       "      <td>blue-collar</td>\n",
       "      <td>divorced</td>\n",
       "      <td>basic</td>\n",
       "      <td>no</td>\n",
       "      <td>telephone</td>\n",
       "      <td>may</td>\n",
       "      <td>mon</td>\n",
       "      <td>-0.566106</td>\n",
       "      <td>0</td>\n",
       "      <td>Working adult</td>\n",
       "    </tr>\n",
       "    <tr>\n",
       "      <th>28</th>\n",
       "      <td>34</td>\n",
       "      <td>services</td>\n",
       "      <td>married</td>\n",
       "      <td>high.school</td>\n",
       "      <td>no</td>\n",
       "      <td>telephone</td>\n",
       "      <td>may</td>\n",
       "      <td>mon</td>\n",
       "      <td>-0.566106</td>\n",
       "      <td>0</td>\n",
       "      <td>Working adult</td>\n",
       "    </tr>\n",
       "    <tr>\n",
       "      <th>29</th>\n",
       "      <td>52</td>\n",
       "      <td>technician</td>\n",
       "      <td>married</td>\n",
       "      <td>basic</td>\n",
       "      <td>yes</td>\n",
       "      <td>telephone</td>\n",
       "      <td>may</td>\n",
       "      <td>mon</td>\n",
       "      <td>-0.566106</td>\n",
       "      <td>0</td>\n",
       "      <td>Working adult</td>\n",
       "    </tr>\n",
       "    <tr>\n",
       "      <th>...</th>\n",
       "      <td>...</td>\n",
       "      <td>...</td>\n",
       "      <td>...</td>\n",
       "      <td>...</td>\n",
       "      <td>...</td>\n",
       "      <td>...</td>\n",
       "      <td>...</td>\n",
       "      <td>...</td>\n",
       "      <td>...</td>\n",
       "      <td>...</td>\n",
       "      <td>...</td>\n",
       "    </tr>\n",
       "    <tr>\n",
       "      <th>38215</th>\n",
       "      <td>31</td>\n",
       "      <td>housemaid</td>\n",
       "      <td>single</td>\n",
       "      <td>university.degree</td>\n",
       "      <td>no</td>\n",
       "      <td>cellular</td>\n",
       "      <td>nov</td>\n",
       "      <td>mon</td>\n",
       "      <td>0.517930</td>\n",
       "      <td>0</td>\n",
       "      <td>Working adult</td>\n",
       "    </tr>\n",
       "    <tr>\n",
       "      <th>38216</th>\n",
       "      <td>35</td>\n",
       "      <td>technician</td>\n",
       "      <td>divorced</td>\n",
       "      <td>basic</td>\n",
       "      <td>no</td>\n",
       "      <td>cellular</td>\n",
       "      <td>nov</td>\n",
       "      <td>tue</td>\n",
       "      <td>-0.566106</td>\n",
       "      <td>1</td>\n",
       "      <td>Working adult</td>\n",
       "    </tr>\n",
       "    <tr>\n",
       "      <th>38217</th>\n",
       "      <td>35</td>\n",
       "      <td>technician</td>\n",
       "      <td>divorced</td>\n",
       "      <td>basic</td>\n",
       "      <td>yes</td>\n",
       "      <td>cellular</td>\n",
       "      <td>nov</td>\n",
       "      <td>tue</td>\n",
       "      <td>-0.566106</td>\n",
       "      <td>1</td>\n",
       "      <td>Working adult</td>\n",
       "    </tr>\n",
       "    <tr>\n",
       "      <th>38218</th>\n",
       "      <td>33</td>\n",
       "      <td>admin.</td>\n",
       "      <td>married</td>\n",
       "      <td>university.degree</td>\n",
       "      <td>no</td>\n",
       "      <td>cellular</td>\n",
       "      <td>nov</td>\n",
       "      <td>tue</td>\n",
       "      <td>-0.566106</td>\n",
       "      <td>1</td>\n",
       "      <td>Working adult</td>\n",
       "    </tr>\n",
       "    <tr>\n",
       "      <th>38219</th>\n",
       "      <td>33</td>\n",
       "      <td>admin.</td>\n",
       "      <td>married</td>\n",
       "      <td>university.degree</td>\n",
       "      <td>yes</td>\n",
       "      <td>cellular</td>\n",
       "      <td>nov</td>\n",
       "      <td>tue</td>\n",
       "      <td>-0.566106</td>\n",
       "      <td>0</td>\n",
       "      <td>Working adult</td>\n",
       "    </tr>\n",
       "    <tr>\n",
       "      <th>38220</th>\n",
       "      <td>60</td>\n",
       "      <td>blue-collar</td>\n",
       "      <td>married</td>\n",
       "      <td>basic</td>\n",
       "      <td>yes</td>\n",
       "      <td>cellular</td>\n",
       "      <td>nov</td>\n",
       "      <td>tue</td>\n",
       "      <td>-0.204761</td>\n",
       "      <td>0</td>\n",
       "      <td>Post-retirement</td>\n",
       "    </tr>\n",
       "    <tr>\n",
       "      <th>38221</th>\n",
       "      <td>35</td>\n",
       "      <td>technician</td>\n",
       "      <td>divorced</td>\n",
       "      <td>basic</td>\n",
       "      <td>yes</td>\n",
       "      <td>cellular</td>\n",
       "      <td>nov</td>\n",
       "      <td>tue</td>\n",
       "      <td>0.156584</td>\n",
       "      <td>1</td>\n",
       "      <td>Working adult</td>\n",
       "    </tr>\n",
       "    <tr>\n",
       "      <th>38222</th>\n",
       "      <td>54</td>\n",
       "      <td>admin.</td>\n",
       "      <td>married</td>\n",
       "      <td>professional.course</td>\n",
       "      <td>no</td>\n",
       "      <td>cellular</td>\n",
       "      <td>nov</td>\n",
       "      <td>tue</td>\n",
       "      <td>-0.204761</td>\n",
       "      <td>1</td>\n",
       "      <td>Working adult</td>\n",
       "    </tr>\n",
       "    <tr>\n",
       "      <th>38223</th>\n",
       "      <td>38</td>\n",
       "      <td>housemaid</td>\n",
       "      <td>divorced</td>\n",
       "      <td>university.degree</td>\n",
       "      <td>no</td>\n",
       "      <td>cellular</td>\n",
       "      <td>nov</td>\n",
       "      <td>wed</td>\n",
       "      <td>-0.204761</td>\n",
       "      <td>1</td>\n",
       "      <td>Working adult</td>\n",
       "    </tr>\n",
       "    <tr>\n",
       "      <th>38224</th>\n",
       "      <td>32</td>\n",
       "      <td>admin.</td>\n",
       "      <td>married</td>\n",
       "      <td>university.degree</td>\n",
       "      <td>no</td>\n",
       "      <td>telephone</td>\n",
       "      <td>nov</td>\n",
       "      <td>wed</td>\n",
       "      <td>-0.566106</td>\n",
       "      <td>1</td>\n",
       "      <td>Working adult</td>\n",
       "    </tr>\n",
       "    <tr>\n",
       "      <th>38225</th>\n",
       "      <td>32</td>\n",
       "      <td>admin.</td>\n",
       "      <td>married</td>\n",
       "      <td>university.degree</td>\n",
       "      <td>yes</td>\n",
       "      <td>cellular</td>\n",
       "      <td>nov</td>\n",
       "      <td>wed</td>\n",
       "      <td>0.156584</td>\n",
       "      <td>0</td>\n",
       "      <td>Working adult</td>\n",
       "    </tr>\n",
       "    <tr>\n",
       "      <th>38226</th>\n",
       "      <td>38</td>\n",
       "      <td>entrepreneur</td>\n",
       "      <td>married</td>\n",
       "      <td>university.degree</td>\n",
       "      <td>no</td>\n",
       "      <td>cellular</td>\n",
       "      <td>nov</td>\n",
       "      <td>wed</td>\n",
       "      <td>-0.204761</td>\n",
       "      <td>0</td>\n",
       "      <td>Working adult</td>\n",
       "    </tr>\n",
       "    <tr>\n",
       "      <th>38227</th>\n",
       "      <td>62</td>\n",
       "      <td>services</td>\n",
       "      <td>married</td>\n",
       "      <td>high.school</td>\n",
       "      <td>yes</td>\n",
       "      <td>cellular</td>\n",
       "      <td>nov</td>\n",
       "      <td>wed</td>\n",
       "      <td>0.879275</td>\n",
       "      <td>0</td>\n",
       "      <td>Post-retirement</td>\n",
       "    </tr>\n",
       "    <tr>\n",
       "      <th>38228</th>\n",
       "      <td>40</td>\n",
       "      <td>management</td>\n",
       "      <td>divorced</td>\n",
       "      <td>university.degree</td>\n",
       "      <td>yes</td>\n",
       "      <td>cellular</td>\n",
       "      <td>nov</td>\n",
       "      <td>wed</td>\n",
       "      <td>-0.204761</td>\n",
       "      <td>0</td>\n",
       "      <td>Working adult</td>\n",
       "    </tr>\n",
       "    <tr>\n",
       "      <th>38229</th>\n",
       "      <td>33</td>\n",
       "      <td>student</td>\n",
       "      <td>married</td>\n",
       "      <td>professional.course</td>\n",
       "      <td>yes</td>\n",
       "      <td>telephone</td>\n",
       "      <td>nov</td>\n",
       "      <td>thu</td>\n",
       "      <td>-0.566106</td>\n",
       "      <td>1</td>\n",
       "      <td>Working adult</td>\n",
       "    </tr>\n",
       "    <tr>\n",
       "      <th>38230</th>\n",
       "      <td>31</td>\n",
       "      <td>admin.</td>\n",
       "      <td>single</td>\n",
       "      <td>university.degree</td>\n",
       "      <td>yes</td>\n",
       "      <td>cellular</td>\n",
       "      <td>nov</td>\n",
       "      <td>thu</td>\n",
       "      <td>-0.566106</td>\n",
       "      <td>1</td>\n",
       "      <td>Working adult</td>\n",
       "    </tr>\n",
       "    <tr>\n",
       "      <th>38231</th>\n",
       "      <td>62</td>\n",
       "      <td>retired</td>\n",
       "      <td>married</td>\n",
       "      <td>university.degree</td>\n",
       "      <td>yes</td>\n",
       "      <td>cellular</td>\n",
       "      <td>nov</td>\n",
       "      <td>thu</td>\n",
       "      <td>-0.566106</td>\n",
       "      <td>1</td>\n",
       "      <td>Post-retirement</td>\n",
       "    </tr>\n",
       "    <tr>\n",
       "      <th>38232</th>\n",
       "      <td>62</td>\n",
       "      <td>retired</td>\n",
       "      <td>married</td>\n",
       "      <td>university.degree</td>\n",
       "      <td>yes</td>\n",
       "      <td>cellular</td>\n",
       "      <td>nov</td>\n",
       "      <td>thu</td>\n",
       "      <td>-0.566106</td>\n",
       "      <td>1</td>\n",
       "      <td>Post-retirement</td>\n",
       "    </tr>\n",
       "    <tr>\n",
       "      <th>38233</th>\n",
       "      <td>38</td>\n",
       "      <td>housemaid</td>\n",
       "      <td>divorced</td>\n",
       "      <td>high.school</td>\n",
       "      <td>yes</td>\n",
       "      <td>cellular</td>\n",
       "      <td>nov</td>\n",
       "      <td>thu</td>\n",
       "      <td>-0.566106</td>\n",
       "      <td>0</td>\n",
       "      <td>Working adult</td>\n",
       "    </tr>\n",
       "    <tr>\n",
       "      <th>38234</th>\n",
       "      <td>57</td>\n",
       "      <td>retired</td>\n",
       "      <td>married</td>\n",
       "      <td>professional.course</td>\n",
       "      <td>yes</td>\n",
       "      <td>cellular</td>\n",
       "      <td>nov</td>\n",
       "      <td>thu</td>\n",
       "      <td>1.240620</td>\n",
       "      <td>0</td>\n",
       "      <td>Working adult</td>\n",
       "    </tr>\n",
       "    <tr>\n",
       "      <th>38235</th>\n",
       "      <td>62</td>\n",
       "      <td>retired</td>\n",
       "      <td>married</td>\n",
       "      <td>university.degree</td>\n",
       "      <td>no</td>\n",
       "      <td>cellular</td>\n",
       "      <td>nov</td>\n",
       "      <td>thu</td>\n",
       "      <td>-0.204761</td>\n",
       "      <td>1</td>\n",
       "      <td>Post-retirement</td>\n",
       "    </tr>\n",
       "    <tr>\n",
       "      <th>38236</th>\n",
       "      <td>64</td>\n",
       "      <td>retired</td>\n",
       "      <td>divorced</td>\n",
       "      <td>professional.course</td>\n",
       "      <td>yes</td>\n",
       "      <td>cellular</td>\n",
       "      <td>nov</td>\n",
       "      <td>fri</td>\n",
       "      <td>0.156584</td>\n",
       "      <td>0</td>\n",
       "      <td>Post-retirement</td>\n",
       "    </tr>\n",
       "    <tr>\n",
       "      <th>38237</th>\n",
       "      <td>36</td>\n",
       "      <td>admin.</td>\n",
       "      <td>married</td>\n",
       "      <td>university.degree</td>\n",
       "      <td>no</td>\n",
       "      <td>cellular</td>\n",
       "      <td>nov</td>\n",
       "      <td>fri</td>\n",
       "      <td>-0.204761</td>\n",
       "      <td>0</td>\n",
       "      <td>Working adult</td>\n",
       "    </tr>\n",
       "    <tr>\n",
       "      <th>38238</th>\n",
       "      <td>37</td>\n",
       "      <td>admin.</td>\n",
       "      <td>married</td>\n",
       "      <td>university.degree</td>\n",
       "      <td>yes</td>\n",
       "      <td>cellular</td>\n",
       "      <td>nov</td>\n",
       "      <td>fri</td>\n",
       "      <td>-0.566106</td>\n",
       "      <td>1</td>\n",
       "      <td>Working adult</td>\n",
       "    </tr>\n",
       "    <tr>\n",
       "      <th>38239</th>\n",
       "      <td>29</td>\n",
       "      <td>unemployed</td>\n",
       "      <td>single</td>\n",
       "      <td>basic</td>\n",
       "      <td>yes</td>\n",
       "      <td>cellular</td>\n",
       "      <td>nov</td>\n",
       "      <td>fri</td>\n",
       "      <td>-0.566106</td>\n",
       "      <td>0</td>\n",
       "      <td>Working adult</td>\n",
       "    </tr>\n",
       "    <tr>\n",
       "      <th>38240</th>\n",
       "      <td>73</td>\n",
       "      <td>retired</td>\n",
       "      <td>married</td>\n",
       "      <td>professional.course</td>\n",
       "      <td>yes</td>\n",
       "      <td>cellular</td>\n",
       "      <td>nov</td>\n",
       "      <td>fri</td>\n",
       "      <td>-0.566106</td>\n",
       "      <td>1</td>\n",
       "      <td>Post-retirement</td>\n",
       "    </tr>\n",
       "    <tr>\n",
       "      <th>38241</th>\n",
       "      <td>46</td>\n",
       "      <td>blue-collar</td>\n",
       "      <td>married</td>\n",
       "      <td>professional.course</td>\n",
       "      <td>no</td>\n",
       "      <td>cellular</td>\n",
       "      <td>nov</td>\n",
       "      <td>fri</td>\n",
       "      <td>-0.566106</td>\n",
       "      <td>0</td>\n",
       "      <td>Working adult</td>\n",
       "    </tr>\n",
       "    <tr>\n",
       "      <th>38242</th>\n",
       "      <td>56</td>\n",
       "      <td>retired</td>\n",
       "      <td>married</td>\n",
       "      <td>university.degree</td>\n",
       "      <td>yes</td>\n",
       "      <td>cellular</td>\n",
       "      <td>nov</td>\n",
       "      <td>fri</td>\n",
       "      <td>-0.204761</td>\n",
       "      <td>0</td>\n",
       "      <td>Working adult</td>\n",
       "    </tr>\n",
       "    <tr>\n",
       "      <th>38243</th>\n",
       "      <td>44</td>\n",
       "      <td>technician</td>\n",
       "      <td>married</td>\n",
       "      <td>professional.course</td>\n",
       "      <td>no</td>\n",
       "      <td>cellular</td>\n",
       "      <td>nov</td>\n",
       "      <td>fri</td>\n",
       "      <td>-0.566106</td>\n",
       "      <td>1</td>\n",
       "      <td>Working adult</td>\n",
       "    </tr>\n",
       "    <tr>\n",
       "      <th>38244</th>\n",
       "      <td>74</td>\n",
       "      <td>retired</td>\n",
       "      <td>married</td>\n",
       "      <td>professional.course</td>\n",
       "      <td>yes</td>\n",
       "      <td>cellular</td>\n",
       "      <td>nov</td>\n",
       "      <td>fri</td>\n",
       "      <td>0.156584</td>\n",
       "      <td>0</td>\n",
       "      <td>Post-retirement</td>\n",
       "    </tr>\n",
       "  </tbody>\n",
       "</table>\n",
       "<p>38245 rows × 11 columns</p>\n",
       "</div>"
      ],
      "text/plain": [
       "       age            job   marital            education housing    contact  \\\n",
       "0       56      housemaid   married                basic      no  telephone   \n",
       "1       57       services   married          high.school      no  telephone   \n",
       "2       37       services   married          high.school     yes  telephone   \n",
       "3       40         admin.   married                basic      no  telephone   \n",
       "4       56       services   married          high.school      no  telephone   \n",
       "5       45       services   married                basic      no  telephone   \n",
       "6       59         admin.   married  professional.course      no  telephone   \n",
       "7       24     technician    single  professional.course     yes  telephone   \n",
       "8       25       services    single          high.school     yes  telephone   \n",
       "9       25       services    single          high.school     yes  telephone   \n",
       "10      29    blue-collar    single          high.school      no  telephone   \n",
       "11      57      housemaid  divorced                basic     yes  telephone   \n",
       "12      35    blue-collar   married                basic     yes  telephone   \n",
       "13      54        retired   married                basic     yes  telephone   \n",
       "14      35    blue-collar   married                basic     yes  telephone   \n",
       "15      46    blue-collar   married                basic     yes  telephone   \n",
       "16      50    blue-collar   married                basic     yes  telephone   \n",
       "17      39     management    single                basic      no  telephone   \n",
       "18      30     unemployed   married          high.school      no  telephone   \n",
       "19      55    blue-collar   married                basic     yes  telephone   \n",
       "20      55        retired    single          high.school     yes  telephone   \n",
       "21      41     technician    single          high.school     yes  telephone   \n",
       "22      37         admin.   married          high.school     yes  telephone   \n",
       "23      35     technician   married    university.degree      no  telephone   \n",
       "24      39  self-employed   married                basic      no  telephone   \n",
       "25      54     technician    single    university.degree      no  telephone   \n",
       "26      54     management   married                basic     yes  telephone   \n",
       "27      54    blue-collar  divorced                basic      no  telephone   \n",
       "28      34       services   married          high.school      no  telephone   \n",
       "29      52     technician   married                basic     yes  telephone   \n",
       "...    ...            ...       ...                  ...     ...        ...   \n",
       "38215   31      housemaid    single    university.degree      no   cellular   \n",
       "38216   35     technician  divorced                basic      no   cellular   \n",
       "38217   35     technician  divorced                basic     yes   cellular   \n",
       "38218   33         admin.   married    university.degree      no   cellular   \n",
       "38219   33         admin.   married    university.degree     yes   cellular   \n",
       "38220   60    blue-collar   married                basic     yes   cellular   \n",
       "38221   35     technician  divorced                basic     yes   cellular   \n",
       "38222   54         admin.   married  professional.course      no   cellular   \n",
       "38223   38      housemaid  divorced    university.degree      no   cellular   \n",
       "38224   32         admin.   married    university.degree      no  telephone   \n",
       "38225   32         admin.   married    university.degree     yes   cellular   \n",
       "38226   38   entrepreneur   married    university.degree      no   cellular   \n",
       "38227   62       services   married          high.school     yes   cellular   \n",
       "38228   40     management  divorced    university.degree     yes   cellular   \n",
       "38229   33        student   married  professional.course     yes  telephone   \n",
       "38230   31         admin.    single    university.degree     yes   cellular   \n",
       "38231   62        retired   married    university.degree     yes   cellular   \n",
       "38232   62        retired   married    university.degree     yes   cellular   \n",
       "38233   38      housemaid  divorced          high.school     yes   cellular   \n",
       "38234   57        retired   married  professional.course     yes   cellular   \n",
       "38235   62        retired   married    university.degree      no   cellular   \n",
       "38236   64        retired  divorced  professional.course     yes   cellular   \n",
       "38237   36         admin.   married    university.degree      no   cellular   \n",
       "38238   37         admin.   married    university.degree     yes   cellular   \n",
       "38239   29     unemployed    single                basic     yes   cellular   \n",
       "38240   73        retired   married  professional.course     yes   cellular   \n",
       "38241   46    blue-collar   married  professional.course      no   cellular   \n",
       "38242   56        retired   married    university.degree     yes   cellular   \n",
       "38243   44     technician   married  professional.course      no   cellular   \n",
       "38244   74        retired   married  professional.course     yes   cellular   \n",
       "\n",
       "      month day_of_week  number_calls  outcome     age_category  \n",
       "0       may         mon     -0.566106        0    Working adult  \n",
       "1       may         mon     -0.566106        0    Working adult  \n",
       "2       may         mon     -0.566106        0    Working adult  \n",
       "3       may         mon     -0.566106        0    Working adult  \n",
       "4       may         mon     -0.566106        0    Working adult  \n",
       "5       may         mon     -0.566106        0    Working adult  \n",
       "6       may         mon     -0.566106        0    Working adult  \n",
       "7       may         mon     -0.566106        0      Young adult  \n",
       "8       may         mon     -0.566106        0    Working adult  \n",
       "9       may         mon     -0.566106        0    Working adult  \n",
       "10      may         mon     -0.566106        0    Working adult  \n",
       "11      may         mon     -0.566106        0    Working adult  \n",
       "12      may         mon     -0.566106        0    Working adult  \n",
       "13      may         mon     -0.566106        0    Working adult  \n",
       "14      may         mon     -0.566106        0    Working adult  \n",
       "15      may         mon     -0.566106        0    Working adult  \n",
       "16      may         mon     -0.566106        0    Working adult  \n",
       "17      may         mon     -0.566106        0    Working adult  \n",
       "18      may         mon     -0.566106        0    Working adult  \n",
       "19      may         mon     -0.566106        0    Working adult  \n",
       "20      may         mon     -0.566106        0    Working adult  \n",
       "21      may         mon     -0.566106        0    Working adult  \n",
       "22      may         mon     -0.566106        0    Working adult  \n",
       "23      may         mon     -0.566106        0    Working adult  \n",
       "24      may         mon     -0.566106        0    Working adult  \n",
       "25      may         mon     -0.204761        0    Working adult  \n",
       "26      may         mon     -0.566106        0    Working adult  \n",
       "27      may         mon     -0.566106        0    Working adult  \n",
       "28      may         mon     -0.566106        0    Working adult  \n",
       "29      may         mon     -0.566106        0    Working adult  \n",
       "...     ...         ...           ...      ...              ...  \n",
       "38215   nov         mon      0.517930        0    Working adult  \n",
       "38216   nov         tue     -0.566106        1    Working adult  \n",
       "38217   nov         tue     -0.566106        1    Working adult  \n",
       "38218   nov         tue     -0.566106        1    Working adult  \n",
       "38219   nov         tue     -0.566106        0    Working adult  \n",
       "38220   nov         tue     -0.204761        0  Post-retirement  \n",
       "38221   nov         tue      0.156584        1    Working adult  \n",
       "38222   nov         tue     -0.204761        1    Working adult  \n",
       "38223   nov         wed     -0.204761        1    Working adult  \n",
       "38224   nov         wed     -0.566106        1    Working adult  \n",
       "38225   nov         wed      0.156584        0    Working adult  \n",
       "38226   nov         wed     -0.204761        0    Working adult  \n",
       "38227   nov         wed      0.879275        0  Post-retirement  \n",
       "38228   nov         wed     -0.204761        0    Working adult  \n",
       "38229   nov         thu     -0.566106        1    Working adult  \n",
       "38230   nov         thu     -0.566106        1    Working adult  \n",
       "38231   nov         thu     -0.566106        1  Post-retirement  \n",
       "38232   nov         thu     -0.566106        1  Post-retirement  \n",
       "38233   nov         thu     -0.566106        0    Working adult  \n",
       "38234   nov         thu      1.240620        0    Working adult  \n",
       "38235   nov         thu     -0.204761        1  Post-retirement  \n",
       "38236   nov         fri      0.156584        0  Post-retirement  \n",
       "38237   nov         fri     -0.204761        0    Working adult  \n",
       "38238   nov         fri     -0.566106        1    Working adult  \n",
       "38239   nov         fri     -0.566106        0    Working adult  \n",
       "38240   nov         fri     -0.566106        1  Post-retirement  \n",
       "38241   nov         fri     -0.566106        0    Working adult  \n",
       "38242   nov         fri     -0.204761        0    Working adult  \n",
       "38243   nov         fri     -0.566106        1    Working adult  \n",
       "38244   nov         fri      0.156584        0  Post-retirement  \n",
       "\n",
       "[38245 rows x 11 columns]"
      ]
     },
     "execution_count": 64,
     "metadata": {},
     "output_type": "execute_result"
    }
   ],
   "source": [
    "# Dropping multi-collinear macro economic variabes from the dataset \n",
    "bank_final = bank.drop(['emp.var.rate','cons.price.idx','cons.conf.idx','euribor3m','nr.employed'],axis =1)\n",
    "# Resetting bank dataframe's index to make it suitable for merging purpose\n",
    "bank_final.index = range(len(bank_final))\n",
    "bank_final"
   ]
  },
  {
   "cell_type": "code",
   "execution_count": 65,
   "metadata": {
    "collapsed": true
   },
   "outputs": [
    {
     "data": {
      "text/html": [
       "<div>\n",
       "<style>\n",
       "    .dataframe thead tr:only-child th {\n",
       "        text-align: right;\n",
       "    }\n",
       "\n",
       "    .dataframe thead th {\n",
       "        text-align: left;\n",
       "    }\n",
       "\n",
       "    .dataframe tbody tr th {\n",
       "        vertical-align: top;\n",
       "    }\n",
       "</style>\n",
       "<table border=\"1\" class=\"dataframe\">\n",
       "  <thead>\n",
       "    <tr style=\"text-align: right;\">\n",
       "      <th></th>\n",
       "      <th>age</th>\n",
       "      <th>job</th>\n",
       "      <th>marital</th>\n",
       "      <th>education</th>\n",
       "      <th>housing</th>\n",
       "      <th>contact</th>\n",
       "      <th>month</th>\n",
       "      <th>day_of_week</th>\n",
       "      <th>number_calls</th>\n",
       "      <th>outcome</th>\n",
       "      <th>age_category</th>\n",
       "      <th>PCA1</th>\n",
       "      <th>PCA2</th>\n",
       "      <th>PCA3</th>\n",
       "    </tr>\n",
       "  </thead>\n",
       "  <tbody>\n",
       "    <tr>\n",
       "      <th>0</th>\n",
       "      <td>56</td>\n",
       "      <td>housemaid</td>\n",
       "      <td>married</td>\n",
       "      <td>basic</td>\n",
       "      <td>no</td>\n",
       "      <td>telephone</td>\n",
       "      <td>may</td>\n",
       "      <td>mon</td>\n",
       "      <td>-0.566106</td>\n",
       "      <td>0</td>\n",
       "      <td>Working adult</td>\n",
       "      <td>-1.320113</td>\n",
       "      <td>0.688198</td>\n",
       "      <td>0.399483</td>\n",
       "    </tr>\n",
       "    <tr>\n",
       "      <th>1</th>\n",
       "      <td>57</td>\n",
       "      <td>services</td>\n",
       "      <td>married</td>\n",
       "      <td>high.school</td>\n",
       "      <td>no</td>\n",
       "      <td>telephone</td>\n",
       "      <td>may</td>\n",
       "      <td>mon</td>\n",
       "      <td>-0.566106</td>\n",
       "      <td>0</td>\n",
       "      <td>Working adult</td>\n",
       "      <td>-1.320113</td>\n",
       "      <td>0.688198</td>\n",
       "      <td>0.399483</td>\n",
       "    </tr>\n",
       "    <tr>\n",
       "      <th>2</th>\n",
       "      <td>37</td>\n",
       "      <td>services</td>\n",
       "      <td>married</td>\n",
       "      <td>high.school</td>\n",
       "      <td>yes</td>\n",
       "      <td>telephone</td>\n",
       "      <td>may</td>\n",
       "      <td>mon</td>\n",
       "      <td>-0.566106</td>\n",
       "      <td>0</td>\n",
       "      <td>Working adult</td>\n",
       "      <td>-1.320113</td>\n",
       "      <td>0.688198</td>\n",
       "      <td>0.399483</td>\n",
       "    </tr>\n",
       "    <tr>\n",
       "      <th>3</th>\n",
       "      <td>40</td>\n",
       "      <td>admin.</td>\n",
       "      <td>married</td>\n",
       "      <td>basic</td>\n",
       "      <td>no</td>\n",
       "      <td>telephone</td>\n",
       "      <td>may</td>\n",
       "      <td>mon</td>\n",
       "      <td>-0.566106</td>\n",
       "      <td>0</td>\n",
       "      <td>Working adult</td>\n",
       "      <td>-1.320113</td>\n",
       "      <td>0.688198</td>\n",
       "      <td>0.399483</td>\n",
       "    </tr>\n",
       "    <tr>\n",
       "      <th>4</th>\n",
       "      <td>56</td>\n",
       "      <td>services</td>\n",
       "      <td>married</td>\n",
       "      <td>high.school</td>\n",
       "      <td>no</td>\n",
       "      <td>telephone</td>\n",
       "      <td>may</td>\n",
       "      <td>mon</td>\n",
       "      <td>-0.566106</td>\n",
       "      <td>0</td>\n",
       "      <td>Working adult</td>\n",
       "      <td>-1.320113</td>\n",
       "      <td>0.688198</td>\n",
       "      <td>0.399483</td>\n",
       "    </tr>\n",
       "    <tr>\n",
       "      <th>5</th>\n",
       "      <td>45</td>\n",
       "      <td>services</td>\n",
       "      <td>married</td>\n",
       "      <td>basic</td>\n",
       "      <td>no</td>\n",
       "      <td>telephone</td>\n",
       "      <td>may</td>\n",
       "      <td>mon</td>\n",
       "      <td>-0.566106</td>\n",
       "      <td>0</td>\n",
       "      <td>Working adult</td>\n",
       "      <td>-1.320113</td>\n",
       "      <td>0.688198</td>\n",
       "      <td>0.399483</td>\n",
       "    </tr>\n",
       "    <tr>\n",
       "      <th>6</th>\n",
       "      <td>59</td>\n",
       "      <td>admin.</td>\n",
       "      <td>married</td>\n",
       "      <td>professional.course</td>\n",
       "      <td>no</td>\n",
       "      <td>telephone</td>\n",
       "      <td>may</td>\n",
       "      <td>mon</td>\n",
       "      <td>-0.566106</td>\n",
       "      <td>0</td>\n",
       "      <td>Working adult</td>\n",
       "      <td>-1.320113</td>\n",
       "      <td>0.688198</td>\n",
       "      <td>0.399483</td>\n",
       "    </tr>\n",
       "    <tr>\n",
       "      <th>7</th>\n",
       "      <td>24</td>\n",
       "      <td>technician</td>\n",
       "      <td>single</td>\n",
       "      <td>professional.course</td>\n",
       "      <td>yes</td>\n",
       "      <td>telephone</td>\n",
       "      <td>may</td>\n",
       "      <td>mon</td>\n",
       "      <td>-0.566106</td>\n",
       "      <td>0</td>\n",
       "      <td>Young adult</td>\n",
       "      <td>-1.320113</td>\n",
       "      <td>0.688198</td>\n",
       "      <td>0.399483</td>\n",
       "    </tr>\n",
       "    <tr>\n",
       "      <th>8</th>\n",
       "      <td>25</td>\n",
       "      <td>services</td>\n",
       "      <td>single</td>\n",
       "      <td>high.school</td>\n",
       "      <td>yes</td>\n",
       "      <td>telephone</td>\n",
       "      <td>may</td>\n",
       "      <td>mon</td>\n",
       "      <td>-0.566106</td>\n",
       "      <td>0</td>\n",
       "      <td>Working adult</td>\n",
       "      <td>-1.320113</td>\n",
       "      <td>0.688198</td>\n",
       "      <td>0.399483</td>\n",
       "    </tr>\n",
       "    <tr>\n",
       "      <th>9</th>\n",
       "      <td>25</td>\n",
       "      <td>services</td>\n",
       "      <td>single</td>\n",
       "      <td>high.school</td>\n",
       "      <td>yes</td>\n",
       "      <td>telephone</td>\n",
       "      <td>may</td>\n",
       "      <td>mon</td>\n",
       "      <td>-0.566106</td>\n",
       "      <td>0</td>\n",
       "      <td>Working adult</td>\n",
       "      <td>-1.320113</td>\n",
       "      <td>0.688198</td>\n",
       "      <td>0.399483</td>\n",
       "    </tr>\n",
       "    <tr>\n",
       "      <th>10</th>\n",
       "      <td>29</td>\n",
       "      <td>blue-collar</td>\n",
       "      <td>single</td>\n",
       "      <td>high.school</td>\n",
       "      <td>no</td>\n",
       "      <td>telephone</td>\n",
       "      <td>may</td>\n",
       "      <td>mon</td>\n",
       "      <td>-0.566106</td>\n",
       "      <td>0</td>\n",
       "      <td>Working adult</td>\n",
       "      <td>-1.320113</td>\n",
       "      <td>0.688198</td>\n",
       "      <td>0.399483</td>\n",
       "    </tr>\n",
       "    <tr>\n",
       "      <th>11</th>\n",
       "      <td>57</td>\n",
       "      <td>housemaid</td>\n",
       "      <td>divorced</td>\n",
       "      <td>basic</td>\n",
       "      <td>yes</td>\n",
       "      <td>telephone</td>\n",
       "      <td>may</td>\n",
       "      <td>mon</td>\n",
       "      <td>-0.566106</td>\n",
       "      <td>0</td>\n",
       "      <td>Working adult</td>\n",
       "      <td>-1.320113</td>\n",
       "      <td>0.688198</td>\n",
       "      <td>0.399483</td>\n",
       "    </tr>\n",
       "    <tr>\n",
       "      <th>12</th>\n",
       "      <td>35</td>\n",
       "      <td>blue-collar</td>\n",
       "      <td>married</td>\n",
       "      <td>basic</td>\n",
       "      <td>yes</td>\n",
       "      <td>telephone</td>\n",
       "      <td>may</td>\n",
       "      <td>mon</td>\n",
       "      <td>-0.566106</td>\n",
       "      <td>0</td>\n",
       "      <td>Working adult</td>\n",
       "      <td>-1.320113</td>\n",
       "      <td>0.688198</td>\n",
       "      <td>0.399483</td>\n",
       "    </tr>\n",
       "    <tr>\n",
       "      <th>13</th>\n",
       "      <td>54</td>\n",
       "      <td>retired</td>\n",
       "      <td>married</td>\n",
       "      <td>basic</td>\n",
       "      <td>yes</td>\n",
       "      <td>telephone</td>\n",
       "      <td>may</td>\n",
       "      <td>mon</td>\n",
       "      <td>-0.566106</td>\n",
       "      <td>0</td>\n",
       "      <td>Working adult</td>\n",
       "      <td>-1.320113</td>\n",
       "      <td>0.688198</td>\n",
       "      <td>0.399483</td>\n",
       "    </tr>\n",
       "    <tr>\n",
       "      <th>14</th>\n",
       "      <td>35</td>\n",
       "      <td>blue-collar</td>\n",
       "      <td>married</td>\n",
       "      <td>basic</td>\n",
       "      <td>yes</td>\n",
       "      <td>telephone</td>\n",
       "      <td>may</td>\n",
       "      <td>mon</td>\n",
       "      <td>-0.566106</td>\n",
       "      <td>0</td>\n",
       "      <td>Working adult</td>\n",
       "      <td>-1.320113</td>\n",
       "      <td>0.688198</td>\n",
       "      <td>0.399483</td>\n",
       "    </tr>\n",
       "    <tr>\n",
       "      <th>15</th>\n",
       "      <td>46</td>\n",
       "      <td>blue-collar</td>\n",
       "      <td>married</td>\n",
       "      <td>basic</td>\n",
       "      <td>yes</td>\n",
       "      <td>telephone</td>\n",
       "      <td>may</td>\n",
       "      <td>mon</td>\n",
       "      <td>-0.566106</td>\n",
       "      <td>0</td>\n",
       "      <td>Working adult</td>\n",
       "      <td>-1.320113</td>\n",
       "      <td>0.688198</td>\n",
       "      <td>0.399483</td>\n",
       "    </tr>\n",
       "    <tr>\n",
       "      <th>16</th>\n",
       "      <td>50</td>\n",
       "      <td>blue-collar</td>\n",
       "      <td>married</td>\n",
       "      <td>basic</td>\n",
       "      <td>yes</td>\n",
       "      <td>telephone</td>\n",
       "      <td>may</td>\n",
       "      <td>mon</td>\n",
       "      <td>-0.566106</td>\n",
       "      <td>0</td>\n",
       "      <td>Working adult</td>\n",
       "      <td>-1.320113</td>\n",
       "      <td>0.688198</td>\n",
       "      <td>0.399483</td>\n",
       "    </tr>\n",
       "    <tr>\n",
       "      <th>17</th>\n",
       "      <td>39</td>\n",
       "      <td>management</td>\n",
       "      <td>single</td>\n",
       "      <td>basic</td>\n",
       "      <td>no</td>\n",
       "      <td>telephone</td>\n",
       "      <td>may</td>\n",
       "      <td>mon</td>\n",
       "      <td>-0.566106</td>\n",
       "      <td>0</td>\n",
       "      <td>Working adult</td>\n",
       "      <td>-1.320113</td>\n",
       "      <td>0.688198</td>\n",
       "      <td>0.399483</td>\n",
       "    </tr>\n",
       "    <tr>\n",
       "      <th>18</th>\n",
       "      <td>30</td>\n",
       "      <td>unemployed</td>\n",
       "      <td>married</td>\n",
       "      <td>high.school</td>\n",
       "      <td>no</td>\n",
       "      <td>telephone</td>\n",
       "      <td>may</td>\n",
       "      <td>mon</td>\n",
       "      <td>-0.566106</td>\n",
       "      <td>0</td>\n",
       "      <td>Working adult</td>\n",
       "      <td>-1.320113</td>\n",
       "      <td>0.688198</td>\n",
       "      <td>0.399483</td>\n",
       "    </tr>\n",
       "    <tr>\n",
       "      <th>19</th>\n",
       "      <td>55</td>\n",
       "      <td>blue-collar</td>\n",
       "      <td>married</td>\n",
       "      <td>basic</td>\n",
       "      <td>yes</td>\n",
       "      <td>telephone</td>\n",
       "      <td>may</td>\n",
       "      <td>mon</td>\n",
       "      <td>-0.566106</td>\n",
       "      <td>0</td>\n",
       "      <td>Working adult</td>\n",
       "      <td>-1.320113</td>\n",
       "      <td>0.688198</td>\n",
       "      <td>0.399483</td>\n",
       "    </tr>\n",
       "    <tr>\n",
       "      <th>20</th>\n",
       "      <td>55</td>\n",
       "      <td>retired</td>\n",
       "      <td>single</td>\n",
       "      <td>high.school</td>\n",
       "      <td>yes</td>\n",
       "      <td>telephone</td>\n",
       "      <td>may</td>\n",
       "      <td>mon</td>\n",
       "      <td>-0.566106</td>\n",
       "      <td>0</td>\n",
       "      <td>Working adult</td>\n",
       "      <td>-1.320113</td>\n",
       "      <td>0.688198</td>\n",
       "      <td>0.399483</td>\n",
       "    </tr>\n",
       "    <tr>\n",
       "      <th>21</th>\n",
       "      <td>41</td>\n",
       "      <td>technician</td>\n",
       "      <td>single</td>\n",
       "      <td>high.school</td>\n",
       "      <td>yes</td>\n",
       "      <td>telephone</td>\n",
       "      <td>may</td>\n",
       "      <td>mon</td>\n",
       "      <td>-0.566106</td>\n",
       "      <td>0</td>\n",
       "      <td>Working adult</td>\n",
       "      <td>-1.320113</td>\n",
       "      <td>0.688198</td>\n",
       "      <td>0.399483</td>\n",
       "    </tr>\n",
       "    <tr>\n",
       "      <th>22</th>\n",
       "      <td>37</td>\n",
       "      <td>admin.</td>\n",
       "      <td>married</td>\n",
       "      <td>high.school</td>\n",
       "      <td>yes</td>\n",
       "      <td>telephone</td>\n",
       "      <td>may</td>\n",
       "      <td>mon</td>\n",
       "      <td>-0.566106</td>\n",
       "      <td>0</td>\n",
       "      <td>Working adult</td>\n",
       "      <td>-1.320113</td>\n",
       "      <td>0.688198</td>\n",
       "      <td>0.399483</td>\n",
       "    </tr>\n",
       "    <tr>\n",
       "      <th>23</th>\n",
       "      <td>35</td>\n",
       "      <td>technician</td>\n",
       "      <td>married</td>\n",
       "      <td>university.degree</td>\n",
       "      <td>no</td>\n",
       "      <td>telephone</td>\n",
       "      <td>may</td>\n",
       "      <td>mon</td>\n",
       "      <td>-0.566106</td>\n",
       "      <td>0</td>\n",
       "      <td>Working adult</td>\n",
       "      <td>-1.320113</td>\n",
       "      <td>0.688198</td>\n",
       "      <td>0.399483</td>\n",
       "    </tr>\n",
       "    <tr>\n",
       "      <th>24</th>\n",
       "      <td>39</td>\n",
       "      <td>self-employed</td>\n",
       "      <td>married</td>\n",
       "      <td>basic</td>\n",
       "      <td>no</td>\n",
       "      <td>telephone</td>\n",
       "      <td>may</td>\n",
       "      <td>mon</td>\n",
       "      <td>-0.566106</td>\n",
       "      <td>0</td>\n",
       "      <td>Working adult</td>\n",
       "      <td>-1.320113</td>\n",
       "      <td>0.688198</td>\n",
       "      <td>0.399483</td>\n",
       "    </tr>\n",
       "    <tr>\n",
       "      <th>25</th>\n",
       "      <td>54</td>\n",
       "      <td>technician</td>\n",
       "      <td>single</td>\n",
       "      <td>university.degree</td>\n",
       "      <td>no</td>\n",
       "      <td>telephone</td>\n",
       "      <td>may</td>\n",
       "      <td>mon</td>\n",
       "      <td>-0.204761</td>\n",
       "      <td>0</td>\n",
       "      <td>Working adult</td>\n",
       "      <td>-1.320113</td>\n",
       "      <td>0.688198</td>\n",
       "      <td>0.399483</td>\n",
       "    </tr>\n",
       "    <tr>\n",
       "      <th>26</th>\n",
       "      <td>54</td>\n",
       "      <td>management</td>\n",
       "      <td>married</td>\n",
       "      <td>basic</td>\n",
       "      <td>yes</td>\n",
       "      <td>telephone</td>\n",
       "      <td>may</td>\n",
       "      <td>mon</td>\n",
       "      <td>-0.566106</td>\n",
       "      <td>0</td>\n",
       "      <td>Working adult</td>\n",
       "      <td>-1.320113</td>\n",
       "      <td>0.688198</td>\n",
       "      <td>0.399483</td>\n",
       "    </tr>\n",
       "    <tr>\n",
       "      <th>27</th>\n",
       "      <td>54</td>\n",
       "      <td>blue-collar</td>\n",
       "      <td>divorced</td>\n",
       "      <td>basic</td>\n",
       "      <td>no</td>\n",
       "      <td>telephone</td>\n",
       "      <td>may</td>\n",
       "      <td>mon</td>\n",
       "      <td>-0.566106</td>\n",
       "      <td>0</td>\n",
       "      <td>Working adult</td>\n",
       "      <td>-1.320113</td>\n",
       "      <td>0.688198</td>\n",
       "      <td>0.399483</td>\n",
       "    </tr>\n",
       "    <tr>\n",
       "      <th>28</th>\n",
       "      <td>34</td>\n",
       "      <td>services</td>\n",
       "      <td>married</td>\n",
       "      <td>high.school</td>\n",
       "      <td>no</td>\n",
       "      <td>telephone</td>\n",
       "      <td>may</td>\n",
       "      <td>mon</td>\n",
       "      <td>-0.566106</td>\n",
       "      <td>0</td>\n",
       "      <td>Working adult</td>\n",
       "      <td>-1.320113</td>\n",
       "      <td>0.688198</td>\n",
       "      <td>0.399483</td>\n",
       "    </tr>\n",
       "    <tr>\n",
       "      <th>29</th>\n",
       "      <td>52</td>\n",
       "      <td>technician</td>\n",
       "      <td>married</td>\n",
       "      <td>basic</td>\n",
       "      <td>yes</td>\n",
       "      <td>telephone</td>\n",
       "      <td>may</td>\n",
       "      <td>mon</td>\n",
       "      <td>-0.566106</td>\n",
       "      <td>0</td>\n",
       "      <td>Working adult</td>\n",
       "      <td>-1.320113</td>\n",
       "      <td>0.688198</td>\n",
       "      <td>0.399483</td>\n",
       "    </tr>\n",
       "    <tr>\n",
       "      <th>...</th>\n",
       "      <td>...</td>\n",
       "      <td>...</td>\n",
       "      <td>...</td>\n",
       "      <td>...</td>\n",
       "      <td>...</td>\n",
       "      <td>...</td>\n",
       "      <td>...</td>\n",
       "      <td>...</td>\n",
       "      <td>...</td>\n",
       "      <td>...</td>\n",
       "      <td>...</td>\n",
       "      <td>...</td>\n",
       "      <td>...</td>\n",
       "      <td>...</td>\n",
       "    </tr>\n",
       "    <tr>\n",
       "      <th>38215</th>\n",
       "      <td>31</td>\n",
       "      <td>housemaid</td>\n",
       "      <td>single</td>\n",
       "      <td>university.degree</td>\n",
       "      <td>no</td>\n",
       "      <td>cellular</td>\n",
       "      <td>nov</td>\n",
       "      <td>mon</td>\n",
       "      <td>0.517930</td>\n",
       "      <td>0</td>\n",
       "      <td>Working adult</td>\n",
       "      <td>2.029025</td>\n",
       "      <td>-2.306351</td>\n",
       "      <td>3.217342</td>\n",
       "    </tr>\n",
       "    <tr>\n",
       "      <th>38216</th>\n",
       "      <td>35</td>\n",
       "      <td>technician</td>\n",
       "      <td>divorced</td>\n",
       "      <td>basic</td>\n",
       "      <td>no</td>\n",
       "      <td>cellular</td>\n",
       "      <td>nov</td>\n",
       "      <td>tue</td>\n",
       "      <td>-0.566106</td>\n",
       "      <td>1</td>\n",
       "      <td>Working adult</td>\n",
       "      <td>2.030248</td>\n",
       "      <td>-2.306454</td>\n",
       "      <td>3.217763</td>\n",
       "    </tr>\n",
       "    <tr>\n",
       "      <th>38217</th>\n",
       "      <td>35</td>\n",
       "      <td>technician</td>\n",
       "      <td>divorced</td>\n",
       "      <td>basic</td>\n",
       "      <td>yes</td>\n",
       "      <td>cellular</td>\n",
       "      <td>nov</td>\n",
       "      <td>tue</td>\n",
       "      <td>-0.566106</td>\n",
       "      <td>1</td>\n",
       "      <td>Working adult</td>\n",
       "      <td>2.030248</td>\n",
       "      <td>-2.306454</td>\n",
       "      <td>3.217763</td>\n",
       "    </tr>\n",
       "    <tr>\n",
       "      <th>38218</th>\n",
       "      <td>33</td>\n",
       "      <td>admin.</td>\n",
       "      <td>married</td>\n",
       "      <td>university.degree</td>\n",
       "      <td>no</td>\n",
       "      <td>cellular</td>\n",
       "      <td>nov</td>\n",
       "      <td>tue</td>\n",
       "      <td>-0.566106</td>\n",
       "      <td>1</td>\n",
       "      <td>Working adult</td>\n",
       "      <td>2.030248</td>\n",
       "      <td>-2.306454</td>\n",
       "      <td>3.217763</td>\n",
       "    </tr>\n",
       "    <tr>\n",
       "      <th>38219</th>\n",
       "      <td>33</td>\n",
       "      <td>admin.</td>\n",
       "      <td>married</td>\n",
       "      <td>university.degree</td>\n",
       "      <td>yes</td>\n",
       "      <td>cellular</td>\n",
       "      <td>nov</td>\n",
       "      <td>tue</td>\n",
       "      <td>-0.566106</td>\n",
       "      <td>0</td>\n",
       "      <td>Working adult</td>\n",
       "      <td>2.030248</td>\n",
       "      <td>-2.306454</td>\n",
       "      <td>3.217763</td>\n",
       "    </tr>\n",
       "    <tr>\n",
       "      <th>38220</th>\n",
       "      <td>60</td>\n",
       "      <td>blue-collar</td>\n",
       "      <td>married</td>\n",
       "      <td>basic</td>\n",
       "      <td>yes</td>\n",
       "      <td>cellular</td>\n",
       "      <td>nov</td>\n",
       "      <td>tue</td>\n",
       "      <td>-0.204761</td>\n",
       "      <td>0</td>\n",
       "      <td>Post-retirement</td>\n",
       "      <td>2.030248</td>\n",
       "      <td>-2.306454</td>\n",
       "      <td>3.217763</td>\n",
       "    </tr>\n",
       "    <tr>\n",
       "      <th>38221</th>\n",
       "      <td>35</td>\n",
       "      <td>technician</td>\n",
       "      <td>divorced</td>\n",
       "      <td>basic</td>\n",
       "      <td>yes</td>\n",
       "      <td>cellular</td>\n",
       "      <td>nov</td>\n",
       "      <td>tue</td>\n",
       "      <td>0.156584</td>\n",
       "      <td>1</td>\n",
       "      <td>Working adult</td>\n",
       "      <td>2.030248</td>\n",
       "      <td>-2.306454</td>\n",
       "      <td>3.217763</td>\n",
       "    </tr>\n",
       "    <tr>\n",
       "      <th>38222</th>\n",
       "      <td>54</td>\n",
       "      <td>admin.</td>\n",
       "      <td>married</td>\n",
       "      <td>professional.course</td>\n",
       "      <td>no</td>\n",
       "      <td>cellular</td>\n",
       "      <td>nov</td>\n",
       "      <td>tue</td>\n",
       "      <td>-0.204761</td>\n",
       "      <td>1</td>\n",
       "      <td>Working adult</td>\n",
       "      <td>2.030248</td>\n",
       "      <td>-2.306454</td>\n",
       "      <td>3.217763</td>\n",
       "    </tr>\n",
       "    <tr>\n",
       "      <th>38223</th>\n",
       "      <td>38</td>\n",
       "      <td>housemaid</td>\n",
       "      <td>divorced</td>\n",
       "      <td>university.degree</td>\n",
       "      <td>no</td>\n",
       "      <td>cellular</td>\n",
       "      <td>nov</td>\n",
       "      <td>wed</td>\n",
       "      <td>-0.204761</td>\n",
       "      <td>1</td>\n",
       "      <td>Working adult</td>\n",
       "      <td>2.031777</td>\n",
       "      <td>-2.306583</td>\n",
       "      <td>3.218289</td>\n",
       "    </tr>\n",
       "    <tr>\n",
       "      <th>38224</th>\n",
       "      <td>32</td>\n",
       "      <td>admin.</td>\n",
       "      <td>married</td>\n",
       "      <td>university.degree</td>\n",
       "      <td>no</td>\n",
       "      <td>telephone</td>\n",
       "      <td>nov</td>\n",
       "      <td>wed</td>\n",
       "      <td>-0.566106</td>\n",
       "      <td>1</td>\n",
       "      <td>Working adult</td>\n",
       "      <td>2.031777</td>\n",
       "      <td>-2.306583</td>\n",
       "      <td>3.218289</td>\n",
       "    </tr>\n",
       "    <tr>\n",
       "      <th>38225</th>\n",
       "      <td>32</td>\n",
       "      <td>admin.</td>\n",
       "      <td>married</td>\n",
       "      <td>university.degree</td>\n",
       "      <td>yes</td>\n",
       "      <td>cellular</td>\n",
       "      <td>nov</td>\n",
       "      <td>wed</td>\n",
       "      <td>0.156584</td>\n",
       "      <td>0</td>\n",
       "      <td>Working adult</td>\n",
       "      <td>2.031777</td>\n",
       "      <td>-2.306583</td>\n",
       "      <td>3.218289</td>\n",
       "    </tr>\n",
       "    <tr>\n",
       "      <th>38226</th>\n",
       "      <td>38</td>\n",
       "      <td>entrepreneur</td>\n",
       "      <td>married</td>\n",
       "      <td>university.degree</td>\n",
       "      <td>no</td>\n",
       "      <td>cellular</td>\n",
       "      <td>nov</td>\n",
       "      <td>wed</td>\n",
       "      <td>-0.204761</td>\n",
       "      <td>0</td>\n",
       "      <td>Working adult</td>\n",
       "      <td>2.031777</td>\n",
       "      <td>-2.306583</td>\n",
       "      <td>3.218289</td>\n",
       "    </tr>\n",
       "    <tr>\n",
       "      <th>38227</th>\n",
       "      <td>62</td>\n",
       "      <td>services</td>\n",
       "      <td>married</td>\n",
       "      <td>high.school</td>\n",
       "      <td>yes</td>\n",
       "      <td>cellular</td>\n",
       "      <td>nov</td>\n",
       "      <td>wed</td>\n",
       "      <td>0.879275</td>\n",
       "      <td>0</td>\n",
       "      <td>Post-retirement</td>\n",
       "      <td>2.031777</td>\n",
       "      <td>-2.306583</td>\n",
       "      <td>3.218289</td>\n",
       "    </tr>\n",
       "    <tr>\n",
       "      <th>38228</th>\n",
       "      <td>40</td>\n",
       "      <td>management</td>\n",
       "      <td>divorced</td>\n",
       "      <td>university.degree</td>\n",
       "      <td>yes</td>\n",
       "      <td>cellular</td>\n",
       "      <td>nov</td>\n",
       "      <td>wed</td>\n",
       "      <td>-0.204761</td>\n",
       "      <td>0</td>\n",
       "      <td>Working adult</td>\n",
       "      <td>2.031777</td>\n",
       "      <td>-2.306583</td>\n",
       "      <td>3.218289</td>\n",
       "    </tr>\n",
       "    <tr>\n",
       "      <th>38229</th>\n",
       "      <td>33</td>\n",
       "      <td>student</td>\n",
       "      <td>married</td>\n",
       "      <td>professional.course</td>\n",
       "      <td>yes</td>\n",
       "      <td>telephone</td>\n",
       "      <td>nov</td>\n",
       "      <td>thu</td>\n",
       "      <td>-0.566106</td>\n",
       "      <td>1</td>\n",
       "      <td>Working adult</td>\n",
       "      <td>2.031471</td>\n",
       "      <td>-2.306557</td>\n",
       "      <td>3.218184</td>\n",
       "    </tr>\n",
       "    <tr>\n",
       "      <th>38230</th>\n",
       "      <td>31</td>\n",
       "      <td>admin.</td>\n",
       "      <td>single</td>\n",
       "      <td>university.degree</td>\n",
       "      <td>yes</td>\n",
       "      <td>cellular</td>\n",
       "      <td>nov</td>\n",
       "      <td>thu</td>\n",
       "      <td>-0.566106</td>\n",
       "      <td>1</td>\n",
       "      <td>Working adult</td>\n",
       "      <td>2.031471</td>\n",
       "      <td>-2.306557</td>\n",
       "      <td>3.218184</td>\n",
       "    </tr>\n",
       "    <tr>\n",
       "      <th>38231</th>\n",
       "      <td>62</td>\n",
       "      <td>retired</td>\n",
       "      <td>married</td>\n",
       "      <td>university.degree</td>\n",
       "      <td>yes</td>\n",
       "      <td>cellular</td>\n",
       "      <td>nov</td>\n",
       "      <td>thu</td>\n",
       "      <td>-0.566106</td>\n",
       "      <td>1</td>\n",
       "      <td>Post-retirement</td>\n",
       "      <td>2.031471</td>\n",
       "      <td>-2.306557</td>\n",
       "      <td>3.218184</td>\n",
       "    </tr>\n",
       "    <tr>\n",
       "      <th>38232</th>\n",
       "      <td>62</td>\n",
       "      <td>retired</td>\n",
       "      <td>married</td>\n",
       "      <td>university.degree</td>\n",
       "      <td>yes</td>\n",
       "      <td>cellular</td>\n",
       "      <td>nov</td>\n",
       "      <td>thu</td>\n",
       "      <td>-0.566106</td>\n",
       "      <td>1</td>\n",
       "      <td>Post-retirement</td>\n",
       "      <td>2.031471</td>\n",
       "      <td>-2.306557</td>\n",
       "      <td>3.218184</td>\n",
       "    </tr>\n",
       "    <tr>\n",
       "      <th>38233</th>\n",
       "      <td>38</td>\n",
       "      <td>housemaid</td>\n",
       "      <td>divorced</td>\n",
       "      <td>high.school</td>\n",
       "      <td>yes</td>\n",
       "      <td>cellular</td>\n",
       "      <td>nov</td>\n",
       "      <td>thu</td>\n",
       "      <td>-0.566106</td>\n",
       "      <td>0</td>\n",
       "      <td>Working adult</td>\n",
       "      <td>2.031471</td>\n",
       "      <td>-2.306557</td>\n",
       "      <td>3.218184</td>\n",
       "    </tr>\n",
       "    <tr>\n",
       "      <th>38234</th>\n",
       "      <td>57</td>\n",
       "      <td>retired</td>\n",
       "      <td>married</td>\n",
       "      <td>professional.course</td>\n",
       "      <td>yes</td>\n",
       "      <td>cellular</td>\n",
       "      <td>nov</td>\n",
       "      <td>thu</td>\n",
       "      <td>1.240620</td>\n",
       "      <td>0</td>\n",
       "      <td>Working adult</td>\n",
       "      <td>2.031471</td>\n",
       "      <td>-2.306557</td>\n",
       "      <td>3.218184</td>\n",
       "    </tr>\n",
       "    <tr>\n",
       "      <th>38235</th>\n",
       "      <td>62</td>\n",
       "      <td>retired</td>\n",
       "      <td>married</td>\n",
       "      <td>university.degree</td>\n",
       "      <td>no</td>\n",
       "      <td>cellular</td>\n",
       "      <td>nov</td>\n",
       "      <td>thu</td>\n",
       "      <td>-0.204761</td>\n",
       "      <td>1</td>\n",
       "      <td>Post-retirement</td>\n",
       "      <td>2.031471</td>\n",
       "      <td>-2.306557</td>\n",
       "      <td>3.218184</td>\n",
       "    </tr>\n",
       "    <tr>\n",
       "      <th>38236</th>\n",
       "      <td>64</td>\n",
       "      <td>retired</td>\n",
       "      <td>divorced</td>\n",
       "      <td>professional.course</td>\n",
       "      <td>yes</td>\n",
       "      <td>cellular</td>\n",
       "      <td>nov</td>\n",
       "      <td>fri</td>\n",
       "      <td>0.156584</td>\n",
       "      <td>0</td>\n",
       "      <td>Post-retirement</td>\n",
       "      <td>2.032388</td>\n",
       "      <td>-2.306634</td>\n",
       "      <td>3.218499</td>\n",
       "    </tr>\n",
       "    <tr>\n",
       "      <th>38237</th>\n",
       "      <td>36</td>\n",
       "      <td>admin.</td>\n",
       "      <td>married</td>\n",
       "      <td>university.degree</td>\n",
       "      <td>no</td>\n",
       "      <td>cellular</td>\n",
       "      <td>nov</td>\n",
       "      <td>fri</td>\n",
       "      <td>-0.204761</td>\n",
       "      <td>0</td>\n",
       "      <td>Working adult</td>\n",
       "      <td>2.032388</td>\n",
       "      <td>-2.306634</td>\n",
       "      <td>3.218499</td>\n",
       "    </tr>\n",
       "    <tr>\n",
       "      <th>38238</th>\n",
       "      <td>37</td>\n",
       "      <td>admin.</td>\n",
       "      <td>married</td>\n",
       "      <td>university.degree</td>\n",
       "      <td>yes</td>\n",
       "      <td>cellular</td>\n",
       "      <td>nov</td>\n",
       "      <td>fri</td>\n",
       "      <td>-0.566106</td>\n",
       "      <td>1</td>\n",
       "      <td>Working adult</td>\n",
       "      <td>2.032388</td>\n",
       "      <td>-2.306634</td>\n",
       "      <td>3.218499</td>\n",
       "    </tr>\n",
       "    <tr>\n",
       "      <th>38239</th>\n",
       "      <td>29</td>\n",
       "      <td>unemployed</td>\n",
       "      <td>single</td>\n",
       "      <td>basic</td>\n",
       "      <td>yes</td>\n",
       "      <td>cellular</td>\n",
       "      <td>nov</td>\n",
       "      <td>fri</td>\n",
       "      <td>-0.566106</td>\n",
       "      <td>0</td>\n",
       "      <td>Working adult</td>\n",
       "      <td>2.032388</td>\n",
       "      <td>-2.306634</td>\n",
       "      <td>3.218499</td>\n",
       "    </tr>\n",
       "    <tr>\n",
       "      <th>38240</th>\n",
       "      <td>73</td>\n",
       "      <td>retired</td>\n",
       "      <td>married</td>\n",
       "      <td>professional.course</td>\n",
       "      <td>yes</td>\n",
       "      <td>cellular</td>\n",
       "      <td>nov</td>\n",
       "      <td>fri</td>\n",
       "      <td>-0.566106</td>\n",
       "      <td>1</td>\n",
       "      <td>Post-retirement</td>\n",
       "      <td>2.032388</td>\n",
       "      <td>-2.306634</td>\n",
       "      <td>3.218499</td>\n",
       "    </tr>\n",
       "    <tr>\n",
       "      <th>38241</th>\n",
       "      <td>46</td>\n",
       "      <td>blue-collar</td>\n",
       "      <td>married</td>\n",
       "      <td>professional.course</td>\n",
       "      <td>no</td>\n",
       "      <td>cellular</td>\n",
       "      <td>nov</td>\n",
       "      <td>fri</td>\n",
       "      <td>-0.566106</td>\n",
       "      <td>0</td>\n",
       "      <td>Working adult</td>\n",
       "      <td>2.032388</td>\n",
       "      <td>-2.306634</td>\n",
       "      <td>3.218499</td>\n",
       "    </tr>\n",
       "    <tr>\n",
       "      <th>38242</th>\n",
       "      <td>56</td>\n",
       "      <td>retired</td>\n",
       "      <td>married</td>\n",
       "      <td>university.degree</td>\n",
       "      <td>yes</td>\n",
       "      <td>cellular</td>\n",
       "      <td>nov</td>\n",
       "      <td>fri</td>\n",
       "      <td>-0.204761</td>\n",
       "      <td>0</td>\n",
       "      <td>Working adult</td>\n",
       "      <td>2.032388</td>\n",
       "      <td>-2.306634</td>\n",
       "      <td>3.218499</td>\n",
       "    </tr>\n",
       "    <tr>\n",
       "      <th>38243</th>\n",
       "      <td>44</td>\n",
       "      <td>technician</td>\n",
       "      <td>married</td>\n",
       "      <td>professional.course</td>\n",
       "      <td>no</td>\n",
       "      <td>cellular</td>\n",
       "      <td>nov</td>\n",
       "      <td>fri</td>\n",
       "      <td>-0.566106</td>\n",
       "      <td>1</td>\n",
       "      <td>Working adult</td>\n",
       "      <td>2.032388</td>\n",
       "      <td>-2.306634</td>\n",
       "      <td>3.218499</td>\n",
       "    </tr>\n",
       "    <tr>\n",
       "      <th>38244</th>\n",
       "      <td>74</td>\n",
       "      <td>retired</td>\n",
       "      <td>married</td>\n",
       "      <td>professional.course</td>\n",
       "      <td>yes</td>\n",
       "      <td>cellular</td>\n",
       "      <td>nov</td>\n",
       "      <td>fri</td>\n",
       "      <td>0.156584</td>\n",
       "      <td>0</td>\n",
       "      <td>Post-retirement</td>\n",
       "      <td>2.032388</td>\n",
       "      <td>-2.306634</td>\n",
       "      <td>3.218499</td>\n",
       "    </tr>\n",
       "  </tbody>\n",
       "</table>\n",
       "<p>38245 rows × 14 columns</p>\n",
       "</div>"
      ],
      "text/plain": [
       "       age            job   marital            education housing    contact  \\\n",
       "0       56      housemaid   married                basic      no  telephone   \n",
       "1       57       services   married          high.school      no  telephone   \n",
       "2       37       services   married          high.school     yes  telephone   \n",
       "3       40         admin.   married                basic      no  telephone   \n",
       "4       56       services   married          high.school      no  telephone   \n",
       "5       45       services   married                basic      no  telephone   \n",
       "6       59         admin.   married  professional.course      no  telephone   \n",
       "7       24     technician    single  professional.course     yes  telephone   \n",
       "8       25       services    single          high.school     yes  telephone   \n",
       "9       25       services    single          high.school     yes  telephone   \n",
       "10      29    blue-collar    single          high.school      no  telephone   \n",
       "11      57      housemaid  divorced                basic     yes  telephone   \n",
       "12      35    blue-collar   married                basic     yes  telephone   \n",
       "13      54        retired   married                basic     yes  telephone   \n",
       "14      35    blue-collar   married                basic     yes  telephone   \n",
       "15      46    blue-collar   married                basic     yes  telephone   \n",
       "16      50    blue-collar   married                basic     yes  telephone   \n",
       "17      39     management    single                basic      no  telephone   \n",
       "18      30     unemployed   married          high.school      no  telephone   \n",
       "19      55    blue-collar   married                basic     yes  telephone   \n",
       "20      55        retired    single          high.school     yes  telephone   \n",
       "21      41     technician    single          high.school     yes  telephone   \n",
       "22      37         admin.   married          high.school     yes  telephone   \n",
       "23      35     technician   married    university.degree      no  telephone   \n",
       "24      39  self-employed   married                basic      no  telephone   \n",
       "25      54     technician    single    university.degree      no  telephone   \n",
       "26      54     management   married                basic     yes  telephone   \n",
       "27      54    blue-collar  divorced                basic      no  telephone   \n",
       "28      34       services   married          high.school      no  telephone   \n",
       "29      52     technician   married                basic     yes  telephone   \n",
       "...    ...            ...       ...                  ...     ...        ...   \n",
       "38215   31      housemaid    single    university.degree      no   cellular   \n",
       "38216   35     technician  divorced                basic      no   cellular   \n",
       "38217   35     technician  divorced                basic     yes   cellular   \n",
       "38218   33         admin.   married    university.degree      no   cellular   \n",
       "38219   33         admin.   married    university.degree     yes   cellular   \n",
       "38220   60    blue-collar   married                basic     yes   cellular   \n",
       "38221   35     technician  divorced                basic     yes   cellular   \n",
       "38222   54         admin.   married  professional.course      no   cellular   \n",
       "38223   38      housemaid  divorced    university.degree      no   cellular   \n",
       "38224   32         admin.   married    university.degree      no  telephone   \n",
       "38225   32         admin.   married    university.degree     yes   cellular   \n",
       "38226   38   entrepreneur   married    university.degree      no   cellular   \n",
       "38227   62       services   married          high.school     yes   cellular   \n",
       "38228   40     management  divorced    university.degree     yes   cellular   \n",
       "38229   33        student   married  professional.course     yes  telephone   \n",
       "38230   31         admin.    single    university.degree     yes   cellular   \n",
       "38231   62        retired   married    university.degree     yes   cellular   \n",
       "38232   62        retired   married    university.degree     yes   cellular   \n",
       "38233   38      housemaid  divorced          high.school     yes   cellular   \n",
       "38234   57        retired   married  professional.course     yes   cellular   \n",
       "38235   62        retired   married    university.degree      no   cellular   \n",
       "38236   64        retired  divorced  professional.course     yes   cellular   \n",
       "38237   36         admin.   married    university.degree      no   cellular   \n",
       "38238   37         admin.   married    university.degree     yes   cellular   \n",
       "38239   29     unemployed    single                basic     yes   cellular   \n",
       "38240   73        retired   married  professional.course     yes   cellular   \n",
       "38241   46    blue-collar   married  professional.course      no   cellular   \n",
       "38242   56        retired   married    university.degree     yes   cellular   \n",
       "38243   44     technician   married  professional.course      no   cellular   \n",
       "38244   74        retired   married  professional.course     yes   cellular   \n",
       "\n",
       "      month day_of_week  number_calls  outcome     age_category      PCA1  \\\n",
       "0       may         mon     -0.566106        0    Working adult -1.320113   \n",
       "1       may         mon     -0.566106        0    Working adult -1.320113   \n",
       "2       may         mon     -0.566106        0    Working adult -1.320113   \n",
       "3       may         mon     -0.566106        0    Working adult -1.320113   \n",
       "4       may         mon     -0.566106        0    Working adult -1.320113   \n",
       "5       may         mon     -0.566106        0    Working adult -1.320113   \n",
       "6       may         mon     -0.566106        0    Working adult -1.320113   \n",
       "7       may         mon     -0.566106        0      Young adult -1.320113   \n",
       "8       may         mon     -0.566106        0    Working adult -1.320113   \n",
       "9       may         mon     -0.566106        0    Working adult -1.320113   \n",
       "10      may         mon     -0.566106        0    Working adult -1.320113   \n",
       "11      may         mon     -0.566106        0    Working adult -1.320113   \n",
       "12      may         mon     -0.566106        0    Working adult -1.320113   \n",
       "13      may         mon     -0.566106        0    Working adult -1.320113   \n",
       "14      may         mon     -0.566106        0    Working adult -1.320113   \n",
       "15      may         mon     -0.566106        0    Working adult -1.320113   \n",
       "16      may         mon     -0.566106        0    Working adult -1.320113   \n",
       "17      may         mon     -0.566106        0    Working adult -1.320113   \n",
       "18      may         mon     -0.566106        0    Working adult -1.320113   \n",
       "19      may         mon     -0.566106        0    Working adult -1.320113   \n",
       "20      may         mon     -0.566106        0    Working adult -1.320113   \n",
       "21      may         mon     -0.566106        0    Working adult -1.320113   \n",
       "22      may         mon     -0.566106        0    Working adult -1.320113   \n",
       "23      may         mon     -0.566106        0    Working adult -1.320113   \n",
       "24      may         mon     -0.566106        0    Working adult -1.320113   \n",
       "25      may         mon     -0.204761        0    Working adult -1.320113   \n",
       "26      may         mon     -0.566106        0    Working adult -1.320113   \n",
       "27      may         mon     -0.566106        0    Working adult -1.320113   \n",
       "28      may         mon     -0.566106        0    Working adult -1.320113   \n",
       "29      may         mon     -0.566106        0    Working adult -1.320113   \n",
       "...     ...         ...           ...      ...              ...       ...   \n",
       "38215   nov         mon      0.517930        0    Working adult  2.029025   \n",
       "38216   nov         tue     -0.566106        1    Working adult  2.030248   \n",
       "38217   nov         tue     -0.566106        1    Working adult  2.030248   \n",
       "38218   nov         tue     -0.566106        1    Working adult  2.030248   \n",
       "38219   nov         tue     -0.566106        0    Working adult  2.030248   \n",
       "38220   nov         tue     -0.204761        0  Post-retirement  2.030248   \n",
       "38221   nov         tue      0.156584        1    Working adult  2.030248   \n",
       "38222   nov         tue     -0.204761        1    Working adult  2.030248   \n",
       "38223   nov         wed     -0.204761        1    Working adult  2.031777   \n",
       "38224   nov         wed     -0.566106        1    Working adult  2.031777   \n",
       "38225   nov         wed      0.156584        0    Working adult  2.031777   \n",
       "38226   nov         wed     -0.204761        0    Working adult  2.031777   \n",
       "38227   nov         wed      0.879275        0  Post-retirement  2.031777   \n",
       "38228   nov         wed     -0.204761        0    Working adult  2.031777   \n",
       "38229   nov         thu     -0.566106        1    Working adult  2.031471   \n",
       "38230   nov         thu     -0.566106        1    Working adult  2.031471   \n",
       "38231   nov         thu     -0.566106        1  Post-retirement  2.031471   \n",
       "38232   nov         thu     -0.566106        1  Post-retirement  2.031471   \n",
       "38233   nov         thu     -0.566106        0    Working adult  2.031471   \n",
       "38234   nov         thu      1.240620        0    Working adult  2.031471   \n",
       "38235   nov         thu     -0.204761        1  Post-retirement  2.031471   \n",
       "38236   nov         fri      0.156584        0  Post-retirement  2.032388   \n",
       "38237   nov         fri     -0.204761        0    Working adult  2.032388   \n",
       "38238   nov         fri     -0.566106        1    Working adult  2.032388   \n",
       "38239   nov         fri     -0.566106        0    Working adult  2.032388   \n",
       "38240   nov         fri     -0.566106        1  Post-retirement  2.032388   \n",
       "38241   nov         fri     -0.566106        0    Working adult  2.032388   \n",
       "38242   nov         fri     -0.204761        0    Working adult  2.032388   \n",
       "38243   nov         fri     -0.566106        1    Working adult  2.032388   \n",
       "38244   nov         fri      0.156584        0  Post-retirement  2.032388   \n",
       "\n",
       "           PCA2      PCA3  \n",
       "0      0.688198  0.399483  \n",
       "1      0.688198  0.399483  \n",
       "2      0.688198  0.399483  \n",
       "3      0.688198  0.399483  \n",
       "4      0.688198  0.399483  \n",
       "5      0.688198  0.399483  \n",
       "6      0.688198  0.399483  \n",
       "7      0.688198  0.399483  \n",
       "8      0.688198  0.399483  \n",
       "9      0.688198  0.399483  \n",
       "10     0.688198  0.399483  \n",
       "11     0.688198  0.399483  \n",
       "12     0.688198  0.399483  \n",
       "13     0.688198  0.399483  \n",
       "14     0.688198  0.399483  \n",
       "15     0.688198  0.399483  \n",
       "16     0.688198  0.399483  \n",
       "17     0.688198  0.399483  \n",
       "18     0.688198  0.399483  \n",
       "19     0.688198  0.399483  \n",
       "20     0.688198  0.399483  \n",
       "21     0.688198  0.399483  \n",
       "22     0.688198  0.399483  \n",
       "23     0.688198  0.399483  \n",
       "24     0.688198  0.399483  \n",
       "25     0.688198  0.399483  \n",
       "26     0.688198  0.399483  \n",
       "27     0.688198  0.399483  \n",
       "28     0.688198  0.399483  \n",
       "29     0.688198  0.399483  \n",
       "...         ...       ...  \n",
       "38215 -2.306351  3.217342  \n",
       "38216 -2.306454  3.217763  \n",
       "38217 -2.306454  3.217763  \n",
       "38218 -2.306454  3.217763  \n",
       "38219 -2.306454  3.217763  \n",
       "38220 -2.306454  3.217763  \n",
       "38221 -2.306454  3.217763  \n",
       "38222 -2.306454  3.217763  \n",
       "38223 -2.306583  3.218289  \n",
       "38224 -2.306583  3.218289  \n",
       "38225 -2.306583  3.218289  \n",
       "38226 -2.306583  3.218289  \n",
       "38227 -2.306583  3.218289  \n",
       "38228 -2.306583  3.218289  \n",
       "38229 -2.306557  3.218184  \n",
       "38230 -2.306557  3.218184  \n",
       "38231 -2.306557  3.218184  \n",
       "38232 -2.306557  3.218184  \n",
       "38233 -2.306557  3.218184  \n",
       "38234 -2.306557  3.218184  \n",
       "38235 -2.306557  3.218184  \n",
       "38236 -2.306634  3.218499  \n",
       "38237 -2.306634  3.218499  \n",
       "38238 -2.306634  3.218499  \n",
       "38239 -2.306634  3.218499  \n",
       "38240 -2.306634  3.218499  \n",
       "38241 -2.306634  3.218499  \n",
       "38242 -2.306634  3.218499  \n",
       "38243 -2.306634  3.218499  \n",
       "38244 -2.306634  3.218499  \n",
       "\n",
       "[38245 rows x 14 columns]"
      ]
     },
     "execution_count": 65,
     "metadata": {},
     "output_type": "execute_result"
    }
   ],
   "source": [
    "# Merging macro-economic PCA components with remaining bank dataset\n",
    "bank_final = bank_final.merge(bank_pca_df,how='inner',left_index = True,right_index = True)\n",
    "bank_final"
   ]
  },
  {
   "cell_type": "markdown",
   "metadata": {},
   "source": [
    "### Creating dummy variables & Final Dataset"
   ]
  },
  {
   "cell_type": "code",
   "execution_count": 66,
   "metadata": {
    "collapsed": false
   },
   "outputs": [
    {
     "data": {
      "text/html": [
       "<div>\n",
       "<style>\n",
       "    .dataframe thead tr:only-child th {\n",
       "        text-align: right;\n",
       "    }\n",
       "\n",
       "    .dataframe thead th {\n",
       "        text-align: left;\n",
       "    }\n",
       "\n",
       "    .dataframe tbody tr th {\n",
       "        vertical-align: top;\n",
       "    }\n",
       "</style>\n",
       "<table border=\"1\" class=\"dataframe\">\n",
       "  <thead>\n",
       "    <tr style=\"text-align: right;\">\n",
       "      <th></th>\n",
       "      <th>number_calls</th>\n",
       "      <th>PCA1</th>\n",
       "      <th>PCA2</th>\n",
       "      <th>PCA3</th>\n",
       "      <th>job_blue-collar</th>\n",
       "      <th>job_entrepreneur</th>\n",
       "      <th>job_housemaid</th>\n",
       "      <th>job_management</th>\n",
       "      <th>job_retired</th>\n",
       "      <th>job_self-employed</th>\n",
       "      <th>...</th>\n",
       "      <th>month_may</th>\n",
       "      <th>month_nov</th>\n",
       "      <th>month_oct</th>\n",
       "      <th>month_sep</th>\n",
       "      <th>day_of_week_mon</th>\n",
       "      <th>day_of_week_thu</th>\n",
       "      <th>day_of_week_tue</th>\n",
       "      <th>day_of_week_wed</th>\n",
       "      <th>age_category_Working adult</th>\n",
       "      <th>age_category_Young adult</th>\n",
       "    </tr>\n",
       "  </thead>\n",
       "  <tbody>\n",
       "    <tr>\n",
       "      <th>0</th>\n",
       "      <td>-0.566106</td>\n",
       "      <td>-1.320113</td>\n",
       "      <td>0.688198</td>\n",
       "      <td>0.399483</td>\n",
       "      <td>0</td>\n",
       "      <td>0</td>\n",
       "      <td>1</td>\n",
       "      <td>0</td>\n",
       "      <td>0</td>\n",
       "      <td>0</td>\n",
       "      <td>...</td>\n",
       "      <td>1</td>\n",
       "      <td>0</td>\n",
       "      <td>0</td>\n",
       "      <td>0</td>\n",
       "      <td>1</td>\n",
       "      <td>0</td>\n",
       "      <td>0</td>\n",
       "      <td>0</td>\n",
       "      <td>1</td>\n",
       "      <td>0</td>\n",
       "    </tr>\n",
       "  </tbody>\n",
       "</table>\n",
       "<p>1 rows × 37 columns</p>\n",
       "</div>"
      ],
      "text/plain": [
       "   number_calls      PCA1      PCA2      PCA3  job_blue-collar  \\\n",
       "0     -0.566106 -1.320113  0.688198  0.399483                0   \n",
       "\n",
       "   job_entrepreneur  job_housemaid  job_management  job_retired  \\\n",
       "0                 0              1               0            0   \n",
       "\n",
       "   job_self-employed            ...             month_may  month_nov  \\\n",
       "0                  0            ...                     1          0   \n",
       "\n",
       "   month_oct  month_sep  day_of_week_mon  day_of_week_thu  day_of_week_tue  \\\n",
       "0          0          0                1                0                0   \n",
       "\n",
       "   day_of_week_wed  age_category_Working adult  age_category_Young adult  \n",
       "0                0                           1                         0  \n",
       "\n",
       "[1 rows x 37 columns]"
      ]
     },
     "execution_count": 66,
     "metadata": {},
     "output_type": "execute_result"
    }
   ],
   "source": [
    "# Final set of dependent variables\n",
    "bank_x = bank_final.drop(['outcome','age'],axis=1)\n",
    "\n",
    "#Independent variable\n",
    "bank_y = bank['outcome']\n",
    "\n",
    "#Creating dummies for all categorical dependent variables\n",
    "bank_x = pd.get_dummies(bank_x,drop_first= True)\n",
    "bank_x.head(1)"
   ]
  },
  {
   "cell_type": "code",
   "execution_count": 67,
   "metadata": {
    "collapsed": false
   },
   "outputs": [],
   "source": [
    "#Resetting bank_y's index\n",
    "bank_y.index=range(len(bank_y))\n",
    "# Converting list to DataFrame for future usage\n",
    "bank_y = pd.DataFrame(bank_y)"
   ]
  },
  {
   "cell_type": "code",
   "execution_count": 68,
   "metadata": {
    "collapsed": false
   },
   "outputs": [
    {
     "data": {
      "text/plain": [
       "Index(['number_calls', 'PCA1', 'PCA2', 'PCA3', 'job_blue-collar',\n",
       "       'job_entrepreneur', 'job_housemaid', 'job_management', 'job_retired',\n",
       "       'job_self-employed', 'job_services', 'job_student', 'job_technician',\n",
       "       'job_unemployed', 'marital_married', 'marital_single',\n",
       "       'education_high.school', 'education_illiterate',\n",
       "       'education_professional.course', 'education_university.degree',\n",
       "       'housing_yes', 'contact_telephone', 'month_aug', 'month_dec',\n",
       "       'month_jul', 'month_jun', 'month_mar', 'month_may', 'month_nov',\n",
       "       'month_oct', 'month_sep', 'day_of_week_mon', 'day_of_week_thu',\n",
       "       'day_of_week_tue', 'day_of_week_wed', 'age_category_Working adult',\n",
       "       'age_category_Young adult', 'outcome'],\n",
       "      dtype='object')"
      ]
     },
     "execution_count": 68,
     "metadata": {},
     "output_type": "execute_result"
    }
   ],
   "source": [
    "bank_xy = bank_x.merge(bank_y,how='inner',left_index = True,right_index = True)\n",
    "bank_xy.columns"
   ]
  },
  {
   "cell_type": "markdown",
   "metadata": {},
   "source": [
    "Now that we are ready with our final dataset, it is time to apply machine learning algorithmns to achieve final outcomes. Models parameters need to be selected carefully to ensure maximum profitability is achieved. \n",
    "\n",
    "Multiple algorithmns will be tested and a model with highest profitability along with the ROC score will be shortlisted. Following classification algorithmns will be tested on the final dataset:\n",
    "1) Logistic regression\n",
    "2) Support Vector Machines\n",
    "3) Random Forests"
   ]
  },
  {
   "cell_type": "markdown",
   "metadata": {},
   "source": [
    "## Test Train Validate datasets"
   ]
  },
  {
   "cell_type": "code",
   "execution_count": 70,
   "metadata": {
    "collapsed": false
   },
   "outputs": [],
   "source": [
    "# Introducing intercept term into the dataset for logistic regression\n",
    "bank_xy['intercept'] = 1"
   ]
  },
  {
   "cell_type": "code",
   "execution_count": 71,
   "metadata": {
    "collapsed": false
   },
   "outputs": [
    {
     "name": "stderr",
     "output_type": "stream",
     "text": [
      "/Users/Bunny/anaconda3/lib/python3.6/site-packages/sklearn/cross_validation.py:44: DeprecationWarning: This module was deprecated in version 0.18 in favor of the model_selection module into which all the refactored classes and functions are moved. Also note that the interface of the new CV iterators are different from that of this module. This module will be removed in 0.20.\n",
      "  \"This module will be removed in 0.20.\", DeprecationWarning)\n"
     ]
    }
   ],
   "source": [
    "# Importing libraries to perform logistic regression\n",
    "from sklearn.linear_model import LogisticRegression\n",
    "from sklearn.cross_validation import train_test_split\n",
    "from sklearn.metrics import confusion_matrix, f1_score, precision_score, recall_score, roc_auc_score,roc_curve,auc"
   ]
  },
  {
   "cell_type": "code",
   "execution_count": 72,
   "metadata": {
    "collapsed": false
   },
   "outputs": [],
   "source": [
    "# Splitting data into train&Validate and test datasets\n",
    "train_validate_XY,test_XY = train_test_split(bank_xy)\n",
    "\n",
    "# Splitting train&validate into seperate Train and Validate sets\n",
    "train_validate_X = train_validate_XY.drop(['outcome'],axis=1)\n",
    "train_validate_Y = train_validate_XY['outcome']\n",
    "\n",
    "X_train,X_validate,Y_train,Y_validate = train_test_split(train_validate_X,train_validate_Y)\n",
    "\n",
    "# Splitting test set into seperate X and Y sets\n",
    "X_test = test_XY.drop(['outcome'],axis=1)\n",
    "Y_test = test_XY['outcome']"
   ]
  },
  {
   "cell_type": "markdown",
   "metadata": {},
   "source": [
    "Final datasets\n",
    "\n",
    "    1) Train sets - X_train,Y_train \n",
    "    2) Validate sets - X_validate,Y_validate\n",
    "    3) Test sets - X_test,Y_test\n",
    "    4) Train+validate set for sampling purpose - train_validate_XY,train_validate_X,train_validate_Y"
   ]
  },
  {
   "cell_type": "code",
   "execution_count": 73,
   "metadata": {
    "collapsed": false
   },
   "outputs": [
    {
     "data": {
      "text/plain": [
       "0    19088\n",
       "1     2424\n",
       "Name: outcome, dtype: int64"
      ]
     },
     "execution_count": 73,
     "metadata": {},
     "output_type": "execute_result"
    }
   ],
   "source": [
    "Y_train.value_counts()"
   ]
  },
  {
   "cell_type": "code",
   "execution_count": 74,
   "metadata": {
    "collapsed": false
   },
   "outputs": [
    {
     "data": {
      "text/plain": [
       "0    8496\n",
       "1    1066\n",
       "Name: outcome, dtype: int64"
      ]
     },
     "execution_count": 74,
     "metadata": {},
     "output_type": "execute_result"
    }
   ],
   "source": [
    "Y_test.value_counts()"
   ]
  },
  {
   "cell_type": "code",
   "execution_count": 75,
   "metadata": {
    "collapsed": false
   },
   "outputs": [
    {
     "data": {
      "text/plain": [
       "0    6403\n",
       "1     768\n",
       "Name: outcome, dtype: int64"
      ]
     },
     "execution_count": 75,
     "metadata": {},
     "output_type": "execute_result"
    }
   ],
   "source": [
    "Y_validate.value_counts()"
   ]
  },
  {
   "cell_type": "markdown",
   "metadata": {},
   "source": [
    "# Model 1 - Scikit Logistic Regression"
   ]
  },
  {
   "cell_type": "markdown",
   "metadata": {},
   "source": [
    "Baseline performance: \n",
    "* 11.2% has been the conversion rate for this campaign. Out of the total 41188 customers contacted, 4613 of them accepteed the offer and remaining 36575 customers have rejected it. \n",
    "* Profitability:\n",
    "              -> $43*Total converts- $11*Total customers contacted \n",
    "               = $43(4613)-$11(41188)\n",
    "               = $ 198,359 - $ 453,068\n",
    "               = (- $ 254,709) \n",
    "               \n",
    "* Overall, this campaign made a loss of $254,709 hence our goal is not only to obtain profits but also to develop a model that can maximize it."
   ]
  },
  {
   "cell_type": "markdown",
   "metadata": {},
   "source": [
    "### Model 1 A - Performance of Logistic Regression on Original imbalanced Data "
   ]
  },
  {
   "cell_type": "code",
   "execution_count": 76,
   "metadata": {
    "collapsed": true
   },
   "outputs": [],
   "source": [
    "# Creating a function for Logistic regression\n",
    "def test_logistic_regression(X_train, X_validate, Y_train, Y_validate):\n",
    "    Y_train = Y_train.as_matrix()\n",
    "    Y_train = np.ravel(Y_train)\n",
    "    lr = LogisticRegression()\n",
    "    lr.fit(X_train, Y_train)\n",
    "    Y_predict = lr.predict(X_validate)\n",
    "    Y_proba = [x[1] for x in lr.predict_proba(X_validate)]\n",
    "    print ('Scores at default Threshold of 0.5')\n",
    "    print ('f1 score:',format(f1_score(Y_validate, Y_predict)))\n",
    "    print ('precision:',format(precision_score(Y_validate, Y_predict)))\n",
    "    print ('recall:',format(recall_score(Y_validate, Y_predict)))\n",
    "    print ('ROC AUC:',format(roc_auc_score(Y_validate, Y_proba)))\n",
    "    \n",
    "    threshold = np.arange(0.0,1,0.01)\n",
    "    max_profitability = 0\n",
    "    for t in threshold:\n",
    "        Y_predict = 0\n",
    "        Y_predict = np.where(Y_proba >= t ,1,Y_predict)\n",
    "        tn,fp,fn,tp = confusion_matrix(Y_validate,Y_predict).ravel()\n",
    "        principal_amt = 1000\n",
    "        profitability = ((tp*.043*principal_amt))-((tp+fp)*11)\n",
    "        if profitability > max_profitability: \n",
    "            max_profitability = profitability\n",
    "            max_threshold = t\n",
    "\n",
    "        plt.plot(t,profitability,'bo')\n",
    "        plt.xlabel('Logistic Regression Thresholds')\n",
    "        plt.ylabel('Profitability')\n",
    "        plt.grid(True)\n",
    "        \n",
    "    print ('Threshold at which profitability is the highest is:',max_threshold)\n",
    "    print ('Maximum achievable profitability with the model is:',max_profitability)"
   ]
  },
  {
   "cell_type": "markdown",
   "metadata": {},
   "source": [
    "#### Model performance "
   ]
  },
  {
   "cell_type": "code",
   "execution_count": 77,
   "metadata": {
    "collapsed": false
   },
   "outputs": [
    {
     "name": "stdout",
     "output_type": "stream",
     "text": [
      "Scores at default Threshold of 0.5\n",
      "f1 score: 0.2703232125367287\n",
      "precision: 0.5454545454545454\n",
      "recall: 0.1796875\n",
      "ROC AUC: 0.7752540719844865\n",
      "Threshold at which profitability is the highest is: 0.25\n",
      "Maximum achievable profitability with the model is: 7219.0\n"
     ]
    },
    {
     "data": {
      "image/png": "[encoded data removed]",
      "text/plain": [
       "<matplotlib.figure.Figure at 0x105d1abe0>"
      ]
     },
     "metadata": {},
     "output_type": "display_data"
    }
   ],
   "source": [
    "test_logistic_regression(X_train, X_validate, Y_train, Y_validate)"
   ]
  },
  {
   "cell_type": "markdown",
   "metadata": {},
   "source": [
    "#### Regularization on unbalanced LR model & maximum achievable profitability "
   ]
  },
  {
   "cell_type": "code",
   "execution_count": 78,
   "metadata": {
    "collapsed": true
   },
   "outputs": [],
   "source": [
    "def regularization_lr(X_train, X_validate, Y_train, Y_validate):\n",
    "    param_grid = [0.001, 0.1, 1, 10,100]\n",
    "    for param in param_grid:\n",
    "        clf = LogisticRegression(C=param)\n",
    "        clf.fit(X_train,Y_train)\n",
    "        Y_proba = [x[1] for x in clf.predict_proba(X_validate)]\n",
    "        threshold = np.arange(0.0,1.1,0.01)\n",
    "        max_profitability = 0\n",
    "        for t in threshold:\n",
    "            Y_predict = 0\n",
    "            Y_predict = np.where(Y_proba >= t ,1,Y_predict)\n",
    "            tn,fp,fn,tp = confusion_matrix(Y_validate,Y_predict).ravel()\n",
    "            principal_amt = 1000\n",
    "            profitability = ((tp*.043*principal_amt))-((tp+fp)*11)\n",
    "            if profitability > max_profitability: \n",
    "                max_profitability = profitability\n",
    "                max_threshold = t\n",
    "                max_C = param\n",
    "    print ('Regularization coefficient C at which profitability is maximum is:',param)\n",
    "    print ('Threshold at which profitability is the highest is:',max_threshold)\n",
    "    print ('Maximum achievable profitability with the model is:',max_profitability)\n",
    "    print ('ROC AUC:',format(roc_auc_score(Y_validate, Y_proba)))"
   ]
  },
  {
   "cell_type": "code",
   "execution_count": 79,
   "metadata": {
    "collapsed": false
   },
   "outputs": [
    {
     "name": "stdout",
     "output_type": "stream",
     "text": [
      "Regularization coefficient C at which profitability is maximum is: 100\n",
      "Threshold at which profitability is the highest is: 0.25\n",
      "Maximum achievable profitability with the model is: 7230.0\n",
      "ROC AUC: 0.7752617994820137\n"
     ]
    }
   ],
   "source": [
    "regularization_lr(X_train, X_validate, Y_train, Y_validate)"
   ]
  },
  {
   "cell_type": "code",
   "execution_count": 80,
   "metadata": {
    "collapsed": false
   },
   "outputs": [],
   "source": [
    "# Profitability on Test data with regularization\n",
    "def profitability(clf,X_train,X_test,Y_train,Y_test):\n",
    "    #lr = LogisticRegression(C=100)\n",
    "    clf.fit(X_train, Y_train)\n",
    "    Y_predict = clf.predict(X_test)\n",
    "    Y_proba = [x[1] for x in clf.predict_proba(X_test)]\n",
    "    threshold = np.arange(0.0,1,0.01)\n",
    "    max_profitability = 0\n",
    "    for t in threshold:\n",
    "        Y_predict = 0\n",
    "        Y_predict = np.where(Y_proba >= t ,1,Y_predict)\n",
    "        tn,fp,fn,tp = confusion_matrix(Y_test,Y_predict).ravel()\n",
    "        principal_amt = 1000\n",
    "        profitability = ((tp*.043*principal_amt))-((tp+fp)*11)\n",
    "        if profitability > max_profitability: \n",
    "                max_profitability = profitability\n",
    "                max_threshold = t\n",
    "                \n",
    "        plt.plot(t,profitability,'bo')        \n",
    "        plt.xlabel('Probability Thresholds')\n",
    "        plt.ylabel('Profitability')\n",
    "        plt.grid(True)\n",
    "                \n",
    "    print ('Threshold at which profitability is the highest is:',max_threshold)\n",
    "    print ('Maximum achievable profitability with the model is:',max_profitability)\n",
    "    print ('ROC AUC:',format(roc_auc_score(Y_test, Y_proba)))"
   ]
  },
  {
   "cell_type": "code",
   "execution_count": 81,
   "metadata": {
    "collapsed": false
   },
   "outputs": [
    {
     "name": "stdout",
     "output_type": "stream",
     "text": [
      "Threshold at which profitability is the highest is: 0.22\n",
      "Maximum achievable profitability with the model is: 10963.0\n",
      "ROC AUC: 0.7801769864993303\n"
     ]
    },
    {
     "data": {
      "image/png": "[encoded data removed]",
      "text/plain": [
       "<matplotlib.figure.Figure at 0x11649ebe0>"
      ]
     },
     "metadata": {},
     "output_type": "display_data"
    }
   ],
   "source": [
    "profitability(LogisticRegression(C=100),X_train,X_test,Y_train,Y_test)"
   ]
  },
  {
   "cell_type": "markdown",
   "metadata": {},
   "source": [
    "### Model 1 B - Logistic Regression on Resampled data and testing on hold-out test set"
   ]
  },
  {
   "cell_type": "markdown",
   "metadata": {},
   "source": [
    "#### Up-sampling the training dataset"
   ]
  },
  {
   "cell_type": "code",
   "execution_count": 82,
   "metadata": {
    "collapsed": false
   },
   "outputs": [],
   "source": [
    "from sklearn.utils import resample\n",
    "\n",
    "# Splitting majority and minority class sets\n",
    "bank_maj = train_validate_XY[train_validate_XY.outcome==0] # Majority class\n",
    "bank_min = train_validate_XY[train_validate_XY.outcome==1] # Minority class\n",
    "\n",
    "#upsampling minority class \n",
    "bank_min_upsmpl = resample(bank_min, \n",
    "                                 replace=True, # sample with replacement\n",
    "                                 n_samples=len(bank_maj),  # to match majority class size\n",
    "                                 random_state=123) # reproducible results\n",
    "bank_upsmpl = pd.concat([bank_maj, bank_min_upsmpl])\n",
    "upsmpl_y = bank_upsmpl.outcome\n",
    "upsmpl_x = bank_upsmpl.drop('outcome', axis=1)"
   ]
  },
  {
   "cell_type": "markdown",
   "metadata": {},
   "source": [
    "#### Down-sampling the training dataset"
   ]
  },
  {
   "cell_type": "code",
   "execution_count": 83,
   "metadata": {
    "collapsed": false
   },
   "outputs": [],
   "source": [
    "# Splitting majority and minority class sets\n",
    "bank_maj = train_validate_XY[train_validate_XY.outcome==0] # Majority class\n",
    "bank_min = train_validate_XY[train_validate_XY.outcome==1] # Minority class\n",
    "\n",
    "#downsampling majority class\n",
    "bank_maj_downsmpl = resample(bank_maj, \n",
    "                                 replace=False,     # sample without replacement\n",
    "                                 n_samples=len(bank_min),    # to match minority class size\n",
    "                                 random_state=123) # reproducible results\n",
    "bank_downsmpl = pd.concat([bank_min, bank_maj_downsmpl])\n",
    "downsmpl_y = bank_downsmpl.outcome\n",
    "downsmpl_x = bank_downsmpl.drop('outcome', axis=1)"
   ]
  },
  {
   "cell_type": "markdown",
   "metadata": {},
   "source": [
    "#### Regualrization and maximum profitability from upsampling & downsampling data"
   ]
  },
  {
   "cell_type": "code",
   "execution_count": 84,
   "metadata": {
    "collapsed": false
   },
   "outputs": [
    {
     "name": "stdout",
     "output_type": "stream",
     "text": [
      "Threshold at which profitability is the highest is: 0.68\n",
      "Maximum achievable profitability with the model is: 10806.0\n",
      "ROC AUC: 0.7837297012963611\n"
     ]
    },
    {
     "data": {
      "image/png": "[encoded data removed]",
      "text/plain": [
       "<matplotlib.figure.Figure at 0x113aebb00>"
      ]
     },
     "metadata": {},
     "output_type": "display_data"
    }
   ],
   "source": [
    "# Profitabilty with upsampling\n",
    "profitability(LogisticRegression(C=100),upsmpl_x,X_test,upsmpl_y,Y_test)"
   ]
  },
  {
   "cell_type": "code",
   "execution_count": 85,
   "metadata": {
    "collapsed": false
   },
   "outputs": [
    {
     "name": "stdout",
     "output_type": "stream",
     "text": [
      "Threshold at which profitability is the highest is: 0.69\n",
      "Maximum achievable profitability with the model is: 10697.0\n",
      "ROC AUC: 0.7808918135628553\n"
     ]
    },
    {
     "data": {
      "image/png": "[encoded data removed]",
      "text/plain": [
       "<matplotlib.figure.Figure at 0x115b4aac8>"
      ]
     },
     "metadata": {},
     "output_type": "display_data"
    }
   ],
   "source": [
    "# Profitabilty with downsampling\n",
    "profitability(LogisticRegression(C=100),downsmpl_x,X_test,downsmpl_y,Y_test)"
   ]
  },
  {
   "cell_type": "markdown",
   "metadata": {},
   "source": [
    "Dataset rebalancing has not proven to be effective in our business case. There was no improvement in either profitability or ROC AUC."
   ]
  },
  {
   "cell_type": "markdown",
   "metadata": {},
   "source": [
    "## Model 2 - Random Forest Classifier"
   ]
  },
  {
   "cell_type": "code",
   "execution_count": 86,
   "metadata": {
    "collapsed": true
   },
   "outputs": [],
   "source": [
    "# Importing Random Forest Classifier from library\n",
    "from sklearn.ensemble import RandomForestClassifier"
   ]
  },
  {
   "cell_type": "code",
   "execution_count": 87,
   "metadata": {
    "collapsed": true
   },
   "outputs": [],
   "source": [
    "def regularization_rfc(X_train, X_validate, Y_train,Y_validate):\n",
    "    results = pd.DataFrame()\n",
    "    leaf_size = [5,10,50,100]\n",
    "    estimators = [10,50,100]\n",
    "    split_size = [2,5,10]\n",
    "    for leaf in leaf_size:\n",
    "        for estimator in estimators:\n",
    "            for split in split_size:\n",
    "                clf = RandomForestClassifier(min_samples_leaf = leaf,min_samples_split = split, n_estimators = estimator)\n",
    "                clf.fit(X_train,Y_train)\n",
    "                Y_proba = [x[1] for x in clf.predict_proba(X_validate)]\n",
    "                threshold = np.arange(0.0,1.0,0.01)\n",
    "                max_profitability = 0\n",
    "                for t in threshold:\n",
    "                    Y_predict = 0\n",
    "                    Y_predict = np.where(Y_proba >= t ,1,Y_predict)\n",
    "                    tn,fp,fn,tp = confusion_matrix(Y_validate,Y_predict).ravel()\n",
    "                    principal_amt = 1000\n",
    "                    profitability = ((tp*.043*principal_amt))-((tp+fp)*11)\n",
    "                   \n",
    "                    results = results.append({'Threshold':t,'leaf_size': leaf, 'Estimator': estimator, 'split_size': split,'Profitability': profitability},ignore_index = True)\n",
    "    return results.sort_values(by=['Profitability'], ascending=False).head(5)"
   ]
  },
  {
   "cell_type": "code",
   "execution_count": 88,
   "metadata": {
    "collapsed": false,
    "scrolled": true
   },
   "outputs": [
    {
     "data": {
      "text/html": [
       "<div>\n",
       "<style>\n",
       "    .dataframe thead tr:only-child th {\n",
       "        text-align: right;\n",
       "    }\n",
       "\n",
       "    .dataframe thead th {\n",
       "        text-align: left;\n",
       "    }\n",
       "\n",
       "    .dataframe tbody tr th {\n",
       "        vertical-align: top;\n",
       "    }\n",
       "</style>\n",
       "<table border=\"1\" class=\"dataframe\">\n",
       "  <thead>\n",
       "    <tr style=\"text-align: right;\">\n",
       "      <th></th>\n",
       "      <th>Estimator</th>\n",
       "      <th>Profitability</th>\n",
       "      <th>Threshold</th>\n",
       "      <th>leaf_size</th>\n",
       "      <th>split_size</th>\n",
       "    </tr>\n",
       "  </thead>\n",
       "  <tbody>\n",
       "    <tr>\n",
       "      <th>1229</th>\n",
       "      <td>50.0</td>\n",
       "      <td>7283.0</td>\n",
       "      <td>0.29</td>\n",
       "      <td>10.0</td>\n",
       "      <td>2.0</td>\n",
       "    </tr>\n",
       "    <tr>\n",
       "      <th>927</th>\n",
       "      <td>10.0</td>\n",
       "      <td>7269.0</td>\n",
       "      <td>0.27</td>\n",
       "      <td>10.0</td>\n",
       "      <td>2.0</td>\n",
       "    </tr>\n",
       "    <tr>\n",
       "      <th>925</th>\n",
       "      <td>10.0</td>\n",
       "      <td>7268.0</td>\n",
       "      <td>0.25</td>\n",
       "      <td>10.0</td>\n",
       "      <td>2.0</td>\n",
       "    </tr>\n",
       "    <tr>\n",
       "      <th>926</th>\n",
       "      <td>10.0</td>\n",
       "      <td>7251.0</td>\n",
       "      <td>0.26</td>\n",
       "      <td>10.0</td>\n",
       "      <td>2.0</td>\n",
       "    </tr>\n",
       "    <tr>\n",
       "      <th>1230</th>\n",
       "      <td>50.0</td>\n",
       "      <td>7245.0</td>\n",
       "      <td>0.30</td>\n",
       "      <td>10.0</td>\n",
       "      <td>2.0</td>\n",
       "    </tr>\n",
       "  </tbody>\n",
       "</table>\n",
       "</div>"
      ],
      "text/plain": [
       "      Estimator  Profitability  Threshold  leaf_size  split_size\n",
       "1229       50.0         7283.0       0.29       10.0         2.0\n",
       "927        10.0         7269.0       0.27       10.0         2.0\n",
       "925        10.0         7268.0       0.25       10.0         2.0\n",
       "926        10.0         7251.0       0.26       10.0         2.0\n",
       "1230       50.0         7245.0       0.30       10.0         2.0"
      ]
     },
     "execution_count": 88,
     "metadata": {},
     "output_type": "execute_result"
    }
   ],
   "source": [
    "regularization_rfc(X_train, X_validate, Y_train,Y_validate)"
   ]
  },
  {
   "cell_type": "code",
   "execution_count": 90,
   "metadata": {
    "collapsed": false,
    "scrolled": true
   },
   "outputs": [
    {
     "name": "stdout",
     "output_type": "stream",
     "text": [
      "Threshold at which profitability is the highest is: 0.23\n",
      "Maximum achievable profitability with the model is: 11164.0\n",
      "ROC AUC: 0.7928689761962809\n"
     ]
    },
    {
     "data": {
      "image/png": "[encoded data removed]",
      "text/plain": [
       "<matplotlib.figure.Figure at 0x112df8f98>"
      ]
     },
     "metadata": {},
     "output_type": "display_data"
    }
   ],
   "source": [
    "profitability(RandomForestClassifier(min_samples_leaf = 10,min_samples_split = 2, n_estimators = 50),X_train, X_test, Y_train,Y_test)"
   ]
  },
  {
   "cell_type": "markdown",
   "metadata": {},
   "source": [
    "## Model 3 - Support Vector Machines"
   ]
  },
  {
   "cell_type": "code",
   "execution_count": 91,
   "metadata": {
    "collapsed": false
   },
   "outputs": [],
   "source": [
    "# Importing svm from library\n",
    "from sklearn import svm"
   ]
  },
  {
   "cell_type": "code",
   "execution_count": 92,
   "metadata": {
    "collapsed": false
   },
   "outputs": [],
   "source": [
    "def regularization_svm(X_train, X_validate, Y_train, Y_validate):\n",
    "    results = pd.DataFrame()\n",
    "    Cs = [0.01,0.1,1]\n",
    "    gammas = [1,10]\n",
    "    for i in Cs:\n",
    "        for j in gammas:\n",
    "                clf = svm.SVC(C = i, gamma = j,probability=True)\n",
    "                clf.fit(X_train,Y_train)\n",
    "                Y_proba = [x[1] for x in clf.predict_proba(X_validate)]\n",
    "                threshold = np.arange(0.0,1.0,0.01)\n",
    "                for t in threshold:\n",
    "                    Y_predict = 0\n",
    "                    Y_predict = np.where(Y_proba >= t ,1,Y_predict)\n",
    "                    tn,fp,fn,tp = confusion_matrix(Y_validate,Y_predict).ravel()\n",
    "                    principal_amt = 1000\n",
    "                    profitability = ((tp*.043*principal_amt))-((tp+fp)*11)\n",
    "                   \n",
    "                    results = results.append({'Threshold':t,'Cs': i, 'Gammas': j,'Profitability': profitability},ignore_index = True)\n",
    "    return results.sort_values(by=['Profitability'], ascending=False).head(5)"
   ]
  },
  {
   "cell_type": "code",
   "execution_count": null,
   "metadata": {
    "collapsed": false,
    "scrolled": true
   },
   "outputs": [],
   "source": [
    "# SVM grid search results\n",
    "#regularization_svm(X_train, X_validate, Y_train, Y_validate)"
   ]
  },
  {
   "cell_type": "code",
   "execution_count": 93,
   "metadata": {
    "collapsed": false
   },
   "outputs": [
    {
     "name": "stdout",
     "output_type": "stream",
     "text": [
      "Threshold at which profitability is the highest is: 0.4\n",
      "Maximum achievable profitability with the model is: 904.0\n",
      "ROC AUC: 0.6737046878698905\n"
     ]
    },
    {
     "data": {
      "image/png": "[encoded data removed]",
      "text/plain": [
       "<matplotlib.figure.Figure at 0x111aeab38>"
      ]
     },
     "metadata": {},
     "output_type": "display_data"
    }
   ],
   "source": [
    "profitability(svm.SVC(kernel = 'rbf',C=1, gamma = 10, probability=True),X_train, X_test, Y_train,Y_test)"
   ]
  },
  {
   "cell_type": "code",
   "execution_count": 94,
   "metadata": {
    "collapsed": false
   },
   "outputs": [
    {
     "name": "stdout",
     "output_type": "stream",
     "text": [
      "Threshold at which profitability is the highest is: 0.1\n",
      "Maximum achievable profitability with the model is: 8039.0\n",
      "ROC AUC: 0.6845418150645001\n"
     ]
    },
    {
     "data": {
      "image/png": "[encoded data removed]",
      "text/plain": [
       "<matplotlib.figure.Figure at 0x111aeaef0>"
      ]
     },
     "metadata": {},
     "output_type": "display_data"
    }
   ],
   "source": [
    "# kernel = rbf(default), C = 1, gamma = auto\n",
    "profitability(svm.SVC(kernel = 'rbf',gamma = 'auto',C=1,probability=True),X_train, X_test, Y_train,Y_test)"
   ]
  },
  {
   "cell_type": "code",
   "execution_count": 95,
   "metadata": {
    "collapsed": false
   },
   "outputs": [
    {
     "name": "stdout",
     "output_type": "stream",
     "text": [
      "Threshold at which profitability is the highest is: 0.1\n",
      "Maximum achievable profitability with the model is: 8147.0\n",
      "ROC AUC: 0.687677933860499\n"
     ]
    },
    {
     "data": {
      "image/png": "[encoded data removed]",
      "text/plain": [
       "<matplotlib.figure.Figure at 0x11853f940>"
      ]
     },
     "metadata": {},
     "output_type": "display_data"
    }
   ],
   "source": [
    "profitability(svm.SVC(kernel= 'rbf',gamma = 'auto',C=0.1, probability=True),X_train, X_test, Y_train,Y_test)"
   ]
  },
  {
   "cell_type": "code",
   "execution_count": 97,
   "metadata": {
    "collapsed": false
   },
   "outputs": [
    {
     "name": "stdout",
     "output_type": "stream",
     "text": [
      "Threshold at which profitability is the highest is: 0.11\n",
      "Maximum achievable profitability with the model is: 322.0\n",
      "ROC AUC: 0.5800388793490282\n"
     ]
    },
    {
     "data": {
      "image/png": "[encoded data removed]",
      "text/plain": [
       "<matplotlib.figure.Figure at 0x119b55ef0>"
      ]
     },
     "metadata": {},
     "output_type": "display_data"
    }
   ],
   "source": [
    "profitability(svm.SVC(kernel='linear',C=1,probability=True),X_train, X_test, Y_train,Y_test)"
   ]
  },
  {
   "cell_type": "code",
   "execution_count": 98,
   "metadata": {
    "collapsed": false
   },
   "outputs": [
    {
     "name": "stdout",
     "output_type": "stream",
     "text": [
      "Threshold at which profitability is the highest is: 0.11\n",
      "Maximum achievable profitability with the model is: 322.0\n",
      "ROC AUC: 0.6701169162930222\n"
     ]
    },
    {
     "data": {
      "image/png": "[encoded data removed]",
      "text/plain": [
       "<matplotlib.figure.Figure at 0x116481828>"
      ]
     },
     "metadata": {},
     "output_type": "display_data"
    }
   ],
   "source": [
    "profitability(svm.SVC(kernel='linear',C=0.1,probability=True),X_train, X_test, Y_train,Y_test)"
   ]
  },
  {
   "cell_type": "code",
   "execution_count": 99,
   "metadata": {
    "collapsed": false
   },
   "outputs": [
    {
     "name": "stdout",
     "output_type": "stream",
     "text": [
      "Threshold at which profitability is the highest is: 0.11\n",
      "Maximum achievable profitability with the model is: 322.0\n",
      "ROC AUC: 0.5602691742367228\n"
     ]
    },
    {
     "data": {
      "image/png": "[encoded data removed]",
      "text/plain": [
       "<matplotlib.figure.Figure at 0x11832bf28>"
      ]
     },
     "metadata": {},
     "output_type": "display_data"
    }
   ],
   "source": [
    "profitability(svm.SVC(kernel='linear',C=0.01,probability=True),X_train, X_test, Y_train,Y_test)"
   ]
  },
  {
   "cell_type": "markdown",
   "metadata": {},
   "source": [
    "## Conclusion"
   ]
  },
  {
   "cell_type": "markdown",
   "metadata": {},
   "source": [
    "Baseline profitability i.e performance of the original campaign stood at (- $ 254,709). By incorporating predictive analysis through machine learning algorithms there has been a drastic improvement in outcome predictions thereby providing a multi-fold increase in profitability.\n",
    "\n",
    "Random Forests turned out to be the best model of the three machine learning models used in our analysis. It provided an increase in profitability by ~104% over baseline model providing campaign profits of $ 11,164 to the marketing team. \n"
   ]
  }
 ],
 "metadata": {
  "kernelspec": {
   "display_name": "Python 3",
   "language": "python",
   "name": "python3"
  },
  "language_info": {
   "codemirror_mode": {
    "name": "ipython",
    "version": 3
   },
   "file_extension": ".py",
   "mimetype": "text/x-python",
   "name": "python",
   "nbconvert_exporter": "python",
   "pygments_lexer": "ipython3",
   "version": "3.6.0"
  }
 },
 "nbformat": 4,
 "nbformat_minor": 2
}
